{
  "cells": [
    {
      "cell_type": "markdown",
      "id": "zU90pNvPpG2d",
      "metadata": {
        "id": "zU90pNvPpG2d"
      },
      "source": [
        " # RECONOCIMIENTO DE ESPECIES DE CANGREJOS A PARTIR DE SEÑALES ACÚSTICAS \n",
        "\n",
        " En este trabajo se desarrolla un clasificador acústico pensado para su futura implementación en un sistema portátil destinado a la detección, adquisición y clasificación de señales generadas por Neohelice Granulata y Cyrtograpsus Angulatus. El objetivo final es contar con una solución autónoma capaz de operar en campo, identificar en tiempo real la presencia de cangrejos, determinar su especie y almacenar únicamente los segmentos de audio relevantes, optimizando así el uso de memoria y reduciendo datos irrelevantes. Para entrenar el clasificador, se recopilaron señales mediante hidrófonos en un entorno controlado, donde los eventos de interés presentaban baja relación señal-ruido y ocurrencia esporádica. Se aplicó un algoritmo de preprocesamiento basado en umbrales adaptativos sobre la envolvente acústica, diseñado para detectar automáticamente dichos eventos. Los fragmentos extraídos se utilizaron para entrenar una red neuronal profunda, la cual fue posteriormente cuantizada, optimizada y preparada para su implementación en un microcontrolador ESP32.\n",
        "\n",
        " ![Esquema del SISTEMA COMPLETO](flujo_trabajo_FINAL.png)\n"
      ]
    },
    {
      "cell_type": "markdown",
      "id": "3b4eabd7",
      "metadata": {},
      "source": [
        "## DATOS\n",
        "Los datos corresponden a audios de sonidos de cangrejos. Los datos son audios largos que contienen sonidos de cangrejos y sonidos ambientales. Dado que fueron grabados en un entorno controlado, se sabe que audio corresponde a vcda tipo de cangrejo. Antes de poder utilizar estos datos para entrenar la red es necesario aplicar algún algoritmo que permita separa el ruido ambiental del sonido del cangrejo. se espera que luego de entrenada la red pueda diferenciar entre dos tipo de cangrejos y separe del ruiod ambiental."
      ]
    },
    {
      "cell_type": "markdown",
      "id": "121430f9",
      "metadata": {},
      "source": [
        "### CARPETAS DATOS"
      ]
    },
    {
      "cell_type": "code",
      "execution_count": 32,
      "id": "8fecc8fa",
      "metadata": {},
      "outputs": [],
      "source": [
        "# Carpetas con etiquetas\n",
        "import os\n",
        "carpeta = {\n",
        "    os.path.join(\"Neo\"): 2,\n",
        "    os.path.join(\"Cry\"): 1,\n",
        "    os.path.join(\"Ruido\"): 0\n",
        "}"
      ]
    },
    {
      "cell_type": "markdown",
      "id": "516af08a",
      "metadata": {},
      "source": [
        "### ENFOQUE EN ENERGIA +\n",
        "\n",
        "Extraer características con Catch22 de segmentos más pequeños\n",
        "Una vez que tenemos segmentos más pequeños de energía, podemos extraer características utilizando Catch22. Como las ventanas son ahora más pequeñas (adaptadas a la duración de la actividad), tenemos una mejor probabilidad de capturar solo las regiones activas."
      ]
    },
    {
      "cell_type": "code",
      "execution_count": 33,
      "id": "yOH1Jbu0pRM6",
      "metadata": {
        "colab": {
          "base_uri": "https://localhost:8080/"
        },
        "id": "yOH1Jbu0pRM6",
        "outputId": "f77a8c34-2e89-4872-9128-b0c11938988b"
      },
      "outputs": [
        {
          "name": "stdout",
          "output_type": "stream",
          "text": [
            "Usando 110 fragmentos por clase.\n",
            "Tamaño final balanceado: (330,) (330,)\n"
          ]
        }
      ],
      "source": [
        "import os\n",
        "import numpy as np\n",
        "from scipy.io import wavfile\n",
        "from pycatch22 import catch22_all\n",
        "import random\n",
        "\n",
        "# PROCESO DE SUBMUESTREO DE LOS DATOS\n",
        "# --- Parámetros --- #\n",
        "downsample_factor = 64 # Submuestreo: tomar 1 de cada 32 muestras\n",
        "tam_ventana = 2048    # Tamaño de ventana tras submuestreo\n",
        "\n",
        " # downsample_factor = 32  # Submuestreo\n",
        "#Calculamos el tamaño real de la ventana en muestras\n",
        " # tam_ventana = random.randint(2048, 4096)\n",
        "\n",
        "# --- Cargar datos y procesar --- #\n",
        "carpetas = {\n",
        "    \"Neo\": 2,\n",
        "    \"Cry\": 1,\n",
        "    \"Ruido\": 0\n",
        "}\n",
        "\n",
        "fragmentos_por_clase = {0: [], 1: [], 2: []}\n",
        "\n",
        "# --- Funciones a aplicar ------------------------------------------------------ #\n",
        "def downsample(signal, factor):\n",
        "    return signal[factor // 2::factor]\n",
        "\n",
        "def downsample_submuestreo_tipico(signal, factor):\n",
        "    return signal[factor // 2::factor]\n",
        "\n",
        "def downsample_rms(signal, factor):\n",
        "    blocks = signal[:len(signal) - len(signal) % factor].reshape(-1, factor)\n",
        "    return np.sqrt(np.mean(blocks**2, axis=1))\n",
        "\n",
        "def downsample_random(signal, factor):\n",
        "    blocks = signal[:len(signal) - len(signal) % factor].reshape(-1, factor)\n",
        "    idxs = np.random.randint(0, factor, size=blocks.shape[0])\n",
        "    return np.array([block[i] for block, i in zip(blocks, idxs)])\n",
        "\n",
        "def downsample_median(signal, factor):\n",
        "    return np.median(signal[:len(signal) - len(signal) % factor].reshape(-1, factor), axis=1)\n",
        "\n",
        "def submuestrear(signal, factor):\n",
        "    # Cortar para que sea múltiplo exacto del factor\n",
        "    tam = len(signal) - (len(signal) % factor)\n",
        "    signal = signal[:tam]\n",
        "    # Promedio de cada bloque\n",
        "    return signal.reshape(-1, factor).mean(axis=1)\n",
        "\n",
        "def segmentar(signal, tam_ventana):\n",
        "    cantidad = len(signal) // tam_ventana\n",
        "    return [signal[i*tam_ventana:(i+1)*tam_ventana] for i in range(cantidad)]\n",
        "\n",
        "# Función para calcular la FFT real\n",
        "def downsample_fft(signal, factor):\n",
        "    # Submuestrear la señal (esto es opcional dependiendo de si deseas hacerlo antes de la FFT)\n",
        "    signal = signal[::factor]  # Esto toma 1 de cada \"factor\" muestras de la señal original.\n",
        "    \n",
        "    # 1. Calcular la FFT real\n",
        "    fft_result = np.fft.rfft(signal)  # FFT real (parte positiva de la transformada)\n",
        "    \n",
        "    # 2. Devolver solo la magnitud\n",
        "    fft_magnitude = np.abs(fft_result)\n",
        "    return fft_magnitude\n",
        "\n",
        "def downsample_log(signal, factor):\n",
        "    # Primero submuestreamos como en los otros casos\n",
        "    signal = signal[::factor]\n",
        "\n",
        "    # Aplicamos el logaritmo\n",
        "    # Le sumamos un pequeño valor epsilon para evitar log(0)\n",
        "    epsilon = 1e-10\n",
        "    signal_log = np.log(np.abs(signal) + epsilon)\n",
        "\n",
        "    return signal_log\n",
        "\n",
        "def extraer_features_de_segmentos(segmentos):\n",
        "    features = []\n",
        "    for fragmento in segmentos:\n",
        "        caracteristicas = catch22_all(fragmento)\n",
        "        features.append(caracteristicas)\n",
        "    return features\n",
        "\n",
        "# --- Procesar los audios --- #\n",
        "for carpeta, etiqueta in carpetas.items():\n",
        "    for archivo in os.listdir(carpeta):\n",
        "        if archivo.endswith(\".wav\"):\n",
        "            ruta = os.path.join(carpeta, archivo)\n",
        "            sr, data = wavfile.read(ruta)\n",
        "\n",
        "            if data.ndim > 1:\n",
        "                data = data[:, 0]\n",
        "            data = data.astype(np.float32)\n",
        "            data /= np.max(np.abs(data))  # Normalización\n",
        "\n",
        "            # Submuestreo con calculo de promedio\n",
        "            #data_down = submuestrear(data, downsample_factor)\n",
        "\n",
        "            # Submuestreo con caluclo de RMS\n",
        "            data_down = downsample_rms(data, downsample_factor)\n",
        "\n",
        "            # Submuestreo con caluclo mediana\n",
        "            #data_down = downsample_median(data, downsample_factor)\n",
        "\n",
        "            # Submuestreo tipico\n",
        "            #data_down = downsample(data, downsample_factor)\n",
        "\n",
        "            # Submuestreo Random\n",
        "            #data_down = downsample_random(data, downsample_factor)\n",
        "\n",
        "            # Submuestreo con FFT\n",
        "            #data_down = downsample_fft(data, downsample_factor)\n",
        "            \n",
        "            # Submuestreo logaritmico\n",
        "            #data_down = downsample_log(data, downsample_factor)\n",
        "\n",
        "            # Segmentación en ventanas de 1024 muestras\n",
        "            segmentos = segmentar(data_down, tam_ventana)\n",
        "\n",
        "            # Extraer características con catch22\n",
        "            features = extraer_features_de_segmentos(segmentos)\n",
        "\n",
        "            fragmentos_por_clase[etiqueta].extend(features)\n",
        "\n",
        "# --- Balancear dataset --- #\n",
        "min_cantidad = min(len(f) for f in fragmentos_por_clase.values())\n",
        "print(f\"Usando {min_cantidad} fragmentos por clase.\")\n",
        "\n",
        "X = []\n",
        "y = []\n",
        "\n",
        "for clase, fragmentos in fragmentos_por_clase.items():\n",
        "    seleccionados = random.sample(fragmentos, min_cantidad)\n",
        "    X.extend(seleccionados)\n",
        "    y.extend([clase] * min_cantidad)\n",
        "\n",
        "X = np.array(X)\n",
        "y = np.array(y)\n",
        "\n",
        "print(\"Tamaño final balanceado:\", X.shape, y.shape)\n"
      ]
    },
    {
      "cell_type": "markdown",
      "id": "803bfbde",
      "metadata": {},
      "source": [
        "### DATOS DE TRAIN Y TEST \n",
        "- SEPARACIÓN DE SUBCONJUNTOS\n",
        "- NORMALIZACIÓN ENTRE [0 Y 1]\n",
        "- CONVERTIR DATOS DE ENTRADA A 8 BIT. "
      ]
    },
    {
      "cell_type": "markdown",
      "id": "d5bc0564",
      "metadata": {},
      "source": [
        "#### SEPARACIÓN DE DATASET"
      ]
    },
    {
      "cell_type": "code",
      "execution_count": 34,
      "id": "4hSbueqBpgs_",
      "metadata": {
        "colab": {
          "base_uri": "https://localhost:8080/",
          "height": 321
        },
        "id": "4hSbueqBpgs_",
        "outputId": "9e229aed-51ab-44d7-902d-103bc7f9c367"
      },
      "outputs": [
        {
          "name": "stdout",
          "output_type": "stream",
          "text": [
            "[0 1 1 0 0 0 0 2 2 1 1 2 0 0 2 1 1 2 0 1 0 0 1 2 0 1 2 2 2 2 2 2 1 2 2 2 1\n",
            " 0 0 0 1 2 1 1 2 0 2 2 1 1 0 0 0 1 0 0 1 2 2 1 0 1 1 2 0 2]\n"
          ]
        }
      ],
      "source": [
        "from sklearn.model_selection import train_test_split\n",
        "\n",
        "# Extraer solo los valores de cada diccionario\n",
        "X_values = [item['values'] for item in X]\n",
        "\n",
        "# Convertir a un array de NumPy\n",
        "X_values = np.array(X_values)\n",
        "\n",
        "# Ahora puedes proceder con la división y el entrenamiento\n",
        "X_train, X_test, y_train, y_test = train_test_split(X_values, y, test_size=0.2, random_state=42)\n",
        "print(y_test)\n"
      ]
    },
    {
      "cell_type": "code",
      "execution_count": 35,
      "id": "anfEm9Ympw1V",
      "metadata": {
        "colab": {
          "base_uri": "https://localhost:8080/",
          "height": 211
        },
        "id": "anfEm9Ympw1V",
        "outputId": "e5049979-fc32-4de2-fb1c-4783f250084b"
      },
      "outputs": [
        {
          "name": "stdout",
          "output_type": "stream",
          "text": [
            "[[ 0.62425688  0.80660494  7.75894489 ...  0.26530612  0.13499031\n",
            "   0.42141775]\n",
            " [ 0.68888705  0.87899889  7.78359226 ...  0.26530612  0.13499031\n",
            "   0.42235619]\n",
            " [ 0.74828875  0.556168    7.76560053 ...  0.28571429  0.13499031\n",
            "   0.41857949]\n",
            " ...\n",
            " [-0.86318868 -1.10533213 16.35079307 ...  0.3877551   0.05522331\n",
            "   0.28257952]\n",
            " [-0.80323631 -1.05815934  9.24784639 ...  0.14285714  0.04908739\n",
            "   0.49849583]\n",
            " [-0.2869794   0.41255172 10.11618189 ...  0.40816327  0.13192235\n",
            "   0.37777496]]\n",
            "(264, 22)\n",
            "(66, 22)\n",
            "(264,)\n",
            "(66,)\n"
          ]
        }
      ],
      "source": [
        "print(X_values)\n",
        "print(np.shape(X_train))\n",
        "print(np.shape(X_test))\n",
        "print(np.shape(y_train))\n",
        "print(np.shape(y_test))"
      ]
    },
    {
      "cell_type": "markdown",
      "id": "4927fdfe",
      "metadata": {},
      "source": [
        "#### NORMALIZADO"
      ]
    },
    {
      "cell_type": "code",
      "execution_count": 36,
      "id": "809119f0",
      "metadata": {},
      "outputs": [],
      "source": [
        "# NORMALIZADO\n",
        "from sklearn.preprocessing import StandardScaler\n",
        "from tensorflow.keras.models import Sequential\n",
        "from tensorflow.keras.layers import Dense\n",
        "from sklearn.preprocessing import MinMaxScaler\n",
        "\n",
        "scaler = MinMaxScaler()  # OBSERVAR QUE EL NORMALIZADO ES ENTRE 0 Y 1\n",
        "X_train = scaler.fit_transform(X_train)\n",
        "X_test = scaler.transform(X_test)"
      ]
    },
    {
      "cell_type": "markdown",
      "id": "909b5448",
      "metadata": {},
      "source": [
        "#### CUANTIZADO"
      ]
    },
    {
      "cell_type": "code",
      "execution_count": 37,
      "id": "9aea569d",
      "metadata": {},
      "outputs": [],
      "source": [
        "# Cuantizar a 8 bits\n",
        "def quantize_to_8bits(x):\n",
        "    x_quantized = np.round(x * 255) / 255\n",
        "    return x_quantized\n",
        "\n",
        "X_train = quantize_to_8bits(X_train)\n",
        "X_test = quantize_to_8bits(X_test)\n"
      ]
    },
    {
      "cell_type": "code",
      "execution_count": 38,
      "id": "56d8596e",
      "metadata": {},
      "outputs": [
        {
          "name": "stdout",
          "output_type": "stream",
          "text": [
            "[[0.83921569 0.93333333 0.05882353 ... 0.21568627 0.18431373 0.35294118]\n",
            " [0.60392157 0.49803922 0.44705882 ... 0.         0.01960784 0.10588235]\n",
            " [0.48627451 0.38823529 0.58823529 ... 0.         0.01960784 0.28627451]\n",
            " ...\n",
            " [0.12941176 0.10196078 0.1372549  ... 0.3254902  0.08235294 0.16470588]\n",
            " [0.83921569 0.01568627 0.05882353 ... 0.18823529 0.18431373 0.35686275]\n",
            " [0.66666667 0.58039216 0.12156863 ... 0.24313725 0.09019608 0.19215686]]\n"
          ]
        }
      ],
      "source": [
        "print(X_test)"
      ]
    },
    {
      "cell_type": "markdown",
      "id": "cac2d750",
      "metadata": {},
      "source": [
        "## MODELOS DE REDES - ALUMNO Y MAESTRO\n",
        "Se construirán dos modelos de red de clasificación. Una red extremadamente simple y cuantizada que se denominará ESTUDIANTE y un modelo de red densamente conectada no cuantizada que se denomirá MAESTRO."
      ]
    },
    {
      "cell_type": "code",
      "execution_count": 39,
      "id": "0e95c508",
      "metadata": {},
      "outputs": [],
      "source": [
        "import os\n",
        "import numpy as np\n",
        "import tensorflow as tf \n",
        "from tensorflow.keras.models import *\n",
        "from tensorflow.keras.layers import *"
      ]
    },
    {
      "cell_type": "markdown",
      "id": "ceaad766",
      "metadata": {},
      "source": [
        "### MODELO DE RED ALUMNO - RED CUANTIZADA\n",
        " El modelo estudiante o alumno es el que se va a implementar. A modo de simular mejor los efectos de la cuantización de l implementación real, se utiliza un modelo de red cuantizada que simula los efectos de la cuantización. "
      ]
    },
    {
      "cell_type": "markdown",
      "id": "88496a38",
      "metadata": {},
      "source": [
        "#### LIBRERÍAS"
      ]
    },
    {
      "cell_type": "code",
      "execution_count": 40,
      "id": "fd161bd9",
      "metadata": {},
      "outputs": [],
      "source": [
        "from qkeras import *\n",
        "from qkeras import QActivation\n",
        "from qkeras import QDense, QConv2DBatchnorm\n",
        "import matplotlib.pyplot as plt"
      ]
    },
    {
      "cell_type": "markdown",
      "id": "d38364cd",
      "metadata": {},
      "source": [
        "#### ARQUITECTURA DEL ALUMNO"
      ]
    },
    {
      "cell_type": "code",
      "execution_count": 42,
      "id": "fc3b72a6",
      "metadata": {},
      "outputs": [],
      "source": [
        "kernelQ = \"quantized_bits(8,2,alpha=1)\"\n",
        "biasQ = \"quantized_bits(8, 2,alpha=1)\"\n",
        "activationQ = 'quantized_bits(8, 2)'\n",
        "\n",
        "def build_student():\n",
        "    model = Sequential([\n",
        "            Input(shape=(22,)),  # <- Agregamos la capa de entrada correctamente\n",
        "            QActivation(activation=quantized_bits(8, 0,False)),  # <- Agregamos esta capa para que emule la entrada cuantizada a 8 bits\n",
        "            QDense(32,name='fc1',\n",
        "                        kernel_quantizer= kernelQ, bias_quantizer= biasQ,\n",
        "                        kernel_initializer='lecun_uniform'),\n",
        "            QActivation(activation= activationQ ,  name='relu1'),\n",
        "\n",
        "            QDense(16, name='fc2',\n",
        "                        kernel_quantizer=kernelQ, bias_quantizer=biasQ,\n",
        "                        kernel_initializer='lecun_uniform'),\n",
        "            QActivation(activation=activationQ, name='relu2'),                              \n",
        "\n",
        "            QDense(8, name='fc3',\n",
        "                       kernel_quantizer=kernelQ, bias_quantizer=biasQ,\n",
        "                      kernel_initializer='lecun_uniform'),\n",
        "            QActivation(activation=activationQ, name='relu3'), \n",
        "                \n",
        "           QDense(3, name='output',\n",
        "                        kernel_quantizer= kernelQ, bias_quantizer= biasQ,\n",
        "                        kernel_initializer='lecun_uniform'),\n",
        "                Activation(activation='softmax', name='softmax')\n",
        "        \n",
        "    ])\n",
        "    return model"
      ]
    },
    {
      "cell_type": "code",
      "execution_count": 43,
      "id": "f50a864b",
      "metadata": {},
      "outputs": [
        {
          "name": "stdout",
          "output_type": "stream",
          "text": [
            "Model: \"sequential_4\"\n",
            "_________________________________________________________________\n",
            " Layer (type)                Output Shape              Param #   \n",
            "=================================================================\n",
            " q_activation_2 (QActivation  (None, 22)               0         \n",
            " )                                                               \n",
            "                                                                 \n",
            " fc1 (QDense)                (None, 32)                736       \n",
            "                                                                 \n",
            " relu1 (QActivation)         (None, 32)                0         \n",
            "                                                                 \n",
            " fc2 (QDense)                (None, 16)                528       \n",
            "                                                                 \n",
            " relu2 (QActivation)         (None, 16)                0         \n",
            "                                                                 \n",
            " fc3 (QDense)                (None, 8)                 136       \n",
            "                                                                 \n",
            " relu3 (QActivation)         (None, 8)                 0         \n",
            "                                                                 \n",
            " output (QDense)             (None, 3)                 27        \n",
            "                                                                 \n",
            " softmax (Activation)        (None, 3)                 0         \n",
            "                                                                 \n",
            "=================================================================\n",
            "Total params: 1,427\n",
            "Trainable params: 1,427\n",
            "Non-trainable params: 0\n",
            "_________________________________________________________________\n"
          ]
        }
      ],
      "source": [
        "student = build_student()\n",
        "student.summary()"
      ]
    },
    {
      "cell_type": "markdown",
      "id": "94c25686",
      "metadata": {},
      "source": [
        "### MODELO DE MAESTRO \n",
        "Se define un modelo de red neuronal densa y se entrena. Esta red servirá para el proceso de destilación del conocimiento."
      ]
    },
    {
      "cell_type": "markdown",
      "id": "c252b8e8",
      "metadata": {},
      "source": [
        "#### ARQUITECTURA"
      ]
    },
    {
      "cell_type": "code",
      "execution_count": 44,
      "id": "963498e4",
      "metadata": {},
      "outputs": [],
      "source": [
        "# Definir el modelo Teacher con convolucionales 1D\n",
        "#Cada entrada es una serie de 512 muestras → input shape: (512, 1)\n",
        "#Las salidas son tres parámetros continuos → output shape: (3,)\n",
        "#Usamos convolucionales 1D en lugar de MLP.\n",
        "\n",
        "def build_teacher():\n",
        "    model = Sequential([    \n",
        "    #InputLayer(input_shape=(22, 1)),  # 512 muestras por serie, 1 canal\n",
        "      #  Conv1D(128, kernel_size=5, activation='relu', padding='same'),\n",
        "      #  MaxPooling1D(pool_size=2),  # Reduce a 500 pasos\n",
        "\n",
        "      #  Conv1D(64, kernel_size=5, activation='relu', padding='same'),\n",
        "      #  MaxPooling1D(pool_size=2),  # Reduce a 250 pasos\n",
        "\n",
        "      #  Conv1D(32, kernel_size=4, activation='relu', padding='same'),\n",
        "      #  MaxPooling1D(pool_size=2),  # Reduce a 250 pasos\n",
        "\n",
        "    #Flatten(),\n",
        "    # Capa de entrada: 22 características (X.shape[1] = 22)\n",
        "    Dense(128, activation='relu',  kernel_regularizer=tf.keras.regularizers.l2(0.001), input_shape=(X_train.shape[1],)),  # 64 neuronas, activación ReLU\n",
        "    Dropout(0.3),\n",
        "    Dense(96, activation='relu',kernel_regularizer=tf.keras.regularizers.l2(0.001)),  # 64 neuronas, activación ReLU\n",
        "    Dense(64, activation='relu',kernel_regularizer=tf.keras.regularizers.l2(0.001)),  # 64 neuronas, activación ReLU\n",
        "    Dense(48, activation='relu'),  # 64 neuronas, activación ReLU\n",
        "    Dense(32, activation='relu'),  # Capa oculta con 32 neuronas    \n",
        "    Dense(16, activation='relu'),  # Capa oculta con 32 neuronas\n",
        "    #BatchNormalization(),\n",
        "    Dense(8, activation='relu'),  # Capa oculta con 32 neuronas\n",
        "    BatchNormalization(),\n",
        "    Dense(3, activation='softmax')  # Capa de salida con 2 neuronas (para clasificación binaria)\n",
        "])\n",
        "    return model"
      ]
    },
    {
      "cell_type": "markdown",
      "id": "60475abd",
      "metadata": {},
      "source": [
        "#### ENTRENAMIENTO"
      ]
    },
    {
      "cell_type": "code",
      "execution_count": 45,
      "id": "c527bd07",
      "metadata": {},
      "outputs": [
        {
          "name": "stdout",
          "output_type": "stream",
          "text": [
            "Model: \"sequential_5\"\n",
            "_________________________________________________________________\n",
            " Layer (type)                Output Shape              Param #   \n",
            "=================================================================\n",
            " dense_16 (Dense)            (None, 128)               2944      \n",
            "                                                                 \n",
            " dropout_2 (Dropout)         (None, 128)               0         \n",
            "                                                                 \n",
            " dense_17 (Dense)            (None, 96)                12384     \n",
            "                                                                 \n",
            " dense_18 (Dense)            (None, 64)                6208      \n",
            "                                                                 \n",
            " dense_19 (Dense)            (None, 48)                3120      \n",
            "                                                                 \n",
            " dense_20 (Dense)            (None, 32)                1568      \n",
            "                                                                 \n",
            " dense_21 (Dense)            (None, 16)                528       \n",
            "                                                                 \n",
            " dense_22 (Dense)            (None, 8)                 136       \n",
            "                                                                 \n",
            " batch_normalization_2 (Batc  (None, 8)                32        \n",
            " hNormalization)                                                 \n",
            "                                                                 \n",
            " dense_23 (Dense)            (None, 3)                 27        \n",
            "                                                                 \n",
            "=================================================================\n",
            "Total params: 26,947\n",
            "Trainable params: 26,931\n",
            "Non-trainable params: 16\n",
            "_________________________________________________________________\n",
            "Epoch 1/200\n",
            "6/6 [==============================] - 1s 31ms/step - loss: 1.3024 - accuracy: 0.4205 - val_loss: 1.2996 - val_accuracy: 0.6970 - lr: 0.0010\n",
            "Epoch 2/200\n",
            "6/6 [==============================] - 0s 7ms/step - loss: 1.0646 - accuracy: 0.6212 - val_loss: 1.2715 - val_accuracy: 0.6970 - lr: 0.0010\n",
            "Epoch 3/200\n",
            "6/6 [==============================] - 0s 8ms/step - loss: 0.9212 - accuracy: 0.7689 - val_loss: 1.2500 - val_accuracy: 0.7424 - lr: 0.0010\n",
            "Epoch 4/200\n",
            "6/6 [==============================] - 0s 7ms/step - loss: 0.8293 - accuracy: 0.8144 - val_loss: 1.2243 - val_accuracy: 0.8182 - lr: 0.0010\n",
            "Epoch 5/200\n",
            "6/6 [==============================] - 0s 8ms/step - loss: 0.7602 - accuracy: 0.8333 - val_loss: 1.1864 - val_accuracy: 0.7424 - lr: 0.0010\n",
            "Epoch 6/200\n",
            "6/6 [==============================] - 0s 8ms/step - loss: 0.7182 - accuracy: 0.8447 - val_loss: 1.1546 - val_accuracy: 0.7424 - lr: 0.0010\n",
            "Epoch 7/200\n",
            "6/6 [==============================] - 0s 9ms/step - loss: 0.6910 - accuracy: 0.8220 - val_loss: 1.1184 - val_accuracy: 0.8182 - lr: 0.0010\n",
            "Epoch 8/200\n",
            "6/6 [==============================] - 0s 7ms/step - loss: 0.6070 - accuracy: 0.8902 - val_loss: 1.1019 - val_accuracy: 0.8636 - lr: 0.0010\n",
            "Epoch 9/200\n",
            "6/6 [==============================] - 0s 7ms/step - loss: 0.5731 - accuracy: 0.9053 - val_loss: 1.0687 - val_accuracy: 0.8636 - lr: 0.0010\n",
            "Epoch 10/200\n",
            "6/6 [==============================] - 0s 8ms/step - loss: 0.5494 - accuracy: 0.8939 - val_loss: 1.0523 - val_accuracy: 0.8485 - lr: 0.0010\n",
            "Epoch 11/200\n",
            "6/6 [==============================] - 0s 7ms/step - loss: 0.5001 - accuracy: 0.9167 - val_loss: 1.0343 - val_accuracy: 0.8636 - lr: 9.0000e-04\n",
            "Epoch 12/200\n",
            "6/6 [==============================] - 0s 7ms/step - loss: 0.5195 - accuracy: 0.8977 - val_loss: 1.0255 - val_accuracy: 0.9242 - lr: 8.1000e-04\n",
            "Epoch 13/200\n",
            "6/6 [==============================] - 0s 8ms/step - loss: 0.4777 - accuracy: 0.9091 - val_loss: 1.0041 - val_accuracy: 0.9394 - lr: 7.2900e-04\n",
            "Epoch 14/200\n",
            "6/6 [==============================] - 0s 7ms/step - loss: 0.4848 - accuracy: 0.9318 - val_loss: 0.9907 - val_accuracy: 0.9394 - lr: 6.5610e-04\n",
            "Epoch 15/200\n",
            "6/6 [==============================] - 0s 7ms/step - loss: 0.4893 - accuracy: 0.9053 - val_loss: 0.9917 - val_accuracy: 0.8636 - lr: 5.9049e-04\n",
            "Epoch 16/200\n",
            "6/6 [==============================] - 0s 7ms/step - loss: 0.4776 - accuracy: 0.9242 - val_loss: 0.9728 - val_accuracy: 0.8788 - lr: 5.3144e-04\n",
            "Epoch 17/200\n",
            "6/6 [==============================] - 0s 9ms/step - loss: 0.4684 - accuracy: 0.9205 - val_loss: 0.9515 - val_accuracy: 0.9394 - lr: 4.7830e-04\n",
            "Epoch 18/200\n",
            "6/6 [==============================] - 0s 7ms/step - loss: 0.4537 - accuracy: 0.9280 - val_loss: 0.9406 - val_accuracy: 0.9394 - lr: 4.3047e-04\n",
            "Epoch 19/200\n",
            "6/6 [==============================] - 0s 6ms/step - loss: 0.4312 - accuracy: 0.9432 - val_loss: 0.9287 - val_accuracy: 0.9394 - lr: 3.8742e-04\n",
            "Epoch 20/200\n",
            "6/6 [==============================] - 0s 7ms/step - loss: 0.4415 - accuracy: 0.9280 - val_loss: 0.9134 - val_accuracy: 0.9545 - lr: 3.4868e-04\n",
            "Epoch 21/200\n",
            "6/6 [==============================] - 0s 7ms/step - loss: 0.4400 - accuracy: 0.9318 - val_loss: 0.9008 - val_accuracy: 0.9545 - lr: 3.1381e-04\n",
            "Epoch 22/200\n",
            "6/6 [==============================] - 0s 6ms/step - loss: 0.4329 - accuracy: 0.9394 - val_loss: 0.8923 - val_accuracy: 0.9545 - lr: 2.8243e-04\n",
            "Epoch 23/200\n",
            "6/6 [==============================] - 0s 9ms/step - loss: 0.4261 - accuracy: 0.9432 - val_loss: 0.8855 - val_accuracy: 0.9394 - lr: 2.5419e-04\n",
            "Epoch 24/200\n",
            "6/6 [==============================] - 0s 7ms/step - loss: 0.4235 - accuracy: 0.9432 - val_loss: 0.8794 - val_accuracy: 0.9394 - lr: 2.2877e-04\n",
            "Epoch 25/200\n",
            "6/6 [==============================] - 0s 6ms/step - loss: 0.4368 - accuracy: 0.9318 - val_loss: 0.8670 - val_accuracy: 0.9394 - lr: 2.0589e-04\n",
            "Epoch 26/200\n",
            "6/6 [==============================] - 0s 7ms/step - loss: 0.4274 - accuracy: 0.9394 - val_loss: 0.8566 - val_accuracy: 0.9545 - lr: 1.8530e-04\n",
            "Epoch 27/200\n",
            "6/6 [==============================] - 0s 6ms/step - loss: 0.4295 - accuracy: 0.9394 - val_loss: 0.8484 - val_accuracy: 0.9545 - lr: 1.6677e-04\n",
            "Epoch 28/200\n",
            "6/6 [==============================] - 0s 7ms/step - loss: 0.4256 - accuracy: 0.9432 - val_loss: 0.8399 - val_accuracy: 0.9545 - lr: 1.5009e-04\n",
            "Epoch 29/200\n",
            "6/6 [==============================] - 0s 7ms/step - loss: 0.4286 - accuracy: 0.9394 - val_loss: 0.8314 - val_accuracy: 0.9394 - lr: 1.3509e-04\n",
            "Epoch 30/200\n",
            "6/6 [==============================] - 0s 7ms/step - loss: 0.3950 - accuracy: 0.9470 - val_loss: 0.8228 - val_accuracy: 0.9394 - lr: 1.2158e-04\n",
            "Epoch 31/200\n",
            "6/6 [==============================] - 0s 6ms/step - loss: 0.4074 - accuracy: 0.9318 - val_loss: 0.8141 - val_accuracy: 0.9394 - lr: 1.0942e-04\n",
            "Epoch 32/200\n",
            "6/6 [==============================] - 0s 6ms/step - loss: 0.4127 - accuracy: 0.9432 - val_loss: 0.8054 - val_accuracy: 0.9394 - lr: 9.8477e-05\n",
            "Epoch 33/200\n",
            "6/6 [==============================] - 0s 7ms/step - loss: 0.3926 - accuracy: 0.9394 - val_loss: 0.7953 - val_accuracy: 0.9394 - lr: 8.8629e-05\n",
            "Epoch 34/200\n",
            "6/6 [==============================] - 0s 7ms/step - loss: 0.4003 - accuracy: 0.9508 - val_loss: 0.7839 - val_accuracy: 0.9394 - lr: 7.9766e-05\n",
            "Epoch 35/200\n",
            "6/6 [==============================] - 0s 7ms/step - loss: 0.4231 - accuracy: 0.9318 - val_loss: 0.7733 - val_accuracy: 0.9394 - lr: 7.1790e-05\n",
            "Epoch 36/200\n",
            "6/6 [==============================] - 0s 9ms/step - loss: 0.4120 - accuracy: 0.9356 - val_loss: 0.7625 - val_accuracy: 0.9394 - lr: 6.4611e-05\n",
            "Epoch 37/200\n",
            "6/6 [==============================] - 0s 7ms/step - loss: 0.4229 - accuracy: 0.9205 - val_loss: 0.7533 - val_accuracy: 0.9394 - lr: 5.8150e-05\n",
            "Epoch 38/200\n",
            "6/6 [==============================] - 0s 5ms/step - loss: 0.4208 - accuracy: 0.9356 - val_loss: 0.7437 - val_accuracy: 0.9394 - lr: 5.2335e-05\n",
            "Epoch 39/200\n",
            "6/6 [==============================] - 0s 9ms/step - loss: 0.4200 - accuracy: 0.9318 - val_loss: 0.7342 - val_accuracy: 0.9394 - lr: 4.7101e-05\n",
            "Epoch 40/200\n",
            "6/6 [==============================] - 0s 7ms/step - loss: 0.4155 - accuracy: 0.9356 - val_loss: 0.7249 - val_accuracy: 0.9394 - lr: 4.2391e-05\n",
            "Epoch 41/200\n",
            "6/6 [==============================] - 0s 7ms/step - loss: 0.4003 - accuracy: 0.9432 - val_loss: 0.7158 - val_accuracy: 0.9394 - lr: 3.8152e-05\n",
            "Epoch 42/200\n",
            "6/6 [==============================] - 0s 8ms/step - loss: 0.4140 - accuracy: 0.9432 - val_loss: 0.7081 - val_accuracy: 0.9394 - lr: 3.4337e-05\n",
            "Epoch 43/200\n",
            "6/6 [==============================] - 0s 7ms/step - loss: 0.4242 - accuracy: 0.9242 - val_loss: 0.7009 - val_accuracy: 0.9394 - lr: 3.0903e-05\n",
            "Epoch 44/200\n",
            "6/6 [==============================] - 0s 7ms/step - loss: 0.4146 - accuracy: 0.9318 - val_loss: 0.6932 - val_accuracy: 0.9394 - lr: 2.7813e-05\n",
            "Epoch 45/200\n",
            "6/6 [==============================] - 0s 8ms/step - loss: 0.3950 - accuracy: 0.9318 - val_loss: 0.6848 - val_accuracy: 0.9394 - lr: 2.5032e-05\n",
            "Epoch 46/200\n",
            "6/6 [==============================] - 0s 5ms/step - loss: 0.4155 - accuracy: 0.9318 - val_loss: 0.6761 - val_accuracy: 0.9394 - lr: 2.2528e-05\n",
            "Epoch 47/200\n",
            "6/6 [==============================] - 0s 7ms/step - loss: 0.4190 - accuracy: 0.9280 - val_loss: 0.6676 - val_accuracy: 0.9394 - lr: 2.0276e-05\n",
            "Epoch 48/200\n",
            "6/6 [==============================] - 0s 8ms/step - loss: 0.4119 - accuracy: 0.9280 - val_loss: 0.6595 - val_accuracy: 0.9394 - lr: 1.8248e-05\n",
            "Epoch 49/200\n",
            "6/6 [==============================] - 0s 4ms/step - loss: 0.4112 - accuracy: 0.9242 - val_loss: 0.6509 - val_accuracy: 0.9394 - lr: 1.6423e-05\n",
            "Epoch 50/200\n",
            "6/6 [==============================] - 0s 10ms/step - loss: 0.4111 - accuracy: 0.9318 - val_loss: 0.6428 - val_accuracy: 0.9394 - lr: 1.4781e-05\n",
            "Epoch 51/200\n",
            "6/6 [==============================] - 0s 6ms/step - loss: 0.3917 - accuracy: 0.9394 - val_loss: 0.6349 - val_accuracy: 0.9394 - lr: 1.3303e-05\n",
            "Epoch 52/200\n",
            "6/6 [==============================] - 0s 8ms/step - loss: 0.4003 - accuracy: 0.9470 - val_loss: 0.6275 - val_accuracy: 0.9394 - lr: 1.1973e-05\n",
            "Epoch 53/200\n",
            "6/6 [==============================] - 0s 7ms/step - loss: 0.3926 - accuracy: 0.9356 - val_loss: 0.6201 - val_accuracy: 0.9394 - lr: 1.0775e-05\n",
            "Epoch 54/200\n",
            "6/6 [==============================] - 0s 7ms/step - loss: 0.3891 - accuracy: 0.9470 - val_loss: 0.6133 - val_accuracy: 0.9394 - lr: 9.6977e-06\n",
            "Epoch 55/200\n",
            "6/6 [==============================] - 0s 8ms/step - loss: 0.4194 - accuracy: 0.9394 - val_loss: 0.6062 - val_accuracy: 0.9394 - lr: 8.7280e-06\n",
            "Epoch 56/200\n",
            "6/6 [==============================] - 0s 6ms/step - loss: 0.3912 - accuracy: 0.9356 - val_loss: 0.5999 - val_accuracy: 0.9394 - lr: 7.8552e-06\n",
            "Epoch 57/200\n",
            "6/6 [==============================] - 0s 8ms/step - loss: 0.3929 - accuracy: 0.9508 - val_loss: 0.5941 - val_accuracy: 0.9394 - lr: 7.0697e-06\n",
            "Epoch 58/200\n",
            "6/6 [==============================] - 0s 7ms/step - loss: 0.3879 - accuracy: 0.9470 - val_loss: 0.5881 - val_accuracy: 0.9394 - lr: 6.3627e-06\n",
            "Epoch 59/200\n",
            "6/6 [==============================] - 0s 5ms/step - loss: 0.4077 - accuracy: 0.9432 - val_loss: 0.5825 - val_accuracy: 0.9394 - lr: 5.7264e-06\n",
            "Epoch 60/200\n",
            "6/6 [==============================] - 0s 10ms/step - loss: 0.4245 - accuracy: 0.9205 - val_loss: 0.5769 - val_accuracy: 0.9394 - lr: 5.1538e-06\n",
            "Epoch 61/200\n",
            "6/6 [==============================] - 0s 6ms/step - loss: 0.4169 - accuracy: 0.9394 - val_loss: 0.5716 - val_accuracy: 0.9394 - lr: 4.6384e-06\n",
            "Epoch 62/200\n",
            "6/6 [==============================] - 0s 9ms/step - loss: 0.4041 - accuracy: 0.9394 - val_loss: 0.5667 - val_accuracy: 0.9394 - lr: 4.1746e-06\n",
            "Epoch 63/200\n",
            "6/6 [==============================] - 0s 8ms/step - loss: 0.3956 - accuracy: 0.9432 - val_loss: 0.5622 - val_accuracy: 0.9394 - lr: 3.7571e-06\n",
            "Epoch 64/200\n",
            "6/6 [==============================] - 0s 9ms/step - loss: 0.4172 - accuracy: 0.9280 - val_loss: 0.5577 - val_accuracy: 0.9394 - lr: 3.3814e-06\n",
            "Epoch 65/200\n",
            "6/6 [==============================] - 0s 7ms/step - loss: 0.4013 - accuracy: 0.9394 - val_loss: 0.5531 - val_accuracy: 0.9394 - lr: 3.0433e-06\n",
            "Epoch 66/200\n",
            "6/6 [==============================] - 0s 7ms/step - loss: 0.4119 - accuracy: 0.9318 - val_loss: 0.5489 - val_accuracy: 0.9394 - lr: 2.7389e-06\n",
            "Epoch 67/200\n",
            "6/6 [==============================] - 0s 7ms/step - loss: 0.3950 - accuracy: 0.9508 - val_loss: 0.5450 - val_accuracy: 0.9394 - lr: 2.4650e-06\n",
            "Epoch 68/200\n",
            "6/6 [==============================] - 0s 7ms/step - loss: 0.4185 - accuracy: 0.9318 - val_loss: 0.5413 - val_accuracy: 0.9394 - lr: 2.2185e-06\n",
            "Epoch 69/200\n",
            "6/6 [==============================] - 0s 8ms/step - loss: 0.3960 - accuracy: 0.9394 - val_loss: 0.5378 - val_accuracy: 0.9394 - lr: 1.9967e-06\n",
            "Epoch 70/200\n",
            "6/6 [==============================] - 0s 8ms/step - loss: 0.3928 - accuracy: 0.9583 - val_loss: 0.5341 - val_accuracy: 0.9394 - lr: 1.7970e-06\n",
            "Epoch 71/200\n",
            "6/6 [==============================] - 0s 7ms/step - loss: 0.4194 - accuracy: 0.9356 - val_loss: 0.5312 - val_accuracy: 0.9394 - lr: 1.6173e-06\n",
            "Epoch 72/200\n",
            "6/6 [==============================] - 0s 7ms/step - loss: 0.4187 - accuracy: 0.9356 - val_loss: 0.5281 - val_accuracy: 0.9394 - lr: 1.4556e-06\n",
            "Epoch 73/200\n",
            "6/6 [==============================] - 0s 7ms/step - loss: 0.3929 - accuracy: 0.9356 - val_loss: 0.5254 - val_accuracy: 0.9394 - lr: 1.3100e-06\n",
            "Epoch 74/200\n",
            "6/6 [==============================] - 0s 7ms/step - loss: 0.3995 - accuracy: 0.9583 - val_loss: 0.5228 - val_accuracy: 0.9394 - lr: 1.1790e-06\n",
            "Epoch 75/200\n",
            "6/6 [==============================] - 0s 9ms/step - loss: 0.4141 - accuracy: 0.9318 - val_loss: 0.5202 - val_accuracy: 0.9394 - lr: 1.0611e-06\n",
            "Epoch 76/200\n",
            "6/6 [==============================] - 0s 8ms/step - loss: 0.3946 - accuracy: 0.9356 - val_loss: 0.5179 - val_accuracy: 0.9394 - lr: 9.5501e-07\n",
            "Epoch 77/200\n",
            "6/6 [==============================] - 0s 9ms/step - loss: 0.4037 - accuracy: 0.9470 - val_loss: 0.5159 - val_accuracy: 0.9394 - lr: 8.5950e-07\n",
            "Epoch 78/200\n",
            "6/6 [==============================] - 0s 7ms/step - loss: 0.4135 - accuracy: 0.9394 - val_loss: 0.5141 - val_accuracy: 0.9394 - lr: 7.7355e-07\n",
            "Epoch 79/200\n",
            "6/6 [==============================] - 0s 9ms/step - loss: 0.3982 - accuracy: 0.9356 - val_loss: 0.5122 - val_accuracy: 0.9394 - lr: 6.9620e-07\n",
            "Epoch 80/200\n",
            "6/6 [==============================] - 0s 7ms/step - loss: 0.4132 - accuracy: 0.9318 - val_loss: 0.5109 - val_accuracy: 0.9394 - lr: 6.2658e-07\n",
            "Epoch 81/200\n",
            "6/6 [==============================] - 0s 9ms/step - loss: 0.4011 - accuracy: 0.9432 - val_loss: 0.5097 - val_accuracy: 0.9394 - lr: 5.6392e-07\n",
            "Epoch 82/200\n",
            "6/6 [==============================] - 0s 9ms/step - loss: 0.4146 - accuracy: 0.9394 - val_loss: 0.5085 - val_accuracy: 0.9394 - lr: 5.0753e-07\n",
            "Epoch 83/200\n",
            "6/6 [==============================] - 0s 8ms/step - loss: 0.4031 - accuracy: 0.9470 - val_loss: 0.5071 - val_accuracy: 0.9394 - lr: 4.5678e-07\n",
            "Epoch 84/200\n",
            "6/6 [==============================] - 0s 7ms/step - loss: 0.3913 - accuracy: 0.9470 - val_loss: 0.5057 - val_accuracy: 0.9394 - lr: 4.1110e-07\n",
            "Epoch 85/200\n",
            "6/6 [==============================] - 0s 4ms/step - loss: 0.3863 - accuracy: 0.9432 - val_loss: 0.5044 - val_accuracy: 0.9394 - lr: 3.6999e-07\n",
            "Epoch 86/200\n",
            "6/6 [==============================] - 0s 7ms/step - loss: 0.4203 - accuracy: 0.9394 - val_loss: 0.5032 - val_accuracy: 0.9394 - lr: 3.3299e-07\n",
            "Epoch 87/200\n",
            "6/6 [==============================] - 0s 6ms/step - loss: 0.4004 - accuracy: 0.9356 - val_loss: 0.5023 - val_accuracy: 0.9394 - lr: 2.9969e-07\n",
            "Epoch 88/200\n",
            "6/6 [==============================] - 0s 8ms/step - loss: 0.3968 - accuracy: 0.9508 - val_loss: 0.5014 - val_accuracy: 0.9394 - lr: 2.6972e-07\n",
            "Epoch 89/200\n",
            "6/6 [==============================] - 0s 7ms/step - loss: 0.3985 - accuracy: 0.9394 - val_loss: 0.5005 - val_accuracy: 0.9394 - lr: 2.4275e-07\n",
            "Epoch 90/200\n",
            "6/6 [==============================] - 0s 7ms/step - loss: 0.4075 - accuracy: 0.9394 - val_loss: 0.4997 - val_accuracy: 0.9394 - lr: 2.1847e-07\n",
            "Epoch 91/200\n",
            "6/6 [==============================] - 0s 4ms/step - loss: 0.4175 - accuracy: 0.9432 - val_loss: 0.4989 - val_accuracy: 0.9394 - lr: 1.9663e-07\n",
            "Epoch 92/200\n",
            "6/6 [==============================] - 0s 10ms/step - loss: 0.4185 - accuracy: 0.9356 - val_loss: 0.4980 - val_accuracy: 0.9394 - lr: 1.7696e-07\n",
            "Epoch 93/200\n",
            "6/6 [==============================] - 0s 7ms/step - loss: 0.4110 - accuracy: 0.9318 - val_loss: 0.4972 - val_accuracy: 0.9394 - lr: 1.5927e-07\n",
            "Epoch 94/200\n",
            "6/6 [==============================] - 0s 9ms/step - loss: 0.4091 - accuracy: 0.9318 - val_loss: 0.4964 - val_accuracy: 0.9394 - lr: 1.4334e-07\n",
            "Epoch 95/200\n",
            "6/6 [==============================] - 0s 9ms/step - loss: 0.4079 - accuracy: 0.9242 - val_loss: 0.4961 - val_accuracy: 0.9394 - lr: 1.2901e-07\n",
            "Epoch 96/200\n",
            "6/6 [==============================] - 0s 6ms/step - loss: 0.4289 - accuracy: 0.9318 - val_loss: 0.4959 - val_accuracy: 0.9394 - lr: 1.1611e-07\n",
            "Epoch 97/200\n",
            "6/6 [==============================] - 0s 7ms/step - loss: 0.4485 - accuracy: 0.9091 - val_loss: 0.4953 - val_accuracy: 0.9242 - lr: 1.0450e-07\n",
            "Epoch 98/200\n",
            "6/6 [==============================] - 0s 8ms/step - loss: 0.3979 - accuracy: 0.9394 - val_loss: 0.4951 - val_accuracy: 0.9242 - lr: 9.4046e-08\n",
            "Epoch 99/200\n",
            "6/6 [==============================] - 0s 7ms/step - loss: 0.4001 - accuracy: 0.9583 - val_loss: 0.4946 - val_accuracy: 0.9242 - lr: 8.4642e-08\n",
            "Epoch 100/200\n",
            "6/6 [==============================] - 0s 7ms/step - loss: 0.4308 - accuracy: 0.9242 - val_loss: 0.4941 - val_accuracy: 0.9242 - lr: 7.6177e-08\n",
            "Epoch 101/200\n",
            "6/6 [==============================] - 0s 5ms/step - loss: 0.3958 - accuracy: 0.9242 - val_loss: 0.4933 - val_accuracy: 0.9242 - lr: 6.8560e-08\n",
            "Epoch 102/200\n",
            "6/6 [==============================] - 0s 10ms/step - loss: 0.4071 - accuracy: 0.9280 - val_loss: 0.4932 - val_accuracy: 0.9242 - lr: 6.1704e-08\n",
            "Epoch 103/200\n",
            "6/6 [==============================] - 0s 7ms/step - loss: 0.4022 - accuracy: 0.9318 - val_loss: 0.4934 - val_accuracy: 0.9242 - lr: 5.5533e-08\n",
            "Epoch 104/200\n",
            "6/6 [==============================] - 0s 6ms/step - loss: 0.3848 - accuracy: 0.9508 - val_loss: 0.4931 - val_accuracy: 0.9394 - lr: 4.9980e-08\n",
            "Epoch 105/200\n",
            "6/6 [==============================] - 0s 7ms/step - loss: 0.4224 - accuracy: 0.9280 - val_loss: 0.4929 - val_accuracy: 0.9394 - lr: 4.4982e-08\n",
            "Epoch 106/200\n",
            "6/6 [==============================] - 0s 6ms/step - loss: 0.3861 - accuracy: 0.9583 - val_loss: 0.4928 - val_accuracy: 0.9242 - lr: 4.0484e-08\n",
            "Epoch 107/200\n",
            "6/6 [==============================] - 0s 6ms/step - loss: 0.4125 - accuracy: 0.9432 - val_loss: 0.4925 - val_accuracy: 0.9242 - lr: 3.6435e-08\n",
            "Epoch 108/200\n",
            "6/6 [==============================] - 0s 7ms/step - loss: 0.4100 - accuracy: 0.9242 - val_loss: 0.4927 - val_accuracy: 0.9242 - lr: 3.2792e-08\n",
            "Epoch 109/200\n",
            "6/6 [==============================] - 0s 6ms/step - loss: 0.4235 - accuracy: 0.9356 - val_loss: 0.4929 - val_accuracy: 0.9242 - lr: 2.9513e-08\n",
            "Epoch 110/200\n",
            "6/6 [==============================] - 0s 8ms/step - loss: 0.3962 - accuracy: 0.9508 - val_loss: 0.4932 - val_accuracy: 0.9242 - lr: 2.6561e-08\n",
            "Epoch 111/200\n",
            "6/6 [==============================] - 0s 7ms/step - loss: 0.4324 - accuracy: 0.9280 - val_loss: 0.4932 - val_accuracy: 0.9242 - lr: 2.3905e-08\n",
            "Epoch 112/200\n",
            "6/6 [==============================] - 0s 6ms/step - loss: 0.4082 - accuracy: 0.9508 - val_loss: 0.4934 - val_accuracy: 0.9242 - lr: 2.1515e-08\n",
            "Epoch 113/200\n",
            "6/6 [==============================] - 0s 6ms/step - loss: 0.3979 - accuracy: 0.9432 - val_loss: 0.4925 - val_accuracy: 0.9242 - lr: 1.9363e-08\n",
            "Epoch 114/200\n",
            "6/6 [==============================] - 0s 14ms/step - loss: 0.4134 - accuracy: 0.9432 - val_loss: 0.4920 - val_accuracy: 0.9242 - lr: 1.7427e-08\n",
            "Epoch 115/200\n",
            "6/6 [==============================] - 0s 9ms/step - loss: 0.3959 - accuracy: 0.9356 - val_loss: 0.4921 - val_accuracy: 0.9242 - lr: 1.5684e-08\n",
            "Epoch 116/200\n",
            "6/6 [==============================] - 0s 6ms/step - loss: 0.4318 - accuracy: 0.9242 - val_loss: 0.4922 - val_accuracy: 0.9242 - lr: 1.4116e-08\n",
            "Epoch 117/200\n",
            "6/6 [==============================] - 0s 6ms/step - loss: 0.4043 - accuracy: 0.9356 - val_loss: 0.4918 - val_accuracy: 0.9242 - lr: 1.2704e-08\n",
            "Epoch 118/200\n",
            "6/6 [==============================] - 0s 6ms/step - loss: 0.3910 - accuracy: 0.9621 - val_loss: 0.4911 - val_accuracy: 0.9242 - lr: 1.1434e-08\n",
            "Epoch 119/200\n",
            "6/6 [==============================] - 0s 6ms/step - loss: 0.3929 - accuracy: 0.9432 - val_loss: 0.4908 - val_accuracy: 0.9242 - lr: 1.0290e-08\n",
            "Epoch 120/200\n",
            "6/6 [==============================] - 0s 7ms/step - loss: 0.4113 - accuracy: 0.9394 - val_loss: 0.4905 - val_accuracy: 0.9242 - lr: 9.2614e-09\n",
            "Epoch 121/200\n",
            "6/6 [==============================] - 0s 6ms/step - loss: 0.3916 - accuracy: 0.9508 - val_loss: 0.4908 - val_accuracy: 0.9242 - lr: 8.3353e-09\n",
            "Epoch 122/200\n",
            "6/6 [==============================] - 0s 6ms/step - loss: 0.4099 - accuracy: 0.9394 - val_loss: 0.4905 - val_accuracy: 0.9242 - lr: 7.5017e-09\n",
            "Epoch 123/200\n",
            "6/6 [==============================] - 0s 9ms/step - loss: 0.4023 - accuracy: 0.9356 - val_loss: 0.4907 - val_accuracy: 0.9242 - lr: 6.7516e-09\n",
            "Epoch 124/200\n",
            "6/6 [==============================] - 0s 7ms/step - loss: 0.4238 - accuracy: 0.9356 - val_loss: 0.4905 - val_accuracy: 0.9242 - lr: 6.0764e-09\n",
            "Epoch 125/200\n",
            "6/6 [==============================] - 0s 8ms/step - loss: 0.3949 - accuracy: 0.9508 - val_loss: 0.4906 - val_accuracy: 0.9242 - lr: 5.4688e-09\n",
            "Epoch 126/200\n",
            "6/6 [==============================] - 0s 4ms/step - loss: 0.3894 - accuracy: 0.9508 - val_loss: 0.4911 - val_accuracy: 0.9242 - lr: 4.9219e-09\n",
            "Epoch 127/200\n",
            "6/6 [==============================] - 0s 7ms/step - loss: 0.4042 - accuracy: 0.9470 - val_loss: 0.4914 - val_accuracy: 0.9242 - lr: 4.4297e-09\n",
            "Epoch 128/200\n",
            "6/6 [==============================] - 0s 6ms/step - loss: 0.3974 - accuracy: 0.9470 - val_loss: 0.4913 - val_accuracy: 0.9242 - lr: 3.9867e-09\n",
            "Epoch 129/200\n",
            "6/6 [==============================] - 0s 6ms/step - loss: 0.4228 - accuracy: 0.9318 - val_loss: 0.4916 - val_accuracy: 0.9242 - lr: 3.5881e-09\n",
            "Epoch 130/200\n",
            "6/6 [==============================] - 0s 7ms/step - loss: 0.4104 - accuracy: 0.9280 - val_loss: 0.4914 - val_accuracy: 0.9242 - lr: 3.2292e-09\n",
            "Epoch 131/200\n",
            "6/6 [==============================] - 0s 7ms/step - loss: 0.4273 - accuracy: 0.9356 - val_loss: 0.4910 - val_accuracy: 0.9242 - lr: 2.9063e-09\n",
            "Epoch 132/200\n",
            "6/6 [==============================] - 0s 8ms/step - loss: 0.4135 - accuracy: 0.9394 - val_loss: 0.4912 - val_accuracy: 0.9242 - lr: 2.6157e-09\n",
            "Epoch 133/200\n",
            "6/6 [==============================] - 0s 8ms/step - loss: 0.3941 - accuracy: 0.9356 - val_loss: 0.4908 - val_accuracy: 0.9242 - lr: 2.3541e-09\n",
            "Epoch 134/200\n",
            "6/6 [==============================] - 0s 7ms/step - loss: 0.3865 - accuracy: 0.9470 - val_loss: 0.4911 - val_accuracy: 0.9242 - lr: 2.1187e-09\n",
            "Epoch 135/200\n",
            "6/6 [==============================] - 0s 7ms/step - loss: 0.4163 - accuracy: 0.9242 - val_loss: 0.4917 - val_accuracy: 0.9242 - lr: 1.9068e-09\n",
            "Epoch 136/200\n",
            "6/6 [==============================] - 0s 6ms/step - loss: 0.3876 - accuracy: 0.9470 - val_loss: 0.4913 - val_accuracy: 0.9242 - lr: 1.7162e-09\n",
            "Epoch 137/200\n",
            "6/6 [==============================] - 0s 8ms/step - loss: 0.4006 - accuracy: 0.9394 - val_loss: 0.4911 - val_accuracy: 0.9242 - lr: 1.5445e-09\n",
            "Epoch 138/200\n",
            "6/6 [==============================] - 0s 6ms/step - loss: 0.3927 - accuracy: 0.9394 - val_loss: 0.4913 - val_accuracy: 0.9242 - lr: 1.3901e-09\n",
            "Epoch 139/200\n",
            "6/6 [==============================] - 0s 7ms/step - loss: 0.4092 - accuracy: 0.9432 - val_loss: 0.4914 - val_accuracy: 0.9242 - lr: 1.2511e-09\n",
            "Epoch 140/200\n",
            "6/6 [==============================] - 0s 5ms/step - loss: 0.4234 - accuracy: 0.9394 - val_loss: 0.4911 - val_accuracy: 0.9242 - lr: 1.1260e-09\n",
            "Epoch 141/200\n",
            "6/6 [==============================] - 0s 7ms/step - loss: 0.3809 - accuracy: 0.9545 - val_loss: 0.4908 - val_accuracy: 0.9242 - lr: 1.0134e-09\n",
            "Epoch 142/200\n",
            "6/6 [==============================] - 0s 7ms/step - loss: 0.4272 - accuracy: 0.9356 - val_loss: 0.4905 - val_accuracy: 0.9242 - lr: 9.1203e-10\n",
            "Epoch 143/200\n",
            "6/6 [==============================] - 0s 7ms/step - loss: 0.3760 - accuracy: 0.9508 - val_loss: 0.4905 - val_accuracy: 0.9242 - lr: 8.2083e-10\n",
            "Epoch 144/200\n",
            "6/6 [==============================] - 0s 4ms/step - loss: 0.4040 - accuracy: 0.9545 - val_loss: 0.4904 - val_accuracy: 0.9242 - lr: 7.3875e-10\n",
            "Epoch 145/200\n",
            "6/6 [==============================] - 0s 9ms/step - loss: 0.4286 - accuracy: 0.9318 - val_loss: 0.4901 - val_accuracy: 0.9242 - lr: 6.6487e-10\n",
            "Epoch 146/200\n",
            "6/6 [==============================] - 0s 7ms/step - loss: 0.3934 - accuracy: 0.9432 - val_loss: 0.4899 - val_accuracy: 0.9242 - lr: 5.9839e-10\n",
            "Epoch 147/200\n",
            "6/6 [==============================] - 0s 6ms/step - loss: 0.4006 - accuracy: 0.9470 - val_loss: 0.4904 - val_accuracy: 0.9242 - lr: 5.3855e-10\n",
            "Epoch 148/200\n",
            "6/6 [==============================] - 0s 9ms/step - loss: 0.4273 - accuracy: 0.9394 - val_loss: 0.4903 - val_accuracy: 0.9242 - lr: 4.8469e-10\n",
            "Epoch 149/200\n",
            "6/6 [==============================] - 0s 7ms/step - loss: 0.4190 - accuracy: 0.9205 - val_loss: 0.4907 - val_accuracy: 0.9242 - lr: 4.3622e-10\n",
            "Epoch 150/200\n",
            "6/6 [==============================] - 0s 6ms/step - loss: 0.4178 - accuracy: 0.9356 - val_loss: 0.4909 - val_accuracy: 0.9242 - lr: 3.9260e-10\n",
            "Epoch 151/200\n",
            "6/6 [==============================] - 0s 6ms/step - loss: 0.3971 - accuracy: 0.9583 - val_loss: 0.4908 - val_accuracy: 0.9242 - lr: 3.5334e-10\n",
            "Epoch 152/200\n",
            "6/6 [==============================] - 0s 7ms/step - loss: 0.4076 - accuracy: 0.9432 - val_loss: 0.4907 - val_accuracy: 0.9242 - lr: 3.1801e-10\n",
            "Epoch 153/200\n",
            "6/6 [==============================] - 0s 6ms/step - loss: 0.4086 - accuracy: 0.9318 - val_loss: 0.4905 - val_accuracy: 0.9242 - lr: 2.8621e-10\n",
            "Epoch 154/200\n",
            "6/6 [==============================] - 0s 6ms/step - loss: 0.3849 - accuracy: 0.9508 - val_loss: 0.4906 - val_accuracy: 0.9242 - lr: 2.5759e-10\n",
            "Epoch 155/200\n",
            "6/6 [==============================] - 0s 9ms/step - loss: 0.3836 - accuracy: 0.9508 - val_loss: 0.4902 - val_accuracy: 0.9242 - lr: 2.3183e-10\n",
            "Epoch 156/200\n",
            "6/6 [==============================] - 0s 6ms/step - loss: 0.4139 - accuracy: 0.9280 - val_loss: 0.4903 - val_accuracy: 0.9242 - lr: 2.0864e-10\n",
            "Epoch 157/200\n",
            "6/6 [==============================] - 0s 13ms/step - loss: 0.3824 - accuracy: 0.9432 - val_loss: 0.4905 - val_accuracy: 0.9242 - lr: 1.8778e-10\n",
            "Epoch 158/200\n",
            "6/6 [==============================] - 0s 8ms/step - loss: 0.4147 - accuracy: 0.9394 - val_loss: 0.4905 - val_accuracy: 0.9242 - lr: 1.6900e-10\n",
            "Epoch 159/200\n",
            "6/6 [==============================] - 0s 6ms/step - loss: 0.4277 - accuracy: 0.9242 - val_loss: 0.4905 - val_accuracy: 0.9242 - lr: 1.5210e-10\n",
            "Epoch 160/200\n",
            "6/6 [==============================] - 0s 10ms/step - loss: 0.3862 - accuracy: 0.9470 - val_loss: 0.4902 - val_accuracy: 0.9242 - lr: 1.3689e-10\n",
            "Epoch 161/200\n",
            "6/6 [==============================] - 0s 5ms/step - loss: 0.3797 - accuracy: 0.9470 - val_loss: 0.4903 - val_accuracy: 0.9242 - lr: 1.2320e-10\n",
            "Epoch 162/200\n",
            "6/6 [==============================] - 0s 4ms/step - loss: 0.3804 - accuracy: 0.9432 - val_loss: 0.4909 - val_accuracy: 0.9242 - lr: 1.1088e-10\n",
            "Epoch 163/200\n",
            "6/6 [==============================] - 0s 7ms/step - loss: 0.4028 - accuracy: 0.9432 - val_loss: 0.4913 - val_accuracy: 0.9242 - lr: 9.9794e-11\n",
            "Epoch 164/200\n",
            "6/6 [==============================] - 0s 7ms/step - loss: 0.3987 - accuracy: 0.9280 - val_loss: 0.4917 - val_accuracy: 0.9242 - lr: 8.9815e-11\n",
            "Epoch 165/200\n",
            "6/6 [==============================] - 0s 8ms/step - loss: 0.4017 - accuracy: 0.9432 - val_loss: 0.4917 - val_accuracy: 0.9242 - lr: 8.0833e-11\n",
            "Epoch 166/200\n",
            "6/6 [==============================] - 0s 8ms/step - loss: 0.3706 - accuracy: 0.9735 - val_loss: 0.4920 - val_accuracy: 0.9242 - lr: 7.2750e-11\n"
          ]
        }
      ],
      "source": [
        "from tensorflow.keras.optimizers import Adam\n",
        "from tensorflow.keras.callbacks import EarlyStopping\n",
        "from tensorflow.keras.callbacks import LearningRateScheduler\n",
        "import numpy as np\n",
        "\n",
        "# Crear y compilar el modelo\n",
        "teacher = build_teacher()\n",
        "teacher.summary()\n",
        "\n",
        "# Entrenamiento del modelo\n",
        "# Define la función que ajustará el learning rate en cada época\n",
        "def scheduler(epoch, lr):\n",
        "    if epoch < 10:\n",
        "        return lr  # El learning rate no cambia en las primeras 10 épocas\n",
        "    else:\n",
        "        return lr * 0.9  # Reduce el learning rate en un 10% después de la época 10\n",
        "#-------------------------------------------------------------------------------\n",
        "# Crear el optimizador sin un learning rate fijo\n",
        "optimizer = Adam()\n",
        "\n",
        "#-------------------------------------------------------------------------------\n",
        "# Compilar el modelo (sin especificar el learning rate aquí)\n",
        "###COMPILAR EL MODELO TEACHER\n",
        "\n",
        "teacher.compile(optimizer=optimizer, # El optimizador sin el learning rate\n",
        "                 loss='sparse_categorical_crossentropy',\n",
        "                 metrics=['accuracy']) \n",
        "\n",
        "#-------------------------------------------------------------------------------\n",
        "# Crear el callback del LearningRateScheduler\n",
        "lr_scheduler = LearningRateScheduler(scheduler)\n",
        "\n",
        "early_stop = EarlyStopping(monitor='val_loss', patience=20, restore_best_weights=True)\n",
        "\n",
        "### ENTRENAR EL MODELO TEACHER\n",
        "history_teacher = teacher.fit(X_train, y_train,\n",
        "                     validation_data=(X_test, y_test),\n",
        "                     epochs=200,\n",
        "                     batch_size=50,\n",
        "                     callbacks=[lr_scheduler, early_stop])\n"
      ]
    },
    {
      "cell_type": "markdown",
      "id": "53830afa",
      "metadata": {},
      "source": [
        "## DESTILACIÓN DEL CONOCIMIENTO\n",
        "Entrenamiento por destilación del conocimiento:\n",
        "Este enfoque consiste en entrenar un modelo pequeño (estudiante) para que aprenda a imitar el comportamiento de un modelo más grande y preciso (maestro). En lugar de entrenar al estudiante directamente con las etiquetas verdaderas, se utilizan las salidas del maestro (probabilidades suavizadas) como objetivo. Esto permite transferir el \"conocimiento\" del maestro al estudiante, mejorando su desempeño incluso con menor capacidad y precisión (por ejemplo, en redes cuantizadas).\n",
        "\n",
        "![Esquema del proceso de Destilación](destilacion.png)\n"
      ]
    },
    {
      "cell_type": "markdown",
      "id": "ae3bed04",
      "metadata": {},
      "source": [
        "### ENTRENAMIENTO DEL ALUMNO"
      ]
    },
    {
      "cell_type": "code",
      "execution_count": 46,
      "id": "a3a177c6",
      "metadata": {},
      "outputs": [
        {
          "name": "stdout",
          "output_type": "stream",
          "text": [
            "Model: \"sequential_4\"\n",
            "_________________________________________________________________\n",
            " Layer (type)                Output Shape              Param #   \n",
            "=================================================================\n",
            " q_activation_2 (QActivation  (None, 22)               0         \n",
            " )                                                               \n",
            "                                                                 \n",
            " fc1 (QDense)                (None, 32)                736       \n",
            "                                                                 \n",
            " relu1 (QActivation)         (None, 32)                0         \n",
            "                                                                 \n",
            " fc2 (QDense)                (None, 16)                528       \n",
            "                                                                 \n",
            " relu2 (QActivation)         (None, 16)                0         \n",
            "                                                                 \n",
            " fc3 (QDense)                (None, 8)                 136       \n",
            "                                                                 \n",
            " relu3 (QActivation)         (None, 8)                 0         \n",
            "                                                                 \n",
            " output (QDense)             (None, 3)                 27        \n",
            "                                                                 \n",
            " softmax (Activation)        (None, 3)                 0         \n",
            "                                                                 \n",
            "=================================================================\n",
            "Total params: 1,427\n",
            "Trainable params: 1,427\n",
            "Non-trainable params: 0\n",
            "_________________________________________________________________\n"
          ]
        }
      ],
      "source": [
        "from distillationClassKeras import *\n",
        "distilledMLP = Distiller(student=student, teacher=teacher)\n",
        "distilledMLP.student.summary()"
      ]
    },
    {
      "cell_type": "code",
      "execution_count": 47,
      "id": "f69e1f3c",
      "metadata": {},
      "outputs": [
        {
          "name": "stdout",
          "output_type": "stream",
          "text": [
            "Epoch 1/300\n"
          ]
        },
        {
          "name": "stderr",
          "output_type": "stream",
          "text": [
            "c:\\Users\\CELESTE\\anaconda3\\envs\\tinyml\\lib\\site-packages\\keras\\backend.py:5612: UserWarning: \"`sparse_categorical_crossentropy` received `from_logits=True`, but the `output` argument was produced by a Softmax activation and thus does not represent logits. Was this intended?\n",
            "  output, from_logits = _get_logits(\n"
          ]
        },
        {
          "name": "stdout",
          "output_type": "stream",
          "text": [
            "1/6 [====>.........................] - ETA: 4s - sparse_categorical_accuracy: 0.3600 - student_loss: 1.0638 - distillation_loss: 8.1221e-04WARNING:tensorflow:Early stopping conditioned on metric `val_loss` which is not available. Available metrics are: sparse_categorical_accuracy,student_loss,distillation_loss,val_sparse_categorical_accuracy,val_student_loss,lr\n"
          ]
        },
        {
          "name": "stderr",
          "output_type": "stream",
          "text": [
            "WARNING:tensorflow:Early stopping conditioned on metric `val_loss` which is not available. Available metrics are: sparse_categorical_accuracy,student_loss,distillation_loss,val_sparse_categorical_accuracy,val_student_loss,lr\n"
          ]
        },
        {
          "name": "stdout",
          "output_type": "stream",
          "text": [
            "6/6 [==============================] - 1s 57ms/step - sparse_categorical_accuracy: 0.3939 - student_loss: 1.0454 - distillation_loss: 7.5972e-04 - val_sparse_categorical_accuracy: 0.4545 - val_student_loss: 1.0357 - lr: 0.0010\n",
            "Epoch 2/300\n",
            "1/6 [====>.........................] - ETA: 0s - sparse_categorical_accuracy: 0.5000 - student_loss: 1.0353 - distillation_loss: 7.1742e-04WARNING:tensorflow:Early stopping conditioned on metric `val_loss` which is not available. Available metrics are: sparse_categorical_accuracy,student_loss,distillation_loss,val_sparse_categorical_accuracy,val_student_loss,lr\n"
          ]
        },
        {
          "name": "stderr",
          "output_type": "stream",
          "text": [
            "WARNING:tensorflow:Early stopping conditioned on metric `val_loss` which is not available. Available metrics are: sparse_categorical_accuracy,student_loss,distillation_loss,val_sparse_categorical_accuracy,val_student_loss,lr\n"
          ]
        },
        {
          "name": "stdout",
          "output_type": "stream",
          "text": [
            "6/6 [==============================] - 0s 7ms/step - sparse_categorical_accuracy: 0.6023 - student_loss: 1.0197 - distillation_loss: 7.3928e-04 - val_sparse_categorical_accuracy: 0.8333 - val_student_loss: 1.0024 - lr: 0.0010\n",
            "Epoch 3/300\n",
            "1/6 [====>.........................] - ETA: 0s - sparse_categorical_accuracy: 0.7600 - student_loss: 0.9791 - distillation_loss: 7.1268e-04WARNING:tensorflow:Early stopping conditioned on metric `val_loss` which is not available. Available metrics are: sparse_categorical_accuracy,student_loss,distillation_loss,val_sparse_categorical_accuracy,val_student_loss,lr\n"
          ]
        },
        {
          "name": "stderr",
          "output_type": "stream",
          "text": [
            "WARNING:tensorflow:Early stopping conditioned on metric `val_loss` which is not available. Available metrics are: sparse_categorical_accuracy,student_loss,distillation_loss,val_sparse_categorical_accuracy,val_student_loss,lr\n"
          ]
        },
        {
          "name": "stdout",
          "output_type": "stream",
          "text": [
            "6/6 [==============================] - 0s 6ms/step - sparse_categorical_accuracy: 0.7538 - student_loss: 0.9645 - distillation_loss: 6.8253e-04 - val_sparse_categorical_accuracy: 0.7424 - val_student_loss: 0.9653 - lr: 0.0010\n",
            "Epoch 4/300\n",
            "1/6 [====>.........................] - ETA: 0s - sparse_categorical_accuracy: 0.7400 - student_loss: 0.9572 - distillation_loss: 6.3391e-04WARNING:tensorflow:Early stopping conditioned on metric `val_loss` which is not available. Available metrics are: sparse_categorical_accuracy,student_loss,distillation_loss,val_sparse_categorical_accuracy,val_student_loss,lr\n"
          ]
        },
        {
          "name": "stderr",
          "output_type": "stream",
          "text": [
            "WARNING:tensorflow:Early stopping conditioned on metric `val_loss` which is not available. Available metrics are: sparse_categorical_accuracy,student_loss,distillation_loss,val_sparse_categorical_accuracy,val_student_loss,lr\n"
          ]
        },
        {
          "name": "stdout",
          "output_type": "stream",
          "text": [
            "6/6 [==============================] - 0s 7ms/step - sparse_categorical_accuracy: 0.7386 - student_loss: 0.9431 - distillation_loss: 6.5808e-04 - val_sparse_categorical_accuracy: 0.8030 - val_student_loss: 0.9307 - lr: 0.0010\n",
            "Epoch 5/300\n",
            "1/6 [====>.........................] - ETA: 0s - sparse_categorical_accuracy: 0.7800 - student_loss: 0.9157 - distillation_loss: 6.1953e-04WARNING:tensorflow:Early stopping conditioned on metric `val_loss` which is not available. Available metrics are: sparse_categorical_accuracy,student_loss,distillation_loss,val_sparse_categorical_accuracy,val_student_loss,lr\n"
          ]
        },
        {
          "name": "stderr",
          "output_type": "stream",
          "text": [
            "WARNING:tensorflow:Early stopping conditioned on metric `val_loss` which is not available. Available metrics are: sparse_categorical_accuracy,student_loss,distillation_loss,val_sparse_categorical_accuracy,val_student_loss,lr\n"
          ]
        },
        {
          "name": "stdout",
          "output_type": "stream",
          "text": [
            "6/6 [==============================] - 0s 7ms/step - sparse_categorical_accuracy: 0.7841 - student_loss: 0.9012 - distillation_loss: 6.0226e-04 - val_sparse_categorical_accuracy: 0.8030 - val_student_loss: 0.9040 - lr: 0.0010\n",
            "Epoch 6/300\n",
            "1/6 [====>.........................] - ETA: 0s - sparse_categorical_accuracy: 0.6200 - student_loss: 0.9511 - distillation_loss: 6.2385e-04WARNING:tensorflow:Early stopping conditioned on metric `val_loss` which is not available. Available metrics are: sparse_categorical_accuracy,student_loss,distillation_loss,val_sparse_categorical_accuracy,val_student_loss,lr\n"
          ]
        },
        {
          "name": "stderr",
          "output_type": "stream",
          "text": [
            "WARNING:tensorflow:Early stopping conditioned on metric `val_loss` which is not available. Available metrics are: sparse_categorical_accuracy,student_loss,distillation_loss,val_sparse_categorical_accuracy,val_student_loss,lr\n"
          ]
        },
        {
          "name": "stdout",
          "output_type": "stream",
          "text": [
            "6/6 [==============================] - 0s 9ms/step - sparse_categorical_accuracy: 0.7992 - student_loss: 0.8668 - distillation_loss: 5.7896e-04 - val_sparse_categorical_accuracy: 0.7576 - val_student_loss: 0.8653 - lr: 0.0010\n",
            "Epoch 7/300\n",
            "1/6 [====>.........................] - ETA: 0s - sparse_categorical_accuracy: 0.8200 - student_loss: 0.8540 - distillation_loss: 5.7079e-04WARNING:tensorflow:Early stopping conditioned on metric `val_loss` which is not available. Available metrics are: sparse_categorical_accuracy,student_loss,distillation_loss,val_sparse_categorical_accuracy,val_student_loss,lr\n"
          ]
        },
        {
          "name": "stderr",
          "output_type": "stream",
          "text": [
            "WARNING:tensorflow:Early stopping conditioned on metric `val_loss` which is not available. Available metrics are: sparse_categorical_accuracy,student_loss,distillation_loss,val_sparse_categorical_accuracy,val_student_loss,lr\n"
          ]
        },
        {
          "name": "stdout",
          "output_type": "stream",
          "text": [
            "6/6 [==============================] - 0s 7ms/step - sparse_categorical_accuracy: 0.7955 - student_loss: 0.8478 - distillation_loss: 5.4825e-04 - val_sparse_categorical_accuracy: 0.7576 - val_student_loss: 0.8270 - lr: 0.0010\n",
            "Epoch 8/300\n",
            "1/6 [====>.........................] - ETA: 0s - sparse_categorical_accuracy: 0.8200 - student_loss: 0.8242 - distillation_loss: 5.3023e-04WARNING:tensorflow:Early stopping conditioned on metric `val_loss` which is not available. Available metrics are: sparse_categorical_accuracy,student_loss,distillation_loss,val_sparse_categorical_accuracy,val_student_loss,lr\n"
          ]
        },
        {
          "name": "stderr",
          "output_type": "stream",
          "text": [
            "WARNING:tensorflow:Early stopping conditioned on metric `val_loss` which is not available. Available metrics are: sparse_categorical_accuracy,student_loss,distillation_loss,val_sparse_categorical_accuracy,val_student_loss,lr\n"
          ]
        },
        {
          "name": "stdout",
          "output_type": "stream",
          "text": [
            "6/6 [==============================] - 0s 7ms/step - sparse_categorical_accuracy: 0.7992 - student_loss: 0.7628 - distillation_loss: 4.5923e-04 - val_sparse_categorical_accuracy: 0.7727 - val_student_loss: 0.7855 - lr: 0.0010\n",
            "Epoch 9/300\n",
            "1/6 [====>.........................] - ETA: 0s - sparse_categorical_accuracy: 0.8200 - student_loss: 0.7397 - distillation_loss: 4.7487e-04WARNING:tensorflow:Early stopping conditioned on metric `val_loss` which is not available. Available metrics are: sparse_categorical_accuracy,student_loss,distillation_loss,val_sparse_categorical_accuracy,val_student_loss,lr\n"
          ]
        },
        {
          "name": "stderr",
          "output_type": "stream",
          "text": [
            "WARNING:tensorflow:Early stopping conditioned on metric `val_loss` which is not available. Available metrics are: sparse_categorical_accuracy,student_loss,distillation_loss,val_sparse_categorical_accuracy,val_student_loss,lr\n"
          ]
        },
        {
          "name": "stdout",
          "output_type": "stream",
          "text": [
            "6/6 [==============================] - 0s 7ms/step - sparse_categorical_accuracy: 0.8106 - student_loss: 0.7319 - distillation_loss: 4.4271e-04 - val_sparse_categorical_accuracy: 0.7424 - val_student_loss: 0.7480 - lr: 0.0010\n",
            "Epoch 10/300\n",
            "1/6 [====>.........................] - ETA: 0s - sparse_categorical_accuracy: 0.7400 - student_loss: 0.7610 - distillation_loss: 4.3109e-04WARNING:tensorflow:Early stopping conditioned on metric `val_loss` which is not available. Available metrics are: sparse_categorical_accuracy,student_loss,distillation_loss,val_sparse_categorical_accuracy,val_student_loss,lr\n"
          ]
        },
        {
          "name": "stderr",
          "output_type": "stream",
          "text": [
            "WARNING:tensorflow:Early stopping conditioned on metric `val_loss` which is not available. Available metrics are: sparse_categorical_accuracy,student_loss,distillation_loss,val_sparse_categorical_accuracy,val_student_loss,lr\n"
          ]
        },
        {
          "name": "stdout",
          "output_type": "stream",
          "text": [
            "6/6 [==============================] - 0s 10ms/step - sparse_categorical_accuracy: 0.8182 - student_loss: 0.6993 - distillation_loss: 3.8317e-04 - val_sparse_categorical_accuracy: 0.7879 - val_student_loss: 0.6949 - lr: 0.0010\n",
            "Epoch 11/300\n",
            "1/6 [====>.........................] - ETA: 0s - sparse_categorical_accuracy: 0.8600 - student_loss: 0.6519 - distillation_loss: 3.2609e-04WARNING:tensorflow:Early stopping conditioned on metric `val_loss` which is not available. Available metrics are: sparse_categorical_accuracy,student_loss,distillation_loss,val_sparse_categorical_accuracy,val_student_loss,lr\n"
          ]
        },
        {
          "name": "stderr",
          "output_type": "stream",
          "text": [
            "WARNING:tensorflow:Early stopping conditioned on metric `val_loss` which is not available. Available metrics are: sparse_categorical_accuracy,student_loss,distillation_loss,val_sparse_categorical_accuracy,val_student_loss,lr\n"
          ]
        },
        {
          "name": "stdout",
          "output_type": "stream",
          "text": [
            "6/6 [==============================] - 0s 8ms/step - sparse_categorical_accuracy: 0.8371 - student_loss: 0.6717 - distillation_loss: 3.5984e-04 - val_sparse_categorical_accuracy: 0.7727 - val_student_loss: 0.6622 - lr: 9.0000e-04\n",
            "Epoch 12/300\n",
            "1/6 [====>.........................] - ETA: 0s - sparse_categorical_accuracy: 0.8600 - student_loss: 0.6014 - distillation_loss: 3.3877e-04WARNING:tensorflow:Early stopping conditioned on metric `val_loss` which is not available. Available metrics are: sparse_categorical_accuracy,student_loss,distillation_loss,val_sparse_categorical_accuracy,val_student_loss,lr\n"
          ]
        },
        {
          "name": "stderr",
          "output_type": "stream",
          "text": [
            "WARNING:tensorflow:Early stopping conditioned on metric `val_loss` which is not available. Available metrics are: sparse_categorical_accuracy,student_loss,distillation_loss,val_sparse_categorical_accuracy,val_student_loss,lr\n"
          ]
        },
        {
          "name": "stdout",
          "output_type": "stream",
          "text": [
            "6/6 [==============================] - 0s 9ms/step - sparse_categorical_accuracy: 0.8409 - student_loss: 0.6441 - distillation_loss: 3.2637e-04 - val_sparse_categorical_accuracy: 0.8030 - val_student_loss: 0.6309 - lr: 8.1000e-04\n",
            "Epoch 13/300\n",
            "1/6 [====>.........................] - ETA: 0s - sparse_categorical_accuracy: 0.9600 - student_loss: 0.5478 - distillation_loss: 2.7085e-04WARNING:tensorflow:Early stopping conditioned on metric `val_loss` which is not available. Available metrics are: sparse_categorical_accuracy,student_loss,distillation_loss,val_sparse_categorical_accuracy,val_student_loss,lr\n"
          ]
        },
        {
          "name": "stderr",
          "output_type": "stream",
          "text": [
            "WARNING:tensorflow:Early stopping conditioned on metric `val_loss` which is not available. Available metrics are: sparse_categorical_accuracy,student_loss,distillation_loss,val_sparse_categorical_accuracy,val_student_loss,lr\n"
          ]
        },
        {
          "name": "stdout",
          "output_type": "stream",
          "text": [
            "6/6 [==============================] - 0s 7ms/step - sparse_categorical_accuracy: 0.8523 - student_loss: 0.5867 - distillation_loss: 2.7194e-04 - val_sparse_categorical_accuracy: 0.8030 - val_student_loss: 0.5970 - lr: 7.2900e-04\n",
            "Epoch 14/300\n",
            "1/6 [====>.........................] - ETA: 0s - sparse_categorical_accuracy: 0.8800 - student_loss: 0.5522 - distillation_loss: 2.6324e-04WARNING:tensorflow:Early stopping conditioned on metric `val_loss` which is not available. Available metrics are: sparse_categorical_accuracy,student_loss,distillation_loss,val_sparse_categorical_accuracy,val_student_loss,lr\n"
          ]
        },
        {
          "name": "stderr",
          "output_type": "stream",
          "text": [
            "WARNING:tensorflow:Early stopping conditioned on metric `val_loss` which is not available. Available metrics are: sparse_categorical_accuracy,student_loss,distillation_loss,val_sparse_categorical_accuracy,val_student_loss,lr\n"
          ]
        },
        {
          "name": "stdout",
          "output_type": "stream",
          "text": [
            "6/6 [==============================] - 0s 14ms/step - sparse_categorical_accuracy: 0.8561 - student_loss: 0.5740 - distillation_loss: 2.6400e-04 - val_sparse_categorical_accuracy: 0.8030 - val_student_loss: 0.5646 - lr: 6.5610e-04\n",
            "Epoch 15/300\n",
            "1/6 [====>.........................] - ETA: 0s - sparse_categorical_accuracy: 0.8800 - student_loss: 0.4893 - distillation_loss: 2.1839e-04WARNING:tensorflow:Early stopping conditioned on metric `val_loss` which is not available. Available metrics are: sparse_categorical_accuracy,student_loss,distillation_loss,val_sparse_categorical_accuracy,val_student_loss,lr\n"
          ]
        },
        {
          "name": "stderr",
          "output_type": "stream",
          "text": [
            "WARNING:tensorflow:Early stopping conditioned on metric `val_loss` which is not available. Available metrics are: sparse_categorical_accuracy,student_loss,distillation_loss,val_sparse_categorical_accuracy,val_student_loss,lr\n"
          ]
        },
        {
          "name": "stdout",
          "output_type": "stream",
          "text": [
            "6/6 [==============================] - 0s 7ms/step - sparse_categorical_accuracy: 0.8561 - student_loss: 0.5128 - distillation_loss: 2.5111e-04 - val_sparse_categorical_accuracy: 0.7879 - val_student_loss: 0.5528 - lr: 5.9049e-04\n",
            "Epoch 16/300\n",
            "1/6 [====>.........................] - ETA: 0s - sparse_categorical_accuracy: 0.9200 - student_loss: 0.4846 - distillation_loss: 2.1260e-04WARNING:tensorflow:Early stopping conditioned on metric `val_loss` which is not available. Available metrics are: sparse_categorical_accuracy,student_loss,distillation_loss,val_sparse_categorical_accuracy,val_student_loss,lr\n"
          ]
        },
        {
          "name": "stderr",
          "output_type": "stream",
          "text": [
            "WARNING:tensorflow:Early stopping conditioned on metric `val_loss` which is not available. Available metrics are: sparse_categorical_accuracy,student_loss,distillation_loss,val_sparse_categorical_accuracy,val_student_loss,lr\n"
          ]
        },
        {
          "name": "stdout",
          "output_type": "stream",
          "text": [
            "6/6 [==============================] - 0s 7ms/step - sparse_categorical_accuracy: 0.8523 - student_loss: 0.5361 - distillation_loss: 2.3745e-04 - val_sparse_categorical_accuracy: 0.8030 - val_student_loss: 0.5338 - lr: 5.3144e-04\n",
            "Epoch 17/300\n",
            "1/6 [====>.........................] - ETA: 0s - sparse_categorical_accuracy: 0.8000 - student_loss: 0.5137 - distillation_loss: 2.8084e-04WARNING:tensorflow:Early stopping conditioned on metric `val_loss` which is not available. Available metrics are: sparse_categorical_accuracy,student_loss,distillation_loss,val_sparse_categorical_accuracy,val_student_loss,lr\n"
          ]
        },
        {
          "name": "stderr",
          "output_type": "stream",
          "text": [
            "WARNING:tensorflow:Early stopping conditioned on metric `val_loss` which is not available. Available metrics are: sparse_categorical_accuracy,student_loss,distillation_loss,val_sparse_categorical_accuracy,val_student_loss,lr\n"
          ]
        },
        {
          "name": "stdout",
          "output_type": "stream",
          "text": [
            "6/6 [==============================] - 0s 6ms/step - sparse_categorical_accuracy: 0.8561 - student_loss: 0.4573 - distillation_loss: 1.9230e-04 - val_sparse_categorical_accuracy: 0.8030 - val_student_loss: 0.5190 - lr: 4.7830e-04\n",
            "Epoch 18/300\n",
            "1/6 [====>.........................] - ETA: 0s - sparse_categorical_accuracy: 0.9000 - student_loss: 0.4505 - distillation_loss: 2.1185e-04WARNING:tensorflow:Early stopping conditioned on metric `val_loss` which is not available. Available metrics are: sparse_categorical_accuracy,student_loss,distillation_loss,val_sparse_categorical_accuracy,val_student_loss,lr\n"
          ]
        },
        {
          "name": "stderr",
          "output_type": "stream",
          "text": [
            "WARNING:tensorflow:Early stopping conditioned on metric `val_loss` which is not available. Available metrics are: sparse_categorical_accuracy,student_loss,distillation_loss,val_sparse_categorical_accuracy,val_student_loss,lr\n"
          ]
        },
        {
          "name": "stdout",
          "output_type": "stream",
          "text": [
            "6/6 [==============================] - 0s 7ms/step - sparse_categorical_accuracy: 0.8712 - student_loss: 0.4698 - distillation_loss: 2.2162e-04 - val_sparse_categorical_accuracy: 0.8333 - val_student_loss: 0.5008 - lr: 4.3047e-04\n",
            "Epoch 19/300\n",
            "1/6 [====>.........................] - ETA: 0s - sparse_categorical_accuracy: 0.8800 - student_loss: 0.4187 - distillation_loss: 1.7351e-04WARNING:tensorflow:Early stopping conditioned on metric `val_loss` which is not available. Available metrics are: sparse_categorical_accuracy,student_loss,distillation_loss,val_sparse_categorical_accuracy,val_student_loss,lr\n"
          ]
        },
        {
          "name": "stderr",
          "output_type": "stream",
          "text": [
            "WARNING:tensorflow:Early stopping conditioned on metric `val_loss` which is not available. Available metrics are: sparse_categorical_accuracy,student_loss,distillation_loss,val_sparse_categorical_accuracy,val_student_loss,lr\n"
          ]
        },
        {
          "name": "stdout",
          "output_type": "stream",
          "text": [
            "6/6 [==============================] - 0s 7ms/step - sparse_categorical_accuracy: 0.8788 - student_loss: 0.4506 - distillation_loss: 1.8062e-04 - val_sparse_categorical_accuracy: 0.8182 - val_student_loss: 0.4885 - lr: 3.8742e-04\n",
            "Epoch 20/300\n",
            "1/6 [====>.........................] - ETA: 0s - sparse_categorical_accuracy: 0.8000 - student_loss: 0.4792 - distillation_loss: 1.7880e-04WARNING:tensorflow:Early stopping conditioned on metric `val_loss` which is not available. Available metrics are: sparse_categorical_accuracy,student_loss,distillation_loss,val_sparse_categorical_accuracy,val_student_loss,lr\n"
          ]
        },
        {
          "name": "stderr",
          "output_type": "stream",
          "text": [
            "WARNING:tensorflow:Early stopping conditioned on metric `val_loss` which is not available. Available metrics are: sparse_categorical_accuracy,student_loss,distillation_loss,val_sparse_categorical_accuracy,val_student_loss,lr\n"
          ]
        },
        {
          "name": "stdout",
          "output_type": "stream",
          "text": [
            "6/6 [==============================] - 0s 7ms/step - sparse_categorical_accuracy: 0.8750 - student_loss: 0.4193 - distillation_loss: 1.7783e-04 - val_sparse_categorical_accuracy: 0.8030 - val_student_loss: 0.4688 - lr: 3.4868e-04\n",
            "Epoch 21/300\n",
            "1/6 [====>.........................] - ETA: 0s - sparse_categorical_accuracy: 0.7800 - student_loss: 0.5079 - distillation_loss: 2.2562e-04WARNING:tensorflow:Early stopping conditioned on metric `val_loss` which is not available. Available metrics are: sparse_categorical_accuracy,student_loss,distillation_loss,val_sparse_categorical_accuracy,val_student_loss,lr\n"
          ]
        },
        {
          "name": "stderr",
          "output_type": "stream",
          "text": [
            "WARNING:tensorflow:Early stopping conditioned on metric `val_loss` which is not available. Available metrics are: sparse_categorical_accuracy,student_loss,distillation_loss,val_sparse_categorical_accuracy,val_student_loss,lr\n"
          ]
        },
        {
          "name": "stdout",
          "output_type": "stream",
          "text": [
            "6/6 [==============================] - 0s 10ms/step - sparse_categorical_accuracy: 0.8712 - student_loss: 0.5150 - distillation_loss: 1.9050e-04 - val_sparse_categorical_accuracy: 0.8030 - val_student_loss: 0.4669 - lr: 3.1381e-04\n",
            "Epoch 22/300\n",
            "1/6 [====>.........................] - ETA: 0s - sparse_categorical_accuracy: 0.9200 - student_loss: 0.3445 - distillation_loss: 1.4836e-04WARNING:tensorflow:Early stopping conditioned on metric `val_loss` which is not available. Available metrics are: sparse_categorical_accuracy,student_loss,distillation_loss,val_sparse_categorical_accuracy,val_student_loss,lr\n"
          ]
        },
        {
          "name": "stderr",
          "output_type": "stream",
          "text": [
            "WARNING:tensorflow:Early stopping conditioned on metric `val_loss` which is not available. Available metrics are: sparse_categorical_accuracy,student_loss,distillation_loss,val_sparse_categorical_accuracy,val_student_loss,lr\n"
          ]
        },
        {
          "name": "stdout",
          "output_type": "stream",
          "text": [
            "6/6 [==============================] - 0s 6ms/step - sparse_categorical_accuracy: 0.8864 - student_loss: 0.4061 - distillation_loss: 1.6235e-04 - val_sparse_categorical_accuracy: 0.8030 - val_student_loss: 0.4591 - lr: 2.8243e-04\n",
            "Epoch 23/300\n",
            "1/6 [====>.........................] - ETA: 0s - sparse_categorical_accuracy: 0.8000 - student_loss: 0.4543 - distillation_loss: 1.9533e-04WARNING:tensorflow:Early stopping conditioned on metric `val_loss` which is not available. Available metrics are: sparse_categorical_accuracy,student_loss,distillation_loss,val_sparse_categorical_accuracy,val_student_loss,lr\n"
          ]
        },
        {
          "name": "stderr",
          "output_type": "stream",
          "text": [
            "WARNING:tensorflow:Early stopping conditioned on metric `val_loss` which is not available. Available metrics are: sparse_categorical_accuracy,student_loss,distillation_loss,val_sparse_categorical_accuracy,val_student_loss,lr\n"
          ]
        },
        {
          "name": "stdout",
          "output_type": "stream",
          "text": [
            "6/6 [==============================] - 0s 7ms/step - sparse_categorical_accuracy: 0.8864 - student_loss: 0.4112 - distillation_loss: 1.5391e-04 - val_sparse_categorical_accuracy: 0.8182 - val_student_loss: 0.4539 - lr: 2.5419e-04\n",
            "Epoch 24/300\n",
            "1/6 [====>.........................] - ETA: 0s - sparse_categorical_accuracy: 0.8800 - student_loss: 0.4461 - distillation_loss: 1.4231e-04WARNING:tensorflow:Early stopping conditioned on metric `val_loss` which is not available. Available metrics are: sparse_categorical_accuracy,student_loss,distillation_loss,val_sparse_categorical_accuracy,val_student_loss,lr\n"
          ]
        },
        {
          "name": "stderr",
          "output_type": "stream",
          "text": [
            "WARNING:tensorflow:Early stopping conditioned on metric `val_loss` which is not available. Available metrics are: sparse_categorical_accuracy,student_loss,distillation_loss,val_sparse_categorical_accuracy,val_student_loss,lr\n"
          ]
        },
        {
          "name": "stdout",
          "output_type": "stream",
          "text": [
            "6/6 [==============================] - 0s 6ms/step - sparse_categorical_accuracy: 0.8788 - student_loss: 0.4170 - distillation_loss: 1.4525e-04 - val_sparse_categorical_accuracy: 0.8182 - val_student_loss: 0.4526 - lr: 2.2877e-04\n",
            "Epoch 25/300\n",
            "1/6 [====>.........................] - ETA: 0s - sparse_categorical_accuracy: 0.8600 - student_loss: 0.4777 - distillation_loss: 1.9195e-04WARNING:tensorflow:Early stopping conditioned on metric `val_loss` which is not available. Available metrics are: sparse_categorical_accuracy,student_loss,distillation_loss,val_sparse_categorical_accuracy,val_student_loss,lr\n"
          ]
        },
        {
          "name": "stderr",
          "output_type": "stream",
          "text": [
            "WARNING:tensorflow:Early stopping conditioned on metric `val_loss` which is not available. Available metrics are: sparse_categorical_accuracy,student_loss,distillation_loss,val_sparse_categorical_accuracy,val_student_loss,lr\n"
          ]
        },
        {
          "name": "stdout",
          "output_type": "stream",
          "text": [
            "6/6 [==============================] - 0s 6ms/step - sparse_categorical_accuracy: 0.8864 - student_loss: 0.3922 - distillation_loss: 1.4820e-04 - val_sparse_categorical_accuracy: 0.8030 - val_student_loss: 0.4507 - lr: 2.0589e-04\n",
            "Epoch 26/300\n",
            "1/6 [====>.........................] - ETA: 0s - sparse_categorical_accuracy: 0.8400 - student_loss: 0.4257 - distillation_loss: 1.4517e-04WARNING:tensorflow:Early stopping conditioned on metric `val_loss` which is not available. Available metrics are: sparse_categorical_accuracy,student_loss,distillation_loss,val_sparse_categorical_accuracy,val_student_loss,lr\n"
          ]
        },
        {
          "name": "stderr",
          "output_type": "stream",
          "text": [
            "WARNING:tensorflow:Early stopping conditioned on metric `val_loss` which is not available. Available metrics are: sparse_categorical_accuracy,student_loss,distillation_loss,val_sparse_categorical_accuracy,val_student_loss,lr\n"
          ]
        },
        {
          "name": "stdout",
          "output_type": "stream",
          "text": [
            "6/6 [==============================] - 0s 7ms/step - sparse_categorical_accuracy: 0.8826 - student_loss: 0.5063 - distillation_loss: 1.6138e-04 - val_sparse_categorical_accuracy: 0.8182 - val_student_loss: 0.4407 - lr: 1.8530e-04\n",
            "Epoch 27/300\n",
            "1/6 [====>.........................] - ETA: 0s - sparse_categorical_accuracy: 0.8800 - student_loss: 0.4254 - distillation_loss: 1.6000e-04WARNING:tensorflow:Early stopping conditioned on metric `val_loss` which is not available. Available metrics are: sparse_categorical_accuracy,student_loss,distillation_loss,val_sparse_categorical_accuracy,val_student_loss,lr\n"
          ]
        },
        {
          "name": "stderr",
          "output_type": "stream",
          "text": [
            "WARNING:tensorflow:Early stopping conditioned on metric `val_loss` which is not available. Available metrics are: sparse_categorical_accuracy,student_loss,distillation_loss,val_sparse_categorical_accuracy,val_student_loss,lr\n"
          ]
        },
        {
          "name": "stdout",
          "output_type": "stream",
          "text": [
            "6/6 [==============================] - 0s 7ms/step - sparse_categorical_accuracy: 0.8977 - student_loss: 0.4482 - distillation_loss: 1.4463e-04 - val_sparse_categorical_accuracy: 0.8182 - val_student_loss: 0.4351 - lr: 1.6677e-04\n",
            "Epoch 28/300\n",
            "1/6 [====>.........................] - ETA: 0s - sparse_categorical_accuracy: 0.8800 - student_loss: 0.4119 - distillation_loss: 2.0738e-04WARNING:tensorflow:Early stopping conditioned on metric `val_loss` which is not available. Available metrics are: sparse_categorical_accuracy,student_loss,distillation_loss,val_sparse_categorical_accuracy,val_student_loss,lr\n"
          ]
        },
        {
          "name": "stderr",
          "output_type": "stream",
          "text": [
            "WARNING:tensorflow:Early stopping conditioned on metric `val_loss` which is not available. Available metrics are: sparse_categorical_accuracy,student_loss,distillation_loss,val_sparse_categorical_accuracy,val_student_loss,lr\n"
          ]
        },
        {
          "name": "stdout",
          "output_type": "stream",
          "text": [
            "6/6 [==============================] - 0s 7ms/step - sparse_categorical_accuracy: 0.8902 - student_loss: 0.3623 - distillation_loss: 1.3582e-04 - val_sparse_categorical_accuracy: 0.8333 - val_student_loss: 0.4321 - lr: 1.5009e-04\n",
            "Epoch 29/300\n",
            "1/6 [====>.........................] - ETA: 0s - sparse_categorical_accuracy: 0.8800 - student_loss: 0.4002 - distillation_loss: 1.4125e-04WARNING:tensorflow:Early stopping conditioned on metric `val_loss` which is not available. Available metrics are: sparse_categorical_accuracy,student_loss,distillation_loss,val_sparse_categorical_accuracy,val_student_loss,lr\n"
          ]
        },
        {
          "name": "stderr",
          "output_type": "stream",
          "text": [
            "WARNING:tensorflow:Early stopping conditioned on metric `val_loss` which is not available. Available metrics are: sparse_categorical_accuracy,student_loss,distillation_loss,val_sparse_categorical_accuracy,val_student_loss,lr\n"
          ]
        },
        {
          "name": "stdout",
          "output_type": "stream",
          "text": [
            "6/6 [==============================] - 0s 8ms/step - sparse_categorical_accuracy: 0.8939 - student_loss: 0.3920 - distillation_loss: 1.3587e-04 - val_sparse_categorical_accuracy: 0.8333 - val_student_loss: 0.4303 - lr: 1.3509e-04\n",
            "Epoch 30/300\n",
            "1/6 [====>.........................] - ETA: 0s - sparse_categorical_accuracy: 0.9000 - student_loss: 0.4526 - distillation_loss: 1.8673e-04WARNING:tensorflow:Early stopping conditioned on metric `val_loss` which is not available. Available metrics are: sparse_categorical_accuracy,student_loss,distillation_loss,val_sparse_categorical_accuracy,val_student_loss,lr\n"
          ]
        },
        {
          "name": "stderr",
          "output_type": "stream",
          "text": [
            "WARNING:tensorflow:Early stopping conditioned on metric `val_loss` which is not available. Available metrics are: sparse_categorical_accuracy,student_loss,distillation_loss,val_sparse_categorical_accuracy,val_student_loss,lr\n"
          ]
        },
        {
          "name": "stdout",
          "output_type": "stream",
          "text": [
            "6/6 [==============================] - 0s 7ms/step - sparse_categorical_accuracy: 0.8939 - student_loss: 0.4147 - distillation_loss: 1.5342e-04 - val_sparse_categorical_accuracy: 0.8333 - val_student_loss: 0.4279 - lr: 1.2158e-04\n",
            "Epoch 31/300\n",
            "1/6 [====>.........................] - ETA: 0s - sparse_categorical_accuracy: 0.9200 - student_loss: 0.3578 - distillation_loss: 9.3708e-05WARNING:tensorflow:Early stopping conditioned on metric `val_loss` which is not available. Available metrics are: sparse_categorical_accuracy,student_loss,distillation_loss,val_sparse_categorical_accuracy,val_student_loss,lr\n"
          ]
        },
        {
          "name": "stderr",
          "output_type": "stream",
          "text": [
            "WARNING:tensorflow:Early stopping conditioned on metric `val_loss` which is not available. Available metrics are: sparse_categorical_accuracy,student_loss,distillation_loss,val_sparse_categorical_accuracy,val_student_loss,lr\n"
          ]
        },
        {
          "name": "stdout",
          "output_type": "stream",
          "text": [
            "6/6 [==============================] - 0s 6ms/step - sparse_categorical_accuracy: 0.8902 - student_loss: 0.3723 - distillation_loss: 1.3803e-04 - val_sparse_categorical_accuracy: 0.8182 - val_student_loss: 0.4239 - lr: 1.0942e-04\n",
            "Epoch 32/300\n",
            "1/6 [====>.........................] - ETA: 0s - sparse_categorical_accuracy: 0.8800 - student_loss: 0.4026 - distillation_loss: 1.3978e-04WARNING:tensorflow:Early stopping conditioned on metric `val_loss` which is not available. Available metrics are: sparse_categorical_accuracy,student_loss,distillation_loss,val_sparse_categorical_accuracy,val_student_loss,lr\n"
          ]
        },
        {
          "name": "stderr",
          "output_type": "stream",
          "text": [
            "WARNING:tensorflow:Early stopping conditioned on metric `val_loss` which is not available. Available metrics are: sparse_categorical_accuracy,student_loss,distillation_loss,val_sparse_categorical_accuracy,val_student_loss,lr\n"
          ]
        },
        {
          "name": "stdout",
          "output_type": "stream",
          "text": [
            "6/6 [==============================] - 0s 6ms/step - sparse_categorical_accuracy: 0.8902 - student_loss: 0.3863 - distillation_loss: 1.5232e-04 - val_sparse_categorical_accuracy: 0.8182 - val_student_loss: 0.4272 - lr: 9.8477e-05\n",
            "Epoch 33/300\n",
            "1/6 [====>.........................] - ETA: 0s - sparse_categorical_accuracy: 0.9400 - student_loss: 0.3654 - distillation_loss: 9.0554e-05WARNING:tensorflow:Early stopping conditioned on metric `val_loss` which is not available. Available metrics are: sparse_categorical_accuracy,student_loss,distillation_loss,val_sparse_categorical_accuracy,val_student_loss,lr\n"
          ]
        },
        {
          "name": "stderr",
          "output_type": "stream",
          "text": [
            "WARNING:tensorflow:Early stopping conditioned on metric `val_loss` which is not available. Available metrics are: sparse_categorical_accuracy,student_loss,distillation_loss,val_sparse_categorical_accuracy,val_student_loss,lr\n"
          ]
        },
        {
          "name": "stdout",
          "output_type": "stream",
          "text": [
            "6/6 [==============================] - 0s 14ms/step - sparse_categorical_accuracy: 0.8864 - student_loss: 0.3771 - distillation_loss: 1.3321e-04 - val_sparse_categorical_accuracy: 0.8182 - val_student_loss: 0.4258 - lr: 8.8629e-05\n",
            "Epoch 34/300\n",
            "1/6 [====>.........................] - ETA: 0s - sparse_categorical_accuracy: 0.8400 - student_loss: 0.4353 - distillation_loss: 1.4791e-04WARNING:tensorflow:Early stopping conditioned on metric `val_loss` which is not available. Available metrics are: sparse_categorical_accuracy,student_loss,distillation_loss,val_sparse_categorical_accuracy,val_student_loss,lr\n"
          ]
        },
        {
          "name": "stderr",
          "output_type": "stream",
          "text": [
            "WARNING:tensorflow:Early stopping conditioned on metric `val_loss` which is not available. Available metrics are: sparse_categorical_accuracy,student_loss,distillation_loss,val_sparse_categorical_accuracy,val_student_loss,lr\n"
          ]
        },
        {
          "name": "stdout",
          "output_type": "stream",
          "text": [
            "6/6 [==============================] - 0s 7ms/step - sparse_categorical_accuracy: 0.8826 - student_loss: 0.3968 - distillation_loss: 1.4613e-04 - val_sparse_categorical_accuracy: 0.8333 - val_student_loss: 0.4255 - lr: 7.9766e-05\n",
            "Epoch 35/300\n",
            "1/6 [====>.........................] - ETA: 0s - sparse_categorical_accuracy: 0.9200 - student_loss: 0.3268 - distillation_loss: 1.1849e-04WARNING:tensorflow:Early stopping conditioned on metric `val_loss` which is not available. Available metrics are: sparse_categorical_accuracy,student_loss,distillation_loss,val_sparse_categorical_accuracy,val_student_loss,lr\n"
          ]
        },
        {
          "name": "stderr",
          "output_type": "stream",
          "text": [
            "WARNING:tensorflow:Early stopping conditioned on metric `val_loss` which is not available. Available metrics are: sparse_categorical_accuracy,student_loss,distillation_loss,val_sparse_categorical_accuracy,val_student_loss,lr\n"
          ]
        },
        {
          "name": "stdout",
          "output_type": "stream",
          "text": [
            "6/6 [==============================] - 0s 6ms/step - sparse_categorical_accuracy: 0.8826 - student_loss: 0.3889 - distillation_loss: 1.3261e-04 - val_sparse_categorical_accuracy: 0.8182 - val_student_loss: 0.4222 - lr: 7.1790e-05\n",
            "Epoch 36/300\n",
            "1/6 [====>.........................] - ETA: 0s - sparse_categorical_accuracy: 0.9000 - student_loss: 0.3371 - distillation_loss: 1.1595e-04WARNING:tensorflow:Early stopping conditioned on metric `val_loss` which is not available. Available metrics are: sparse_categorical_accuracy,student_loss,distillation_loss,val_sparse_categorical_accuracy,val_student_loss,lr\n"
          ]
        },
        {
          "name": "stderr",
          "output_type": "stream",
          "text": [
            "WARNING:tensorflow:Early stopping conditioned on metric `val_loss` which is not available. Available metrics are: sparse_categorical_accuracy,student_loss,distillation_loss,val_sparse_categorical_accuracy,val_student_loss,lr\n"
          ]
        },
        {
          "name": "stdout",
          "output_type": "stream",
          "text": [
            "6/6 [==============================] - 0s 7ms/step - sparse_categorical_accuracy: 0.8864 - student_loss: 0.3742 - distillation_loss: 1.3597e-04 - val_sparse_categorical_accuracy: 0.8182 - val_student_loss: 0.4234 - lr: 6.4611e-05\n",
            "Epoch 37/300\n",
            "1/6 [====>.........................] - ETA: 0s - sparse_categorical_accuracy: 0.8600 - student_loss: 0.3760 - distillation_loss: 1.1004e-04WARNING:tensorflow:Early stopping conditioned on metric `val_loss` which is not available. Available metrics are: sparse_categorical_accuracy,student_loss,distillation_loss,val_sparse_categorical_accuracy,val_student_loss,lr\n"
          ]
        },
        {
          "name": "stderr",
          "output_type": "stream",
          "text": [
            "WARNING:tensorflow:Early stopping conditioned on metric `val_loss` which is not available. Available metrics are: sparse_categorical_accuracy,student_loss,distillation_loss,val_sparse_categorical_accuracy,val_student_loss,lr\n"
          ]
        },
        {
          "name": "stdout",
          "output_type": "stream",
          "text": [
            "6/6 [==============================] - 0s 6ms/step - sparse_categorical_accuracy: 0.8864 - student_loss: 0.3741 - distillation_loss: 1.1127e-04 - val_sparse_categorical_accuracy: 0.8182 - val_student_loss: 0.4200 - lr: 5.8150e-05\n",
            "Epoch 38/300\n",
            "1/6 [====>.........................] - ETA: 0s - sparse_categorical_accuracy: 0.9600 - student_loss: 0.2808 - distillation_loss: 8.0570e-05WARNING:tensorflow:Early stopping conditioned on metric `val_loss` which is not available. Available metrics are: sparse_categorical_accuracy,student_loss,distillation_loss,val_sparse_categorical_accuracy,val_student_loss,lr\n"
          ]
        },
        {
          "name": "stderr",
          "output_type": "stream",
          "text": [
            "WARNING:tensorflow:Early stopping conditioned on metric `val_loss` which is not available. Available metrics are: sparse_categorical_accuracy,student_loss,distillation_loss,val_sparse_categorical_accuracy,val_student_loss,lr\n"
          ]
        },
        {
          "name": "stdout",
          "output_type": "stream",
          "text": [
            "6/6 [==============================] - 0s 7ms/step - sparse_categorical_accuracy: 0.8864 - student_loss: 0.3823 - distillation_loss: 1.3587e-04 - val_sparse_categorical_accuracy: 0.8182 - val_student_loss: 0.4203 - lr: 5.2335e-05\n",
            "Epoch 39/300\n",
            "1/6 [====>.........................] - ETA: 0s - sparse_categorical_accuracy: 0.8600 - student_loss: 0.4326 - distillation_loss: 1.2693e-04WARNING:tensorflow:Early stopping conditioned on metric `val_loss` which is not available. Available metrics are: sparse_categorical_accuracy,student_loss,distillation_loss,val_sparse_categorical_accuracy,val_student_loss,lr\n"
          ]
        },
        {
          "name": "stderr",
          "output_type": "stream",
          "text": [
            "WARNING:tensorflow:Early stopping conditioned on metric `val_loss` which is not available. Available metrics are: sparse_categorical_accuracy,student_loss,distillation_loss,val_sparse_categorical_accuracy,val_student_loss,lr\n"
          ]
        },
        {
          "name": "stdout",
          "output_type": "stream",
          "text": [
            "6/6 [==============================] - 0s 7ms/step - sparse_categorical_accuracy: 0.8902 - student_loss: 0.3492 - distillation_loss: 1.2622e-04 - val_sparse_categorical_accuracy: 0.8333 - val_student_loss: 0.4191 - lr: 4.7101e-05\n",
            "Epoch 40/300\n",
            "1/6 [====>.........................] - ETA: 0s - sparse_categorical_accuracy: 0.8800 - student_loss: 0.4024 - distillation_loss: 1.2137e-04WARNING:tensorflow:Early stopping conditioned on metric `val_loss` which is not available. Available metrics are: sparse_categorical_accuracy,student_loss,distillation_loss,val_sparse_categorical_accuracy,val_student_loss,lr\n"
          ]
        },
        {
          "name": "stderr",
          "output_type": "stream",
          "text": [
            "WARNING:tensorflow:Early stopping conditioned on metric `val_loss` which is not available. Available metrics are: sparse_categorical_accuracy,student_loss,distillation_loss,val_sparse_categorical_accuracy,val_student_loss,lr\n"
          ]
        },
        {
          "name": "stdout",
          "output_type": "stream",
          "text": [
            "6/6 [==============================] - 0s 6ms/step - sparse_categorical_accuracy: 0.8902 - student_loss: 0.3363 - distillation_loss: 1.0812e-04 - val_sparse_categorical_accuracy: 0.8333 - val_student_loss: 0.4160 - lr: 4.2391e-05\n",
            "Epoch 41/300\n",
            "1/6 [====>.........................] - ETA: 0s - sparse_categorical_accuracy: 0.8600 - student_loss: 0.3913 - distillation_loss: 1.7114e-04WARNING:tensorflow:Early stopping conditioned on metric `val_loss` which is not available. Available metrics are: sparse_categorical_accuracy,student_loss,distillation_loss,val_sparse_categorical_accuracy,val_student_loss,lr\n"
          ]
        },
        {
          "name": "stderr",
          "output_type": "stream",
          "text": [
            "WARNING:tensorflow:Early stopping conditioned on metric `val_loss` which is not available. Available metrics are: sparse_categorical_accuracy,student_loss,distillation_loss,val_sparse_categorical_accuracy,val_student_loss,lr\n"
          ]
        },
        {
          "name": "stdout",
          "output_type": "stream",
          "text": [
            "6/6 [==============================] - 0s 6ms/step - sparse_categorical_accuracy: 0.8902 - student_loss: 0.3775 - distillation_loss: 1.1158e-04 - val_sparse_categorical_accuracy: 0.8333 - val_student_loss: 0.4156 - lr: 3.8152e-05\n",
            "Epoch 42/300\n",
            "1/6 [====>.........................] - ETA: 0s - sparse_categorical_accuracy: 0.9000 - student_loss: 0.3680 - distillation_loss: 1.2224e-04WARNING:tensorflow:Early stopping conditioned on metric `val_loss` which is not available. Available metrics are: sparse_categorical_accuracy,student_loss,distillation_loss,val_sparse_categorical_accuracy,val_student_loss,lr\n"
          ]
        },
        {
          "name": "stderr",
          "output_type": "stream",
          "text": [
            "WARNING:tensorflow:Early stopping conditioned on metric `val_loss` which is not available. Available metrics are: sparse_categorical_accuracy,student_loss,distillation_loss,val_sparse_categorical_accuracy,val_student_loss,lr\n"
          ]
        },
        {
          "name": "stdout",
          "output_type": "stream",
          "text": [
            "6/6 [==============================] - 0s 6ms/step - sparse_categorical_accuracy: 0.8977 - student_loss: 0.3893 - distillation_loss: 1.1250e-04 - val_sparse_categorical_accuracy: 0.8333 - val_student_loss: 0.4111 - lr: 3.4337e-05\n",
            "Epoch 43/300\n",
            "1/6 [====>.........................] - ETA: 0s - sparse_categorical_accuracy: 0.8200 - student_loss: 0.4292 - distillation_loss: 1.1513e-04WARNING:tensorflow:Early stopping conditioned on metric `val_loss` which is not available. Available metrics are: sparse_categorical_accuracy,student_loss,distillation_loss,val_sparse_categorical_accuracy,val_student_loss,lr\n"
          ]
        },
        {
          "name": "stderr",
          "output_type": "stream",
          "text": [
            "WARNING:tensorflow:Early stopping conditioned on metric `val_loss` which is not available. Available metrics are: sparse_categorical_accuracy,student_loss,distillation_loss,val_sparse_categorical_accuracy,val_student_loss,lr\n"
          ]
        },
        {
          "name": "stdout",
          "output_type": "stream",
          "text": [
            "6/6 [==============================] - 0s 6ms/step - sparse_categorical_accuracy: 0.9015 - student_loss: 0.3359 - distillation_loss: 1.1643e-04 - val_sparse_categorical_accuracy: 0.8333 - val_student_loss: 0.4112 - lr: 3.0903e-05\n",
            "Epoch 44/300\n",
            "1/6 [====>.........................] - ETA: 0s - sparse_categorical_accuracy: 0.9400 - student_loss: 0.3476 - distillation_loss: 1.2722e-04WARNING:tensorflow:Early stopping conditioned on metric `val_loss` which is not available. Available metrics are: sparse_categorical_accuracy,student_loss,distillation_loss,val_sparse_categorical_accuracy,val_student_loss,lr\n"
          ]
        },
        {
          "name": "stderr",
          "output_type": "stream",
          "text": [
            "WARNING:tensorflow:Early stopping conditioned on metric `val_loss` which is not available. Available metrics are: sparse_categorical_accuracy,student_loss,distillation_loss,val_sparse_categorical_accuracy,val_student_loss,lr\n"
          ]
        },
        {
          "name": "stdout",
          "output_type": "stream",
          "text": [
            "6/6 [==============================] - 0s 6ms/step - sparse_categorical_accuracy: 0.8939 - student_loss: 0.4229 - distillation_loss: 1.3930e-04 - val_sparse_categorical_accuracy: 0.8182 - val_student_loss: 0.4082 - lr: 2.7813e-05\n",
            "Epoch 45/300\n",
            "1/6 [====>.........................] - ETA: 0s - sparse_categorical_accuracy: 0.8200 - student_loss: 0.4774 - distillation_loss: 1.3931e-04WARNING:tensorflow:Early stopping conditioned on metric `val_loss` which is not available. Available metrics are: sparse_categorical_accuracy,student_loss,distillation_loss,val_sparse_categorical_accuracy,val_student_loss,lr\n"
          ]
        },
        {
          "name": "stderr",
          "output_type": "stream",
          "text": [
            "WARNING:tensorflow:Early stopping conditioned on metric `val_loss` which is not available. Available metrics are: sparse_categorical_accuracy,student_loss,distillation_loss,val_sparse_categorical_accuracy,val_student_loss,lr\n"
          ]
        },
        {
          "name": "stdout",
          "output_type": "stream",
          "text": [
            "6/6 [==============================] - 0s 6ms/step - sparse_categorical_accuracy: 0.8939 - student_loss: 0.3232 - distillation_loss: 1.0552e-04 - val_sparse_categorical_accuracy: 0.8333 - val_student_loss: 0.4057 - lr: 2.5032e-05\n",
            "Epoch 46/300\n",
            "1/6 [====>.........................] - ETA: 0s - sparse_categorical_accuracy: 0.9000 - student_loss: 0.3465 - distillation_loss: 1.1322e-04WARNING:tensorflow:Early stopping conditioned on metric `val_loss` which is not available. Available metrics are: sparse_categorical_accuracy,student_loss,distillation_loss,val_sparse_categorical_accuracy,val_student_loss,lr\n"
          ]
        },
        {
          "name": "stderr",
          "output_type": "stream",
          "text": [
            "WARNING:tensorflow:Early stopping conditioned on metric `val_loss` which is not available. Available metrics are: sparse_categorical_accuracy,student_loss,distillation_loss,val_sparse_categorical_accuracy,val_student_loss,lr\n"
          ]
        },
        {
          "name": "stdout",
          "output_type": "stream",
          "text": [
            "6/6 [==============================] - 0s 7ms/step - sparse_categorical_accuracy: 0.8939 - student_loss: 0.3509 - distillation_loss: 1.1744e-04 - val_sparse_categorical_accuracy: 0.8333 - val_student_loss: 0.4057 - lr: 2.2528e-05\n",
            "Epoch 47/300\n",
            "1/6 [====>.........................] - ETA: 0s - sparse_categorical_accuracy: 0.8400 - student_loss: 0.4185 - distillation_loss: 1.3002e-04WARNING:tensorflow:Early stopping conditioned on metric `val_loss` which is not available. Available metrics are: sparse_categorical_accuracy,student_loss,distillation_loss,val_sparse_categorical_accuracy,val_student_loss,lr\n"
          ]
        },
        {
          "name": "stderr",
          "output_type": "stream",
          "text": [
            "WARNING:tensorflow:Early stopping conditioned on metric `val_loss` which is not available. Available metrics are: sparse_categorical_accuracy,student_loss,distillation_loss,val_sparse_categorical_accuracy,val_student_loss,lr\n"
          ]
        },
        {
          "name": "stdout",
          "output_type": "stream",
          "text": [
            "6/6 [==============================] - 0s 7ms/step - sparse_categorical_accuracy: 0.8939 - student_loss: 0.3395 - distillation_loss: 1.1676e-04 - val_sparse_categorical_accuracy: 0.8182 - val_student_loss: 0.4073 - lr: 2.0276e-05\n",
            "Epoch 48/300\n",
            "1/6 [====>.........................] - ETA: 0s - sparse_categorical_accuracy: 0.9200 - student_loss: 0.3096 - distillation_loss: 1.2407e-04WARNING:tensorflow:Early stopping conditioned on metric `val_loss` which is not available. Available metrics are: sparse_categorical_accuracy,student_loss,distillation_loss,val_sparse_categorical_accuracy,val_student_loss,lr\n"
          ]
        },
        {
          "name": "stderr",
          "output_type": "stream",
          "text": [
            "WARNING:tensorflow:Early stopping conditioned on metric `val_loss` which is not available. Available metrics are: sparse_categorical_accuracy,student_loss,distillation_loss,val_sparse_categorical_accuracy,val_student_loss,lr\n"
          ]
        },
        {
          "name": "stdout",
          "output_type": "stream",
          "text": [
            "6/6 [==============================] - 0s 7ms/step - sparse_categorical_accuracy: 0.8902 - student_loss: 0.3685 - distillation_loss: 1.1434e-04 - val_sparse_categorical_accuracy: 0.8182 - val_student_loss: 0.4090 - lr: 1.8248e-05\n",
            "Epoch 49/300\n",
            "1/6 [====>.........................] - ETA: 0s - sparse_categorical_accuracy: 0.9200 - student_loss: 0.3920 - distillation_loss: 9.7021e-05WARNING:tensorflow:Early stopping conditioned on metric `val_loss` which is not available. Available metrics are: sparse_categorical_accuracy,student_loss,distillation_loss,val_sparse_categorical_accuracy,val_student_loss,lr\n"
          ]
        },
        {
          "name": "stderr",
          "output_type": "stream",
          "text": [
            "WARNING:tensorflow:Early stopping conditioned on metric `val_loss` which is not available. Available metrics are: sparse_categorical_accuracy,student_loss,distillation_loss,val_sparse_categorical_accuracy,val_student_loss,lr\n"
          ]
        },
        {
          "name": "stdout",
          "output_type": "stream",
          "text": [
            "6/6 [==============================] - 0s 8ms/step - sparse_categorical_accuracy: 0.8864 - student_loss: 0.3665 - distillation_loss: 1.1393e-04 - val_sparse_categorical_accuracy: 0.8182 - val_student_loss: 0.4082 - lr: 1.6423e-05\n",
            "Epoch 50/300\n",
            "1/6 [====>.........................] - ETA: 0s - sparse_categorical_accuracy: 0.8600 - student_loss: 0.3888 - distillation_loss: 1.2997e-04WARNING:tensorflow:Early stopping conditioned on metric `val_loss` which is not available. Available metrics are: sparse_categorical_accuracy,student_loss,distillation_loss,val_sparse_categorical_accuracy,val_student_loss,lr\n"
          ]
        },
        {
          "name": "stderr",
          "output_type": "stream",
          "text": [
            "WARNING:tensorflow:Early stopping conditioned on metric `val_loss` which is not available. Available metrics are: sparse_categorical_accuracy,student_loss,distillation_loss,val_sparse_categorical_accuracy,val_student_loss,lr\n"
          ]
        },
        {
          "name": "stdout",
          "output_type": "stream",
          "text": [
            "6/6 [==============================] - 0s 6ms/step - sparse_categorical_accuracy: 0.8826 - student_loss: 0.3405 - distillation_loss: 1.1471e-04 - val_sparse_categorical_accuracy: 0.8182 - val_student_loss: 0.4073 - lr: 1.4781e-05\n",
            "Epoch 51/300\n",
            "1/6 [====>.........................] - ETA: 0s - sparse_categorical_accuracy: 0.8200 - student_loss: 0.3987 - distillation_loss: 1.1059e-04WARNING:tensorflow:Early stopping conditioned on metric `val_loss` which is not available. Available metrics are: sparse_categorical_accuracy,student_loss,distillation_loss,val_sparse_categorical_accuracy,val_student_loss,lr\n"
          ]
        },
        {
          "name": "stderr",
          "output_type": "stream",
          "text": [
            "WARNING:tensorflow:Early stopping conditioned on metric `val_loss` which is not available. Available metrics are: sparse_categorical_accuracy,student_loss,distillation_loss,val_sparse_categorical_accuracy,val_student_loss,lr\n"
          ]
        },
        {
          "name": "stdout",
          "output_type": "stream",
          "text": [
            "6/6 [==============================] - 0s 13ms/step - sparse_categorical_accuracy: 0.8864 - student_loss: 0.3919 - distillation_loss: 1.0651e-04 - val_sparse_categorical_accuracy: 0.8182 - val_student_loss: 0.4058 - lr: 1.3303e-05\n",
            "Epoch 52/300\n",
            "1/6 [====>.........................] - ETA: 0s - sparse_categorical_accuracy: 0.8400 - student_loss: 0.4228 - distillation_loss: 1.2450e-04WARNING:tensorflow:Early stopping conditioned on metric `val_loss` which is not available. Available metrics are: sparse_categorical_accuracy,student_loss,distillation_loss,val_sparse_categorical_accuracy,val_student_loss,lr\n"
          ]
        },
        {
          "name": "stderr",
          "output_type": "stream",
          "text": [
            "WARNING:tensorflow:Early stopping conditioned on metric `val_loss` which is not available. Available metrics are: sparse_categorical_accuracy,student_loss,distillation_loss,val_sparse_categorical_accuracy,val_student_loss,lr\n"
          ]
        },
        {
          "name": "stdout",
          "output_type": "stream",
          "text": [
            "6/6 [==============================] - 0s 6ms/step - sparse_categorical_accuracy: 0.8826 - student_loss: 0.3837 - distillation_loss: 1.2161e-04 - val_sparse_categorical_accuracy: 0.8182 - val_student_loss: 0.4057 - lr: 1.1973e-05\n",
            "Epoch 53/300\n",
            "1/6 [====>.........................] - ETA: 0s - sparse_categorical_accuracy: 0.8200 - student_loss: 0.4693 - distillation_loss: 1.0799e-04WARNING:tensorflow:Early stopping conditioned on metric `val_loss` which is not available. Available metrics are: sparse_categorical_accuracy,student_loss,distillation_loss,val_sparse_categorical_accuracy,val_student_loss,lr\n"
          ]
        },
        {
          "name": "stderr",
          "output_type": "stream",
          "text": [
            "WARNING:tensorflow:Early stopping conditioned on metric `val_loss` which is not available. Available metrics are: sparse_categorical_accuracy,student_loss,distillation_loss,val_sparse_categorical_accuracy,val_student_loss,lr\n"
          ]
        },
        {
          "name": "stdout",
          "output_type": "stream",
          "text": [
            "6/6 [==============================] - 0s 6ms/step - sparse_categorical_accuracy: 0.8826 - student_loss: 0.3672 - distillation_loss: 1.3957e-04 - val_sparse_categorical_accuracy: 0.8182 - val_student_loss: 0.4057 - lr: 1.0775e-05\n",
            "Epoch 54/300\n",
            "1/6 [====>.........................] - ETA: 0s - sparse_categorical_accuracy: 0.8800 - student_loss: 0.3647 - distillation_loss: 1.0068e-04WARNING:tensorflow:Early stopping conditioned on metric `val_loss` which is not available. Available metrics are: sparse_categorical_accuracy,student_loss,distillation_loss,val_sparse_categorical_accuracy,val_student_loss,lr\n"
          ]
        },
        {
          "name": "stderr",
          "output_type": "stream",
          "text": [
            "WARNING:tensorflow:Early stopping conditioned on metric `val_loss` which is not available. Available metrics are: sparse_categorical_accuracy,student_loss,distillation_loss,val_sparse_categorical_accuracy,val_student_loss,lr\n"
          ]
        },
        {
          "name": "stdout",
          "output_type": "stream",
          "text": [
            "6/6 [==============================] - 0s 6ms/step - sparse_categorical_accuracy: 0.8826 - student_loss: 0.3453 - distillation_loss: 1.1287e-04 - val_sparse_categorical_accuracy: 0.8182 - val_student_loss: 0.4057 - lr: 9.6977e-06\n",
            "Epoch 55/300\n",
            "1/6 [====>.........................] - ETA: 0s - sparse_categorical_accuracy: 0.9600 - student_loss: 0.3162 - distillation_loss: 1.1594e-04WARNING:tensorflow:Early stopping conditioned on metric `val_loss` which is not available. Available metrics are: sparse_categorical_accuracy,student_loss,distillation_loss,val_sparse_categorical_accuracy,val_student_loss,lr\n"
          ]
        },
        {
          "name": "stderr",
          "output_type": "stream",
          "text": [
            "WARNING:tensorflow:Early stopping conditioned on metric `val_loss` which is not available. Available metrics are: sparse_categorical_accuracy,student_loss,distillation_loss,val_sparse_categorical_accuracy,val_student_loss,lr\n"
          ]
        },
        {
          "name": "stdout",
          "output_type": "stream",
          "text": [
            "6/6 [==============================] - 0s 6ms/step - sparse_categorical_accuracy: 0.8826 - student_loss: 0.3654 - distillation_loss: 1.2224e-04 - val_sparse_categorical_accuracy: 0.8182 - val_student_loss: 0.4056 - lr: 8.7280e-06\n",
            "Epoch 56/300\n",
            "1/6 [====>.........................] - ETA: 0s - sparse_categorical_accuracy: 0.9200 - student_loss: 0.3024 - distillation_loss: 1.0570e-04WARNING:tensorflow:Early stopping conditioned on metric `val_loss` which is not available. Available metrics are: sparse_categorical_accuracy,student_loss,distillation_loss,val_sparse_categorical_accuracy,val_student_loss,lr\n"
          ]
        },
        {
          "name": "stderr",
          "output_type": "stream",
          "text": [
            "WARNING:tensorflow:Early stopping conditioned on metric `val_loss` which is not available. Available metrics are: sparse_categorical_accuracy,student_loss,distillation_loss,val_sparse_categorical_accuracy,val_student_loss,lr\n"
          ]
        },
        {
          "name": "stdout",
          "output_type": "stream",
          "text": [
            "6/6 [==============================] - 0s 6ms/step - sparse_categorical_accuracy: 0.8826 - student_loss: 0.3501 - distillation_loss: 1.0957e-04 - val_sparse_categorical_accuracy: 0.8182 - val_student_loss: 0.4065 - lr: 7.8552e-06\n",
            "Epoch 57/300\n",
            "1/6 [====>.........................] - ETA: 0s - sparse_categorical_accuracy: 0.9200 - student_loss: 0.2796 - distillation_loss: 1.0426e-04WARNING:tensorflow:Early stopping conditioned on metric `val_loss` which is not available. Available metrics are: sparse_categorical_accuracy,student_loss,distillation_loss,val_sparse_categorical_accuracy,val_student_loss,lr\n"
          ]
        },
        {
          "name": "stderr",
          "output_type": "stream",
          "text": [
            "WARNING:tensorflow:Early stopping conditioned on metric `val_loss` which is not available. Available metrics are: sparse_categorical_accuracy,student_loss,distillation_loss,val_sparse_categorical_accuracy,val_student_loss,lr\n"
          ]
        },
        {
          "name": "stdout",
          "output_type": "stream",
          "text": [
            "6/6 [==============================] - 0s 7ms/step - sparse_categorical_accuracy: 0.8864 - student_loss: 0.3426 - distillation_loss: 1.1792e-04 - val_sparse_categorical_accuracy: 0.8182 - val_student_loss: 0.4071 - lr: 7.0697e-06\n",
            "Epoch 58/300\n",
            "1/6 [====>.........................] - ETA: 0s - sparse_categorical_accuracy: 0.8800 - student_loss: 0.3348 - distillation_loss: 1.1210e-04WARNING:tensorflow:Early stopping conditioned on metric `val_loss` which is not available. Available metrics are: sparse_categorical_accuracy,student_loss,distillation_loss,val_sparse_categorical_accuracy,val_student_loss,lr\n"
          ]
        },
        {
          "name": "stderr",
          "output_type": "stream",
          "text": [
            "WARNING:tensorflow:Early stopping conditioned on metric `val_loss` which is not available. Available metrics are: sparse_categorical_accuracy,student_loss,distillation_loss,val_sparse_categorical_accuracy,val_student_loss,lr\n"
          ]
        },
        {
          "name": "stdout",
          "output_type": "stream",
          "text": [
            "6/6 [==============================] - 0s 7ms/step - sparse_categorical_accuracy: 0.8864 - student_loss: 0.3749 - distillation_loss: 1.3801e-04 - val_sparse_categorical_accuracy: 0.8182 - val_student_loss: 0.4071 - lr: 6.3627e-06\n",
            "Epoch 59/300\n",
            "1/6 [====>.........................] - ETA: 0s - sparse_categorical_accuracy: 0.9000 - student_loss: 0.3734 - distillation_loss: 1.4132e-04WARNING:tensorflow:Early stopping conditioned on metric `val_loss` which is not available. Available metrics are: sparse_categorical_accuracy,student_loss,distillation_loss,val_sparse_categorical_accuracy,val_student_loss,lr\n"
          ]
        },
        {
          "name": "stderr",
          "output_type": "stream",
          "text": [
            "WARNING:tensorflow:Early stopping conditioned on metric `val_loss` which is not available. Available metrics are: sparse_categorical_accuracy,student_loss,distillation_loss,val_sparse_categorical_accuracy,val_student_loss,lr\n"
          ]
        },
        {
          "name": "stdout",
          "output_type": "stream",
          "text": [
            "6/6 [==============================] - 0s 7ms/step - sparse_categorical_accuracy: 0.8864 - student_loss: 0.4092 - distillation_loss: 1.2955e-04 - val_sparse_categorical_accuracy: 0.8182 - val_student_loss: 0.4071 - lr: 5.7264e-06\n",
            "Epoch 60/300\n",
            "1/6 [====>.........................] - ETA: 0s - sparse_categorical_accuracy: 0.8200 - student_loss: 0.4462 - distillation_loss: 1.5283e-04WARNING:tensorflow:Early stopping conditioned on metric `val_loss` which is not available. Available metrics are: sparse_categorical_accuracy,student_loss,distillation_loss,val_sparse_categorical_accuracy,val_student_loss,lr\n"
          ]
        },
        {
          "name": "stderr",
          "output_type": "stream",
          "text": [
            "WARNING:tensorflow:Early stopping conditioned on metric `val_loss` which is not available. Available metrics are: sparse_categorical_accuracy,student_loss,distillation_loss,val_sparse_categorical_accuracy,val_student_loss,lr\n"
          ]
        },
        {
          "name": "stdout",
          "output_type": "stream",
          "text": [
            "6/6 [==============================] - 0s 7ms/step - sparse_categorical_accuracy: 0.8864 - student_loss: 0.3552 - distillation_loss: 1.1644e-04 - val_sparse_categorical_accuracy: 0.8182 - val_student_loss: 0.4071 - lr: 5.1538e-06\n",
            "Epoch 61/300\n",
            "1/6 [====>.........................] - ETA: 0s - sparse_categorical_accuracy: 0.8400 - student_loss: 0.3905 - distillation_loss: 1.2699e-04WARNING:tensorflow:Early stopping conditioned on metric `val_loss` which is not available. Available metrics are: sparse_categorical_accuracy,student_loss,distillation_loss,val_sparse_categorical_accuracy,val_student_loss,lr\n"
          ]
        },
        {
          "name": "stderr",
          "output_type": "stream",
          "text": [
            "WARNING:tensorflow:Early stopping conditioned on metric `val_loss` which is not available. Available metrics are: sparse_categorical_accuracy,student_loss,distillation_loss,val_sparse_categorical_accuracy,val_student_loss,lr\n"
          ]
        },
        {
          "name": "stdout",
          "output_type": "stream",
          "text": [
            "6/6 [==============================] - 0s 7ms/step - sparse_categorical_accuracy: 0.8864 - student_loss: 0.3481 - distillation_loss: 1.3656e-04 - val_sparse_categorical_accuracy: 0.8182 - val_student_loss: 0.4071 - lr: 4.6384e-06\n",
            "Epoch 62/300\n",
            "1/6 [====>.........................] - ETA: 0s - sparse_categorical_accuracy: 0.8600 - student_loss: 0.3772 - distillation_loss: 1.3419e-04WARNING:tensorflow:Early stopping conditioned on metric `val_loss` which is not available. Available metrics are: sparse_categorical_accuracy,student_loss,distillation_loss,val_sparse_categorical_accuracy,val_student_loss,lr\n"
          ]
        },
        {
          "name": "stderr",
          "output_type": "stream",
          "text": [
            "WARNING:tensorflow:Early stopping conditioned on metric `val_loss` which is not available. Available metrics are: sparse_categorical_accuracy,student_loss,distillation_loss,val_sparse_categorical_accuracy,val_student_loss,lr\n"
          ]
        },
        {
          "name": "stdout",
          "output_type": "stream",
          "text": [
            "6/6 [==============================] - 0s 6ms/step - sparse_categorical_accuracy: 0.8864 - student_loss: 0.3333 - distillation_loss: 1.1384e-04 - val_sparse_categorical_accuracy: 0.8182 - val_student_loss: 0.4071 - lr: 4.1746e-06\n",
            "Epoch 63/300\n",
            "1/6 [====>.........................] - ETA: 0s - sparse_categorical_accuracy: 0.8600 - student_loss: 0.4242 - distillation_loss: 1.5552e-04WARNING:tensorflow:Early stopping conditioned on metric `val_loss` which is not available. Available metrics are: sparse_categorical_accuracy,student_loss,distillation_loss,val_sparse_categorical_accuracy,val_student_loss,lr\n"
          ]
        },
        {
          "name": "stderr",
          "output_type": "stream",
          "text": [
            "WARNING:tensorflow:Early stopping conditioned on metric `val_loss` which is not available. Available metrics are: sparse_categorical_accuracy,student_loss,distillation_loss,val_sparse_categorical_accuracy,val_student_loss,lr\n"
          ]
        },
        {
          "name": "stdout",
          "output_type": "stream",
          "text": [
            "6/6 [==============================] - 0s 6ms/step - sparse_categorical_accuracy: 0.8864 - student_loss: 0.3474 - distillation_loss: 1.2453e-04 - val_sparse_categorical_accuracy: 0.8182 - val_student_loss: 0.4071 - lr: 3.7571e-06\n",
            "Epoch 64/300\n",
            "1/6 [====>.........................] - ETA: 0s - sparse_categorical_accuracy: 0.9200 - student_loss: 0.3766 - distillation_loss: 1.0648e-04WARNING:tensorflow:Early stopping conditioned on metric `val_loss` which is not available. Available metrics are: sparse_categorical_accuracy,student_loss,distillation_loss,val_sparse_categorical_accuracy,val_student_loss,lr\n"
          ]
        },
        {
          "name": "stderr",
          "output_type": "stream",
          "text": [
            "WARNING:tensorflow:Early stopping conditioned on metric `val_loss` which is not available. Available metrics are: sparse_categorical_accuracy,student_loss,distillation_loss,val_sparse_categorical_accuracy,val_student_loss,lr\n"
          ]
        },
        {
          "name": "stdout",
          "output_type": "stream",
          "text": [
            "6/6 [==============================] - 0s 6ms/step - sparse_categorical_accuracy: 0.8864 - student_loss: 0.3762 - distillation_loss: 1.4656e-04 - val_sparse_categorical_accuracy: 0.8182 - val_student_loss: 0.4071 - lr: 3.3814e-06\n",
            "Epoch 65/300\n",
            "1/6 [====>.........................] - ETA: 0s - sparse_categorical_accuracy: 0.8600 - student_loss: 0.4199 - distillation_loss: 1.3177e-04WARNING:tensorflow:Early stopping conditioned on metric `val_loss` which is not available. Available metrics are: sparse_categorical_accuracy,student_loss,distillation_loss,val_sparse_categorical_accuracy,val_student_loss,lr\n"
          ]
        },
        {
          "name": "stderr",
          "output_type": "stream",
          "text": [
            "WARNING:tensorflow:Early stopping conditioned on metric `val_loss` which is not available. Available metrics are: sparse_categorical_accuracy,student_loss,distillation_loss,val_sparse_categorical_accuracy,val_student_loss,lr\n"
          ]
        },
        {
          "name": "stdout",
          "output_type": "stream",
          "text": [
            "6/6 [==============================] - 0s 7ms/step - sparse_categorical_accuracy: 0.8864 - student_loss: 0.3907 - distillation_loss: 1.1246e-04 - val_sparse_categorical_accuracy: 0.8182 - val_student_loss: 0.4077 - lr: 3.0433e-06\n",
            "Epoch 66/300\n",
            "1/6 [====>.........................] - ETA: 0s - sparse_categorical_accuracy: 0.9200 - student_loss: 0.3533 - distillation_loss: 1.4767e-04WARNING:tensorflow:Early stopping conditioned on metric `val_loss` which is not available. Available metrics are: sparse_categorical_accuracy,student_loss,distillation_loss,val_sparse_categorical_accuracy,val_student_loss,lr\n"
          ]
        },
        {
          "name": "stderr",
          "output_type": "stream",
          "text": [
            "WARNING:tensorflow:Early stopping conditioned on metric `val_loss` which is not available. Available metrics are: sparse_categorical_accuracy,student_loss,distillation_loss,val_sparse_categorical_accuracy,val_student_loss,lr\n"
          ]
        },
        {
          "name": "stdout",
          "output_type": "stream",
          "text": [
            "6/6 [==============================] - 0s 6ms/step - sparse_categorical_accuracy: 0.8902 - student_loss: 0.3385 - distillation_loss: 1.1467e-04 - val_sparse_categorical_accuracy: 0.8182 - val_student_loss: 0.4068 - lr: 2.7389e-06\n",
            "Epoch 67/300\n",
            "1/6 [====>.........................] - ETA: 0s - sparse_categorical_accuracy: 0.9600 - student_loss: 0.2715 - distillation_loss: 9.2690e-05WARNING:tensorflow:Early stopping conditioned on metric `val_loss` which is not available. Available metrics are: sparse_categorical_accuracy,student_loss,distillation_loss,val_sparse_categorical_accuracy,val_student_loss,lr\n"
          ]
        },
        {
          "name": "stderr",
          "output_type": "stream",
          "text": [
            "WARNING:tensorflow:Early stopping conditioned on metric `val_loss` which is not available. Available metrics are: sparse_categorical_accuracy,student_loss,distillation_loss,val_sparse_categorical_accuracy,val_student_loss,lr\n"
          ]
        },
        {
          "name": "stdout",
          "output_type": "stream",
          "text": [
            "6/6 [==============================] - 0s 7ms/step - sparse_categorical_accuracy: 0.8902 - student_loss: 0.3995 - distillation_loss: 1.1486e-04 - val_sparse_categorical_accuracy: 0.8182 - val_student_loss: 0.4068 - lr: 2.4650e-06\n",
            "Epoch 68/300\n",
            "1/6 [====>.........................] - ETA: 0s - sparse_categorical_accuracy: 0.9200 - student_loss: 0.3635 - distillation_loss: 7.5898e-05WARNING:tensorflow:Early stopping conditioned on metric `val_loss` which is not available. Available metrics are: sparse_categorical_accuracy,student_loss,distillation_loss,val_sparse_categorical_accuracy,val_student_loss,lr\n"
          ]
        },
        {
          "name": "stderr",
          "output_type": "stream",
          "text": [
            "WARNING:tensorflow:Early stopping conditioned on metric `val_loss` which is not available. Available metrics are: sparse_categorical_accuracy,student_loss,distillation_loss,val_sparse_categorical_accuracy,val_student_loss,lr\n"
          ]
        },
        {
          "name": "stdout",
          "output_type": "stream",
          "text": [
            "6/6 [==============================] - 0s 6ms/step - sparse_categorical_accuracy: 0.8902 - student_loss: 0.4041 - distillation_loss: 1.2418e-04 - val_sparse_categorical_accuracy: 0.8182 - val_student_loss: 0.4068 - lr: 2.2185e-06\n",
            "Epoch 69/300\n",
            "1/6 [====>.........................] - ETA: 0s - sparse_categorical_accuracy: 0.9000 - student_loss: 0.3904 - distillation_loss: 1.0836e-04WARNING:tensorflow:Early stopping conditioned on metric `val_loss` which is not available. Available metrics are: sparse_categorical_accuracy,student_loss,distillation_loss,val_sparse_categorical_accuracy,val_student_loss,lr\n"
          ]
        },
        {
          "name": "stderr",
          "output_type": "stream",
          "text": [
            "WARNING:tensorflow:Early stopping conditioned on metric `val_loss` which is not available. Available metrics are: sparse_categorical_accuracy,student_loss,distillation_loss,val_sparse_categorical_accuracy,val_student_loss,lr\n"
          ]
        },
        {
          "name": "stdout",
          "output_type": "stream",
          "text": [
            "6/6 [==============================] - 0s 15ms/step - sparse_categorical_accuracy: 0.8902 - student_loss: 0.3450 - distillation_loss: 1.0579e-04 - val_sparse_categorical_accuracy: 0.8182 - val_student_loss: 0.4068 - lr: 1.9967e-06\n",
            "Epoch 70/300\n",
            "1/6 [====>.........................] - ETA: 0s - sparse_categorical_accuracy: 0.8600 - student_loss: 0.4073 - distillation_loss: 1.1504e-04WARNING:tensorflow:Early stopping conditioned on metric `val_loss` which is not available. Available metrics are: sparse_categorical_accuracy,student_loss,distillation_loss,val_sparse_categorical_accuracy,val_student_loss,lr\n"
          ]
        },
        {
          "name": "stderr",
          "output_type": "stream",
          "text": [
            "WARNING:tensorflow:Early stopping conditioned on metric `val_loss` which is not available. Available metrics are: sparse_categorical_accuracy,student_loss,distillation_loss,val_sparse_categorical_accuracy,val_student_loss,lr\n"
          ]
        },
        {
          "name": "stdout",
          "output_type": "stream",
          "text": [
            "6/6 [==============================] - 0s 8ms/step - sparse_categorical_accuracy: 0.8902 - student_loss: 0.3882 - distillation_loss: 1.1981e-04 - val_sparse_categorical_accuracy: 0.8182 - val_student_loss: 0.4066 - lr: 1.7970e-06\n",
            "Epoch 71/300\n",
            "1/6 [====>.........................] - ETA: 0s - sparse_categorical_accuracy: 0.8400 - student_loss: 0.3685 - distillation_loss: 1.3115e-04WARNING:tensorflow:Early stopping conditioned on metric `val_loss` which is not available. Available metrics are: sparse_categorical_accuracy,student_loss,distillation_loss,val_sparse_categorical_accuracy,val_student_loss,lr\n"
          ]
        },
        {
          "name": "stderr",
          "output_type": "stream",
          "text": [
            "WARNING:tensorflow:Early stopping conditioned on metric `val_loss` which is not available. Available metrics are: sparse_categorical_accuracy,student_loss,distillation_loss,val_sparse_categorical_accuracy,val_student_loss,lr\n"
          ]
        },
        {
          "name": "stdout",
          "output_type": "stream",
          "text": [
            "6/6 [==============================] - 0s 5ms/step - sparse_categorical_accuracy: 0.8864 - student_loss: 0.3512 - distillation_loss: 1.3208e-04 - val_sparse_categorical_accuracy: 0.8182 - val_student_loss: 0.4062 - lr: 1.6173e-06\n",
            "Epoch 72/300\n",
            "1/6 [====>.........................] - ETA: 0s - sparse_categorical_accuracy: 0.9000 - student_loss: 0.4146 - distillation_loss: 9.9541e-05WARNING:tensorflow:Early stopping conditioned on metric `val_loss` which is not available. Available metrics are: sparse_categorical_accuracy,student_loss,distillation_loss,val_sparse_categorical_accuracy,val_student_loss,lr\n"
          ]
        },
        {
          "name": "stderr",
          "output_type": "stream",
          "text": [
            "WARNING:tensorflow:Early stopping conditioned on metric `val_loss` which is not available. Available metrics are: sparse_categorical_accuracy,student_loss,distillation_loss,val_sparse_categorical_accuracy,val_student_loss,lr\n"
          ]
        },
        {
          "name": "stdout",
          "output_type": "stream",
          "text": [
            "6/6 [==============================] - 0s 7ms/step - sparse_categorical_accuracy: 0.8864 - student_loss: 0.4277 - distillation_loss: 1.2893e-04 - val_sparse_categorical_accuracy: 0.8182 - val_student_loss: 0.4062 - lr: 1.4556e-06\n",
            "Epoch 73/300\n",
            "1/6 [====>.........................] - ETA: 0s - sparse_categorical_accuracy: 0.9000 - student_loss: 0.3555 - distillation_loss: 1.1110e-04WARNING:tensorflow:Early stopping conditioned on metric `val_loss` which is not available. Available metrics are: sparse_categorical_accuracy,student_loss,distillation_loss,val_sparse_categorical_accuracy,val_student_loss,lr\n"
          ]
        },
        {
          "name": "stderr",
          "output_type": "stream",
          "text": [
            "WARNING:tensorflow:Early stopping conditioned on metric `val_loss` which is not available. Available metrics are: sparse_categorical_accuracy,student_loss,distillation_loss,val_sparse_categorical_accuracy,val_student_loss,lr\n"
          ]
        },
        {
          "name": "stdout",
          "output_type": "stream",
          "text": [
            "6/6 [==============================] - 0s 6ms/step - sparse_categorical_accuracy: 0.8864 - student_loss: 0.3623 - distillation_loss: 1.2624e-04 - val_sparse_categorical_accuracy: 0.8182 - val_student_loss: 0.4062 - lr: 1.3100e-06\n",
            "Epoch 74/300\n",
            "1/6 [====>.........................] - ETA: 0s - sparse_categorical_accuracy: 0.8400 - student_loss: 0.4149 - distillation_loss: 9.2057e-05WARNING:tensorflow:Early stopping conditioned on metric `val_loss` which is not available. Available metrics are: sparse_categorical_accuracy,student_loss,distillation_loss,val_sparse_categorical_accuracy,val_student_loss,lr\n"
          ]
        },
        {
          "name": "stderr",
          "output_type": "stream",
          "text": [
            "WARNING:tensorflow:Early stopping conditioned on metric `val_loss` which is not available. Available metrics are: sparse_categorical_accuracy,student_loss,distillation_loss,val_sparse_categorical_accuracy,val_student_loss,lr\n"
          ]
        },
        {
          "name": "stdout",
          "output_type": "stream",
          "text": [
            "6/6 [==============================] - 0s 6ms/step - sparse_categorical_accuracy: 0.8864 - student_loss: 0.3231 - distillation_loss: 1.1196e-04 - val_sparse_categorical_accuracy: 0.8182 - val_student_loss: 0.4062 - lr: 1.1790e-06\n",
            "Epoch 75/300\n",
            "1/6 [====>.........................] - ETA: 0s - sparse_categorical_accuracy: 0.8800 - student_loss: 0.3088 - distillation_loss: 1.0990e-04WARNING:tensorflow:Early stopping conditioned on metric `val_loss` which is not available. Available metrics are: sparse_categorical_accuracy,student_loss,distillation_loss,val_sparse_categorical_accuracy,val_student_loss,lr\n"
          ]
        },
        {
          "name": "stderr",
          "output_type": "stream",
          "text": [
            "WARNING:tensorflow:Early stopping conditioned on metric `val_loss` which is not available. Available metrics are: sparse_categorical_accuracy,student_loss,distillation_loss,val_sparse_categorical_accuracy,val_student_loss,lr\n"
          ]
        },
        {
          "name": "stdout",
          "output_type": "stream",
          "text": [
            "6/6 [==============================] - 0s 7ms/step - sparse_categorical_accuracy: 0.8864 - student_loss: 0.3474 - distillation_loss: 1.2212e-04 - val_sparse_categorical_accuracy: 0.8182 - val_student_loss: 0.4062 - lr: 1.0611e-06\n",
            "Epoch 76/300\n",
            "1/6 [====>.........................] - ETA: 0s - sparse_categorical_accuracy: 0.8800 - student_loss: 0.3901 - distillation_loss: 1.2104e-04WARNING:tensorflow:Early stopping conditioned on metric `val_loss` which is not available. Available metrics are: sparse_categorical_accuracy,student_loss,distillation_loss,val_sparse_categorical_accuracy,val_student_loss,lr\n"
          ]
        },
        {
          "name": "stderr",
          "output_type": "stream",
          "text": [
            "WARNING:tensorflow:Early stopping conditioned on metric `val_loss` which is not available. Available metrics are: sparse_categorical_accuracy,student_loss,distillation_loss,val_sparse_categorical_accuracy,val_student_loss,lr\n"
          ]
        },
        {
          "name": "stdout",
          "output_type": "stream",
          "text": [
            "6/6 [==============================] - 0s 7ms/step - sparse_categorical_accuracy: 0.8864 - student_loss: 0.3266 - distillation_loss: 1.0616e-04 - val_sparse_categorical_accuracy: 0.8182 - val_student_loss: 0.4062 - lr: 9.5501e-07\n",
            "Epoch 77/300\n",
            "1/6 [====>.........................] - ETA: 0s - sparse_categorical_accuracy: 0.8400 - student_loss: 0.4472 - distillation_loss: 1.5683e-04WARNING:tensorflow:Early stopping conditioned on metric `val_loss` which is not available. Available metrics are: sparse_categorical_accuracy,student_loss,distillation_loss,val_sparse_categorical_accuracy,val_student_loss,lr\n"
          ]
        },
        {
          "name": "stderr",
          "output_type": "stream",
          "text": [
            "WARNING:tensorflow:Early stopping conditioned on metric `val_loss` which is not available. Available metrics are: sparse_categorical_accuracy,student_loss,distillation_loss,val_sparse_categorical_accuracy,val_student_loss,lr\n"
          ]
        },
        {
          "name": "stdout",
          "output_type": "stream",
          "text": [
            "6/6 [==============================] - 0s 7ms/step - sparse_categorical_accuracy: 0.8864 - student_loss: 0.3421 - distillation_loss: 1.1234e-04 - val_sparse_categorical_accuracy: 0.8182 - val_student_loss: 0.4062 - lr: 8.5950e-07\n",
            "Epoch 78/300\n",
            "1/6 [====>.........................] - ETA: 0s - sparse_categorical_accuracy: 0.8800 - student_loss: 0.3334 - distillation_loss: 1.0109e-04WARNING:tensorflow:Early stopping conditioned on metric `val_loss` which is not available. Available metrics are: sparse_categorical_accuracy,student_loss,distillation_loss,val_sparse_categorical_accuracy,val_student_loss,lr\n"
          ]
        },
        {
          "name": "stderr",
          "output_type": "stream",
          "text": [
            "WARNING:tensorflow:Early stopping conditioned on metric `val_loss` which is not available. Available metrics are: sparse_categorical_accuracy,student_loss,distillation_loss,val_sparse_categorical_accuracy,val_student_loss,lr\n"
          ]
        },
        {
          "name": "stdout",
          "output_type": "stream",
          "text": [
            "6/6 [==============================] - 0s 6ms/step - sparse_categorical_accuracy: 0.8864 - student_loss: 0.3374 - distillation_loss: 1.1373e-04 - val_sparse_categorical_accuracy: 0.8182 - val_student_loss: 0.4062 - lr: 7.7355e-07\n",
            "Epoch 79/300\n",
            "1/6 [====>.........................] - ETA: 0s - sparse_categorical_accuracy: 0.8400 - student_loss: 0.3820 - distillation_loss: 1.3714e-04WARNING:tensorflow:Early stopping conditioned on metric `val_loss` which is not available. Available metrics are: sparse_categorical_accuracy,student_loss,distillation_loss,val_sparse_categorical_accuracy,val_student_loss,lr\n"
          ]
        },
        {
          "name": "stderr",
          "output_type": "stream",
          "text": [
            "WARNING:tensorflow:Early stopping conditioned on metric `val_loss` which is not available. Available metrics are: sparse_categorical_accuracy,student_loss,distillation_loss,val_sparse_categorical_accuracy,val_student_loss,lr\n"
          ]
        },
        {
          "name": "stdout",
          "output_type": "stream",
          "text": [
            "6/6 [==============================] - 0s 6ms/step - sparse_categorical_accuracy: 0.8864 - student_loss: 0.3825 - distillation_loss: 1.1464e-04 - val_sparse_categorical_accuracy: 0.8182 - val_student_loss: 0.4062 - lr: 6.9620e-07\n",
            "Epoch 80/300\n",
            "1/6 [====>.........................] - ETA: 0s - sparse_categorical_accuracy: 0.9200 - student_loss: 0.4046 - distillation_loss: 1.3647e-04WARNING:tensorflow:Early stopping conditioned on metric `val_loss` which is not available. Available metrics are: sparse_categorical_accuracy,student_loss,distillation_loss,val_sparse_categorical_accuracy,val_student_loss,lr\n"
          ]
        },
        {
          "name": "stderr",
          "output_type": "stream",
          "text": [
            "WARNING:tensorflow:Early stopping conditioned on metric `val_loss` which is not available. Available metrics are: sparse_categorical_accuracy,student_loss,distillation_loss,val_sparse_categorical_accuracy,val_student_loss,lr\n"
          ]
        },
        {
          "name": "stdout",
          "output_type": "stream",
          "text": [
            "6/6 [==============================] - 0s 6ms/step - sparse_categorical_accuracy: 0.8864 - student_loss: 0.3569 - distillation_loss: 1.3344e-04 - val_sparse_categorical_accuracy: 0.8182 - val_student_loss: 0.4062 - lr: 6.2658e-07\n",
            "Epoch 81/300\n",
            "1/6 [====>.........................] - ETA: 0s - sparse_categorical_accuracy: 0.8600 - student_loss: 0.3987 - distillation_loss: 1.5469e-04WARNING:tensorflow:Early stopping conditioned on metric `val_loss` which is not available. Available metrics are: sparse_categorical_accuracy,student_loss,distillation_loss,val_sparse_categorical_accuracy,val_student_loss,lr\n"
          ]
        },
        {
          "name": "stderr",
          "output_type": "stream",
          "text": [
            "WARNING:tensorflow:Early stopping conditioned on metric `val_loss` which is not available. Available metrics are: sparse_categorical_accuracy,student_loss,distillation_loss,val_sparse_categorical_accuracy,val_student_loss,lr\n"
          ]
        },
        {
          "name": "stdout",
          "output_type": "stream",
          "text": [
            "6/6 [==============================] - 0s 13ms/step - sparse_categorical_accuracy: 0.8864 - student_loss: 0.3615 - distillation_loss: 1.2047e-04 - val_sparse_categorical_accuracy: 0.8182 - val_student_loss: 0.4062 - lr: 5.6392e-07\n",
            "Epoch 82/300\n",
            "1/6 [====>.........................] - ETA: 0s - sparse_categorical_accuracy: 0.9800 - student_loss: 0.2412 - distillation_loss: 9.2836e-05WARNING:tensorflow:Early stopping conditioned on metric `val_loss` which is not available. Available metrics are: sparse_categorical_accuracy,student_loss,distillation_loss,val_sparse_categorical_accuracy,val_student_loss,lr\n"
          ]
        },
        {
          "name": "stderr",
          "output_type": "stream",
          "text": [
            "WARNING:tensorflow:Early stopping conditioned on metric `val_loss` which is not available. Available metrics are: sparse_categorical_accuracy,student_loss,distillation_loss,val_sparse_categorical_accuracy,val_student_loss,lr\n"
          ]
        },
        {
          "name": "stdout",
          "output_type": "stream",
          "text": [
            "6/6 [==============================] - 0s 9ms/step - sparse_categorical_accuracy: 0.8864 - student_loss: 0.3719 - distillation_loss: 1.2058e-04 - val_sparse_categorical_accuracy: 0.8182 - val_student_loss: 0.4062 - lr: 5.0753e-07\n",
            "Epoch 83/300\n",
            "1/6 [====>.........................] - ETA: 0s - sparse_categorical_accuracy: 0.8800 - student_loss: 0.3827 - distillation_loss: 1.0273e-04WARNING:tensorflow:Early stopping conditioned on metric `val_loss` which is not available. Available metrics are: sparse_categorical_accuracy,student_loss,distillation_loss,val_sparse_categorical_accuracy,val_student_loss,lr\n"
          ]
        },
        {
          "name": "stderr",
          "output_type": "stream",
          "text": [
            "WARNING:tensorflow:Early stopping conditioned on metric `val_loss` which is not available. Available metrics are: sparse_categorical_accuracy,student_loss,distillation_loss,val_sparse_categorical_accuracy,val_student_loss,lr\n"
          ]
        },
        {
          "name": "stdout",
          "output_type": "stream",
          "text": [
            "6/6 [==============================] - 0s 5ms/step - sparse_categorical_accuracy: 0.8864 - student_loss: 0.3907 - distillation_loss: 1.3454e-04 - val_sparse_categorical_accuracy: 0.8182 - val_student_loss: 0.4062 - lr: 4.5678e-07\n",
            "Epoch 84/300\n",
            "1/6 [====>.........................] - ETA: 0s - sparse_categorical_accuracy: 0.9000 - student_loss: 0.3385 - distillation_loss: 8.8044e-05WARNING:tensorflow:Early stopping conditioned on metric `val_loss` which is not available. Available metrics are: sparse_categorical_accuracy,student_loss,distillation_loss,val_sparse_categorical_accuracy,val_student_loss,lr\n"
          ]
        },
        {
          "name": "stderr",
          "output_type": "stream",
          "text": [
            "WARNING:tensorflow:Early stopping conditioned on metric `val_loss` which is not available. Available metrics are: sparse_categorical_accuracy,student_loss,distillation_loss,val_sparse_categorical_accuracy,val_student_loss,lr\n"
          ]
        },
        {
          "name": "stdout",
          "output_type": "stream",
          "text": [
            "6/6 [==============================] - 0s 7ms/step - sparse_categorical_accuracy: 0.8864 - student_loss: 0.3582 - distillation_loss: 1.1885e-04 - val_sparse_categorical_accuracy: 0.8182 - val_student_loss: 0.4062 - lr: 4.1110e-07\n",
            "Epoch 85/300\n",
            "1/6 [====>.........................] - ETA: 0s - sparse_categorical_accuracy: 0.8600 - student_loss: 0.3903 - distillation_loss: 1.0839e-04WARNING:tensorflow:Early stopping conditioned on metric `val_loss` which is not available. Available metrics are: sparse_categorical_accuracy,student_loss,distillation_loss,val_sparse_categorical_accuracy,val_student_loss,lr\n"
          ]
        },
        {
          "name": "stderr",
          "output_type": "stream",
          "text": [
            "WARNING:tensorflow:Early stopping conditioned on metric `val_loss` which is not available. Available metrics are: sparse_categorical_accuracy,student_loss,distillation_loss,val_sparse_categorical_accuracy,val_student_loss,lr\n"
          ]
        },
        {
          "name": "stdout",
          "output_type": "stream",
          "text": [
            "6/6 [==============================] - 0s 7ms/step - sparse_categorical_accuracy: 0.8864 - student_loss: 0.3753 - distillation_loss: 1.1664e-04 - val_sparse_categorical_accuracy: 0.8182 - val_student_loss: 0.4062 - lr: 3.6999e-07\n",
            "Epoch 86/300\n",
            "1/6 [====>.........................] - ETA: 0s - sparse_categorical_accuracy: 0.8800 - student_loss: 0.4004 - distillation_loss: 1.0828e-04WARNING:tensorflow:Early stopping conditioned on metric `val_loss` which is not available. Available metrics are: sparse_categorical_accuracy,student_loss,distillation_loss,val_sparse_categorical_accuracy,val_student_loss,lr\n"
          ]
        },
        {
          "name": "stderr",
          "output_type": "stream",
          "text": [
            "WARNING:tensorflow:Early stopping conditioned on metric `val_loss` which is not available. Available metrics are: sparse_categorical_accuracy,student_loss,distillation_loss,val_sparse_categorical_accuracy,val_student_loss,lr\n"
          ]
        },
        {
          "name": "stdout",
          "output_type": "stream",
          "text": [
            "6/6 [==============================] - 0s 7ms/step - sparse_categorical_accuracy: 0.8864 - student_loss: 0.4026 - distillation_loss: 1.4036e-04 - val_sparse_categorical_accuracy: 0.8182 - val_student_loss: 0.4062 - lr: 3.3299e-07\n",
            "Epoch 87/300\n",
            "1/6 [====>.........................] - ETA: 0s - sparse_categorical_accuracy: 0.9400 - student_loss: 0.3503 - distillation_loss: 1.3689e-04WARNING:tensorflow:Early stopping conditioned on metric `val_loss` which is not available. Available metrics are: sparse_categorical_accuracy,student_loss,distillation_loss,val_sparse_categorical_accuracy,val_student_loss,lr\n"
          ]
        },
        {
          "name": "stderr",
          "output_type": "stream",
          "text": [
            "WARNING:tensorflow:Early stopping conditioned on metric `val_loss` which is not available. Available metrics are: sparse_categorical_accuracy,student_loss,distillation_loss,val_sparse_categorical_accuracy,val_student_loss,lr\n"
          ]
        },
        {
          "name": "stdout",
          "output_type": "stream",
          "text": [
            "6/6 [==============================] - 0s 7ms/step - sparse_categorical_accuracy: 0.8864 - student_loss: 0.3394 - distillation_loss: 1.0824e-04 - val_sparse_categorical_accuracy: 0.8182 - val_student_loss: 0.4062 - lr: 2.9969e-07\n",
            "Epoch 88/300\n",
            "1/6 [====>.........................] - ETA: 0s - sparse_categorical_accuracy: 0.8000 - student_loss: 0.4486 - distillation_loss: 1.4323e-04WARNING:tensorflow:Early stopping conditioned on metric `val_loss` which is not available. Available metrics are: sparse_categorical_accuracy,student_loss,distillation_loss,val_sparse_categorical_accuracy,val_student_loss,lr\n"
          ]
        },
        {
          "name": "stderr",
          "output_type": "stream",
          "text": [
            "WARNING:tensorflow:Early stopping conditioned on metric `val_loss` which is not available. Available metrics are: sparse_categorical_accuracy,student_loss,distillation_loss,val_sparse_categorical_accuracy,val_student_loss,lr\n"
          ]
        },
        {
          "name": "stdout",
          "output_type": "stream",
          "text": [
            "6/6 [==============================] - 0s 5ms/step - sparse_categorical_accuracy: 0.8864 - student_loss: 0.3418 - distillation_loss: 1.1667e-04 - val_sparse_categorical_accuracy: 0.8182 - val_student_loss: 0.4062 - lr: 2.6972e-07\n",
            "Epoch 89/300\n",
            "1/6 [====>.........................] - ETA: 0s - sparse_categorical_accuracy: 0.8600 - student_loss: 0.3985 - distillation_loss: 1.4653e-04WARNING:tensorflow:Early stopping conditioned on metric `val_loss` which is not available. Available metrics are: sparse_categorical_accuracy,student_loss,distillation_loss,val_sparse_categorical_accuracy,val_student_loss,lr\n"
          ]
        },
        {
          "name": "stderr",
          "output_type": "stream",
          "text": [
            "WARNING:tensorflow:Early stopping conditioned on metric `val_loss` which is not available. Available metrics are: sparse_categorical_accuracy,student_loss,distillation_loss,val_sparse_categorical_accuracy,val_student_loss,lr\n"
          ]
        },
        {
          "name": "stdout",
          "output_type": "stream",
          "text": [
            "6/6 [==============================] - 0s 6ms/step - sparse_categorical_accuracy: 0.8864 - student_loss: 0.3629 - distillation_loss: 1.2353e-04 - val_sparse_categorical_accuracy: 0.8182 - val_student_loss: 0.4062 - lr: 2.4275e-07\n",
            "Epoch 90/300\n",
            "1/6 [====>.........................] - ETA: 0s - sparse_categorical_accuracy: 0.8800 - student_loss: 0.3473 - distillation_loss: 6.8716e-05WARNING:tensorflow:Early stopping conditioned on metric `val_loss` which is not available. Available metrics are: sparse_categorical_accuracy,student_loss,distillation_loss,val_sparse_categorical_accuracy,val_student_loss,lr\n"
          ]
        },
        {
          "name": "stderr",
          "output_type": "stream",
          "text": [
            "WARNING:tensorflow:Early stopping conditioned on metric `val_loss` which is not available. Available metrics are: sparse_categorical_accuracy,student_loss,distillation_loss,val_sparse_categorical_accuracy,val_student_loss,lr\n"
          ]
        },
        {
          "name": "stdout",
          "output_type": "stream",
          "text": [
            "6/6 [==============================] - 0s 6ms/step - sparse_categorical_accuracy: 0.8864 - student_loss: 0.3376 - distillation_loss: 1.1620e-04 - val_sparse_categorical_accuracy: 0.8182 - val_student_loss: 0.4062 - lr: 2.1847e-07\n",
            "Epoch 91/300\n",
            "1/6 [====>.........................] - ETA: 0s - sparse_categorical_accuracy: 0.8200 - student_loss: 0.4214 - distillation_loss: 1.5046e-04WARNING:tensorflow:Early stopping conditioned on metric `val_loss` which is not available. Available metrics are: sparse_categorical_accuracy,student_loss,distillation_loss,val_sparse_categorical_accuracy,val_student_loss,lr\n"
          ]
        },
        {
          "name": "stderr",
          "output_type": "stream",
          "text": [
            "WARNING:tensorflow:Early stopping conditioned on metric `val_loss` which is not available. Available metrics are: sparse_categorical_accuracy,student_loss,distillation_loss,val_sparse_categorical_accuracy,val_student_loss,lr\n"
          ]
        },
        {
          "name": "stdout",
          "output_type": "stream",
          "text": [
            "6/6 [==============================] - 0s 7ms/step - sparse_categorical_accuracy: 0.8864 - student_loss: 0.3507 - distillation_loss: 1.1516e-04 - val_sparse_categorical_accuracy: 0.8182 - val_student_loss: 0.4062 - lr: 1.9663e-07\n",
            "Epoch 92/300\n",
            "1/6 [====>.........................] - ETA: 0s - sparse_categorical_accuracy: 0.8800 - student_loss: 0.4149 - distillation_loss: 1.4948e-04WARNING:tensorflow:Early stopping conditioned on metric `val_loss` which is not available. Available metrics are: sparse_categorical_accuracy,student_loss,distillation_loss,val_sparse_categorical_accuracy,val_student_loss,lr\n"
          ]
        },
        {
          "name": "stderr",
          "output_type": "stream",
          "text": [
            "WARNING:tensorflow:Early stopping conditioned on metric `val_loss` which is not available. Available metrics are: sparse_categorical_accuracy,student_loss,distillation_loss,val_sparse_categorical_accuracy,val_student_loss,lr\n"
          ]
        },
        {
          "name": "stdout",
          "output_type": "stream",
          "text": [
            "6/6 [==============================] - 0s 7ms/step - sparse_categorical_accuracy: 0.8864 - student_loss: 0.4315 - distillation_loss: 1.4240e-04 - val_sparse_categorical_accuracy: 0.8182 - val_student_loss: 0.4062 - lr: 1.7696e-07\n",
            "Epoch 93/300\n",
            "1/6 [====>.........................] - ETA: 0s - sparse_categorical_accuracy: 0.9600 - student_loss: 0.3525 - distillation_loss: 9.8584e-05WARNING:tensorflow:Early stopping conditioned on metric `val_loss` which is not available. Available metrics are: sparse_categorical_accuracy,student_loss,distillation_loss,val_sparse_categorical_accuracy,val_student_loss,lr\n"
          ]
        },
        {
          "name": "stderr",
          "output_type": "stream",
          "text": [
            "WARNING:tensorflow:Early stopping conditioned on metric `val_loss` which is not available. Available metrics are: sparse_categorical_accuracy,student_loss,distillation_loss,val_sparse_categorical_accuracy,val_student_loss,lr\n"
          ]
        },
        {
          "name": "stdout",
          "output_type": "stream",
          "text": [
            "6/6 [==============================] - 0s 7ms/step - sparse_categorical_accuracy: 0.8864 - student_loss: 0.3471 - distillation_loss: 1.2008e-04 - val_sparse_categorical_accuracy: 0.8182 - val_student_loss: 0.4062 - lr: 1.5927e-07\n",
            "Epoch 94/300\n",
            "1/6 [====>.........................] - ETA: 0s - sparse_categorical_accuracy: 0.9200 - student_loss: 0.3293 - distillation_loss: 9.2282e-05WARNING:tensorflow:Early stopping conditioned on metric `val_loss` which is not available. Available metrics are: sparse_categorical_accuracy,student_loss,distillation_loss,val_sparse_categorical_accuracy,val_student_loss,lr\n"
          ]
        },
        {
          "name": "stderr",
          "output_type": "stream",
          "text": [
            "WARNING:tensorflow:Early stopping conditioned on metric `val_loss` which is not available. Available metrics are: sparse_categorical_accuracy,student_loss,distillation_loss,val_sparse_categorical_accuracy,val_student_loss,lr\n"
          ]
        },
        {
          "name": "stdout",
          "output_type": "stream",
          "text": [
            "6/6 [==============================] - 0s 6ms/step - sparse_categorical_accuracy: 0.8864 - student_loss: 0.3274 - distillation_loss: 1.0485e-04 - val_sparse_categorical_accuracy: 0.8182 - val_student_loss: 0.4062 - lr: 1.4334e-07\n",
            "Epoch 95/300\n",
            "1/6 [====>.........................] - ETA: 0s - sparse_categorical_accuracy: 0.8800 - student_loss: 0.3913 - distillation_loss: 1.6064e-04WARNING:tensorflow:Early stopping conditioned on metric `val_loss` which is not available. Available metrics are: sparse_categorical_accuracy,student_loss,distillation_loss,val_sparse_categorical_accuracy,val_student_loss,lr\n"
          ]
        },
        {
          "name": "stderr",
          "output_type": "stream",
          "text": [
            "WARNING:tensorflow:Early stopping conditioned on metric `val_loss` which is not available. Available metrics are: sparse_categorical_accuracy,student_loss,distillation_loss,val_sparse_categorical_accuracy,val_student_loss,lr\n"
          ]
        },
        {
          "name": "stdout",
          "output_type": "stream",
          "text": [
            "6/6 [==============================] - 0s 6ms/step - sparse_categorical_accuracy: 0.8864 - student_loss: 0.3282 - distillation_loss: 1.0260e-04 - val_sparse_categorical_accuracy: 0.8182 - val_student_loss: 0.4062 - lr: 1.2901e-07\n",
            "Epoch 96/300\n",
            "1/6 [====>.........................] - ETA: 0s - sparse_categorical_accuracy: 0.9200 - student_loss: 0.3388 - distillation_loss: 1.2130e-04WARNING:tensorflow:Early stopping conditioned on metric `val_loss` which is not available. Available metrics are: sparse_categorical_accuracy,student_loss,distillation_loss,val_sparse_categorical_accuracy,val_student_loss,lr\n"
          ]
        },
        {
          "name": "stderr",
          "output_type": "stream",
          "text": [
            "WARNING:tensorflow:Early stopping conditioned on metric `val_loss` which is not available. Available metrics are: sparse_categorical_accuracy,student_loss,distillation_loss,val_sparse_categorical_accuracy,val_student_loss,lr\n"
          ]
        },
        {
          "name": "stdout",
          "output_type": "stream",
          "text": [
            "6/6 [==============================] - 0s 7ms/step - sparse_categorical_accuracy: 0.8864 - student_loss: 0.3869 - distillation_loss: 1.3492e-04 - val_sparse_categorical_accuracy: 0.8182 - val_student_loss: 0.4062 - lr: 1.1611e-07\n",
            "Epoch 97/300\n",
            "1/6 [====>.........................] - ETA: 0s - sparse_categorical_accuracy: 0.8600 - student_loss: 0.3639 - distillation_loss: 1.2455e-04WARNING:tensorflow:Early stopping conditioned on metric `val_loss` which is not available. Available metrics are: sparse_categorical_accuracy,student_loss,distillation_loss,val_sparse_categorical_accuracy,val_student_loss,lr\n"
          ]
        },
        {
          "name": "stderr",
          "output_type": "stream",
          "text": [
            "WARNING:tensorflow:Early stopping conditioned on metric `val_loss` which is not available. Available metrics are: sparse_categorical_accuracy,student_loss,distillation_loss,val_sparse_categorical_accuracy,val_student_loss,lr\n"
          ]
        },
        {
          "name": "stdout",
          "output_type": "stream",
          "text": [
            "6/6 [==============================] - 0s 15ms/step - sparse_categorical_accuracy: 0.8864 - student_loss: 0.3478 - distillation_loss: 1.1970e-04 - val_sparse_categorical_accuracy: 0.8182 - val_student_loss: 0.4062 - lr: 1.0450e-07\n",
            "Epoch 98/300\n",
            "1/6 [====>.........................] - ETA: 0s - sparse_categorical_accuracy: 0.8600 - student_loss: 0.3856 - distillation_loss: 1.3820e-04WARNING:tensorflow:Early stopping conditioned on metric `val_loss` which is not available. Available metrics are: sparse_categorical_accuracy,student_loss,distillation_loss,val_sparse_categorical_accuracy,val_student_loss,lr\n"
          ]
        },
        {
          "name": "stderr",
          "output_type": "stream",
          "text": [
            "WARNING:tensorflow:Early stopping conditioned on metric `val_loss` which is not available. Available metrics are: sparse_categorical_accuracy,student_loss,distillation_loss,val_sparse_categorical_accuracy,val_student_loss,lr\n"
          ]
        },
        {
          "name": "stdout",
          "output_type": "stream",
          "text": [
            "6/6 [==============================] - 0s 6ms/step - sparse_categorical_accuracy: 0.8864 - student_loss: 0.4074 - distillation_loss: 1.2442e-04 - val_sparse_categorical_accuracy: 0.8182 - val_student_loss: 0.4062 - lr: 9.4046e-08\n",
            "Epoch 99/300\n",
            "1/6 [====>.........................] - ETA: 0s - sparse_categorical_accuracy: 0.8400 - student_loss: 0.4207 - distillation_loss: 1.4187e-04WARNING:tensorflow:Early stopping conditioned on metric `val_loss` which is not available. Available metrics are: sparse_categorical_accuracy,student_loss,distillation_loss,val_sparse_categorical_accuracy,val_student_loss,lr\n"
          ]
        },
        {
          "name": "stderr",
          "output_type": "stream",
          "text": [
            "WARNING:tensorflow:Early stopping conditioned on metric `val_loss` which is not available. Available metrics are: sparse_categorical_accuracy,student_loss,distillation_loss,val_sparse_categorical_accuracy,val_student_loss,lr\n"
          ]
        },
        {
          "name": "stdout",
          "output_type": "stream",
          "text": [
            "6/6 [==============================] - 0s 7ms/step - sparse_categorical_accuracy: 0.8864 - student_loss: 0.3660 - distillation_loss: 1.0474e-04 - val_sparse_categorical_accuracy: 0.8182 - val_student_loss: 0.4062 - lr: 8.4642e-08\n",
            "Epoch 100/300\n",
            "1/6 [====>.........................] - ETA: 0s - sparse_categorical_accuracy: 0.9000 - student_loss: 0.4051 - distillation_loss: 1.2182e-04WARNING:tensorflow:Early stopping conditioned on metric `val_loss` which is not available. Available metrics are: sparse_categorical_accuracy,student_loss,distillation_loss,val_sparse_categorical_accuracy,val_student_loss,lr\n"
          ]
        },
        {
          "name": "stderr",
          "output_type": "stream",
          "text": [
            "WARNING:tensorflow:Early stopping conditioned on metric `val_loss` which is not available. Available metrics are: sparse_categorical_accuracy,student_loss,distillation_loss,val_sparse_categorical_accuracy,val_student_loss,lr\n"
          ]
        },
        {
          "name": "stdout",
          "output_type": "stream",
          "text": [
            "6/6 [==============================] - 0s 7ms/step - sparse_categorical_accuracy: 0.8864 - student_loss: 0.3459 - distillation_loss: 1.1651e-04 - val_sparse_categorical_accuracy: 0.8182 - val_student_loss: 0.4062 - lr: 7.6177e-08\n",
            "Epoch 101/300\n",
            "1/6 [====>.........................] - ETA: 0s - sparse_categorical_accuracy: 0.8400 - student_loss: 0.4513 - distillation_loss: 1.4691e-04WARNING:tensorflow:Early stopping conditioned on metric `val_loss` which is not available. Available metrics are: sparse_categorical_accuracy,student_loss,distillation_loss,val_sparse_categorical_accuracy,val_student_loss,lr\n"
          ]
        },
        {
          "name": "stderr",
          "output_type": "stream",
          "text": [
            "WARNING:tensorflow:Early stopping conditioned on metric `val_loss` which is not available. Available metrics are: sparse_categorical_accuracy,student_loss,distillation_loss,val_sparse_categorical_accuracy,val_student_loss,lr\n"
          ]
        },
        {
          "name": "stdout",
          "output_type": "stream",
          "text": [
            "6/6 [==============================] - 0s 7ms/step - sparse_categorical_accuracy: 0.8864 - student_loss: 0.3550 - distillation_loss: 1.1122e-04 - val_sparse_categorical_accuracy: 0.8182 - val_student_loss: 0.4062 - lr: 6.8560e-08\n",
            "Epoch 102/300\n",
            "1/6 [====>.........................] - ETA: 0s - sparse_categorical_accuracy: 0.9400 - student_loss: 0.3221 - distillation_loss: 9.2268e-05WARNING:tensorflow:Early stopping conditioned on metric `val_loss` which is not available. Available metrics are: sparse_categorical_accuracy,student_loss,distillation_loss,val_sparse_categorical_accuracy,val_student_loss,lr\n"
          ]
        },
        {
          "name": "stderr",
          "output_type": "stream",
          "text": [
            "WARNING:tensorflow:Early stopping conditioned on metric `val_loss` which is not available. Available metrics are: sparse_categorical_accuracy,student_loss,distillation_loss,val_sparse_categorical_accuracy,val_student_loss,lr\n"
          ]
        },
        {
          "name": "stdout",
          "output_type": "stream",
          "text": [
            "6/6 [==============================] - 0s 7ms/step - sparse_categorical_accuracy: 0.8864 - student_loss: 0.3577 - distillation_loss: 1.1836e-04 - val_sparse_categorical_accuracy: 0.8182 - val_student_loss: 0.4062 - lr: 6.1704e-08\n",
            "Epoch 103/300\n",
            "1/6 [====>.........................] - ETA: 0s - sparse_categorical_accuracy: 0.9400 - student_loss: 0.3530 - distillation_loss: 7.3946e-05WARNING:tensorflow:Early stopping conditioned on metric `val_loss` which is not available. Available metrics are: sparse_categorical_accuracy,student_loss,distillation_loss,val_sparse_categorical_accuracy,val_student_loss,lr\n"
          ]
        },
        {
          "name": "stderr",
          "output_type": "stream",
          "text": [
            "WARNING:tensorflow:Early stopping conditioned on metric `val_loss` which is not available. Available metrics are: sparse_categorical_accuracy,student_loss,distillation_loss,val_sparse_categorical_accuracy,val_student_loss,lr\n"
          ]
        },
        {
          "name": "stdout",
          "output_type": "stream",
          "text": [
            "6/6 [==============================] - 0s 7ms/step - sparse_categorical_accuracy: 0.8864 - student_loss: 0.3717 - distillation_loss: 1.4957e-04 - val_sparse_categorical_accuracy: 0.8182 - val_student_loss: 0.4062 - lr: 5.5533e-08\n",
            "Epoch 104/300\n",
            "1/6 [====>.........................] - ETA: 0s - sparse_categorical_accuracy: 0.8400 - student_loss: 0.4451 - distillation_loss: 1.7312e-04WARNING:tensorflow:Early stopping conditioned on metric `val_loss` which is not available. Available metrics are: sparse_categorical_accuracy,student_loss,distillation_loss,val_sparse_categorical_accuracy,val_student_loss,lr\n"
          ]
        },
        {
          "name": "stderr",
          "output_type": "stream",
          "text": [
            "WARNING:tensorflow:Early stopping conditioned on metric `val_loss` which is not available. Available metrics are: sparse_categorical_accuracy,student_loss,distillation_loss,val_sparse_categorical_accuracy,val_student_loss,lr\n"
          ]
        },
        {
          "name": "stdout",
          "output_type": "stream",
          "text": [
            "6/6 [==============================] - 0s 6ms/step - sparse_categorical_accuracy: 0.8864 - student_loss: 0.4055 - distillation_loss: 1.1326e-04 - val_sparse_categorical_accuracy: 0.8182 - val_student_loss: 0.4062 - lr: 4.9980e-08\n",
            "Epoch 105/300\n",
            "1/6 [====>.........................] - ETA: 0s - sparse_categorical_accuracy: 0.9000 - student_loss: 0.3430 - distillation_loss: 1.5542e-04WARNING:tensorflow:Early stopping conditioned on metric `val_loss` which is not available. Available metrics are: sparse_categorical_accuracy,student_loss,distillation_loss,val_sparse_categorical_accuracy,val_student_loss,lr\n"
          ]
        },
        {
          "name": "stderr",
          "output_type": "stream",
          "text": [
            "WARNING:tensorflow:Early stopping conditioned on metric `val_loss` which is not available. Available metrics are: sparse_categorical_accuracy,student_loss,distillation_loss,val_sparse_categorical_accuracy,val_student_loss,lr\n"
          ]
        },
        {
          "name": "stdout",
          "output_type": "stream",
          "text": [
            "6/6 [==============================] - 0s 7ms/step - sparse_categorical_accuracy: 0.8864 - student_loss: 0.3491 - distillation_loss: 1.0398e-04 - val_sparse_categorical_accuracy: 0.8182 - val_student_loss: 0.4062 - lr: 4.4982e-08\n",
            "Epoch 106/300\n",
            "1/6 [====>.........................] - ETA: 0s - sparse_categorical_accuracy: 0.9000 - student_loss: 0.3370 - distillation_loss: 1.1793e-04WARNING:tensorflow:Early stopping conditioned on metric `val_loss` which is not available. Available metrics are: sparse_categorical_accuracy,student_loss,distillation_loss,val_sparse_categorical_accuracy,val_student_loss,lr\n"
          ]
        },
        {
          "name": "stderr",
          "output_type": "stream",
          "text": [
            "WARNING:tensorflow:Early stopping conditioned on metric `val_loss` which is not available. Available metrics are: sparse_categorical_accuracy,student_loss,distillation_loss,val_sparse_categorical_accuracy,val_student_loss,lr\n"
          ]
        },
        {
          "name": "stdout",
          "output_type": "stream",
          "text": [
            "6/6 [==============================] - 0s 7ms/step - sparse_categorical_accuracy: 0.8864 - student_loss: 0.4219 - distillation_loss: 1.2702e-04 - val_sparse_categorical_accuracy: 0.8182 - val_student_loss: 0.4062 - lr: 4.0484e-08\n",
            "Epoch 107/300\n",
            "1/6 [====>.........................] - ETA: 0s - sparse_categorical_accuracy: 0.8600 - student_loss: 0.3950 - distillation_loss: 9.8217e-05WARNING:tensorflow:Early stopping conditioned on metric `val_loss` which is not available. Available metrics are: sparse_categorical_accuracy,student_loss,distillation_loss,val_sparse_categorical_accuracy,val_student_loss,lr\n"
          ]
        },
        {
          "name": "stderr",
          "output_type": "stream",
          "text": [
            "WARNING:tensorflow:Early stopping conditioned on metric `val_loss` which is not available. Available metrics are: sparse_categorical_accuracy,student_loss,distillation_loss,val_sparse_categorical_accuracy,val_student_loss,lr\n"
          ]
        },
        {
          "name": "stdout",
          "output_type": "stream",
          "text": [
            "6/6 [==============================] - 0s 7ms/step - sparse_categorical_accuracy: 0.8864 - student_loss: 0.3717 - distillation_loss: 1.0646e-04 - val_sparse_categorical_accuracy: 0.8182 - val_student_loss: 0.4062 - lr: 3.6435e-08\n",
            "Epoch 108/300\n",
            "1/6 [====>.........................] - ETA: 0s - sparse_categorical_accuracy: 0.8600 - student_loss: 0.3455 - distillation_loss: 1.1060e-04WARNING:tensorflow:Early stopping conditioned on metric `val_loss` which is not available. Available metrics are: sparse_categorical_accuracy,student_loss,distillation_loss,val_sparse_categorical_accuracy,val_student_loss,lr\n"
          ]
        },
        {
          "name": "stderr",
          "output_type": "stream",
          "text": [
            "WARNING:tensorflow:Early stopping conditioned on metric `val_loss` which is not available. Available metrics are: sparse_categorical_accuracy,student_loss,distillation_loss,val_sparse_categorical_accuracy,val_student_loss,lr\n"
          ]
        },
        {
          "name": "stdout",
          "output_type": "stream",
          "text": [
            "6/6 [==============================] - 0s 7ms/step - sparse_categorical_accuracy: 0.8864 - student_loss: 0.3385 - distillation_loss: 1.1689e-04 - val_sparse_categorical_accuracy: 0.8182 - val_student_loss: 0.4062 - lr: 3.2792e-08\n",
            "Epoch 109/300\n",
            "1/6 [====>.........................] - ETA: 0s - sparse_categorical_accuracy: 0.9400 - student_loss: 0.3559 - distillation_loss: 9.6580e-05WARNING:tensorflow:Early stopping conditioned on metric `val_loss` which is not available. Available metrics are: sparse_categorical_accuracy,student_loss,distillation_loss,val_sparse_categorical_accuracy,val_student_loss,lr\n"
          ]
        },
        {
          "name": "stderr",
          "output_type": "stream",
          "text": [
            "WARNING:tensorflow:Early stopping conditioned on metric `val_loss` which is not available. Available metrics are: sparse_categorical_accuracy,student_loss,distillation_loss,val_sparse_categorical_accuracy,val_student_loss,lr\n"
          ]
        },
        {
          "name": "stdout",
          "output_type": "stream",
          "text": [
            "6/6 [==============================] - 0s 6ms/step - sparse_categorical_accuracy: 0.8864 - student_loss: 0.3441 - distillation_loss: 1.2806e-04 - val_sparse_categorical_accuracy: 0.8182 - val_student_loss: 0.4062 - lr: 2.9513e-08\n",
            "Epoch 110/300\n",
            "1/6 [====>.........................] - ETA: 0s - sparse_categorical_accuracy: 0.9000 - student_loss: 0.3001 - distillation_loss: 1.0370e-04WARNING:tensorflow:Early stopping conditioned on metric `val_loss` which is not available. Available metrics are: sparse_categorical_accuracy,student_loss,distillation_loss,val_sparse_categorical_accuracy,val_student_loss,lr\n"
          ]
        },
        {
          "name": "stderr",
          "output_type": "stream",
          "text": [
            "WARNING:tensorflow:Early stopping conditioned on metric `val_loss` which is not available. Available metrics are: sparse_categorical_accuracy,student_loss,distillation_loss,val_sparse_categorical_accuracy,val_student_loss,lr\n"
          ]
        },
        {
          "name": "stdout",
          "output_type": "stream",
          "text": [
            "6/6 [==============================] - 0s 6ms/step - sparse_categorical_accuracy: 0.8864 - student_loss: 0.3530 - distillation_loss: 1.2588e-04 - val_sparse_categorical_accuracy: 0.8182 - val_student_loss: 0.4062 - lr: 2.6561e-08\n",
            "Epoch 111/300\n",
            "1/6 [====>.........................] - ETA: 0s - sparse_categorical_accuracy: 0.9400 - student_loss: 0.3063 - distillation_loss: 8.8225e-05WARNING:tensorflow:Early stopping conditioned on metric `val_loss` which is not available. Available metrics are: sparse_categorical_accuracy,student_loss,distillation_loss,val_sparse_categorical_accuracy,val_student_loss,lr\n"
          ]
        },
        {
          "name": "stderr",
          "output_type": "stream",
          "text": [
            "WARNING:tensorflow:Early stopping conditioned on metric `val_loss` which is not available. Available metrics are: sparse_categorical_accuracy,student_loss,distillation_loss,val_sparse_categorical_accuracy,val_student_loss,lr\n"
          ]
        },
        {
          "name": "stdout",
          "output_type": "stream",
          "text": [
            "6/6 [==============================] - 0s 6ms/step - sparse_categorical_accuracy: 0.8864 - student_loss: 0.3274 - distillation_loss: 1.0156e-04 - val_sparse_categorical_accuracy: 0.8182 - val_student_loss: 0.4062 - lr: 2.3905e-08\n",
            "Epoch 112/300\n",
            "1/6 [====>.........................] - ETA: 0s - sparse_categorical_accuracy: 0.8800 - student_loss: 0.3394 - distillation_loss: 1.1318e-04WARNING:tensorflow:Early stopping conditioned on metric `val_loss` which is not available. Available metrics are: sparse_categorical_accuracy,student_loss,distillation_loss,val_sparse_categorical_accuracy,val_student_loss,lr\n"
          ]
        },
        {
          "name": "stderr",
          "output_type": "stream",
          "text": [
            "WARNING:tensorflow:Early stopping conditioned on metric `val_loss` which is not available. Available metrics are: sparse_categorical_accuracy,student_loss,distillation_loss,val_sparse_categorical_accuracy,val_student_loss,lr\n"
          ]
        },
        {
          "name": "stdout",
          "output_type": "stream",
          "text": [
            "6/6 [==============================] - 0s 8ms/step - sparse_categorical_accuracy: 0.8864 - student_loss: 0.4087 - distillation_loss: 1.2445e-04 - val_sparse_categorical_accuracy: 0.8182 - val_student_loss: 0.4062 - lr: 2.1515e-08\n",
            "Epoch 113/300\n",
            "1/6 [====>.........................] - ETA: 0s - sparse_categorical_accuracy: 0.9000 - student_loss: 0.3515 - distillation_loss: 1.0957e-04WARNING:tensorflow:Early stopping conditioned on metric `val_loss` which is not available. Available metrics are: sparse_categorical_accuracy,student_loss,distillation_loss,val_sparse_categorical_accuracy,val_student_loss,lr\n"
          ]
        },
        {
          "name": "stderr",
          "output_type": "stream",
          "text": [
            "WARNING:tensorflow:Early stopping conditioned on metric `val_loss` which is not available. Available metrics are: sparse_categorical_accuracy,student_loss,distillation_loss,val_sparse_categorical_accuracy,val_student_loss,lr\n"
          ]
        },
        {
          "name": "stdout",
          "output_type": "stream",
          "text": [
            "6/6 [==============================] - 0s 7ms/step - sparse_categorical_accuracy: 0.8864 - student_loss: 0.3791 - distillation_loss: 1.2522e-04 - val_sparse_categorical_accuracy: 0.8182 - val_student_loss: 0.4062 - lr: 1.9363e-08\n",
            "Epoch 114/300\n",
            "1/6 [====>.........................] - ETA: 0s - sparse_categorical_accuracy: 0.9200 - student_loss: 0.2857 - distillation_loss: 1.1927e-04WARNING:tensorflow:Early stopping conditioned on metric `val_loss` which is not available. Available metrics are: sparse_categorical_accuracy,student_loss,distillation_loss,val_sparse_categorical_accuracy,val_student_loss,lr\n"
          ]
        },
        {
          "name": "stderr",
          "output_type": "stream",
          "text": [
            "WARNING:tensorflow:Early stopping conditioned on metric `val_loss` which is not available. Available metrics are: sparse_categorical_accuracy,student_loss,distillation_loss,val_sparse_categorical_accuracy,val_student_loss,lr\n"
          ]
        },
        {
          "name": "stdout",
          "output_type": "stream",
          "text": [
            "6/6 [==============================] - 0s 7ms/step - sparse_categorical_accuracy: 0.8864 - student_loss: 0.3661 - distillation_loss: 1.1032e-04 - val_sparse_categorical_accuracy: 0.8182 - val_student_loss: 0.4062 - lr: 1.7427e-08\n",
            "Epoch 115/300\n",
            "1/6 [====>.........................] - ETA: 0s - sparse_categorical_accuracy: 0.9600 - student_loss: 0.3160 - distillation_loss: 1.5363e-04WARNING:tensorflow:Early stopping conditioned on metric `val_loss` which is not available. Available metrics are: sparse_categorical_accuracy,student_loss,distillation_loss,val_sparse_categorical_accuracy,val_student_loss,lr\n"
          ]
        },
        {
          "name": "stderr",
          "output_type": "stream",
          "text": [
            "WARNING:tensorflow:Early stopping conditioned on metric `val_loss` which is not available. Available metrics are: sparse_categorical_accuracy,student_loss,distillation_loss,val_sparse_categorical_accuracy,val_student_loss,lr\n"
          ]
        },
        {
          "name": "stdout",
          "output_type": "stream",
          "text": [
            "6/6 [==============================] - 0s 6ms/step - sparse_categorical_accuracy: 0.8864 - student_loss: 0.3223 - distillation_loss: 1.0126e-04 - val_sparse_categorical_accuracy: 0.8182 - val_student_loss: 0.4062 - lr: 1.5684e-08\n",
            "Epoch 116/300\n",
            "1/6 [====>.........................] - ETA: 0s - sparse_categorical_accuracy: 0.8000 - student_loss: 0.5087 - distillation_loss: 1.5452e-04WARNING:tensorflow:Early stopping conditioned on metric `val_loss` which is not available. Available metrics are: sparse_categorical_accuracy,student_loss,distillation_loss,val_sparse_categorical_accuracy,val_student_loss,lr\n"
          ]
        },
        {
          "name": "stderr",
          "output_type": "stream",
          "text": [
            "WARNING:tensorflow:Early stopping conditioned on metric `val_loss` which is not available. Available metrics are: sparse_categorical_accuracy,student_loss,distillation_loss,val_sparse_categorical_accuracy,val_student_loss,lr\n"
          ]
        },
        {
          "name": "stdout",
          "output_type": "stream",
          "text": [
            "6/6 [==============================] - 0s 13ms/step - sparse_categorical_accuracy: 0.8864 - student_loss: 0.3665 - distillation_loss: 1.1207e-04 - val_sparse_categorical_accuracy: 0.8182 - val_student_loss: 0.4062 - lr: 1.4116e-08\n",
            "Epoch 117/300\n",
            "1/6 [====>.........................] - ETA: 0s - sparse_categorical_accuracy: 0.9200 - student_loss: 0.2933 - distillation_loss: 1.1783e-04WARNING:tensorflow:Early stopping conditioned on metric `val_loss` which is not available. Available metrics are: sparse_categorical_accuracy,student_loss,distillation_loss,val_sparse_categorical_accuracy,val_student_loss,lr\n"
          ]
        },
        {
          "name": "stderr",
          "output_type": "stream",
          "text": [
            "WARNING:tensorflow:Early stopping conditioned on metric `val_loss` which is not available. Available metrics are: sparse_categorical_accuracy,student_loss,distillation_loss,val_sparse_categorical_accuracy,val_student_loss,lr\n"
          ]
        },
        {
          "name": "stdout",
          "output_type": "stream",
          "text": [
            "6/6 [==============================] - 0s 7ms/step - sparse_categorical_accuracy: 0.8864 - student_loss: 0.4249 - distillation_loss: 1.1614e-04 - val_sparse_categorical_accuracy: 0.8182 - val_student_loss: 0.4062 - lr: 1.2704e-08\n",
            "Epoch 118/300\n",
            "1/6 [====>.........................] - ETA: 0s - sparse_categorical_accuracy: 0.9200 - student_loss: 0.3093 - distillation_loss: 7.6622e-05WARNING:tensorflow:Early stopping conditioned on metric `val_loss` which is not available. Available metrics are: sparse_categorical_accuracy,student_loss,distillation_loss,val_sparse_categorical_accuracy,val_student_loss,lr\n"
          ]
        },
        {
          "name": "stderr",
          "output_type": "stream",
          "text": [
            "WARNING:tensorflow:Early stopping conditioned on metric `val_loss` which is not available. Available metrics are: sparse_categorical_accuracy,student_loss,distillation_loss,val_sparse_categorical_accuracy,val_student_loss,lr\n"
          ]
        },
        {
          "name": "stdout",
          "output_type": "stream",
          "text": [
            "6/6 [==============================] - 0s 6ms/step - sparse_categorical_accuracy: 0.8864 - student_loss: 0.3535 - distillation_loss: 1.1250e-04 - val_sparse_categorical_accuracy: 0.8182 - val_student_loss: 0.4062 - lr: 1.1434e-08\n",
            "Epoch 119/300\n",
            "1/6 [====>.........................] - ETA: 0s - sparse_categorical_accuracy: 0.9400 - student_loss: 0.2865 - distillation_loss: 1.0736e-04WARNING:tensorflow:Early stopping conditioned on metric `val_loss` which is not available. Available metrics are: sparse_categorical_accuracy,student_loss,distillation_loss,val_sparse_categorical_accuracy,val_student_loss,lr\n"
          ]
        },
        {
          "name": "stderr",
          "output_type": "stream",
          "text": [
            "WARNING:tensorflow:Early stopping conditioned on metric `val_loss` which is not available. Available metrics are: sparse_categorical_accuracy,student_loss,distillation_loss,val_sparse_categorical_accuracy,val_student_loss,lr\n"
          ]
        },
        {
          "name": "stdout",
          "output_type": "stream",
          "text": [
            "6/6 [==============================] - 0s 6ms/step - sparse_categorical_accuracy: 0.8864 - student_loss: 0.3732 - distillation_loss: 1.2541e-04 - val_sparse_categorical_accuracy: 0.8182 - val_student_loss: 0.4062 - lr: 1.0290e-08\n",
            "Epoch 120/300\n",
            "1/6 [====>.........................] - ETA: 0s - sparse_categorical_accuracy: 0.9000 - student_loss: 0.3512 - distillation_loss: 1.1078e-04WARNING:tensorflow:Early stopping conditioned on metric `val_loss` which is not available. Available metrics are: sparse_categorical_accuracy,student_loss,distillation_loss,val_sparse_categorical_accuracy,val_student_loss,lr\n"
          ]
        },
        {
          "name": "stderr",
          "output_type": "stream",
          "text": [
            "WARNING:tensorflow:Early stopping conditioned on metric `val_loss` which is not available. Available metrics are: sparse_categorical_accuracy,student_loss,distillation_loss,val_sparse_categorical_accuracy,val_student_loss,lr\n"
          ]
        },
        {
          "name": "stdout",
          "output_type": "stream",
          "text": [
            "6/6 [==============================] - 0s 7ms/step - sparse_categorical_accuracy: 0.8864 - student_loss: 0.3587 - distillation_loss: 1.2140e-04 - val_sparse_categorical_accuracy: 0.8182 - val_student_loss: 0.4062 - lr: 9.2614e-09\n",
            "Epoch 121/300\n",
            "1/6 [====>.........................] - ETA: 0s - sparse_categorical_accuracy: 0.8800 - student_loss: 0.3038 - distillation_loss: 9.3371e-05WARNING:tensorflow:Early stopping conditioned on metric `val_loss` which is not available. Available metrics are: sparse_categorical_accuracy,student_loss,distillation_loss,val_sparse_categorical_accuracy,val_student_loss,lr\n"
          ]
        },
        {
          "name": "stderr",
          "output_type": "stream",
          "text": [
            "WARNING:tensorflow:Early stopping conditioned on metric `val_loss` which is not available. Available metrics are: sparse_categorical_accuracy,student_loss,distillation_loss,val_sparse_categorical_accuracy,val_student_loss,lr\n"
          ]
        },
        {
          "name": "stdout",
          "output_type": "stream",
          "text": [
            "6/6 [==============================] - 0s 7ms/step - sparse_categorical_accuracy: 0.8864 - student_loss: 0.3307 - distillation_loss: 1.0288e-04 - val_sparse_categorical_accuracy: 0.8182 - val_student_loss: 0.4062 - lr: 8.3353e-09\n",
            "Epoch 122/300\n",
            "1/6 [====>.........................] - ETA: 0s - sparse_categorical_accuracy: 0.8400 - student_loss: 0.4550 - distillation_loss: 1.5666e-04WARNING:tensorflow:Early stopping conditioned on metric `val_loss` which is not available. Available metrics are: sparse_categorical_accuracy,student_loss,distillation_loss,val_sparse_categorical_accuracy,val_student_loss,lr\n"
          ]
        },
        {
          "name": "stderr",
          "output_type": "stream",
          "text": [
            "WARNING:tensorflow:Early stopping conditioned on metric `val_loss` which is not available. Available metrics are: sparse_categorical_accuracy,student_loss,distillation_loss,val_sparse_categorical_accuracy,val_student_loss,lr\n"
          ]
        },
        {
          "name": "stdout",
          "output_type": "stream",
          "text": [
            "6/6 [==============================] - 0s 8ms/step - sparse_categorical_accuracy: 0.8864 - student_loss: 0.3594 - distillation_loss: 1.2029e-04 - val_sparse_categorical_accuracy: 0.8182 - val_student_loss: 0.4062 - lr: 7.5017e-09\n",
            "Epoch 123/300\n",
            "1/6 [====>.........................] - ETA: 0s - sparse_categorical_accuracy: 0.8400 - student_loss: 0.4083 - distillation_loss: 1.4043e-04WARNING:tensorflow:Early stopping conditioned on metric `val_loss` which is not available. Available metrics are: sparse_categorical_accuracy,student_loss,distillation_loss,val_sparse_categorical_accuracy,val_student_loss,lr\n"
          ]
        },
        {
          "name": "stderr",
          "output_type": "stream",
          "text": [
            "WARNING:tensorflow:Early stopping conditioned on metric `val_loss` which is not available. Available metrics are: sparse_categorical_accuracy,student_loss,distillation_loss,val_sparse_categorical_accuracy,val_student_loss,lr\n"
          ]
        },
        {
          "name": "stdout",
          "output_type": "stream",
          "text": [
            "6/6 [==============================] - 0s 6ms/step - sparse_categorical_accuracy: 0.8864 - student_loss: 0.3584 - distillation_loss: 1.4158e-04 - val_sparse_categorical_accuracy: 0.8182 - val_student_loss: 0.4062 - lr: 6.7516e-09\n",
            "Epoch 124/300\n",
            "1/6 [====>.........................] - ETA: 0s - sparse_categorical_accuracy: 0.8200 - student_loss: 0.4685 - distillation_loss: 1.2841e-04WARNING:tensorflow:Early stopping conditioned on metric `val_loss` which is not available. Available metrics are: sparse_categorical_accuracy,student_loss,distillation_loss,val_sparse_categorical_accuracy,val_student_loss,lr\n"
          ]
        },
        {
          "name": "stderr",
          "output_type": "stream",
          "text": [
            "WARNING:tensorflow:Early stopping conditioned on metric `val_loss` which is not available. Available metrics are: sparse_categorical_accuracy,student_loss,distillation_loss,val_sparse_categorical_accuracy,val_student_loss,lr\n"
          ]
        },
        {
          "name": "stdout",
          "output_type": "stream",
          "text": [
            "6/6 [==============================] - 0s 6ms/step - sparse_categorical_accuracy: 0.8864 - student_loss: 0.3407 - distillation_loss: 1.0389e-04 - val_sparse_categorical_accuracy: 0.8182 - val_student_loss: 0.4062 - lr: 6.0764e-09\n",
            "Epoch 125/300\n",
            "1/6 [====>.........................] - ETA: 0s - sparse_categorical_accuracy: 0.8600 - student_loss: 0.4190 - distillation_loss: 1.3675e-04WARNING:tensorflow:Early stopping conditioned on metric `val_loss` which is not available. Available metrics are: sparse_categorical_accuracy,student_loss,distillation_loss,val_sparse_categorical_accuracy,val_student_loss,lr\n"
          ]
        },
        {
          "name": "stderr",
          "output_type": "stream",
          "text": [
            "WARNING:tensorflow:Early stopping conditioned on metric `val_loss` which is not available. Available metrics are: sparse_categorical_accuracy,student_loss,distillation_loss,val_sparse_categorical_accuracy,val_student_loss,lr\n"
          ]
        },
        {
          "name": "stdout",
          "output_type": "stream",
          "text": [
            "6/6 [==============================] - 0s 6ms/step - sparse_categorical_accuracy: 0.8864 - student_loss: 0.3987 - distillation_loss: 1.0945e-04 - val_sparse_categorical_accuracy: 0.8182 - val_student_loss: 0.4062 - lr: 5.4688e-09\n",
            "Epoch 126/300\n",
            "1/6 [====>.........................] - ETA: 0s - sparse_categorical_accuracy: 0.8600 - student_loss: 0.3384 - distillation_loss: 1.0783e-04WARNING:tensorflow:Early stopping conditioned on metric `val_loss` which is not available. Available metrics are: sparse_categorical_accuracy,student_loss,distillation_loss,val_sparse_categorical_accuracy,val_student_loss,lr\n"
          ]
        },
        {
          "name": "stderr",
          "output_type": "stream",
          "text": [
            "WARNING:tensorflow:Early stopping conditioned on metric `val_loss` which is not available. Available metrics are: sparse_categorical_accuracy,student_loss,distillation_loss,val_sparse_categorical_accuracy,val_student_loss,lr\n"
          ]
        },
        {
          "name": "stdout",
          "output_type": "stream",
          "text": [
            "6/6 [==============================] - 0s 7ms/step - sparse_categorical_accuracy: 0.8864 - student_loss: 0.3541 - distillation_loss: 1.1243e-04 - val_sparse_categorical_accuracy: 0.8182 - val_student_loss: 0.4062 - lr: 4.9219e-09\n",
            "Epoch 127/300\n",
            "1/6 [====>.........................] - ETA: 0s - sparse_categorical_accuracy: 0.9200 - student_loss: 0.3793 - distillation_loss: 9.8843e-05WARNING:tensorflow:Early stopping conditioned on metric `val_loss` which is not available. Available metrics are: sparse_categorical_accuracy,student_loss,distillation_loss,val_sparse_categorical_accuracy,val_student_loss,lr\n"
          ]
        },
        {
          "name": "stderr",
          "output_type": "stream",
          "text": [
            "WARNING:tensorflow:Early stopping conditioned on metric `val_loss` which is not available. Available metrics are: sparse_categorical_accuracy,student_loss,distillation_loss,val_sparse_categorical_accuracy,val_student_loss,lr\n"
          ]
        },
        {
          "name": "stdout",
          "output_type": "stream",
          "text": [
            "6/6 [==============================] - 0s 6ms/step - sparse_categorical_accuracy: 0.8864 - student_loss: 0.3823 - distillation_loss: 1.3003e-04 - val_sparse_categorical_accuracy: 0.8182 - val_student_loss: 0.4062 - lr: 4.4297e-09\n",
            "Epoch 128/300\n",
            "1/6 [====>.........................] - ETA: 0s - sparse_categorical_accuracy: 0.8800 - student_loss: 0.4407 - distillation_loss: 1.0754e-04WARNING:tensorflow:Early stopping conditioned on metric `val_loss` which is not available. Available metrics are: sparse_categorical_accuracy,student_loss,distillation_loss,val_sparse_categorical_accuracy,val_student_loss,lr\n"
          ]
        },
        {
          "name": "stderr",
          "output_type": "stream",
          "text": [
            "WARNING:tensorflow:Early stopping conditioned on metric `val_loss` which is not available. Available metrics are: sparse_categorical_accuracy,student_loss,distillation_loss,val_sparse_categorical_accuracy,val_student_loss,lr\n"
          ]
        },
        {
          "name": "stdout",
          "output_type": "stream",
          "text": [
            "6/6 [==============================] - 0s 7ms/step - sparse_categorical_accuracy: 0.8864 - student_loss: 0.3405 - distillation_loss: 1.1403e-04 - val_sparse_categorical_accuracy: 0.8182 - val_student_loss: 0.4062 - lr: 3.9867e-09\n",
            "Epoch 129/300\n",
            "1/6 [====>.........................] - ETA: 0s - sparse_categorical_accuracy: 0.8600 - student_loss: 0.3611 - distillation_loss: 1.4534e-04WARNING:tensorflow:Early stopping conditioned on metric `val_loss` which is not available. Available metrics are: sparse_categorical_accuracy,student_loss,distillation_loss,val_sparse_categorical_accuracy,val_student_loss,lr\n"
          ]
        },
        {
          "name": "stderr",
          "output_type": "stream",
          "text": [
            "WARNING:tensorflow:Early stopping conditioned on metric `val_loss` which is not available. Available metrics are: sparse_categorical_accuracy,student_loss,distillation_loss,val_sparse_categorical_accuracy,val_student_loss,lr\n"
          ]
        },
        {
          "name": "stdout",
          "output_type": "stream",
          "text": [
            "6/6 [==============================] - 0s 6ms/step - sparse_categorical_accuracy: 0.8864 - student_loss: 0.3593 - distillation_loss: 1.2906e-04 - val_sparse_categorical_accuracy: 0.8182 - val_student_loss: 0.4062 - lr: 3.5881e-09\n",
            "Epoch 130/300\n",
            "1/6 [====>.........................] - ETA: 0s - sparse_categorical_accuracy: 0.8600 - student_loss: 0.4021 - distillation_loss: 1.7715e-04WARNING:tensorflow:Early stopping conditioned on metric `val_loss` which is not available. Available metrics are: sparse_categorical_accuracy,student_loss,distillation_loss,val_sparse_categorical_accuracy,val_student_loss,lr\n"
          ]
        },
        {
          "name": "stderr",
          "output_type": "stream",
          "text": [
            "WARNING:tensorflow:Early stopping conditioned on metric `val_loss` which is not available. Available metrics are: sparse_categorical_accuracy,student_loss,distillation_loss,val_sparse_categorical_accuracy,val_student_loss,lr\n"
          ]
        },
        {
          "name": "stdout",
          "output_type": "stream",
          "text": [
            "6/6 [==============================] - 0s 6ms/step - sparse_categorical_accuracy: 0.8864 - student_loss: 0.4048 - distillation_loss: 1.1338e-04 - val_sparse_categorical_accuracy: 0.8182 - val_student_loss: 0.4062 - lr: 3.2292e-09\n",
            "Epoch 131/300\n",
            "1/6 [====>.........................] - ETA: 0s - sparse_categorical_accuracy: 0.8800 - student_loss: 0.3504 - distillation_loss: 1.3358e-04WARNING:tensorflow:Early stopping conditioned on metric `val_loss` which is not available. Available metrics are: sparse_categorical_accuracy,student_loss,distillation_loss,val_sparse_categorical_accuracy,val_student_loss,lr\n"
          ]
        },
        {
          "name": "stderr",
          "output_type": "stream",
          "text": [
            "WARNING:tensorflow:Early stopping conditioned on metric `val_loss` which is not available. Available metrics are: sparse_categorical_accuracy,student_loss,distillation_loss,val_sparse_categorical_accuracy,val_student_loss,lr\n"
          ]
        },
        {
          "name": "stdout",
          "output_type": "stream",
          "text": [
            "6/6 [==============================] - 0s 6ms/step - sparse_categorical_accuracy: 0.8864 - student_loss: 0.3421 - distillation_loss: 1.1338e-04 - val_sparse_categorical_accuracy: 0.8182 - val_student_loss: 0.4062 - lr: 2.9063e-09\n",
            "Epoch 132/300\n",
            "1/6 [====>.........................] - ETA: 0s - sparse_categorical_accuracy: 0.8800 - student_loss: 0.3287 - distillation_loss: 1.0174e-04WARNING:tensorflow:Early stopping conditioned on metric `val_loss` which is not available. Available metrics are: sparse_categorical_accuracy,student_loss,distillation_loss,val_sparse_categorical_accuracy,val_student_loss,lr\n"
          ]
        },
        {
          "name": "stderr",
          "output_type": "stream",
          "text": [
            "WARNING:tensorflow:Early stopping conditioned on metric `val_loss` which is not available. Available metrics are: sparse_categorical_accuracy,student_loss,distillation_loss,val_sparse_categorical_accuracy,val_student_loss,lr\n"
          ]
        },
        {
          "name": "stdout",
          "output_type": "stream",
          "text": [
            "6/6 [==============================] - 0s 7ms/step - sparse_categorical_accuracy: 0.8864 - student_loss: 0.3651 - distillation_loss: 1.3614e-04 - val_sparse_categorical_accuracy: 0.8182 - val_student_loss: 0.4062 - lr: 2.6157e-09\n",
            "Epoch 133/300\n",
            "1/6 [====>.........................] - ETA: 0s - sparse_categorical_accuracy: 0.9200 - student_loss: 0.3923 - distillation_loss: 8.9342e-05WARNING:tensorflow:Early stopping conditioned on metric `val_loss` which is not available. Available metrics are: sparse_categorical_accuracy,student_loss,distillation_loss,val_sparse_categorical_accuracy,val_student_loss,lr\n"
          ]
        },
        {
          "name": "stderr",
          "output_type": "stream",
          "text": [
            "WARNING:tensorflow:Early stopping conditioned on metric `val_loss` which is not available. Available metrics are: sparse_categorical_accuracy,student_loss,distillation_loss,val_sparse_categorical_accuracy,val_student_loss,lr\n"
          ]
        },
        {
          "name": "stdout",
          "output_type": "stream",
          "text": [
            "6/6 [==============================] - 0s 13ms/step - sparse_categorical_accuracy: 0.8864 - student_loss: 0.3394 - distillation_loss: 1.0851e-04 - val_sparse_categorical_accuracy: 0.8182 - val_student_loss: 0.4062 - lr: 2.3541e-09\n",
            "Epoch 134/300\n",
            "1/6 [====>.........................] - ETA: 0s - sparse_categorical_accuracy: 0.8600 - student_loss: 0.3903 - distillation_loss: 1.3634e-04WARNING:tensorflow:Early stopping conditioned on metric `val_loss` which is not available. Available metrics are: sparse_categorical_accuracy,student_loss,distillation_loss,val_sparse_categorical_accuracy,val_student_loss,lr\n"
          ]
        },
        {
          "name": "stderr",
          "output_type": "stream",
          "text": [
            "WARNING:tensorflow:Early stopping conditioned on metric `val_loss` which is not available. Available metrics are: sparse_categorical_accuracy,student_loss,distillation_loss,val_sparse_categorical_accuracy,val_student_loss,lr\n"
          ]
        },
        {
          "name": "stdout",
          "output_type": "stream",
          "text": [
            "6/6 [==============================] - 0s 7ms/step - sparse_categorical_accuracy: 0.8864 - student_loss: 0.3967 - distillation_loss: 1.1986e-04 - val_sparse_categorical_accuracy: 0.8182 - val_student_loss: 0.4062 - lr: 2.1187e-09\n",
            "Epoch 135/300\n",
            "1/6 [====>.........................] - ETA: 0s - sparse_categorical_accuracy: 0.9000 - student_loss: 0.3232 - distillation_loss: 1.0901e-04WARNING:tensorflow:Early stopping conditioned on metric `val_loss` which is not available. Available metrics are: sparse_categorical_accuracy,student_loss,distillation_loss,val_sparse_categorical_accuracy,val_student_loss,lr\n"
          ]
        },
        {
          "name": "stderr",
          "output_type": "stream",
          "text": [
            "WARNING:tensorflow:Early stopping conditioned on metric `val_loss` which is not available. Available metrics are: sparse_categorical_accuracy,student_loss,distillation_loss,val_sparse_categorical_accuracy,val_student_loss,lr\n"
          ]
        },
        {
          "name": "stdout",
          "output_type": "stream",
          "text": [
            "6/6 [==============================] - 0s 7ms/step - sparse_categorical_accuracy: 0.8864 - student_loss: 0.3879 - distillation_loss: 9.9224e-05 - val_sparse_categorical_accuracy: 0.8182 - val_student_loss: 0.4062 - lr: 1.9068e-09\n",
            "Epoch 136/300\n",
            "1/6 [====>.........................] - ETA: 0s - sparse_categorical_accuracy: 0.8800 - student_loss: 0.4174 - distillation_loss: 1.3148e-04WARNING:tensorflow:Early stopping conditioned on metric `val_loss` which is not available. Available metrics are: sparse_categorical_accuracy,student_loss,distillation_loss,val_sparse_categorical_accuracy,val_student_loss,lr\n"
          ]
        },
        {
          "name": "stderr",
          "output_type": "stream",
          "text": [
            "WARNING:tensorflow:Early stopping conditioned on metric `val_loss` which is not available. Available metrics are: sparse_categorical_accuracy,student_loss,distillation_loss,val_sparse_categorical_accuracy,val_student_loss,lr\n"
          ]
        },
        {
          "name": "stdout",
          "output_type": "stream",
          "text": [
            "6/6 [==============================] - 0s 7ms/step - sparse_categorical_accuracy: 0.8864 - student_loss: 0.3977 - distillation_loss: 1.1851e-04 - val_sparse_categorical_accuracy: 0.8182 - val_student_loss: 0.4062 - lr: 1.7162e-09\n",
            "Epoch 137/300\n",
            "1/6 [====>.........................] - ETA: 0s - sparse_categorical_accuracy: 0.8600 - student_loss: 0.3548 - distillation_loss: 1.4177e-04WARNING:tensorflow:Early stopping conditioned on metric `val_loss` which is not available. Available metrics are: sparse_categorical_accuracy,student_loss,distillation_loss,val_sparse_categorical_accuracy,val_student_loss,lr\n"
          ]
        },
        {
          "name": "stderr",
          "output_type": "stream",
          "text": [
            "WARNING:tensorflow:Early stopping conditioned on metric `val_loss` which is not available. Available metrics are: sparse_categorical_accuracy,student_loss,distillation_loss,val_sparse_categorical_accuracy,val_student_loss,lr\n"
          ]
        },
        {
          "name": "stdout",
          "output_type": "stream",
          "text": [
            "6/6 [==============================] - 0s 7ms/step - sparse_categorical_accuracy: 0.8864 - student_loss: 0.3169 - distillation_loss: 1.0122e-04 - val_sparse_categorical_accuracy: 0.8182 - val_student_loss: 0.4062 - lr: 1.5445e-09\n",
            "Epoch 138/300\n",
            "1/6 [====>.........................] - ETA: 0s - sparse_categorical_accuracy: 0.8200 - student_loss: 0.4219 - distillation_loss: 1.4582e-04WARNING:tensorflow:Early stopping conditioned on metric `val_loss` which is not available. Available metrics are: sparse_categorical_accuracy,student_loss,distillation_loss,val_sparse_categorical_accuracy,val_student_loss,lr\n"
          ]
        },
        {
          "name": "stderr",
          "output_type": "stream",
          "text": [
            "WARNING:tensorflow:Early stopping conditioned on metric `val_loss` which is not available. Available metrics are: sparse_categorical_accuracy,student_loss,distillation_loss,val_sparse_categorical_accuracy,val_student_loss,lr\n"
          ]
        },
        {
          "name": "stdout",
          "output_type": "stream",
          "text": [
            "6/6 [==============================] - 0s 7ms/step - sparse_categorical_accuracy: 0.8864 - student_loss: 0.3390 - distillation_loss: 1.1059e-04 - val_sparse_categorical_accuracy: 0.8182 - val_student_loss: 0.4062 - lr: 1.3901e-09\n",
            "Epoch 139/300\n",
            "1/6 [====>.........................] - ETA: 0s - sparse_categorical_accuracy: 0.9400 - student_loss: 0.3280 - distillation_loss: 1.1273e-04WARNING:tensorflow:Early stopping conditioned on metric `val_loss` which is not available. Available metrics are: sparse_categorical_accuracy,student_loss,distillation_loss,val_sparse_categorical_accuracy,val_student_loss,lr\n"
          ]
        },
        {
          "name": "stderr",
          "output_type": "stream",
          "text": [
            "WARNING:tensorflow:Early stopping conditioned on metric `val_loss` which is not available. Available metrics are: sparse_categorical_accuracy,student_loss,distillation_loss,val_sparse_categorical_accuracy,val_student_loss,lr\n"
          ]
        },
        {
          "name": "stdout",
          "output_type": "stream",
          "text": [
            "6/6 [==============================] - 0s 7ms/step - sparse_categorical_accuracy: 0.8864 - student_loss: 0.3418 - distillation_loss: 1.1480e-04 - val_sparse_categorical_accuracy: 0.8182 - val_student_loss: 0.4062 - lr: 1.2511e-09\n",
            "Epoch 140/300\n",
            "1/6 [====>.........................] - ETA: 0s - sparse_categorical_accuracy: 0.8800 - student_loss: 0.3877 - distillation_loss: 1.3425e-04WARNING:tensorflow:Early stopping conditioned on metric `val_loss` which is not available. Available metrics are: sparse_categorical_accuracy,student_loss,distillation_loss,val_sparse_categorical_accuracy,val_student_loss,lr\n"
          ]
        },
        {
          "name": "stderr",
          "output_type": "stream",
          "text": [
            "WARNING:tensorflow:Early stopping conditioned on metric `val_loss` which is not available. Available metrics are: sparse_categorical_accuracy,student_loss,distillation_loss,val_sparse_categorical_accuracy,val_student_loss,lr\n"
          ]
        },
        {
          "name": "stdout",
          "output_type": "stream",
          "text": [
            "6/6 [==============================] - 0s 7ms/step - sparse_categorical_accuracy: 0.8864 - student_loss: 0.4002 - distillation_loss: 1.2691e-04 - val_sparse_categorical_accuracy: 0.8182 - val_student_loss: 0.4062 - lr: 1.1260e-09\n",
            "Epoch 141/300\n",
            "1/6 [====>.........................] - ETA: 0s - sparse_categorical_accuracy: 0.9000 - student_loss: 0.3486 - distillation_loss: 7.9243e-05WARNING:tensorflow:Early stopping conditioned on metric `val_loss` which is not available. Available metrics are: sparse_categorical_accuracy,student_loss,distillation_loss,val_sparse_categorical_accuracy,val_student_loss,lr\n"
          ]
        },
        {
          "name": "stderr",
          "output_type": "stream",
          "text": [
            "WARNING:tensorflow:Early stopping conditioned on metric `val_loss` which is not available. Available metrics are: sparse_categorical_accuracy,student_loss,distillation_loss,val_sparse_categorical_accuracy,val_student_loss,lr\n"
          ]
        },
        {
          "name": "stdout",
          "output_type": "stream",
          "text": [
            "6/6 [==============================] - 0s 7ms/step - sparse_categorical_accuracy: 0.8864 - student_loss: 0.4496 - distillation_loss: 1.3549e-04 - val_sparse_categorical_accuracy: 0.8182 - val_student_loss: 0.4062 - lr: 1.0134e-09\n",
            "Epoch 142/300\n",
            "1/6 [====>.........................] - ETA: 0s - sparse_categorical_accuracy: 0.7600 - student_loss: 0.4835 - distillation_loss: 1.4403e-04WARNING:tensorflow:Early stopping conditioned on metric `val_loss` which is not available. Available metrics are: sparse_categorical_accuracy,student_loss,distillation_loss,val_sparse_categorical_accuracy,val_student_loss,lr\n"
          ]
        },
        {
          "name": "stderr",
          "output_type": "stream",
          "text": [
            "WARNING:tensorflow:Early stopping conditioned on metric `val_loss` which is not available. Available metrics are: sparse_categorical_accuracy,student_loss,distillation_loss,val_sparse_categorical_accuracy,val_student_loss,lr\n"
          ]
        },
        {
          "name": "stdout",
          "output_type": "stream",
          "text": [
            "6/6 [==============================] - 0s 9ms/step - sparse_categorical_accuracy: 0.8864 - student_loss: 0.4126 - distillation_loss: 1.4360e-04 - val_sparse_categorical_accuracy: 0.8182 - val_student_loss: 0.4062 - lr: 9.1203e-10\n",
            "Epoch 143/300\n",
            "1/6 [====>.........................] - ETA: 0s - sparse_categorical_accuracy: 0.9000 - student_loss: 0.3830 - distillation_loss: 1.4532e-04WARNING:tensorflow:Early stopping conditioned on metric `val_loss` which is not available. Available metrics are: sparse_categorical_accuracy,student_loss,distillation_loss,val_sparse_categorical_accuracy,val_student_loss,lr\n"
          ]
        },
        {
          "name": "stderr",
          "output_type": "stream",
          "text": [
            "WARNING:tensorflow:Early stopping conditioned on metric `val_loss` which is not available. Available metrics are: sparse_categorical_accuracy,student_loss,distillation_loss,val_sparse_categorical_accuracy,val_student_loss,lr\n"
          ]
        },
        {
          "name": "stdout",
          "output_type": "stream",
          "text": [
            "6/6 [==============================] - 0s 7ms/step - sparse_categorical_accuracy: 0.8864 - student_loss: 0.3702 - distillation_loss: 1.1887e-04 - val_sparse_categorical_accuracy: 0.8182 - val_student_loss: 0.4062 - lr: 8.2083e-10\n",
            "Epoch 144/300\n",
            "1/6 [====>.........................] - ETA: 0s - sparse_categorical_accuracy: 0.8000 - student_loss: 0.4984 - distillation_loss: 1.9119e-04WARNING:tensorflow:Early stopping conditioned on metric `val_loss` which is not available. Available metrics are: sparse_categorical_accuracy,student_loss,distillation_loss,val_sparse_categorical_accuracy,val_student_loss,lr\n"
          ]
        },
        {
          "name": "stderr",
          "output_type": "stream",
          "text": [
            "WARNING:tensorflow:Early stopping conditioned on metric `val_loss` which is not available. Available metrics are: sparse_categorical_accuracy,student_loss,distillation_loss,val_sparse_categorical_accuracy,val_student_loss,lr\n"
          ]
        },
        {
          "name": "stdout",
          "output_type": "stream",
          "text": [
            "6/6 [==============================] - 0s 7ms/step - sparse_categorical_accuracy: 0.8864 - student_loss: 0.3556 - distillation_loss: 1.1543e-04 - val_sparse_categorical_accuracy: 0.8182 - val_student_loss: 0.4062 - lr: 7.3875e-10\n",
            "Epoch 145/300\n",
            "1/6 [====>.........................] - ETA: 0s - sparse_categorical_accuracy: 0.8400 - student_loss: 0.4274 - distillation_loss: 1.2946e-04WARNING:tensorflow:Early stopping conditioned on metric `val_loss` which is not available. Available metrics are: sparse_categorical_accuracy,student_loss,distillation_loss,val_sparse_categorical_accuracy,val_student_loss,lr\n"
          ]
        },
        {
          "name": "stderr",
          "output_type": "stream",
          "text": [
            "WARNING:tensorflow:Early stopping conditioned on metric `val_loss` which is not available. Available metrics are: sparse_categorical_accuracy,student_loss,distillation_loss,val_sparse_categorical_accuracy,val_student_loss,lr\n"
          ]
        },
        {
          "name": "stdout",
          "output_type": "stream",
          "text": [
            "6/6 [==============================] - 0s 7ms/step - sparse_categorical_accuracy: 0.8864 - student_loss: 0.3843 - distillation_loss: 1.1699e-04 - val_sparse_categorical_accuracy: 0.8182 - val_student_loss: 0.4062 - lr: 6.6487e-10\n",
            "Epoch 146/300\n",
            "1/6 [====>.........................] - ETA: 0s - sparse_categorical_accuracy: 0.9000 - student_loss: 0.3098 - distillation_loss: 1.1345e-04WARNING:tensorflow:Early stopping conditioned on metric `val_loss` which is not available. Available metrics are: sparse_categorical_accuracy,student_loss,distillation_loss,val_sparse_categorical_accuracy,val_student_loss,lr\n"
          ]
        },
        {
          "name": "stderr",
          "output_type": "stream",
          "text": [
            "WARNING:tensorflow:Early stopping conditioned on metric `val_loss` which is not available. Available metrics are: sparse_categorical_accuracy,student_loss,distillation_loss,val_sparse_categorical_accuracy,val_student_loss,lr\n"
          ]
        },
        {
          "name": "stdout",
          "output_type": "stream",
          "text": [
            "6/6 [==============================] - 0s 7ms/step - sparse_categorical_accuracy: 0.8864 - student_loss: 0.3548 - distillation_loss: 1.2106e-04 - val_sparse_categorical_accuracy: 0.8182 - val_student_loss: 0.4062 - lr: 5.9839e-10\n",
            "Epoch 147/300\n",
            "1/6 [====>.........................] - ETA: 0s - sparse_categorical_accuracy: 0.8200 - student_loss: 0.4319 - distillation_loss: 1.3727e-04WARNING:tensorflow:Early stopping conditioned on metric `val_loss` which is not available. Available metrics are: sparse_categorical_accuracy,student_loss,distillation_loss,val_sparse_categorical_accuracy,val_student_loss,lr\n"
          ]
        },
        {
          "name": "stderr",
          "output_type": "stream",
          "text": [
            "WARNING:tensorflow:Early stopping conditioned on metric `val_loss` which is not available. Available metrics are: sparse_categorical_accuracy,student_loss,distillation_loss,val_sparse_categorical_accuracy,val_student_loss,lr\n"
          ]
        },
        {
          "name": "stdout",
          "output_type": "stream",
          "text": [
            "6/6 [==============================] - 0s 6ms/step - sparse_categorical_accuracy: 0.8864 - student_loss: 0.3297 - distillation_loss: 1.0406e-04 - val_sparse_categorical_accuracy: 0.8182 - val_student_loss: 0.4062 - lr: 5.3855e-10\n",
            "Epoch 148/300\n",
            "1/6 [====>.........................] - ETA: 0s - sparse_categorical_accuracy: 0.8800 - student_loss: 0.3521 - distillation_loss: 1.3198e-04WARNING:tensorflow:Early stopping conditioned on metric `val_loss` which is not available. Available metrics are: sparse_categorical_accuracy,student_loss,distillation_loss,val_sparse_categorical_accuracy,val_student_loss,lr\n"
          ]
        },
        {
          "name": "stderr",
          "output_type": "stream",
          "text": [
            "WARNING:tensorflow:Early stopping conditioned on metric `val_loss` which is not available. Available metrics are: sparse_categorical_accuracy,student_loss,distillation_loss,val_sparse_categorical_accuracy,val_student_loss,lr\n"
          ]
        },
        {
          "name": "stdout",
          "output_type": "stream",
          "text": [
            "6/6 [==============================] - 0s 6ms/step - sparse_categorical_accuracy: 0.8864 - student_loss: 0.3628 - distillation_loss: 1.3598e-04 - val_sparse_categorical_accuracy: 0.8182 - val_student_loss: 0.4062 - lr: 4.8469e-10\n",
            "Epoch 149/300\n",
            "1/6 [====>.........................] - ETA: 0s - sparse_categorical_accuracy: 0.8600 - student_loss: 0.3661 - distillation_loss: 1.0491e-04WARNING:tensorflow:Early stopping conditioned on metric `val_loss` which is not available. Available metrics are: sparse_categorical_accuracy,student_loss,distillation_loss,val_sparse_categorical_accuracy,val_student_loss,lr\n"
          ]
        },
        {
          "name": "stderr",
          "output_type": "stream",
          "text": [
            "WARNING:tensorflow:Early stopping conditioned on metric `val_loss` which is not available. Available metrics are: sparse_categorical_accuracy,student_loss,distillation_loss,val_sparse_categorical_accuracy,val_student_loss,lr\n"
          ]
        },
        {
          "name": "stdout",
          "output_type": "stream",
          "text": [
            "6/6 [==============================] - 0s 6ms/step - sparse_categorical_accuracy: 0.8864 - student_loss: 0.3698 - distillation_loss: 1.2563e-04 - val_sparse_categorical_accuracy: 0.8182 - val_student_loss: 0.4062 - lr: 4.3622e-10\n",
            "Epoch 150/300\n",
            "1/6 [====>.........................] - ETA: 0s - sparse_categorical_accuracy: 0.8800 - student_loss: 0.3291 - distillation_loss: 1.1294e-04WARNING:tensorflow:Early stopping conditioned on metric `val_loss` which is not available. Available metrics are: sparse_categorical_accuracy,student_loss,distillation_loss,val_sparse_categorical_accuracy,val_student_loss,lr\n"
          ]
        },
        {
          "name": "stderr",
          "output_type": "stream",
          "text": [
            "WARNING:tensorflow:Early stopping conditioned on metric `val_loss` which is not available. Available metrics are: sparse_categorical_accuracy,student_loss,distillation_loss,val_sparse_categorical_accuracy,val_student_loss,lr\n"
          ]
        },
        {
          "name": "stdout",
          "output_type": "stream",
          "text": [
            "6/6 [==============================] - 0s 15ms/step - sparse_categorical_accuracy: 0.8864 - student_loss: 0.4240 - distillation_loss: 1.4395e-04 - val_sparse_categorical_accuracy: 0.8182 - val_student_loss: 0.4062 - lr: 3.9260e-10\n",
            "Epoch 151/300\n",
            "1/6 [====>.........................] - ETA: 0s - sparse_categorical_accuracy: 0.9000 - student_loss: 0.3707 - distillation_loss: 1.6362e-04WARNING:tensorflow:Early stopping conditioned on metric `val_loss` which is not available. Available metrics are: sparse_categorical_accuracy,student_loss,distillation_loss,val_sparse_categorical_accuracy,val_student_loss,lr\n"
          ]
        },
        {
          "name": "stderr",
          "output_type": "stream",
          "text": [
            "WARNING:tensorflow:Early stopping conditioned on metric `val_loss` which is not available. Available metrics are: sparse_categorical_accuracy,student_loss,distillation_loss,val_sparse_categorical_accuracy,val_student_loss,lr\n"
          ]
        },
        {
          "name": "stdout",
          "output_type": "stream",
          "text": [
            "6/6 [==============================] - 0s 6ms/step - sparse_categorical_accuracy: 0.8864 - student_loss: 0.4471 - distillation_loss: 1.2696e-04 - val_sparse_categorical_accuracy: 0.8182 - val_student_loss: 0.4062 - lr: 3.5334e-10\n",
            "Epoch 152/300\n",
            "1/6 [====>.........................] - ETA: 0s - sparse_categorical_accuracy: 0.8600 - student_loss: 0.3789 - distillation_loss: 1.2886e-04WARNING:tensorflow:Early stopping conditioned on metric `val_loss` which is not available. Available metrics are: sparse_categorical_accuracy,student_loss,distillation_loss,val_sparse_categorical_accuracy,val_student_loss,lr\n"
          ]
        },
        {
          "name": "stderr",
          "output_type": "stream",
          "text": [
            "WARNING:tensorflow:Early stopping conditioned on metric `val_loss` which is not available. Available metrics are: sparse_categorical_accuracy,student_loss,distillation_loss,val_sparse_categorical_accuracy,val_student_loss,lr\n"
          ]
        },
        {
          "name": "stdout",
          "output_type": "stream",
          "text": [
            "6/6 [==============================] - 0s 5ms/step - sparse_categorical_accuracy: 0.8864 - student_loss: 0.3567 - distillation_loss: 1.0644e-04 - val_sparse_categorical_accuracy: 0.8182 - val_student_loss: 0.4062 - lr: 3.1801e-10\n",
            "Epoch 153/300\n",
            "1/6 [====>.........................] - ETA: 0s - sparse_categorical_accuracy: 0.8200 - student_loss: 0.4103 - distillation_loss: 1.5423e-04WARNING:tensorflow:Early stopping conditioned on metric `val_loss` which is not available. Available metrics are: sparse_categorical_accuracy,student_loss,distillation_loss,val_sparse_categorical_accuracy,val_student_loss,lr\n"
          ]
        },
        {
          "name": "stderr",
          "output_type": "stream",
          "text": [
            "WARNING:tensorflow:Early stopping conditioned on metric `val_loss` which is not available. Available metrics are: sparse_categorical_accuracy,student_loss,distillation_loss,val_sparse_categorical_accuracy,val_student_loss,lr\n"
          ]
        },
        {
          "name": "stdout",
          "output_type": "stream",
          "text": [
            "6/6 [==============================] - 0s 7ms/step - sparse_categorical_accuracy: 0.8864 - student_loss: 0.3804 - distillation_loss: 1.2960e-04 - val_sparse_categorical_accuracy: 0.8182 - val_student_loss: 0.4062 - lr: 2.8621e-10\n",
            "Epoch 154/300\n",
            "1/6 [====>.........................] - ETA: 0s - sparse_categorical_accuracy: 0.8600 - student_loss: 0.3743 - distillation_loss: 1.4305e-04WARNING:tensorflow:Early stopping conditioned on metric `val_loss` which is not available. Available metrics are: sparse_categorical_accuracy,student_loss,distillation_loss,val_sparse_categorical_accuracy,val_student_loss,lr\n"
          ]
        },
        {
          "name": "stderr",
          "output_type": "stream",
          "text": [
            "WARNING:tensorflow:Early stopping conditioned on metric `val_loss` which is not available. Available metrics are: sparse_categorical_accuracy,student_loss,distillation_loss,val_sparse_categorical_accuracy,val_student_loss,lr\n"
          ]
        },
        {
          "name": "stdout",
          "output_type": "stream",
          "text": [
            "6/6 [==============================] - 0s 6ms/step - sparse_categorical_accuracy: 0.8864 - student_loss: 0.3384 - distillation_loss: 1.0041e-04 - val_sparse_categorical_accuracy: 0.8182 - val_student_loss: 0.4062 - lr: 2.5759e-10\n",
            "Epoch 155/300\n",
            "1/6 [====>.........................] - ETA: 0s - sparse_categorical_accuracy: 0.9200 - student_loss: 0.3224 - distillation_loss: 1.0553e-04WARNING:tensorflow:Early stopping conditioned on metric `val_loss` which is not available. Available metrics are: sparse_categorical_accuracy,student_loss,distillation_loss,val_sparse_categorical_accuracy,val_student_loss,lr\n"
          ]
        },
        {
          "name": "stderr",
          "output_type": "stream",
          "text": [
            "WARNING:tensorflow:Early stopping conditioned on metric `val_loss` which is not available. Available metrics are: sparse_categorical_accuracy,student_loss,distillation_loss,val_sparse_categorical_accuracy,val_student_loss,lr\n"
          ]
        },
        {
          "name": "stdout",
          "output_type": "stream",
          "text": [
            "6/6 [==============================] - 0s 6ms/step - sparse_categorical_accuracy: 0.8864 - student_loss: 0.3301 - distillation_loss: 1.1144e-04 - val_sparse_categorical_accuracy: 0.8182 - val_student_loss: 0.4062 - lr: 2.3183e-10\n",
            "Epoch 156/300\n",
            "1/6 [====>.........................] - ETA: 0s - sparse_categorical_accuracy: 0.8800 - student_loss: 0.3666 - distillation_loss: 9.6093e-05WARNING:tensorflow:Early stopping conditioned on metric `val_loss` which is not available. Available metrics are: sparse_categorical_accuracy,student_loss,distillation_loss,val_sparse_categorical_accuracy,val_student_loss,lr\n"
          ]
        },
        {
          "name": "stderr",
          "output_type": "stream",
          "text": [
            "WARNING:tensorflow:Early stopping conditioned on metric `val_loss` which is not available. Available metrics are: sparse_categorical_accuracy,student_loss,distillation_loss,val_sparse_categorical_accuracy,val_student_loss,lr\n"
          ]
        },
        {
          "name": "stdout",
          "output_type": "stream",
          "text": [
            "6/6 [==============================] - 0s 6ms/step - sparse_categorical_accuracy: 0.8864 - student_loss: 0.3248 - distillation_loss: 1.0881e-04 - val_sparse_categorical_accuracy: 0.8182 - val_student_loss: 0.4062 - lr: 2.0864e-10\n",
            "Epoch 157/300\n",
            "1/6 [====>.........................] - ETA: 0s - sparse_categorical_accuracy: 0.9000 - student_loss: 0.3438 - distillation_loss: 9.3937e-05WARNING:tensorflow:Early stopping conditioned on metric `val_loss` which is not available. Available metrics are: sparse_categorical_accuracy,student_loss,distillation_loss,val_sparse_categorical_accuracy,val_student_loss,lr\n"
          ]
        },
        {
          "name": "stderr",
          "output_type": "stream",
          "text": [
            "WARNING:tensorflow:Early stopping conditioned on metric `val_loss` which is not available. Available metrics are: sparse_categorical_accuracy,student_loss,distillation_loss,val_sparse_categorical_accuracy,val_student_loss,lr\n"
          ]
        },
        {
          "name": "stdout",
          "output_type": "stream",
          "text": [
            "6/6 [==============================] - 0s 8ms/step - sparse_categorical_accuracy: 0.8864 - student_loss: 0.3480 - distillation_loss: 1.2533e-04 - val_sparse_categorical_accuracy: 0.8182 - val_student_loss: 0.4062 - lr: 1.8778e-10\n",
            "Epoch 158/300\n",
            "1/6 [====>.........................] - ETA: 0s - sparse_categorical_accuracy: 0.8200 - student_loss: 0.4588 - distillation_loss: 1.3538e-04WARNING:tensorflow:Early stopping conditioned on metric `val_loss` which is not available. Available metrics are: sparse_categorical_accuracy,student_loss,distillation_loss,val_sparse_categorical_accuracy,val_student_loss,lr\n"
          ]
        },
        {
          "name": "stderr",
          "output_type": "stream",
          "text": [
            "WARNING:tensorflow:Early stopping conditioned on metric `val_loss` which is not available. Available metrics are: sparse_categorical_accuracy,student_loss,distillation_loss,val_sparse_categorical_accuracy,val_student_loss,lr\n"
          ]
        },
        {
          "name": "stdout",
          "output_type": "stream",
          "text": [
            "6/6 [==============================] - 0s 5ms/step - sparse_categorical_accuracy: 0.8864 - student_loss: 0.3414 - distillation_loss: 1.1785e-04 - val_sparse_categorical_accuracy: 0.8182 - val_student_loss: 0.4062 - lr: 1.6900e-10\n",
            "Epoch 159/300\n",
            "1/6 [====>.........................] - ETA: 0s - sparse_categorical_accuracy: 0.8400 - student_loss: 0.3982 - distillation_loss: 9.1956e-05WARNING:tensorflow:Early stopping conditioned on metric `val_loss` which is not available. Available metrics are: sparse_categorical_accuracy,student_loss,distillation_loss,val_sparse_categorical_accuracy,val_student_loss,lr\n"
          ]
        },
        {
          "name": "stderr",
          "output_type": "stream",
          "text": [
            "WARNING:tensorflow:Early stopping conditioned on metric `val_loss` which is not available. Available metrics are: sparse_categorical_accuracy,student_loss,distillation_loss,val_sparse_categorical_accuracy,val_student_loss,lr\n"
          ]
        },
        {
          "name": "stdout",
          "output_type": "stream",
          "text": [
            "6/6 [==============================] - 0s 7ms/step - sparse_categorical_accuracy: 0.8864 - student_loss: 0.3739 - distillation_loss: 1.4114e-04 - val_sparse_categorical_accuracy: 0.8182 - val_student_loss: 0.4062 - lr: 1.5210e-10\n",
            "Epoch 160/300\n",
            "1/6 [====>.........................] - ETA: 0s - sparse_categorical_accuracy: 0.8800 - student_loss: 0.4159 - distillation_loss: 1.4868e-04WARNING:tensorflow:Early stopping conditioned on metric `val_loss` which is not available. Available metrics are: sparse_categorical_accuracy,student_loss,distillation_loss,val_sparse_categorical_accuracy,val_student_loss,lr\n"
          ]
        },
        {
          "name": "stderr",
          "output_type": "stream",
          "text": [
            "WARNING:tensorflow:Early stopping conditioned on metric `val_loss` which is not available. Available metrics are: sparse_categorical_accuracy,student_loss,distillation_loss,val_sparse_categorical_accuracy,val_student_loss,lr\n"
          ]
        },
        {
          "name": "stdout",
          "output_type": "stream",
          "text": [
            "6/6 [==============================] - 0s 7ms/step - sparse_categorical_accuracy: 0.8864 - student_loss: 0.3326 - distillation_loss: 1.1141e-04 - val_sparse_categorical_accuracy: 0.8182 - val_student_loss: 0.4062 - lr: 1.3689e-10\n",
            "Epoch 161/300\n",
            "1/6 [====>.........................] - ETA: 0s - sparse_categorical_accuracy: 0.9200 - student_loss: 0.3296 - distillation_loss: 9.1736e-05WARNING:tensorflow:Early stopping conditioned on metric `val_loss` which is not available. Available metrics are: sparse_categorical_accuracy,student_loss,distillation_loss,val_sparse_categorical_accuracy,val_student_loss,lr\n"
          ]
        },
        {
          "name": "stderr",
          "output_type": "stream",
          "text": [
            "WARNING:tensorflow:Early stopping conditioned on metric `val_loss` which is not available. Available metrics are: sparse_categorical_accuracy,student_loss,distillation_loss,val_sparse_categorical_accuracy,val_student_loss,lr\n"
          ]
        },
        {
          "name": "stdout",
          "output_type": "stream",
          "text": [
            "6/6 [==============================] - 0s 6ms/step - sparse_categorical_accuracy: 0.8864 - student_loss: 0.3576 - distillation_loss: 1.1425e-04 - val_sparse_categorical_accuracy: 0.8182 - val_student_loss: 0.4062 - lr: 1.2320e-10\n",
            "Epoch 162/300\n",
            "1/6 [====>.........................] - ETA: 0s - sparse_categorical_accuracy: 0.8600 - student_loss: 0.3911 - distillation_loss: 1.4359e-04WARNING:tensorflow:Early stopping conditioned on metric `val_loss` which is not available. Available metrics are: sparse_categorical_accuracy,student_loss,distillation_loss,val_sparse_categorical_accuracy,val_student_loss,lr\n"
          ]
        },
        {
          "name": "stderr",
          "output_type": "stream",
          "text": [
            "WARNING:tensorflow:Early stopping conditioned on metric `val_loss` which is not available. Available metrics are: sparse_categorical_accuracy,student_loss,distillation_loss,val_sparse_categorical_accuracy,val_student_loss,lr\n"
          ]
        },
        {
          "name": "stdout",
          "output_type": "stream",
          "text": [
            "6/6 [==============================] - 0s 7ms/step - sparse_categorical_accuracy: 0.8864 - student_loss: 0.3238 - distillation_loss: 1.0348e-04 - val_sparse_categorical_accuracy: 0.8182 - val_student_loss: 0.4062 - lr: 1.1088e-10\n",
            "Epoch 163/300\n",
            "1/6 [====>.........................] - ETA: 0s - sparse_categorical_accuracy: 0.8800 - student_loss: 0.3783 - distillation_loss: 1.4620e-04WARNING:tensorflow:Early stopping conditioned on metric `val_loss` which is not available. Available metrics are: sparse_categorical_accuracy,student_loss,distillation_loss,val_sparse_categorical_accuracy,val_student_loss,lr\n"
          ]
        },
        {
          "name": "stderr",
          "output_type": "stream",
          "text": [
            "WARNING:tensorflow:Early stopping conditioned on metric `val_loss` which is not available. Available metrics are: sparse_categorical_accuracy,student_loss,distillation_loss,val_sparse_categorical_accuracy,val_student_loss,lr\n"
          ]
        },
        {
          "name": "stdout",
          "output_type": "stream",
          "text": [
            "6/6 [==============================] - 0s 7ms/step - sparse_categorical_accuracy: 0.8864 - student_loss: 0.3398 - distillation_loss: 1.0387e-04 - val_sparse_categorical_accuracy: 0.8182 - val_student_loss: 0.4062 - lr: 9.9794e-11\n",
            "Epoch 164/300\n",
            "1/6 [====>.........................] - ETA: 0s - sparse_categorical_accuracy: 0.8400 - student_loss: 0.4105 - distillation_loss: 1.6764e-04WARNING:tensorflow:Early stopping conditioned on metric `val_loss` which is not available. Available metrics are: sparse_categorical_accuracy,student_loss,distillation_loss,val_sparse_categorical_accuracy,val_student_loss,lr\n"
          ]
        },
        {
          "name": "stderr",
          "output_type": "stream",
          "text": [
            "WARNING:tensorflow:Early stopping conditioned on metric `val_loss` which is not available. Available metrics are: sparse_categorical_accuracy,student_loss,distillation_loss,val_sparse_categorical_accuracy,val_student_loss,lr\n"
          ]
        },
        {
          "name": "stdout",
          "output_type": "stream",
          "text": [
            "6/6 [==============================] - 0s 6ms/step - sparse_categorical_accuracy: 0.8864 - student_loss: 0.3393 - distillation_loss: 1.0962e-04 - val_sparse_categorical_accuracy: 0.8182 - val_student_loss: 0.4062 - lr: 8.9815e-11\n",
            "Epoch 165/300\n",
            "1/6 [====>.........................] - ETA: 0s - sparse_categorical_accuracy: 0.8600 - student_loss: 0.4510 - distillation_loss: 1.1902e-04WARNING:tensorflow:Early stopping conditioned on metric `val_loss` which is not available. Available metrics are: sparse_categorical_accuracy,student_loss,distillation_loss,val_sparse_categorical_accuracy,val_student_loss,lr\n"
          ]
        },
        {
          "name": "stderr",
          "output_type": "stream",
          "text": [
            "WARNING:tensorflow:Early stopping conditioned on metric `val_loss` which is not available. Available metrics are: sparse_categorical_accuracy,student_loss,distillation_loss,val_sparse_categorical_accuracy,val_student_loss,lr\n"
          ]
        },
        {
          "name": "stdout",
          "output_type": "stream",
          "text": [
            "6/6 [==============================] - 0s 6ms/step - sparse_categorical_accuracy: 0.8864 - student_loss: 0.4172 - distillation_loss: 1.2029e-04 - val_sparse_categorical_accuracy: 0.8182 - val_student_loss: 0.4062 - lr: 8.0833e-11\n",
            "Epoch 166/300\n",
            "1/6 [====>.........................] - ETA: 0s - sparse_categorical_accuracy: 0.9000 - student_loss: 0.2761 - distillation_loss: 7.7478e-05WARNING:tensorflow:Early stopping conditioned on metric `val_loss` which is not available. Available metrics are: sparse_categorical_accuracy,student_loss,distillation_loss,val_sparse_categorical_accuracy,val_student_loss,lr\n"
          ]
        },
        {
          "name": "stderr",
          "output_type": "stream",
          "text": [
            "WARNING:tensorflow:Early stopping conditioned on metric `val_loss` which is not available. Available metrics are: sparse_categorical_accuracy,student_loss,distillation_loss,val_sparse_categorical_accuracy,val_student_loss,lr\n"
          ]
        },
        {
          "name": "stdout",
          "output_type": "stream",
          "text": [
            "6/6 [==============================] - 0s 15ms/step - sparse_categorical_accuracy: 0.8864 - student_loss: 0.3530 - distillation_loss: 1.2297e-04 - val_sparse_categorical_accuracy: 0.8182 - val_student_loss: 0.4062 - lr: 7.2750e-11\n",
            "Epoch 167/300\n",
            "1/6 [====>.........................] - ETA: 0s - sparse_categorical_accuracy: 0.8600 - student_loss: 0.3876 - distillation_loss: 1.0688e-04WARNING:tensorflow:Early stopping conditioned on metric `val_loss` which is not available. Available metrics are: sparse_categorical_accuracy,student_loss,distillation_loss,val_sparse_categorical_accuracy,val_student_loss,lr\n"
          ]
        },
        {
          "name": "stderr",
          "output_type": "stream",
          "text": [
            "WARNING:tensorflow:Early stopping conditioned on metric `val_loss` which is not available. Available metrics are: sparse_categorical_accuracy,student_loss,distillation_loss,val_sparse_categorical_accuracy,val_student_loss,lr\n"
          ]
        },
        {
          "name": "stdout",
          "output_type": "stream",
          "text": [
            "6/6 [==============================] - 0s 6ms/step - sparse_categorical_accuracy: 0.8864 - student_loss: 0.3481 - distillation_loss: 1.2398e-04 - val_sparse_categorical_accuracy: 0.8182 - val_student_loss: 0.4062 - lr: 6.5475e-11\n",
            "Epoch 168/300\n",
            "1/6 [====>.........................] - ETA: 0s - sparse_categorical_accuracy: 0.7800 - student_loss: 0.4720 - distillation_loss: 1.5468e-04WARNING:tensorflow:Early stopping conditioned on metric `val_loss` which is not available. Available metrics are: sparse_categorical_accuracy,student_loss,distillation_loss,val_sparse_categorical_accuracy,val_student_loss,lr\n"
          ]
        },
        {
          "name": "stderr",
          "output_type": "stream",
          "text": [
            "WARNING:tensorflow:Early stopping conditioned on metric `val_loss` which is not available. Available metrics are: sparse_categorical_accuracy,student_loss,distillation_loss,val_sparse_categorical_accuracy,val_student_loss,lr\n"
          ]
        },
        {
          "name": "stdout",
          "output_type": "stream",
          "text": [
            "6/6 [==============================] - 0s 7ms/step - sparse_categorical_accuracy: 0.8864 - student_loss: 0.3411 - distillation_loss: 1.1089e-04 - val_sparse_categorical_accuracy: 0.8182 - val_student_loss: 0.4062 - lr: 5.8927e-11\n",
            "Epoch 169/300\n",
            "1/6 [====>.........................] - ETA: 0s - sparse_categorical_accuracy: 0.9200 - student_loss: 0.2899 - distillation_loss: 7.6842e-05WARNING:tensorflow:Early stopping conditioned on metric `val_loss` which is not available. Available metrics are: sparse_categorical_accuracy,student_loss,distillation_loss,val_sparse_categorical_accuracy,val_student_loss,lr\n"
          ]
        },
        {
          "name": "stderr",
          "output_type": "stream",
          "text": [
            "WARNING:tensorflow:Early stopping conditioned on metric `val_loss` which is not available. Available metrics are: sparse_categorical_accuracy,student_loss,distillation_loss,val_sparse_categorical_accuracy,val_student_loss,lr\n"
          ]
        },
        {
          "name": "stdout",
          "output_type": "stream",
          "text": [
            "6/6 [==============================] - 0s 6ms/step - sparse_categorical_accuracy: 0.8864 - student_loss: 0.4048 - distillation_loss: 1.2803e-04 - val_sparse_categorical_accuracy: 0.8182 - val_student_loss: 0.4062 - lr: 5.3035e-11\n",
            "Epoch 170/300\n",
            "1/6 [====>.........................] - ETA: 0s - sparse_categorical_accuracy: 0.9000 - student_loss: 0.3732 - distillation_loss: 1.2161e-04WARNING:tensorflow:Early stopping conditioned on metric `val_loss` which is not available. Available metrics are: sparse_categorical_accuracy,student_loss,distillation_loss,val_sparse_categorical_accuracy,val_student_loss,lr\n"
          ]
        },
        {
          "name": "stderr",
          "output_type": "stream",
          "text": [
            "WARNING:tensorflow:Early stopping conditioned on metric `val_loss` which is not available. Available metrics are: sparse_categorical_accuracy,student_loss,distillation_loss,val_sparse_categorical_accuracy,val_student_loss,lr\n"
          ]
        },
        {
          "name": "stdout",
          "output_type": "stream",
          "text": [
            "6/6 [==============================] - 0s 6ms/step - sparse_categorical_accuracy: 0.8864 - student_loss: 0.3513 - distillation_loss: 1.1911e-04 - val_sparse_categorical_accuracy: 0.8182 - val_student_loss: 0.4062 - lr: 4.7731e-11\n",
            "Epoch 171/300\n",
            "1/6 [====>.........................] - ETA: 0s - sparse_categorical_accuracy: 0.9000 - student_loss: 0.3938 - distillation_loss: 1.7845e-04WARNING:tensorflow:Early stopping conditioned on metric `val_loss` which is not available. Available metrics are: sparse_categorical_accuracy,student_loss,distillation_loss,val_sparse_categorical_accuracy,val_student_loss,lr\n"
          ]
        },
        {
          "name": "stderr",
          "output_type": "stream",
          "text": [
            "WARNING:tensorflow:Early stopping conditioned on metric `val_loss` which is not available. Available metrics are: sparse_categorical_accuracy,student_loss,distillation_loss,val_sparse_categorical_accuracy,val_student_loss,lr\n"
          ]
        },
        {
          "name": "stdout",
          "output_type": "stream",
          "text": [
            "6/6 [==============================] - 0s 8ms/step - sparse_categorical_accuracy: 0.8864 - student_loss: 0.3628 - distillation_loss: 1.0925e-04 - val_sparse_categorical_accuracy: 0.8182 - val_student_loss: 0.4062 - lr: 4.2958e-11\n",
            "Epoch 172/300\n",
            "1/6 [====>.........................] - ETA: 0s - sparse_categorical_accuracy: 0.8800 - student_loss: 0.3856 - distillation_loss: 1.2876e-04WARNING:tensorflow:Early stopping conditioned on metric `val_loss` which is not available. Available metrics are: sparse_categorical_accuracy,student_loss,distillation_loss,val_sparse_categorical_accuracy,val_student_loss,lr\n"
          ]
        },
        {
          "name": "stderr",
          "output_type": "stream",
          "text": [
            "WARNING:tensorflow:Early stopping conditioned on metric `val_loss` which is not available. Available metrics are: sparse_categorical_accuracy,student_loss,distillation_loss,val_sparse_categorical_accuracy,val_student_loss,lr\n"
          ]
        },
        {
          "name": "stdout",
          "output_type": "stream",
          "text": [
            "6/6 [==============================] - 0s 7ms/step - sparse_categorical_accuracy: 0.8864 - student_loss: 0.3274 - distillation_loss: 1.0565e-04 - val_sparse_categorical_accuracy: 0.8182 - val_student_loss: 0.4062 - lr: 3.8662e-11\n",
            "Epoch 173/300\n",
            "1/6 [====>.........................] - ETA: 0s - sparse_categorical_accuracy: 0.9600 - student_loss: 0.2678 - distillation_loss: 9.3509e-05WARNING:tensorflow:Early stopping conditioned on metric `val_loss` which is not available. Available metrics are: sparse_categorical_accuracy,student_loss,distillation_loss,val_sparse_categorical_accuracy,val_student_loss,lr\n"
          ]
        },
        {
          "name": "stderr",
          "output_type": "stream",
          "text": [
            "WARNING:tensorflow:Early stopping conditioned on metric `val_loss` which is not available. Available metrics are: sparse_categorical_accuracy,student_loss,distillation_loss,val_sparse_categorical_accuracy,val_student_loss,lr\n"
          ]
        },
        {
          "name": "stdout",
          "output_type": "stream",
          "text": [
            "6/6 [==============================] - 0s 6ms/step - sparse_categorical_accuracy: 0.8864 - student_loss: 0.3946 - distillation_loss: 1.0785e-04 - val_sparse_categorical_accuracy: 0.8182 - val_student_loss: 0.4062 - lr: 3.4796e-11\n",
            "Epoch 174/300\n",
            "1/6 [====>.........................] - ETA: 0s - sparse_categorical_accuracy: 0.8400 - student_loss: 0.3803 - distillation_loss: 1.1203e-04WARNING:tensorflow:Early stopping conditioned on metric `val_loss` which is not available. Available metrics are: sparse_categorical_accuracy,student_loss,distillation_loss,val_sparse_categorical_accuracy,val_student_loss,lr\n"
          ]
        },
        {
          "name": "stderr",
          "output_type": "stream",
          "text": [
            "WARNING:tensorflow:Early stopping conditioned on metric `val_loss` which is not available. Available metrics are: sparse_categorical_accuracy,student_loss,distillation_loss,val_sparse_categorical_accuracy,val_student_loss,lr\n"
          ]
        },
        {
          "name": "stdout",
          "output_type": "stream",
          "text": [
            "6/6 [==============================] - 0s 7ms/step - sparse_categorical_accuracy: 0.8864 - student_loss: 0.3568 - distillation_loss: 1.0914e-04 - val_sparse_categorical_accuracy: 0.8182 - val_student_loss: 0.4062 - lr: 3.1316e-11\n",
            "Epoch 175/300\n",
            "1/6 [====>.........................] - ETA: 0s - sparse_categorical_accuracy: 0.8200 - student_loss: 0.4502 - distillation_loss: 1.4917e-04WARNING:tensorflow:Early stopping conditioned on metric `val_loss` which is not available. Available metrics are: sparse_categorical_accuracy,student_loss,distillation_loss,val_sparse_categorical_accuracy,val_student_loss,lr\n"
          ]
        },
        {
          "name": "stderr",
          "output_type": "stream",
          "text": [
            "WARNING:tensorflow:Early stopping conditioned on metric `val_loss` which is not available. Available metrics are: sparse_categorical_accuracy,student_loss,distillation_loss,val_sparse_categorical_accuracy,val_student_loss,lr\n"
          ]
        },
        {
          "name": "stdout",
          "output_type": "stream",
          "text": [
            "6/6 [==============================] - 0s 7ms/step - sparse_categorical_accuracy: 0.8864 - student_loss: 0.3521 - distillation_loss: 1.2132e-04 - val_sparse_categorical_accuracy: 0.8182 - val_student_loss: 0.4062 - lr: 2.8185e-11\n",
            "Epoch 176/300\n",
            "1/6 [====>.........................] - ETA: 0s - sparse_categorical_accuracy: 0.8800 - student_loss: 0.3752 - distillation_loss: 1.4355e-04WARNING:tensorflow:Early stopping conditioned on metric `val_loss` which is not available. Available metrics are: sparse_categorical_accuracy,student_loss,distillation_loss,val_sparse_categorical_accuracy,val_student_loss,lr\n"
          ]
        },
        {
          "name": "stderr",
          "output_type": "stream",
          "text": [
            "WARNING:tensorflow:Early stopping conditioned on metric `val_loss` which is not available. Available metrics are: sparse_categorical_accuracy,student_loss,distillation_loss,val_sparse_categorical_accuracy,val_student_loss,lr\n"
          ]
        },
        {
          "name": "stdout",
          "output_type": "stream",
          "text": [
            "6/6 [==============================] - 0s 7ms/step - sparse_categorical_accuracy: 0.8864 - student_loss: 0.3951 - distillation_loss: 1.2457e-04 - val_sparse_categorical_accuracy: 0.8182 - val_student_loss: 0.4062 - lr: 2.5366e-11\n",
            "Epoch 177/300\n",
            "1/6 [====>.........................] - ETA: 0s - sparse_categorical_accuracy: 0.9000 - student_loss: 0.4245 - distillation_loss: 1.1895e-04WARNING:tensorflow:Early stopping conditioned on metric `val_loss` which is not available. Available metrics are: sparse_categorical_accuracy,student_loss,distillation_loss,val_sparse_categorical_accuracy,val_student_loss,lr\n"
          ]
        },
        {
          "name": "stderr",
          "output_type": "stream",
          "text": [
            "WARNING:tensorflow:Early stopping conditioned on metric `val_loss` which is not available. Available metrics are: sparse_categorical_accuracy,student_loss,distillation_loss,val_sparse_categorical_accuracy,val_student_loss,lr\n"
          ]
        },
        {
          "name": "stdout",
          "output_type": "stream",
          "text": [
            "6/6 [==============================] - 0s 6ms/step - sparse_categorical_accuracy: 0.8864 - student_loss: 0.3957 - distillation_loss: 1.3963e-04 - val_sparse_categorical_accuracy: 0.8182 - val_student_loss: 0.4062 - lr: 2.2830e-11\n",
            "Epoch 178/300\n",
            "1/6 [====>.........................] - ETA: 0s - sparse_categorical_accuracy: 0.8400 - student_loss: 0.4573 - distillation_loss: 1.0426e-04WARNING:tensorflow:Early stopping conditioned on metric `val_loss` which is not available. Available metrics are: sparse_categorical_accuracy,student_loss,distillation_loss,val_sparse_categorical_accuracy,val_student_loss,lr\n"
          ]
        },
        {
          "name": "stderr",
          "output_type": "stream",
          "text": [
            "WARNING:tensorflow:Early stopping conditioned on metric `val_loss` which is not available. Available metrics are: sparse_categorical_accuracy,student_loss,distillation_loss,val_sparse_categorical_accuracy,val_student_loss,lr\n"
          ]
        },
        {
          "name": "stdout",
          "output_type": "stream",
          "text": [
            "6/6 [==============================] - 0s 6ms/step - sparse_categorical_accuracy: 0.8864 - student_loss: 0.3269 - distillation_loss: 1.0290e-04 - val_sparse_categorical_accuracy: 0.8182 - val_student_loss: 0.4062 - lr: 2.0547e-11\n",
            "Epoch 179/300\n",
            "1/6 [====>.........................] - ETA: 0s - sparse_categorical_accuracy: 0.8800 - student_loss: 0.4258 - distillation_loss: 1.2004e-04WARNING:tensorflow:Early stopping conditioned on metric `val_loss` which is not available. Available metrics are: sparse_categorical_accuracy,student_loss,distillation_loss,val_sparse_categorical_accuracy,val_student_loss,lr\n"
          ]
        },
        {
          "name": "stderr",
          "output_type": "stream",
          "text": [
            "WARNING:tensorflow:Early stopping conditioned on metric `val_loss` which is not available. Available metrics are: sparse_categorical_accuracy,student_loss,distillation_loss,val_sparse_categorical_accuracy,val_student_loss,lr\n"
          ]
        },
        {
          "name": "stdout",
          "output_type": "stream",
          "text": [
            "6/6 [==============================] - 0s 9ms/step - sparse_categorical_accuracy: 0.8864 - student_loss: 0.3565 - distillation_loss: 1.3218e-04 - val_sparse_categorical_accuracy: 0.8182 - val_student_loss: 0.4062 - lr: 1.8492e-11\n",
            "Epoch 180/300\n",
            "1/6 [====>.........................] - ETA: 0s - sparse_categorical_accuracy: 0.9000 - student_loss: 0.3203 - distillation_loss: 9.1955e-05WARNING:tensorflow:Early stopping conditioned on metric `val_loss` which is not available. Available metrics are: sparse_categorical_accuracy,student_loss,distillation_loss,val_sparse_categorical_accuracy,val_student_loss,lr\n"
          ]
        },
        {
          "name": "stderr",
          "output_type": "stream",
          "text": [
            "WARNING:tensorflow:Early stopping conditioned on metric `val_loss` which is not available. Available metrics are: sparse_categorical_accuracy,student_loss,distillation_loss,val_sparse_categorical_accuracy,val_student_loss,lr\n"
          ]
        },
        {
          "name": "stdout",
          "output_type": "stream",
          "text": [
            "6/6 [==============================] - 0s 6ms/step - sparse_categorical_accuracy: 0.8864 - student_loss: 0.3506 - distillation_loss: 1.2432e-04 - val_sparse_categorical_accuracy: 0.8182 - val_student_loss: 0.4062 - lr: 1.6643e-11\n",
            "Epoch 181/300\n",
            "1/6 [====>.........................] - ETA: 0s - sparse_categorical_accuracy: 0.8400 - student_loss: 0.3769 - distillation_loss: 1.3855e-04WARNING:tensorflow:Early stopping conditioned on metric `val_loss` which is not available. Available metrics are: sparse_categorical_accuracy,student_loss,distillation_loss,val_sparse_categorical_accuracy,val_student_loss,lr\n"
          ]
        },
        {
          "name": "stderr",
          "output_type": "stream",
          "text": [
            "WARNING:tensorflow:Early stopping conditioned on metric `val_loss` which is not available. Available metrics are: sparse_categorical_accuracy,student_loss,distillation_loss,val_sparse_categorical_accuracy,val_student_loss,lr\n"
          ]
        },
        {
          "name": "stdout",
          "output_type": "stream",
          "text": [
            "6/6 [==============================] - 0s 7ms/step - sparse_categorical_accuracy: 0.8864 - student_loss: 0.3828 - distillation_loss: 1.2407e-04 - val_sparse_categorical_accuracy: 0.8182 - val_student_loss: 0.4062 - lr: 1.4979e-11\n",
            "Epoch 182/300\n",
            "1/6 [====>.........................] - ETA: 0s - sparse_categorical_accuracy: 0.9200 - student_loss: 0.3611 - distillation_loss: 1.4889e-04WARNING:tensorflow:Early stopping conditioned on metric `val_loss` which is not available. Available metrics are: sparse_categorical_accuracy,student_loss,distillation_loss,val_sparse_categorical_accuracy,val_student_loss,lr\n"
          ]
        },
        {
          "name": "stderr",
          "output_type": "stream",
          "text": [
            "WARNING:tensorflow:Early stopping conditioned on metric `val_loss` which is not available. Available metrics are: sparse_categorical_accuracy,student_loss,distillation_loss,val_sparse_categorical_accuracy,val_student_loss,lr\n"
          ]
        },
        {
          "name": "stdout",
          "output_type": "stream",
          "text": [
            "6/6 [==============================] - 0s 7ms/step - sparse_categorical_accuracy: 0.8864 - student_loss: 0.3615 - distillation_loss: 1.2302e-04 - val_sparse_categorical_accuracy: 0.8182 - val_student_loss: 0.4062 - lr: 1.3481e-11\n",
            "Epoch 183/300\n",
            "1/6 [====>.........................] - ETA: 0s - sparse_categorical_accuracy: 0.8800 - student_loss: 0.3614 - distillation_loss: 1.1001e-04WARNING:tensorflow:Early stopping conditioned on metric `val_loss` which is not available. Available metrics are: sparse_categorical_accuracy,student_loss,distillation_loss,val_sparse_categorical_accuracy,val_student_loss,lr\n"
          ]
        },
        {
          "name": "stderr",
          "output_type": "stream",
          "text": [
            "WARNING:tensorflow:Early stopping conditioned on metric `val_loss` which is not available. Available metrics are: sparse_categorical_accuracy,student_loss,distillation_loss,val_sparse_categorical_accuracy,val_student_loss,lr\n"
          ]
        },
        {
          "name": "stdout",
          "output_type": "stream",
          "text": [
            "6/6 [==============================] - 0s 15ms/step - sparse_categorical_accuracy: 0.8864 - student_loss: 0.3709 - distillation_loss: 1.2347e-04 - val_sparse_categorical_accuracy: 0.8182 - val_student_loss: 0.4062 - lr: 1.2133e-11\n",
            "Epoch 184/300\n",
            "1/6 [====>.........................] - ETA: 0s - sparse_categorical_accuracy: 0.8600 - student_loss: 0.3616 - distillation_loss: 1.2149e-04WARNING:tensorflow:Early stopping conditioned on metric `val_loss` which is not available. Available metrics are: sparse_categorical_accuracy,student_loss,distillation_loss,val_sparse_categorical_accuracy,val_student_loss,lr\n"
          ]
        },
        {
          "name": "stderr",
          "output_type": "stream",
          "text": [
            "WARNING:tensorflow:Early stopping conditioned on metric `val_loss` which is not available. Available metrics are: sparse_categorical_accuracy,student_loss,distillation_loss,val_sparse_categorical_accuracy,val_student_loss,lr\n"
          ]
        },
        {
          "name": "stdout",
          "output_type": "stream",
          "text": [
            "6/6 [==============================] - 0s 6ms/step - sparse_categorical_accuracy: 0.8864 - student_loss: 0.3665 - distillation_loss: 1.0540e-04 - val_sparse_categorical_accuracy: 0.8182 - val_student_loss: 0.4062 - lr: 1.0919e-11\n",
            "Epoch 185/300\n",
            "1/6 [====>.........................] - ETA: 0s - sparse_categorical_accuracy: 0.9400 - student_loss: 0.3405 - distillation_loss: 1.3548e-04WARNING:tensorflow:Early stopping conditioned on metric `val_loss` which is not available. Available metrics are: sparse_categorical_accuracy,student_loss,distillation_loss,val_sparse_categorical_accuracy,val_student_loss,lr\n"
          ]
        },
        {
          "name": "stderr",
          "output_type": "stream",
          "text": [
            "WARNING:tensorflow:Early stopping conditioned on metric `val_loss` which is not available. Available metrics are: sparse_categorical_accuracy,student_loss,distillation_loss,val_sparse_categorical_accuracy,val_student_loss,lr\n"
          ]
        },
        {
          "name": "stdout",
          "output_type": "stream",
          "text": [
            "6/6 [==============================] - 0s 7ms/step - sparse_categorical_accuracy: 0.8864 - student_loss: 0.3420 - distillation_loss: 1.2727e-04 - val_sparse_categorical_accuracy: 0.8182 - val_student_loss: 0.4062 - lr: 9.8274e-12\n",
            "Epoch 186/300\n",
            "1/6 [====>.........................] - ETA: 0s - sparse_categorical_accuracy: 0.8600 - student_loss: 0.3793 - distillation_loss: 1.2585e-04WARNING:tensorflow:Early stopping conditioned on metric `val_loss` which is not available. Available metrics are: sparse_categorical_accuracy,student_loss,distillation_loss,val_sparse_categorical_accuracy,val_student_loss,lr\n"
          ]
        },
        {
          "name": "stderr",
          "output_type": "stream",
          "text": [
            "WARNING:tensorflow:Early stopping conditioned on metric `val_loss` which is not available. Available metrics are: sparse_categorical_accuracy,student_loss,distillation_loss,val_sparse_categorical_accuracy,val_student_loss,lr\n"
          ]
        },
        {
          "name": "stdout",
          "output_type": "stream",
          "text": [
            "6/6 [==============================] - 0s 5ms/step - sparse_categorical_accuracy: 0.8864 - student_loss: 0.3625 - distillation_loss: 1.3743e-04 - val_sparse_categorical_accuracy: 0.8182 - val_student_loss: 0.4062 - lr: 8.8447e-12\n",
            "Epoch 187/300\n",
            "1/6 [====>.........................] - ETA: 0s - sparse_categorical_accuracy: 0.9400 - student_loss: 0.2919 - distillation_loss: 7.1776e-05WARNING:tensorflow:Early stopping conditioned on metric `val_loss` which is not available. Available metrics are: sparse_categorical_accuracy,student_loss,distillation_loss,val_sparse_categorical_accuracy,val_student_loss,lr\n"
          ]
        },
        {
          "name": "stderr",
          "output_type": "stream",
          "text": [
            "WARNING:tensorflow:Early stopping conditioned on metric `val_loss` which is not available. Available metrics are: sparse_categorical_accuracy,student_loss,distillation_loss,val_sparse_categorical_accuracy,val_student_loss,lr\n"
          ]
        },
        {
          "name": "stdout",
          "output_type": "stream",
          "text": [
            "6/6 [==============================] - 0s 6ms/step - sparse_categorical_accuracy: 0.8864 - student_loss: 0.3664 - distillation_loss: 1.1189e-04 - val_sparse_categorical_accuracy: 0.8182 - val_student_loss: 0.4062 - lr: 7.9602e-12\n",
            "Epoch 188/300\n",
            "1/6 [====>.........................] - ETA: 0s - sparse_categorical_accuracy: 0.8400 - student_loss: 0.3948 - distillation_loss: 1.5633e-04WARNING:tensorflow:Early stopping conditioned on metric `val_loss` which is not available. Available metrics are: sparse_categorical_accuracy,student_loss,distillation_loss,val_sparse_categorical_accuracy,val_student_loss,lr\n"
          ]
        },
        {
          "name": "stderr",
          "output_type": "stream",
          "text": [
            "WARNING:tensorflow:Early stopping conditioned on metric `val_loss` which is not available. Available metrics are: sparse_categorical_accuracy,student_loss,distillation_loss,val_sparse_categorical_accuracy,val_student_loss,lr\n"
          ]
        },
        {
          "name": "stdout",
          "output_type": "stream",
          "text": [
            "6/6 [==============================] - 0s 8ms/step - sparse_categorical_accuracy: 0.8864 - student_loss: 0.3645 - distillation_loss: 1.1992e-04 - val_sparse_categorical_accuracy: 0.8182 - val_student_loss: 0.4062 - lr: 7.1642e-12\n",
            "Epoch 189/300\n",
            "1/6 [====>.........................] - ETA: 0s - sparse_categorical_accuracy: 0.9000 - student_loss: 0.4251 - distillation_loss: 1.3808e-04WARNING:tensorflow:Early stopping conditioned on metric `val_loss` which is not available. Available metrics are: sparse_categorical_accuracy,student_loss,distillation_loss,val_sparse_categorical_accuracy,val_student_loss,lr\n"
          ]
        },
        {
          "name": "stderr",
          "output_type": "stream",
          "text": [
            "WARNING:tensorflow:Early stopping conditioned on metric `val_loss` which is not available. Available metrics are: sparse_categorical_accuracy,student_loss,distillation_loss,val_sparse_categorical_accuracy,val_student_loss,lr\n"
          ]
        },
        {
          "name": "stdout",
          "output_type": "stream",
          "text": [
            "6/6 [==============================] - 0s 7ms/step - sparse_categorical_accuracy: 0.8864 - student_loss: 0.4123 - distillation_loss: 1.2463e-04 - val_sparse_categorical_accuracy: 0.8182 - val_student_loss: 0.4062 - lr: 6.4478e-12\n",
            "Epoch 190/300\n",
            "1/6 [====>.........................] - ETA: 0s - sparse_categorical_accuracy: 0.9000 - student_loss: 0.3850 - distillation_loss: 1.0983e-04WARNING:tensorflow:Early stopping conditioned on metric `val_loss` which is not available. Available metrics are: sparse_categorical_accuracy,student_loss,distillation_loss,val_sparse_categorical_accuracy,val_student_loss,lr\n"
          ]
        },
        {
          "name": "stderr",
          "output_type": "stream",
          "text": [
            "WARNING:tensorflow:Early stopping conditioned on metric `val_loss` which is not available. Available metrics are: sparse_categorical_accuracy,student_loss,distillation_loss,val_sparse_categorical_accuracy,val_student_loss,lr\n"
          ]
        },
        {
          "name": "stdout",
          "output_type": "stream",
          "text": [
            "6/6 [==============================] - 0s 6ms/step - sparse_categorical_accuracy: 0.8864 - student_loss: 0.3894 - distillation_loss: 1.1980e-04 - val_sparse_categorical_accuracy: 0.8182 - val_student_loss: 0.4062 - lr: 5.8030e-12\n",
            "Epoch 191/300\n",
            "1/6 [====>.........................] - ETA: 0s - sparse_categorical_accuracy: 0.9200 - student_loss: 0.3082 - distillation_loss: 8.8146e-05WARNING:tensorflow:Early stopping conditioned on metric `val_loss` which is not available. Available metrics are: sparse_categorical_accuracy,student_loss,distillation_loss,val_sparse_categorical_accuracy,val_student_loss,lr\n"
          ]
        },
        {
          "name": "stderr",
          "output_type": "stream",
          "text": [
            "WARNING:tensorflow:Early stopping conditioned on metric `val_loss` which is not available. Available metrics are: sparse_categorical_accuracy,student_loss,distillation_loss,val_sparse_categorical_accuracy,val_student_loss,lr\n"
          ]
        },
        {
          "name": "stdout",
          "output_type": "stream",
          "text": [
            "6/6 [==============================] - 0s 7ms/step - sparse_categorical_accuracy: 0.8864 - student_loss: 0.4322 - distillation_loss: 1.4677e-04 - val_sparse_categorical_accuracy: 0.8182 - val_student_loss: 0.4062 - lr: 5.2227e-12\n",
            "Epoch 192/300\n",
            "1/6 [====>.........................] - ETA: 0s - sparse_categorical_accuracy: 0.8800 - student_loss: 0.3399 - distillation_loss: 1.2905e-04WARNING:tensorflow:Early stopping conditioned on metric `val_loss` which is not available. Available metrics are: sparse_categorical_accuracy,student_loss,distillation_loss,val_sparse_categorical_accuracy,val_student_loss,lr\n"
          ]
        },
        {
          "name": "stderr",
          "output_type": "stream",
          "text": [
            "WARNING:tensorflow:Early stopping conditioned on metric `val_loss` which is not available. Available metrics are: sparse_categorical_accuracy,student_loss,distillation_loss,val_sparse_categorical_accuracy,val_student_loss,lr\n"
          ]
        },
        {
          "name": "stdout",
          "output_type": "stream",
          "text": [
            "6/6 [==============================] - 0s 6ms/step - sparse_categorical_accuracy: 0.8864 - student_loss: 0.3733 - distillation_loss: 1.2375e-04 - val_sparse_categorical_accuracy: 0.8182 - val_student_loss: 0.4062 - lr: 4.7004e-12\n",
            "Epoch 193/300\n",
            "1/6 [====>.........................] - ETA: 0s - sparse_categorical_accuracy: 0.8800 - student_loss: 0.3451 - distillation_loss: 1.0589e-04WARNING:tensorflow:Early stopping conditioned on metric `val_loss` which is not available. Available metrics are: sparse_categorical_accuracy,student_loss,distillation_loss,val_sparse_categorical_accuracy,val_student_loss,lr\n"
          ]
        },
        {
          "name": "stderr",
          "output_type": "stream",
          "text": [
            "WARNING:tensorflow:Early stopping conditioned on metric `val_loss` which is not available. Available metrics are: sparse_categorical_accuracy,student_loss,distillation_loss,val_sparse_categorical_accuracy,val_student_loss,lr\n"
          ]
        },
        {
          "name": "stdout",
          "output_type": "stream",
          "text": [
            "6/6 [==============================] - 0s 6ms/step - sparse_categorical_accuracy: 0.8864 - student_loss: 0.3849 - distillation_loss: 1.1171e-04 - val_sparse_categorical_accuracy: 0.8182 - val_student_loss: 0.4062 - lr: 4.2304e-12\n",
            "Epoch 194/300\n",
            "1/6 [====>.........................] - ETA: 0s - sparse_categorical_accuracy: 0.9000 - student_loss: 0.2723 - distillation_loss: 8.0692e-05WARNING:tensorflow:Early stopping conditioned on metric `val_loss` which is not available. Available metrics are: sparse_categorical_accuracy,student_loss,distillation_loss,val_sparse_categorical_accuracy,val_student_loss,lr\n"
          ]
        },
        {
          "name": "stderr",
          "output_type": "stream",
          "text": [
            "WARNING:tensorflow:Early stopping conditioned on metric `val_loss` which is not available. Available metrics are: sparse_categorical_accuracy,student_loss,distillation_loss,val_sparse_categorical_accuracy,val_student_loss,lr\n"
          ]
        },
        {
          "name": "stdout",
          "output_type": "stream",
          "text": [
            "6/6 [==============================] - 0s 9ms/step - sparse_categorical_accuracy: 0.8864 - student_loss: 0.3487 - distillation_loss: 1.2476e-04 - val_sparse_categorical_accuracy: 0.8182 - val_student_loss: 0.4062 - lr: 3.8073e-12\n",
            "Epoch 195/300\n",
            "1/6 [====>.........................] - ETA: 0s - sparse_categorical_accuracy: 0.9200 - student_loss: 0.3564 - distillation_loss: 1.1083e-04WARNING:tensorflow:Early stopping conditioned on metric `val_loss` which is not available. Available metrics are: sparse_categorical_accuracy,student_loss,distillation_loss,val_sparse_categorical_accuracy,val_student_loss,lr\n"
          ]
        },
        {
          "name": "stderr",
          "output_type": "stream",
          "text": [
            "WARNING:tensorflow:Early stopping conditioned on metric `val_loss` which is not available. Available metrics are: sparse_categorical_accuracy,student_loss,distillation_loss,val_sparse_categorical_accuracy,val_student_loss,lr\n"
          ]
        },
        {
          "name": "stdout",
          "output_type": "stream",
          "text": [
            "6/6 [==============================] - 0s 6ms/step - sparse_categorical_accuracy: 0.8864 - student_loss: 0.3119 - distillation_loss: 9.6319e-05 - val_sparse_categorical_accuracy: 0.8182 - val_student_loss: 0.4062 - lr: 3.4266e-12\n",
            "Epoch 196/300\n",
            "1/6 [====>.........................] - ETA: 0s - sparse_categorical_accuracy: 0.8800 - student_loss: 0.3911 - distillation_loss: 1.1887e-04WARNING:tensorflow:Early stopping conditioned on metric `val_loss` which is not available. Available metrics are: sparse_categorical_accuracy,student_loss,distillation_loss,val_sparse_categorical_accuracy,val_student_loss,lr\n"
          ]
        },
        {
          "name": "stderr",
          "output_type": "stream",
          "text": [
            "WARNING:tensorflow:Early stopping conditioned on metric `val_loss` which is not available. Available metrics are: sparse_categorical_accuracy,student_loss,distillation_loss,val_sparse_categorical_accuracy,val_student_loss,lr\n"
          ]
        },
        {
          "name": "stdout",
          "output_type": "stream",
          "text": [
            "6/6 [==============================] - 0s 7ms/step - sparse_categorical_accuracy: 0.8864 - student_loss: 0.3348 - distillation_loss: 1.1515e-04 - val_sparse_categorical_accuracy: 0.8182 - val_student_loss: 0.4062 - lr: 3.0839e-12\n",
            "Epoch 197/300\n",
            "1/6 [====>.........................] - ETA: 0s - sparse_categorical_accuracy: 0.9000 - student_loss: 0.3034 - distillation_loss: 1.3430e-04WARNING:tensorflow:Early stopping conditioned on metric `val_loss` which is not available. Available metrics are: sparse_categorical_accuracy,student_loss,distillation_loss,val_sparse_categorical_accuracy,val_student_loss,lr\n"
          ]
        },
        {
          "name": "stderr",
          "output_type": "stream",
          "text": [
            "WARNING:tensorflow:Early stopping conditioned on metric `val_loss` which is not available. Available metrics are: sparse_categorical_accuracy,student_loss,distillation_loss,val_sparse_categorical_accuracy,val_student_loss,lr\n"
          ]
        },
        {
          "name": "stdout",
          "output_type": "stream",
          "text": [
            "6/6 [==============================] - 0s 5ms/step - sparse_categorical_accuracy: 0.8864 - student_loss: 0.3589 - distillation_loss: 1.1367e-04 - val_sparse_categorical_accuracy: 0.8182 - val_student_loss: 0.4062 - lr: 2.7756e-12\n",
            "Epoch 198/300\n",
            "1/6 [====>.........................] - ETA: 0s - sparse_categorical_accuracy: 0.9200 - student_loss: 0.3395 - distillation_loss: 1.0666e-04WARNING:tensorflow:Early stopping conditioned on metric `val_loss` which is not available. Available metrics are: sparse_categorical_accuracy,student_loss,distillation_loss,val_sparse_categorical_accuracy,val_student_loss,lr\n"
          ]
        },
        {
          "name": "stderr",
          "output_type": "stream",
          "text": [
            "WARNING:tensorflow:Early stopping conditioned on metric `val_loss` which is not available. Available metrics are: sparse_categorical_accuracy,student_loss,distillation_loss,val_sparse_categorical_accuracy,val_student_loss,lr\n"
          ]
        },
        {
          "name": "stdout",
          "output_type": "stream",
          "text": [
            "6/6 [==============================] - 0s 6ms/step - sparse_categorical_accuracy: 0.8864 - student_loss: 0.3901 - distillation_loss: 1.3334e-04 - val_sparse_categorical_accuracy: 0.8182 - val_student_loss: 0.4062 - lr: 2.4980e-12\n",
            "Epoch 199/300\n",
            "1/6 [====>.........................] - ETA: 0s - sparse_categorical_accuracy: 0.8800 - student_loss: 0.4065 - distillation_loss: 1.1471e-04WARNING:tensorflow:Early stopping conditioned on metric `val_loss` which is not available. Available metrics are: sparse_categorical_accuracy,student_loss,distillation_loss,val_sparse_categorical_accuracy,val_student_loss,lr\n"
          ]
        },
        {
          "name": "stderr",
          "output_type": "stream",
          "text": [
            "WARNING:tensorflow:Early stopping conditioned on metric `val_loss` which is not available. Available metrics are: sparse_categorical_accuracy,student_loss,distillation_loss,val_sparse_categorical_accuracy,val_student_loss,lr\n"
          ]
        },
        {
          "name": "stdout",
          "output_type": "stream",
          "text": [
            "6/6 [==============================] - 0s 15ms/step - sparse_categorical_accuracy: 0.8864 - student_loss: 0.3265 - distillation_loss: 1.0182e-04 - val_sparse_categorical_accuracy: 0.8182 - val_student_loss: 0.4062 - lr: 2.2482e-12\n",
            "Epoch 200/300\n",
            "1/6 [====>.........................] - ETA: 0s - sparse_categorical_accuracy: 0.8200 - student_loss: 0.4470 - distillation_loss: 1.7935e-04WARNING:tensorflow:Early stopping conditioned on metric `val_loss` which is not available. Available metrics are: sparse_categorical_accuracy,student_loss,distillation_loss,val_sparse_categorical_accuracy,val_student_loss,lr\n"
          ]
        },
        {
          "name": "stderr",
          "output_type": "stream",
          "text": [
            "WARNING:tensorflow:Early stopping conditioned on metric `val_loss` which is not available. Available metrics are: sparse_categorical_accuracy,student_loss,distillation_loss,val_sparse_categorical_accuracy,val_student_loss,lr\n"
          ]
        },
        {
          "name": "stdout",
          "output_type": "stream",
          "text": [
            "6/6 [==============================] - 0s 7ms/step - sparse_categorical_accuracy: 0.8864 - student_loss: 0.3322 - distillation_loss: 1.1062e-04 - val_sparse_categorical_accuracy: 0.8182 - val_student_loss: 0.4062 - lr: 2.0234e-12\n",
            "Epoch 201/300\n",
            "1/6 [====>.........................] - ETA: 0s - sparse_categorical_accuracy: 0.8600 - student_loss: 0.4444 - distillation_loss: 1.1687e-04WARNING:tensorflow:Early stopping conditioned on metric `val_loss` which is not available. Available metrics are: sparse_categorical_accuracy,student_loss,distillation_loss,val_sparse_categorical_accuracy,val_student_loss,lr\n"
          ]
        },
        {
          "name": "stderr",
          "output_type": "stream",
          "text": [
            "WARNING:tensorflow:Early stopping conditioned on metric `val_loss` which is not available. Available metrics are: sparse_categorical_accuracy,student_loss,distillation_loss,val_sparse_categorical_accuracy,val_student_loss,lr\n"
          ]
        },
        {
          "name": "stdout",
          "output_type": "stream",
          "text": [
            "6/6 [==============================] - 0s 6ms/step - sparse_categorical_accuracy: 0.8864 - student_loss: 0.3804 - distillation_loss: 1.2209e-04 - val_sparse_categorical_accuracy: 0.8182 - val_student_loss: 0.4062 - lr: 1.8210e-12\n",
            "Epoch 202/300\n",
            "1/6 [====>.........................] - ETA: 0s - sparse_categorical_accuracy: 0.9200 - student_loss: 0.3019 - distillation_loss: 1.0647e-04WARNING:tensorflow:Early stopping conditioned on metric `val_loss` which is not available. Available metrics are: sparse_categorical_accuracy,student_loss,distillation_loss,val_sparse_categorical_accuracy,val_student_loss,lr\n"
          ]
        },
        {
          "name": "stderr",
          "output_type": "stream",
          "text": [
            "WARNING:tensorflow:Early stopping conditioned on metric `val_loss` which is not available. Available metrics are: sparse_categorical_accuracy,student_loss,distillation_loss,val_sparse_categorical_accuracy,val_student_loss,lr\n"
          ]
        },
        {
          "name": "stdout",
          "output_type": "stream",
          "text": [
            "6/6 [==============================] - 0s 7ms/step - sparse_categorical_accuracy: 0.8864 - student_loss: 0.4051 - distillation_loss: 1.1601e-04 - val_sparse_categorical_accuracy: 0.8182 - val_student_loss: 0.4062 - lr: 1.6389e-12\n",
            "Epoch 203/300\n",
            "1/6 [====>.........................] - ETA: 0s - sparse_categorical_accuracy: 0.9000 - student_loss: 0.3781 - distillation_loss: 1.0723e-04WARNING:tensorflow:Early stopping conditioned on metric `val_loss` which is not available. Available metrics are: sparse_categorical_accuracy,student_loss,distillation_loss,val_sparse_categorical_accuracy,val_student_loss,lr\n"
          ]
        },
        {
          "name": "stderr",
          "output_type": "stream",
          "text": [
            "WARNING:tensorflow:Early stopping conditioned on metric `val_loss` which is not available. Available metrics are: sparse_categorical_accuracy,student_loss,distillation_loss,val_sparse_categorical_accuracy,val_student_loss,lr\n"
          ]
        },
        {
          "name": "stdout",
          "output_type": "stream",
          "text": [
            "6/6 [==============================] - 0s 6ms/step - sparse_categorical_accuracy: 0.8864 - student_loss: 0.3944 - distillation_loss: 1.3535e-04 - val_sparse_categorical_accuracy: 0.8182 - val_student_loss: 0.4062 - lr: 1.4750e-12\n",
            "Epoch 204/300\n",
            "1/6 [====>.........................] - ETA: 0s - sparse_categorical_accuracy: 0.9400 - student_loss: 0.2795 - distillation_loss: 1.1874e-04WARNING:tensorflow:Early stopping conditioned on metric `val_loss` which is not available. Available metrics are: sparse_categorical_accuracy,student_loss,distillation_loss,val_sparse_categorical_accuracy,val_student_loss,lr\n"
          ]
        },
        {
          "name": "stderr",
          "output_type": "stream",
          "text": [
            "WARNING:tensorflow:Early stopping conditioned on metric `val_loss` which is not available. Available metrics are: sparse_categorical_accuracy,student_loss,distillation_loss,val_sparse_categorical_accuracy,val_student_loss,lr\n"
          ]
        },
        {
          "name": "stdout",
          "output_type": "stream",
          "text": [
            "6/6 [==============================] - 0s 7ms/step - sparse_categorical_accuracy: 0.8864 - student_loss: 0.4112 - distillation_loss: 1.2090e-04 - val_sparse_categorical_accuracy: 0.8182 - val_student_loss: 0.4062 - lr: 1.3275e-12\n",
            "Epoch 205/300\n",
            "1/6 [====>.........................] - ETA: 0s - sparse_categorical_accuracy: 0.9400 - student_loss: 0.3430 - distillation_loss: 1.0554e-04WARNING:tensorflow:Early stopping conditioned on metric `val_loss` which is not available. Available metrics are: sparse_categorical_accuracy,student_loss,distillation_loss,val_sparse_categorical_accuracy,val_student_loss,lr\n"
          ]
        },
        {
          "name": "stderr",
          "output_type": "stream",
          "text": [
            "WARNING:tensorflow:Early stopping conditioned on metric `val_loss` which is not available. Available metrics are: sparse_categorical_accuracy,student_loss,distillation_loss,val_sparse_categorical_accuracy,val_student_loss,lr\n"
          ]
        },
        {
          "name": "stdout",
          "output_type": "stream",
          "text": [
            "6/6 [==============================] - 0s 6ms/step - sparse_categorical_accuracy: 0.8864 - student_loss: 0.3439 - distillation_loss: 1.1440e-04 - val_sparse_categorical_accuracy: 0.8182 - val_student_loss: 0.4062 - lr: 1.1948e-12\n",
            "Epoch 206/300\n",
            "1/6 [====>.........................] - ETA: 0s - sparse_categorical_accuracy: 0.8800 - student_loss: 0.3192 - distillation_loss: 1.2279e-04WARNING:tensorflow:Early stopping conditioned on metric `val_loss` which is not available. Available metrics are: sparse_categorical_accuracy,student_loss,distillation_loss,val_sparse_categorical_accuracy,val_student_loss,lr\n"
          ]
        },
        {
          "name": "stderr",
          "output_type": "stream",
          "text": [
            "WARNING:tensorflow:Early stopping conditioned on metric `val_loss` which is not available. Available metrics are: sparse_categorical_accuracy,student_loss,distillation_loss,val_sparse_categorical_accuracy,val_student_loss,lr\n"
          ]
        },
        {
          "name": "stdout",
          "output_type": "stream",
          "text": [
            "6/6 [==============================] - 0s 6ms/step - sparse_categorical_accuracy: 0.8864 - student_loss: 0.4458 - distillation_loss: 1.2492e-04 - val_sparse_categorical_accuracy: 0.8182 - val_student_loss: 0.4062 - lr: 1.0753e-12\n",
            "Epoch 207/300\n",
            "1/6 [====>.........................] - ETA: 0s - sparse_categorical_accuracy: 0.8800 - student_loss: 0.3311 - distillation_loss: 1.2532e-04WARNING:tensorflow:Early stopping conditioned on metric `val_loss` which is not available. Available metrics are: sparse_categorical_accuracy,student_loss,distillation_loss,val_sparse_categorical_accuracy,val_student_loss,lr\n"
          ]
        },
        {
          "name": "stderr",
          "output_type": "stream",
          "text": [
            "WARNING:tensorflow:Early stopping conditioned on metric `val_loss` which is not available. Available metrics are: sparse_categorical_accuracy,student_loss,distillation_loss,val_sparse_categorical_accuracy,val_student_loss,lr\n"
          ]
        },
        {
          "name": "stdout",
          "output_type": "stream",
          "text": [
            "6/6 [==============================] - 0s 8ms/step - sparse_categorical_accuracy: 0.8864 - student_loss: 0.3971 - distillation_loss: 1.2066e-04 - val_sparse_categorical_accuracy: 0.8182 - val_student_loss: 0.4062 - lr: 9.6778e-13\n",
            "Epoch 208/300\n",
            "1/6 [====>.........................] - ETA: 0s - sparse_categorical_accuracy: 0.9000 - student_loss: 0.4073 - distillation_loss: 9.0595e-05WARNING:tensorflow:Early stopping conditioned on metric `val_loss` which is not available. Available metrics are: sparse_categorical_accuracy,student_loss,distillation_loss,val_sparse_categorical_accuracy,val_student_loss,lr\n"
          ]
        },
        {
          "name": "stderr",
          "output_type": "stream",
          "text": [
            "WARNING:tensorflow:Early stopping conditioned on metric `val_loss` which is not available. Available metrics are: sparse_categorical_accuracy,student_loss,distillation_loss,val_sparse_categorical_accuracy,val_student_loss,lr\n"
          ]
        },
        {
          "name": "stdout",
          "output_type": "stream",
          "text": [
            "6/6 [==============================] - 0s 9ms/step - sparse_categorical_accuracy: 0.8864 - student_loss: 0.3938 - distillation_loss: 1.1803e-04 - val_sparse_categorical_accuracy: 0.8182 - val_student_loss: 0.4062 - lr: 8.7100e-13\n",
            "Epoch 209/300\n",
            "1/6 [====>.........................] - ETA: 0s - sparse_categorical_accuracy: 0.9200 - student_loss: 0.3282 - distillation_loss: 7.1893e-05WARNING:tensorflow:Early stopping conditioned on metric `val_loss` which is not available. Available metrics are: sparse_categorical_accuracy,student_loss,distillation_loss,val_sparse_categorical_accuracy,val_student_loss,lr\n"
          ]
        },
        {
          "name": "stderr",
          "output_type": "stream",
          "text": [
            "WARNING:tensorflow:Early stopping conditioned on metric `val_loss` which is not available. Available metrics are: sparse_categorical_accuracy,student_loss,distillation_loss,val_sparse_categorical_accuracy,val_student_loss,lr\n"
          ]
        },
        {
          "name": "stdout",
          "output_type": "stream",
          "text": [
            "6/6 [==============================] - 0s 7ms/step - sparse_categorical_accuracy: 0.8864 - student_loss: 0.3316 - distillation_loss: 1.0945e-04 - val_sparse_categorical_accuracy: 0.8182 - val_student_loss: 0.4062 - lr: 7.8390e-13\n",
            "Epoch 210/300\n",
            "1/6 [====>.........................] - ETA: 0s - sparse_categorical_accuracy: 0.9000 - student_loss: 0.4693 - distillation_loss: 8.8369e-05WARNING:tensorflow:Early stopping conditioned on metric `val_loss` which is not available. Available metrics are: sparse_categorical_accuracy,student_loss,distillation_loss,val_sparse_categorical_accuracy,val_student_loss,lr\n"
          ]
        },
        {
          "name": "stderr",
          "output_type": "stream",
          "text": [
            "WARNING:tensorflow:Early stopping conditioned on metric `val_loss` which is not available. Available metrics are: sparse_categorical_accuracy,student_loss,distillation_loss,val_sparse_categorical_accuracy,val_student_loss,lr\n"
          ]
        },
        {
          "name": "stdout",
          "output_type": "stream",
          "text": [
            "6/6 [==============================] - 0s 7ms/step - sparse_categorical_accuracy: 0.8864 - student_loss: 0.3415 - distillation_loss: 1.1288e-04 - val_sparse_categorical_accuracy: 0.8182 - val_student_loss: 0.4062 - lr: 7.0551e-13\n",
            "Epoch 211/300\n",
            "1/6 [====>.........................] - ETA: 0s - sparse_categorical_accuracy: 0.9000 - student_loss: 0.3175 - distillation_loss: 9.1016e-05WARNING:tensorflow:Early stopping conditioned on metric `val_loss` which is not available. Available metrics are: sparse_categorical_accuracy,student_loss,distillation_loss,val_sparse_categorical_accuracy,val_student_loss,lr\n"
          ]
        },
        {
          "name": "stderr",
          "output_type": "stream",
          "text": [
            "WARNING:tensorflow:Early stopping conditioned on metric `val_loss` which is not available. Available metrics are: sparse_categorical_accuracy,student_loss,distillation_loss,val_sparse_categorical_accuracy,val_student_loss,lr\n"
          ]
        },
        {
          "name": "stdout",
          "output_type": "stream",
          "text": [
            "6/6 [==============================] - 0s 7ms/step - sparse_categorical_accuracy: 0.8864 - student_loss: 0.4011 - distillation_loss: 1.2891e-04 - val_sparse_categorical_accuracy: 0.8182 - val_student_loss: 0.4062 - lr: 6.3496e-13\n",
            "Epoch 212/300\n",
            "1/6 [====>.........................] - ETA: 0s - sparse_categorical_accuracy: 0.8400 - student_loss: 0.4392 - distillation_loss: 1.4517e-04WARNING:tensorflow:Early stopping conditioned on metric `val_loss` which is not available. Available metrics are: sparse_categorical_accuracy,student_loss,distillation_loss,val_sparse_categorical_accuracy,val_student_loss,lr\n"
          ]
        },
        {
          "name": "stderr",
          "output_type": "stream",
          "text": [
            "WARNING:tensorflow:Early stopping conditioned on metric `val_loss` which is not available. Available metrics are: sparse_categorical_accuracy,student_loss,distillation_loss,val_sparse_categorical_accuracy,val_student_loss,lr\n"
          ]
        },
        {
          "name": "stdout",
          "output_type": "stream",
          "text": [
            "6/6 [==============================] - 0s 8ms/step - sparse_categorical_accuracy: 0.8864 - student_loss: 0.4290 - distillation_loss: 1.1993e-04 - val_sparse_categorical_accuracy: 0.8182 - val_student_loss: 0.4062 - lr: 5.7146e-13\n",
            "Epoch 213/300\n",
            "1/6 [====>.........................] - ETA: 0s - sparse_categorical_accuracy: 0.8800 - student_loss: 0.3655 - distillation_loss: 1.3700e-04WARNING:tensorflow:Early stopping conditioned on metric `val_loss` which is not available. Available metrics are: sparse_categorical_accuracy,student_loss,distillation_loss,val_sparse_categorical_accuracy,val_student_loss,lr\n"
          ]
        },
        {
          "name": "stderr",
          "output_type": "stream",
          "text": [
            "WARNING:tensorflow:Early stopping conditioned on metric `val_loss` which is not available. Available metrics are: sparse_categorical_accuracy,student_loss,distillation_loss,val_sparse_categorical_accuracy,val_student_loss,lr\n"
          ]
        },
        {
          "name": "stdout",
          "output_type": "stream",
          "text": [
            "6/6 [==============================] - 0s 6ms/step - sparse_categorical_accuracy: 0.8864 - student_loss: 0.4126 - distillation_loss: 1.2974e-04 - val_sparse_categorical_accuracy: 0.8182 - val_student_loss: 0.4062 - lr: 5.1432e-13\n",
            "Epoch 214/300\n",
            "1/6 [====>.........................] - ETA: 0s - sparse_categorical_accuracy: 0.9400 - student_loss: 0.3032 - distillation_loss: 1.2451e-04WARNING:tensorflow:Early stopping conditioned on metric `val_loss` which is not available. Available metrics are: sparse_categorical_accuracy,student_loss,distillation_loss,val_sparse_categorical_accuracy,val_student_loss,lr\n"
          ]
        },
        {
          "name": "stderr",
          "output_type": "stream",
          "text": [
            "WARNING:tensorflow:Early stopping conditioned on metric `val_loss` which is not available. Available metrics are: sparse_categorical_accuracy,student_loss,distillation_loss,val_sparse_categorical_accuracy,val_student_loss,lr\n"
          ]
        },
        {
          "name": "stdout",
          "output_type": "stream",
          "text": [
            "6/6 [==============================] - 0s 8ms/step - sparse_categorical_accuracy: 0.8864 - student_loss: 0.3296 - distillation_loss: 1.0466e-04 - val_sparse_categorical_accuracy: 0.8182 - val_student_loss: 0.4062 - lr: 4.6288e-13\n",
            "Epoch 215/300\n",
            "1/6 [====>.........................] - ETA: 0s - sparse_categorical_accuracy: 0.9000 - student_loss: 0.3541 - distillation_loss: 1.1224e-04WARNING:tensorflow:Early stopping conditioned on metric `val_loss` which is not available. Available metrics are: sparse_categorical_accuracy,student_loss,distillation_loss,val_sparse_categorical_accuracy,val_student_loss,lr\n"
          ]
        },
        {
          "name": "stderr",
          "output_type": "stream",
          "text": [
            "WARNING:tensorflow:Early stopping conditioned on metric `val_loss` which is not available. Available metrics are: sparse_categorical_accuracy,student_loss,distillation_loss,val_sparse_categorical_accuracy,val_student_loss,lr\n"
          ]
        },
        {
          "name": "stdout",
          "output_type": "stream",
          "text": [
            "6/6 [==============================] - 0s 14ms/step - sparse_categorical_accuracy: 0.8864 - student_loss: 0.3796 - distillation_loss: 1.2460e-04 - val_sparse_categorical_accuracy: 0.8182 - val_student_loss: 0.4062 - lr: 4.1660e-13\n",
            "Epoch 216/300\n",
            "1/6 [====>.........................] - ETA: 0s - sparse_categorical_accuracy: 0.9200 - student_loss: 0.3509 - distillation_loss: 1.1767e-04WARNING:tensorflow:Early stopping conditioned on metric `val_loss` which is not available. Available metrics are: sparse_categorical_accuracy,student_loss,distillation_loss,val_sparse_categorical_accuracy,val_student_loss,lr\n"
          ]
        },
        {
          "name": "stderr",
          "output_type": "stream",
          "text": [
            "WARNING:tensorflow:Early stopping conditioned on metric `val_loss` which is not available. Available metrics are: sparse_categorical_accuracy,student_loss,distillation_loss,val_sparse_categorical_accuracy,val_student_loss,lr\n"
          ]
        },
        {
          "name": "stdout",
          "output_type": "stream",
          "text": [
            "6/6 [==============================] - 0s 7ms/step - sparse_categorical_accuracy: 0.8864 - student_loss: 0.3578 - distillation_loss: 1.1443e-04 - val_sparse_categorical_accuracy: 0.8182 - val_student_loss: 0.4062 - lr: 3.7494e-13\n",
            "Epoch 217/300\n",
            "1/6 [====>.........................] - ETA: 0s - sparse_categorical_accuracy: 0.9200 - student_loss: 0.3316 - distillation_loss: 1.0661e-04WARNING:tensorflow:Early stopping conditioned on metric `val_loss` which is not available. Available metrics are: sparse_categorical_accuracy,student_loss,distillation_loss,val_sparse_categorical_accuracy,val_student_loss,lr\n"
          ]
        },
        {
          "name": "stderr",
          "output_type": "stream",
          "text": [
            "WARNING:tensorflow:Early stopping conditioned on metric `val_loss` which is not available. Available metrics are: sparse_categorical_accuracy,student_loss,distillation_loss,val_sparse_categorical_accuracy,val_student_loss,lr\n"
          ]
        },
        {
          "name": "stdout",
          "output_type": "stream",
          "text": [
            "6/6 [==============================] - 0s 6ms/step - sparse_categorical_accuracy: 0.8864 - student_loss: 0.3558 - distillation_loss: 1.2721e-04 - val_sparse_categorical_accuracy: 0.8182 - val_student_loss: 0.4062 - lr: 3.3744e-13\n",
            "Epoch 218/300\n",
            "1/6 [====>.........................] - ETA: 0s - sparse_categorical_accuracy: 0.8800 - student_loss: 0.3504 - distillation_loss: 1.1765e-04WARNING:tensorflow:Early stopping conditioned on metric `val_loss` which is not available. Available metrics are: sparse_categorical_accuracy,student_loss,distillation_loss,val_sparse_categorical_accuracy,val_student_loss,lr\n"
          ]
        },
        {
          "name": "stderr",
          "output_type": "stream",
          "text": [
            "WARNING:tensorflow:Early stopping conditioned on metric `val_loss` which is not available. Available metrics are: sparse_categorical_accuracy,student_loss,distillation_loss,val_sparse_categorical_accuracy,val_student_loss,lr\n"
          ]
        },
        {
          "name": "stdout",
          "output_type": "stream",
          "text": [
            "6/6 [==============================] - 0s 6ms/step - sparse_categorical_accuracy: 0.8864 - student_loss: 0.3836 - distillation_loss: 1.2918e-04 - val_sparse_categorical_accuracy: 0.8182 - val_student_loss: 0.4062 - lr: 3.0370e-13\n",
            "Epoch 219/300\n",
            "1/6 [====>.........................] - ETA: 0s - sparse_categorical_accuracy: 0.8400 - student_loss: 0.4786 - distillation_loss: 1.5352e-04WARNING:tensorflow:Early stopping conditioned on metric `val_loss` which is not available. Available metrics are: sparse_categorical_accuracy,student_loss,distillation_loss,val_sparse_categorical_accuracy,val_student_loss,lr\n"
          ]
        },
        {
          "name": "stderr",
          "output_type": "stream",
          "text": [
            "WARNING:tensorflow:Early stopping conditioned on metric `val_loss` which is not available. Available metrics are: sparse_categorical_accuracy,student_loss,distillation_loss,val_sparse_categorical_accuracy,val_student_loss,lr\n"
          ]
        },
        {
          "name": "stdout",
          "output_type": "stream",
          "text": [
            "6/6 [==============================] - 0s 7ms/step - sparse_categorical_accuracy: 0.8864 - student_loss: 0.3978 - distillation_loss: 1.2075e-04 - val_sparse_categorical_accuracy: 0.8182 - val_student_loss: 0.4062 - lr: 2.7333e-13\n",
            "Epoch 220/300\n",
            "1/6 [====>.........................] - ETA: 0s - sparse_categorical_accuracy: 0.8200 - student_loss: 0.3934 - distillation_loss: 1.5849e-04WARNING:tensorflow:Early stopping conditioned on metric `val_loss` which is not available. Available metrics are: sparse_categorical_accuracy,student_loss,distillation_loss,val_sparse_categorical_accuracy,val_student_loss,lr\n"
          ]
        },
        {
          "name": "stderr",
          "output_type": "stream",
          "text": [
            "WARNING:tensorflow:Early stopping conditioned on metric `val_loss` which is not available. Available metrics are: sparse_categorical_accuracy,student_loss,distillation_loss,val_sparse_categorical_accuracy,val_student_loss,lr\n"
          ]
        },
        {
          "name": "stdout",
          "output_type": "stream",
          "text": [
            "6/6 [==============================] - 0s 6ms/step - sparse_categorical_accuracy: 0.8864 - student_loss: 0.3462 - distillation_loss: 1.1647e-04 - val_sparse_categorical_accuracy: 0.8182 - val_student_loss: 0.4062 - lr: 2.4600e-13\n",
            "Epoch 221/300\n",
            "1/6 [====>.........................] - ETA: 0s - sparse_categorical_accuracy: 0.9800 - student_loss: 0.2744 - distillation_loss: 8.8594e-05WARNING:tensorflow:Early stopping conditioned on metric `val_loss` which is not available. Available metrics are: sparse_categorical_accuracy,student_loss,distillation_loss,val_sparse_categorical_accuracy,val_student_loss,lr\n"
          ]
        },
        {
          "name": "stderr",
          "output_type": "stream",
          "text": [
            "WARNING:tensorflow:Early stopping conditioned on metric `val_loss` which is not available. Available metrics are: sparse_categorical_accuracy,student_loss,distillation_loss,val_sparse_categorical_accuracy,val_student_loss,lr\n"
          ]
        },
        {
          "name": "stdout",
          "output_type": "stream",
          "text": [
            "6/6 [==============================] - 0s 7ms/step - sparse_categorical_accuracy: 0.8864 - student_loss: 0.3266 - distillation_loss: 1.0682e-04 - val_sparse_categorical_accuracy: 0.8182 - val_student_loss: 0.4062 - lr: 2.2140e-13\n",
            "Epoch 222/300\n",
            "1/6 [====>.........................] - ETA: 0s - sparse_categorical_accuracy: 0.9400 - student_loss: 0.2807 - distillation_loss: 8.0678e-05WARNING:tensorflow:Early stopping conditioned on metric `val_loss` which is not available. Available metrics are: sparse_categorical_accuracy,student_loss,distillation_loss,val_sparse_categorical_accuracy,val_student_loss,lr\n"
          ]
        },
        {
          "name": "stderr",
          "output_type": "stream",
          "text": [
            "WARNING:tensorflow:Early stopping conditioned on metric `val_loss` which is not available. Available metrics are: sparse_categorical_accuracy,student_loss,distillation_loss,val_sparse_categorical_accuracy,val_student_loss,lr\n"
          ]
        },
        {
          "name": "stdout",
          "output_type": "stream",
          "text": [
            "6/6 [==============================] - 0s 6ms/step - sparse_categorical_accuracy: 0.8864 - student_loss: 0.3915 - distillation_loss: 1.0286e-04 - val_sparse_categorical_accuracy: 0.8182 - val_student_loss: 0.4062 - lr: 1.9926e-13\n",
            "Epoch 223/300\n",
            "1/6 [====>.........................] - ETA: 0s - sparse_categorical_accuracy: 0.8400 - student_loss: 0.3718 - distillation_loss: 1.2652e-04WARNING:tensorflow:Early stopping conditioned on metric `val_loss` which is not available. Available metrics are: sparse_categorical_accuracy,student_loss,distillation_loss,val_sparse_categorical_accuracy,val_student_loss,lr\n"
          ]
        },
        {
          "name": "stderr",
          "output_type": "stream",
          "text": [
            "WARNING:tensorflow:Early stopping conditioned on metric `val_loss` which is not available. Available metrics are: sparse_categorical_accuracy,student_loss,distillation_loss,val_sparse_categorical_accuracy,val_student_loss,lr\n"
          ]
        },
        {
          "name": "stdout",
          "output_type": "stream",
          "text": [
            "6/6 [==============================] - 0s 7ms/step - sparse_categorical_accuracy: 0.8864 - student_loss: 0.3851 - distillation_loss: 1.1358e-04 - val_sparse_categorical_accuracy: 0.8182 - val_student_loss: 0.4062 - lr: 1.7933e-13\n",
            "Epoch 224/300\n",
            "1/6 [====>.........................] - ETA: 0s - sparse_categorical_accuracy: 0.9400 - student_loss: 0.3340 - distillation_loss: 1.0875e-04WARNING:tensorflow:Early stopping conditioned on metric `val_loss` which is not available. Available metrics are: sparse_categorical_accuracy,student_loss,distillation_loss,val_sparse_categorical_accuracy,val_student_loss,lr\n"
          ]
        },
        {
          "name": "stderr",
          "output_type": "stream",
          "text": [
            "WARNING:tensorflow:Early stopping conditioned on metric `val_loss` which is not available. Available metrics are: sparse_categorical_accuracy,student_loss,distillation_loss,val_sparse_categorical_accuracy,val_student_loss,lr\n"
          ]
        },
        {
          "name": "stdout",
          "output_type": "stream",
          "text": [
            "6/6 [==============================] - 0s 6ms/step - sparse_categorical_accuracy: 0.8864 - student_loss: 0.4179 - distillation_loss: 1.2536e-04 - val_sparse_categorical_accuracy: 0.8182 - val_student_loss: 0.4062 - lr: 1.6140e-13\n",
            "Epoch 225/300\n",
            "1/6 [====>.........................] - ETA: 0s - sparse_categorical_accuracy: 0.8400 - student_loss: 0.4625 - distillation_loss: 1.6549e-04WARNING:tensorflow:Early stopping conditioned on metric `val_loss` which is not available. Available metrics are: sparse_categorical_accuracy,student_loss,distillation_loss,val_sparse_categorical_accuracy,val_student_loss,lr\n"
          ]
        },
        {
          "name": "stderr",
          "output_type": "stream",
          "text": [
            "WARNING:tensorflow:Early stopping conditioned on metric `val_loss` which is not available. Available metrics are: sparse_categorical_accuracy,student_loss,distillation_loss,val_sparse_categorical_accuracy,val_student_loss,lr\n"
          ]
        },
        {
          "name": "stdout",
          "output_type": "stream",
          "text": [
            "6/6 [==============================] - 0s 8ms/step - sparse_categorical_accuracy: 0.8864 - student_loss: 0.3805 - distillation_loss: 1.2508e-04 - val_sparse_categorical_accuracy: 0.8182 - val_student_loss: 0.4062 - lr: 1.4526e-13\n",
            "Epoch 226/300\n",
            "1/6 [====>.........................] - ETA: 0s - sparse_categorical_accuracy: 0.9000 - student_loss: 0.2883 - distillation_loss: 9.0812e-05WARNING:tensorflow:Early stopping conditioned on metric `val_loss` which is not available. Available metrics are: sparse_categorical_accuracy,student_loss,distillation_loss,val_sparse_categorical_accuracy,val_student_loss,lr\n"
          ]
        },
        {
          "name": "stderr",
          "output_type": "stream",
          "text": [
            "WARNING:tensorflow:Early stopping conditioned on metric `val_loss` which is not available. Available metrics are: sparse_categorical_accuracy,student_loss,distillation_loss,val_sparse_categorical_accuracy,val_student_loss,lr\n"
          ]
        },
        {
          "name": "stdout",
          "output_type": "stream",
          "text": [
            "6/6 [==============================] - 0s 7ms/step - sparse_categorical_accuracy: 0.8864 - student_loss: 0.3391 - distillation_loss: 1.0321e-04 - val_sparse_categorical_accuracy: 0.8182 - val_student_loss: 0.4062 - lr: 1.3073e-13\n",
            "Epoch 227/300\n",
            "1/6 [====>.........................] - ETA: 0s - sparse_categorical_accuracy: 0.9200 - student_loss: 0.3346 - distillation_loss: 9.5897e-05WARNING:tensorflow:Early stopping conditioned on metric `val_loss` which is not available. Available metrics are: sparse_categorical_accuracy,student_loss,distillation_loss,val_sparse_categorical_accuracy,val_student_loss,lr\n"
          ]
        },
        {
          "name": "stderr",
          "output_type": "stream",
          "text": [
            "WARNING:tensorflow:Early stopping conditioned on metric `val_loss` which is not available. Available metrics are: sparse_categorical_accuracy,student_loss,distillation_loss,val_sparse_categorical_accuracy,val_student_loss,lr\n"
          ]
        },
        {
          "name": "stdout",
          "output_type": "stream",
          "text": [
            "6/6 [==============================] - 0s 6ms/step - sparse_categorical_accuracy: 0.8864 - student_loss: 0.3527 - distillation_loss: 1.1790e-04 - val_sparse_categorical_accuracy: 0.8182 - val_student_loss: 0.4062 - lr: 1.1766e-13\n",
            "Epoch 228/300\n",
            "1/6 [====>.........................] - ETA: 0s - sparse_categorical_accuracy: 0.9200 - student_loss: 0.3024 - distillation_loss: 1.3589e-04WARNING:tensorflow:Early stopping conditioned on metric `val_loss` which is not available. Available metrics are: sparse_categorical_accuracy,student_loss,distillation_loss,val_sparse_categorical_accuracy,val_student_loss,lr\n"
          ]
        },
        {
          "name": "stderr",
          "output_type": "stream",
          "text": [
            "WARNING:tensorflow:Early stopping conditioned on metric `val_loss` which is not available. Available metrics are: sparse_categorical_accuracy,student_loss,distillation_loss,val_sparse_categorical_accuracy,val_student_loss,lr\n"
          ]
        },
        {
          "name": "stdout",
          "output_type": "stream",
          "text": [
            "6/6 [==============================] - 0s 6ms/step - sparse_categorical_accuracy: 0.8864 - student_loss: 0.4051 - distillation_loss: 1.2198e-04 - val_sparse_categorical_accuracy: 0.8182 - val_student_loss: 0.4062 - lr: 1.0589e-13\n",
            "Epoch 229/300\n",
            "1/6 [====>.........................] - ETA: 0s - sparse_categorical_accuracy: 0.8800 - student_loss: 0.4147 - distillation_loss: 1.1148e-04WARNING:tensorflow:Early stopping conditioned on metric `val_loss` which is not available. Available metrics are: sparse_categorical_accuracy,student_loss,distillation_loss,val_sparse_categorical_accuracy,val_student_loss,lr\n"
          ]
        },
        {
          "name": "stderr",
          "output_type": "stream",
          "text": [
            "WARNING:tensorflow:Early stopping conditioned on metric `val_loss` which is not available. Available metrics are: sparse_categorical_accuracy,student_loss,distillation_loss,val_sparse_categorical_accuracy,val_student_loss,lr\n"
          ]
        },
        {
          "name": "stdout",
          "output_type": "stream",
          "text": [
            "6/6 [==============================] - 0s 9ms/step - sparse_categorical_accuracy: 0.8864 - student_loss: 0.3657 - distillation_loss: 1.1382e-04 - val_sparse_categorical_accuracy: 0.8182 - val_student_loss: 0.4062 - lr: 9.5304e-14\n",
            "Epoch 230/300\n",
            "1/6 [====>.........................] - ETA: 0s - sparse_categorical_accuracy: 0.9000 - student_loss: 0.3869 - distillation_loss: 1.2741e-04WARNING:tensorflow:Early stopping conditioned on metric `val_loss` which is not available. Available metrics are: sparse_categorical_accuracy,student_loss,distillation_loss,val_sparse_categorical_accuracy,val_student_loss,lr\n"
          ]
        },
        {
          "name": "stderr",
          "output_type": "stream",
          "text": [
            "WARNING:tensorflow:Early stopping conditioned on metric `val_loss` which is not available. Available metrics are: sparse_categorical_accuracy,student_loss,distillation_loss,val_sparse_categorical_accuracy,val_student_loss,lr\n"
          ]
        },
        {
          "name": "stdout",
          "output_type": "stream",
          "text": [
            "6/6 [==============================] - 0s 17ms/step - sparse_categorical_accuracy: 0.8864 - student_loss: 0.3307 - distillation_loss: 1.1590e-04 - val_sparse_categorical_accuracy: 0.8182 - val_student_loss: 0.4062 - lr: 8.5773e-14\n",
            "Epoch 231/300\n",
            "1/6 [====>.........................] - ETA: 0s - sparse_categorical_accuracy: 0.9400 - student_loss: 0.2649 - distillation_loss: 8.7659e-05WARNING:tensorflow:Early stopping conditioned on metric `val_loss` which is not available. Available metrics are: sparse_categorical_accuracy,student_loss,distillation_loss,val_sparse_categorical_accuracy,val_student_loss,lr\n"
          ]
        },
        {
          "name": "stderr",
          "output_type": "stream",
          "text": [
            "WARNING:tensorflow:Early stopping conditioned on metric `val_loss` which is not available. Available metrics are: sparse_categorical_accuracy,student_loss,distillation_loss,val_sparse_categorical_accuracy,val_student_loss,lr\n"
          ]
        },
        {
          "name": "stdout",
          "output_type": "stream",
          "text": [
            "6/6 [==============================] - 0s 7ms/step - sparse_categorical_accuracy: 0.8864 - student_loss: 0.3287 - distillation_loss: 1.0854e-04 - val_sparse_categorical_accuracy: 0.8182 - val_student_loss: 0.4062 - lr: 7.7196e-14\n",
            "Epoch 232/300\n",
            "1/6 [====>.........................] - ETA: 0s - sparse_categorical_accuracy: 0.9600 - student_loss: 0.3010 - distillation_loss: 7.7664e-05WARNING:tensorflow:Early stopping conditioned on metric `val_loss` which is not available. Available metrics are: sparse_categorical_accuracy,student_loss,distillation_loss,val_sparse_categorical_accuracy,val_student_loss,lr\n"
          ]
        },
        {
          "name": "stderr",
          "output_type": "stream",
          "text": [
            "WARNING:tensorflow:Early stopping conditioned on metric `val_loss` which is not available. Available metrics are: sparse_categorical_accuracy,student_loss,distillation_loss,val_sparse_categorical_accuracy,val_student_loss,lr\n"
          ]
        },
        {
          "name": "stdout",
          "output_type": "stream",
          "text": [
            "6/6 [==============================] - 0s 6ms/step - sparse_categorical_accuracy: 0.8864 - student_loss: 0.3837 - distillation_loss: 1.1246e-04 - val_sparse_categorical_accuracy: 0.8182 - val_student_loss: 0.4062 - lr: 6.9476e-14\n",
            "Epoch 233/300\n",
            "1/6 [====>.........................] - ETA: 0s - sparse_categorical_accuracy: 0.8200 - student_loss: 0.4127 - distillation_loss: 1.5864e-04WARNING:tensorflow:Early stopping conditioned on metric `val_loss` which is not available. Available metrics are: sparse_categorical_accuracy,student_loss,distillation_loss,val_sparse_categorical_accuracy,val_student_loss,lr\n"
          ]
        },
        {
          "name": "stderr",
          "output_type": "stream",
          "text": [
            "WARNING:tensorflow:Early stopping conditioned on metric `val_loss` which is not available. Available metrics are: sparse_categorical_accuracy,student_loss,distillation_loss,val_sparse_categorical_accuracy,val_student_loss,lr\n"
          ]
        },
        {
          "name": "stdout",
          "output_type": "stream",
          "text": [
            "6/6 [==============================] - 0s 6ms/step - sparse_categorical_accuracy: 0.8864 - student_loss: 0.3710 - distillation_loss: 1.1168e-04 - val_sparse_categorical_accuracy: 0.8182 - val_student_loss: 0.4062 - lr: 6.2529e-14\n",
            "Epoch 234/300\n",
            "1/6 [====>.........................] - ETA: 0s - sparse_categorical_accuracy: 0.8800 - student_loss: 0.3824 - distillation_loss: 1.3140e-04WARNING:tensorflow:Early stopping conditioned on metric `val_loss` which is not available. Available metrics are: sparse_categorical_accuracy,student_loss,distillation_loss,val_sparse_categorical_accuracy,val_student_loss,lr\n"
          ]
        },
        {
          "name": "stderr",
          "output_type": "stream",
          "text": [
            "WARNING:tensorflow:Early stopping conditioned on metric `val_loss` which is not available. Available metrics are: sparse_categorical_accuracy,student_loss,distillation_loss,val_sparse_categorical_accuracy,val_student_loss,lr\n"
          ]
        },
        {
          "name": "stdout",
          "output_type": "stream",
          "text": [
            "6/6 [==============================] - 0s 6ms/step - sparse_categorical_accuracy: 0.8864 - student_loss: 0.4038 - distillation_loss: 1.2690e-04 - val_sparse_categorical_accuracy: 0.8182 - val_student_loss: 0.4062 - lr: 5.6276e-14\n",
            "Epoch 235/300\n",
            "1/6 [====>.........................] - ETA: 0s - sparse_categorical_accuracy: 0.8800 - student_loss: 0.3783 - distillation_loss: 1.1263e-04WARNING:tensorflow:Early stopping conditioned on metric `val_loss` which is not available. Available metrics are: sparse_categorical_accuracy,student_loss,distillation_loss,val_sparse_categorical_accuracy,val_student_loss,lr\n"
          ]
        },
        {
          "name": "stderr",
          "output_type": "stream",
          "text": [
            "WARNING:tensorflow:Early stopping conditioned on metric `val_loss` which is not available. Available metrics are: sparse_categorical_accuracy,student_loss,distillation_loss,val_sparse_categorical_accuracy,val_student_loss,lr\n"
          ]
        },
        {
          "name": "stdout",
          "output_type": "stream",
          "text": [
            "6/6 [==============================] - 0s 7ms/step - sparse_categorical_accuracy: 0.8864 - student_loss: 0.3096 - distillation_loss: 9.3175e-05 - val_sparse_categorical_accuracy: 0.8182 - val_student_loss: 0.4062 - lr: 5.0648e-14\n",
            "Epoch 236/300\n",
            "1/6 [====>.........................] - ETA: 0s - sparse_categorical_accuracy: 0.9000 - student_loss: 0.3659 - distillation_loss: 9.8053e-05WARNING:tensorflow:Early stopping conditioned on metric `val_loss` which is not available. Available metrics are: sparse_categorical_accuracy,student_loss,distillation_loss,val_sparse_categorical_accuracy,val_student_loss,lr\n"
          ]
        },
        {
          "name": "stderr",
          "output_type": "stream",
          "text": [
            "WARNING:tensorflow:Early stopping conditioned on metric `val_loss` which is not available. Available metrics are: sparse_categorical_accuracy,student_loss,distillation_loss,val_sparse_categorical_accuracy,val_student_loss,lr\n"
          ]
        },
        {
          "name": "stdout",
          "output_type": "stream",
          "text": [
            "6/6 [==============================] - 0s 7ms/step - sparse_categorical_accuracy: 0.8864 - student_loss: 0.3439 - distillation_loss: 1.1225e-04 - val_sparse_categorical_accuracy: 0.8182 - val_student_loss: 0.4062 - lr: 4.5583e-14\n",
            "Epoch 237/300\n",
            "1/6 [====>.........................] - ETA: 0s - sparse_categorical_accuracy: 0.9600 - student_loss: 0.3009 - distillation_loss: 9.8324e-05WARNING:tensorflow:Early stopping conditioned on metric `val_loss` which is not available. Available metrics are: sparse_categorical_accuracy,student_loss,distillation_loss,val_sparse_categorical_accuracy,val_student_loss,lr\n"
          ]
        },
        {
          "name": "stderr",
          "output_type": "stream",
          "text": [
            "WARNING:tensorflow:Early stopping conditioned on metric `val_loss` which is not available. Available metrics are: sparse_categorical_accuracy,student_loss,distillation_loss,val_sparse_categorical_accuracy,val_student_loss,lr\n"
          ]
        },
        {
          "name": "stdout",
          "output_type": "stream",
          "text": [
            "6/6 [==============================] - 0s 8ms/step - sparse_categorical_accuracy: 0.8864 - student_loss: 0.3319 - distillation_loss: 1.0840e-04 - val_sparse_categorical_accuracy: 0.8182 - val_student_loss: 0.4062 - lr: 4.1025e-14\n",
            "Epoch 238/300\n",
            "1/6 [====>.........................] - ETA: 0s - sparse_categorical_accuracy: 0.9200 - student_loss: 0.3140 - distillation_loss: 1.2894e-04WARNING:tensorflow:Early stopping conditioned on metric `val_loss` which is not available. Available metrics are: sparse_categorical_accuracy,student_loss,distillation_loss,val_sparse_categorical_accuracy,val_student_loss,lr\n"
          ]
        },
        {
          "name": "stderr",
          "output_type": "stream",
          "text": [
            "WARNING:tensorflow:Early stopping conditioned on metric `val_loss` which is not available. Available metrics are: sparse_categorical_accuracy,student_loss,distillation_loss,val_sparse_categorical_accuracy,val_student_loss,lr\n"
          ]
        },
        {
          "name": "stdout",
          "output_type": "stream",
          "text": [
            "6/6 [==============================] - 0s 6ms/step - sparse_categorical_accuracy: 0.8864 - student_loss: 0.3547 - distillation_loss: 1.1632e-04 - val_sparse_categorical_accuracy: 0.8182 - val_student_loss: 0.4062 - lr: 3.6923e-14\n",
            "Epoch 239/300\n",
            "1/6 [====>.........................] - ETA: 0s - sparse_categorical_accuracy: 0.8400 - student_loss: 0.4099 - distillation_loss: 1.5526e-04WARNING:tensorflow:Early stopping conditioned on metric `val_loss` which is not available. Available metrics are: sparse_categorical_accuracy,student_loss,distillation_loss,val_sparse_categorical_accuracy,val_student_loss,lr\n"
          ]
        },
        {
          "name": "stderr",
          "output_type": "stream",
          "text": [
            "WARNING:tensorflow:Early stopping conditioned on metric `val_loss` which is not available. Available metrics are: sparse_categorical_accuracy,student_loss,distillation_loss,val_sparse_categorical_accuracy,val_student_loss,lr\n"
          ]
        },
        {
          "name": "stdout",
          "output_type": "stream",
          "text": [
            "6/6 [==============================] - 0s 7ms/step - sparse_categorical_accuracy: 0.8864 - student_loss: 0.3424 - distillation_loss: 1.2037e-04 - val_sparse_categorical_accuracy: 0.8182 - val_student_loss: 0.4062 - lr: 3.3230e-14\n",
            "Epoch 240/300\n",
            "1/6 [====>.........................] - ETA: 0s - sparse_categorical_accuracy: 0.8800 - student_loss: 0.3449 - distillation_loss: 1.0838e-04WARNING:tensorflow:Early stopping conditioned on metric `val_loss` which is not available. Available metrics are: sparse_categorical_accuracy,student_loss,distillation_loss,val_sparse_categorical_accuracy,val_student_loss,lr\n"
          ]
        },
        {
          "name": "stderr",
          "output_type": "stream",
          "text": [
            "WARNING:tensorflow:Early stopping conditioned on metric `val_loss` which is not available. Available metrics are: sparse_categorical_accuracy,student_loss,distillation_loss,val_sparse_categorical_accuracy,val_student_loss,lr\n"
          ]
        },
        {
          "name": "stdout",
          "output_type": "stream",
          "text": [
            "6/6 [==============================] - 0s 8ms/step - sparse_categorical_accuracy: 0.8864 - student_loss: 0.3565 - distillation_loss: 1.2460e-04 - val_sparse_categorical_accuracy: 0.8182 - val_student_loss: 0.4062 - lr: 2.9907e-14\n",
            "Epoch 241/300\n",
            "1/6 [====>.........................] - ETA: 0s - sparse_categorical_accuracy: 0.9200 - student_loss: 0.3416 - distillation_loss: 1.0103e-04WARNING:tensorflow:Early stopping conditioned on metric `val_loss` which is not available. Available metrics are: sparse_categorical_accuracy,student_loss,distillation_loss,val_sparse_categorical_accuracy,val_student_loss,lr\n"
          ]
        },
        {
          "name": "stderr",
          "output_type": "stream",
          "text": [
            "WARNING:tensorflow:Early stopping conditioned on metric `val_loss` which is not available. Available metrics are: sparse_categorical_accuracy,student_loss,distillation_loss,val_sparse_categorical_accuracy,val_student_loss,lr\n"
          ]
        },
        {
          "name": "stdout",
          "output_type": "stream",
          "text": [
            "6/6 [==============================] - 0s 7ms/step - sparse_categorical_accuracy: 0.8864 - student_loss: 0.3850 - distillation_loss: 1.2402e-04 - val_sparse_categorical_accuracy: 0.8182 - val_student_loss: 0.4062 - lr: 2.6917e-14\n",
            "Epoch 242/300\n",
            "1/6 [====>.........................] - ETA: 0s - sparse_categorical_accuracy: 0.8600 - student_loss: 0.4284 - distillation_loss: 1.0474e-04WARNING:tensorflow:Early stopping conditioned on metric `val_loss` which is not available. Available metrics are: sparse_categorical_accuracy,student_loss,distillation_loss,val_sparse_categorical_accuracy,val_student_loss,lr\n"
          ]
        },
        {
          "name": "stderr",
          "output_type": "stream",
          "text": [
            "WARNING:tensorflow:Early stopping conditioned on metric `val_loss` which is not available. Available metrics are: sparse_categorical_accuracy,student_loss,distillation_loss,val_sparse_categorical_accuracy,val_student_loss,lr\n"
          ]
        },
        {
          "name": "stdout",
          "output_type": "stream",
          "text": [
            "6/6 [==============================] - 0s 7ms/step - sparse_categorical_accuracy: 0.8864 - student_loss: 0.3882 - distillation_loss: 1.2067e-04 - val_sparse_categorical_accuracy: 0.8182 - val_student_loss: 0.4062 - lr: 2.4225e-14\n",
            "Epoch 243/300\n",
            "1/6 [====>.........................] - ETA: 0s - sparse_categorical_accuracy: 0.9600 - student_loss: 0.2336 - distillation_loss: 8.4564e-05WARNING:tensorflow:Early stopping conditioned on metric `val_loss` which is not available. Available metrics are: sparse_categorical_accuracy,student_loss,distillation_loss,val_sparse_categorical_accuracy,val_student_loss,lr\n"
          ]
        },
        {
          "name": "stderr",
          "output_type": "stream",
          "text": [
            "WARNING:tensorflow:Early stopping conditioned on metric `val_loss` which is not available. Available metrics are: sparse_categorical_accuracy,student_loss,distillation_loss,val_sparse_categorical_accuracy,val_student_loss,lr\n"
          ]
        },
        {
          "name": "stdout",
          "output_type": "stream",
          "text": [
            "6/6 [==============================] - 0s 7ms/step - sparse_categorical_accuracy: 0.8864 - student_loss: 0.4062 - distillation_loss: 1.3530e-04 - val_sparse_categorical_accuracy: 0.8182 - val_student_loss: 0.4062 - lr: 2.1802e-14\n",
            "Epoch 244/300\n",
            "1/6 [====>.........................] - ETA: 0s - sparse_categorical_accuracy: 0.8600 - student_loss: 0.4239 - distillation_loss: 1.2564e-04WARNING:tensorflow:Early stopping conditioned on metric `val_loss` which is not available. Available metrics are: sparse_categorical_accuracy,student_loss,distillation_loss,val_sparse_categorical_accuracy,val_student_loss,lr\n"
          ]
        },
        {
          "name": "stderr",
          "output_type": "stream",
          "text": [
            "WARNING:tensorflow:Early stopping conditioned on metric `val_loss` which is not available. Available metrics are: sparse_categorical_accuracy,student_loss,distillation_loss,val_sparse_categorical_accuracy,val_student_loss,lr\n"
          ]
        },
        {
          "name": "stdout",
          "output_type": "stream",
          "text": [
            "6/6 [==============================] - 0s 7ms/step - sparse_categorical_accuracy: 0.8864 - student_loss: 0.3562 - distillation_loss: 1.1438e-04 - val_sparse_categorical_accuracy: 0.8182 - val_student_loss: 0.4062 - lr: 1.9622e-14\n",
            "Epoch 245/300\n",
            "1/6 [====>.........................] - ETA: 0s - sparse_categorical_accuracy: 0.8400 - student_loss: 0.3856 - distillation_loss: 1.0355e-04WARNING:tensorflow:Early stopping conditioned on metric `val_loss` which is not available. Available metrics are: sparse_categorical_accuracy,student_loss,distillation_loss,val_sparse_categorical_accuracy,val_student_loss,lr\n"
          ]
        },
        {
          "name": "stderr",
          "output_type": "stream",
          "text": [
            "WARNING:tensorflow:Early stopping conditioned on metric `val_loss` which is not available. Available metrics are: sparse_categorical_accuracy,student_loss,distillation_loss,val_sparse_categorical_accuracy,val_student_loss,lr\n"
          ]
        },
        {
          "name": "stdout",
          "output_type": "stream",
          "text": [
            "6/6 [==============================] - 0s 8ms/step - sparse_categorical_accuracy: 0.8864 - student_loss: 0.3612 - distillation_loss: 1.1006e-04 - val_sparse_categorical_accuracy: 0.8182 - val_student_loss: 0.4062 - lr: 1.7660e-14\n",
            "Epoch 246/300\n",
            "1/6 [====>.........................] - ETA: 0s - sparse_categorical_accuracy: 0.8800 - student_loss: 0.3750 - distillation_loss: 1.5791e-04WARNING:tensorflow:Early stopping conditioned on metric `val_loss` which is not available. Available metrics are: sparse_categorical_accuracy,student_loss,distillation_loss,val_sparse_categorical_accuracy,val_student_loss,lr\n"
          ]
        },
        {
          "name": "stderr",
          "output_type": "stream",
          "text": [
            "WARNING:tensorflow:Early stopping conditioned on metric `val_loss` which is not available. Available metrics are: sparse_categorical_accuracy,student_loss,distillation_loss,val_sparse_categorical_accuracy,val_student_loss,lr\n"
          ]
        },
        {
          "name": "stdout",
          "output_type": "stream",
          "text": [
            "6/6 [==============================] - 0s 10ms/step - sparse_categorical_accuracy: 0.8864 - student_loss: 0.3479 - distillation_loss: 1.2327e-04 - val_sparse_categorical_accuracy: 0.8182 - val_student_loss: 0.4062 - lr: 1.5894e-14\n",
            "Epoch 247/300\n",
            "1/6 [====>.........................] - ETA: 0s - sparse_categorical_accuracy: 0.8800 - student_loss: 0.3612 - distillation_loss: 1.2405e-04WARNING:tensorflow:Early stopping conditioned on metric `val_loss` which is not available. Available metrics are: sparse_categorical_accuracy,student_loss,distillation_loss,val_sparse_categorical_accuracy,val_student_loss,lr\n"
          ]
        },
        {
          "name": "stderr",
          "output_type": "stream",
          "text": [
            "WARNING:tensorflow:Early stopping conditioned on metric `val_loss` which is not available. Available metrics are: sparse_categorical_accuracy,student_loss,distillation_loss,val_sparse_categorical_accuracy,val_student_loss,lr\n"
          ]
        },
        {
          "name": "stdout",
          "output_type": "stream",
          "text": [
            "6/6 [==============================] - 0s 7ms/step - sparse_categorical_accuracy: 0.8864 - student_loss: 0.3768 - distillation_loss: 1.2181e-04 - val_sparse_categorical_accuracy: 0.8182 - val_student_loss: 0.4062 - lr: 1.4305e-14\n",
            "Epoch 248/300\n",
            "1/6 [====>.........................] - ETA: 0s - sparse_categorical_accuracy: 0.9400 - student_loss: 0.3001 - distillation_loss: 9.0008e-05WARNING:tensorflow:Early stopping conditioned on metric `val_loss` which is not available. Available metrics are: sparse_categorical_accuracy,student_loss,distillation_loss,val_sparse_categorical_accuracy,val_student_loss,lr\n"
          ]
        },
        {
          "name": "stderr",
          "output_type": "stream",
          "text": [
            "WARNING:tensorflow:Early stopping conditioned on metric `val_loss` which is not available. Available metrics are: sparse_categorical_accuracy,student_loss,distillation_loss,val_sparse_categorical_accuracy,val_student_loss,lr\n"
          ]
        },
        {
          "name": "stdout",
          "output_type": "stream",
          "text": [
            "6/6 [==============================] - 0s 6ms/step - sparse_categorical_accuracy: 0.8864 - student_loss: 0.3856 - distillation_loss: 1.1160e-04 - val_sparse_categorical_accuracy: 0.8182 - val_student_loss: 0.4062 - lr: 1.2874e-14\n",
            "Epoch 249/300\n",
            "1/6 [====>.........................] - ETA: 0s - sparse_categorical_accuracy: 0.8400 - student_loss: 0.4149 - distillation_loss: 1.4820e-04WARNING:tensorflow:Early stopping conditioned on metric `val_loss` which is not available. Available metrics are: sparse_categorical_accuracy,student_loss,distillation_loss,val_sparse_categorical_accuracy,val_student_loss,lr\n"
          ]
        },
        {
          "name": "stderr",
          "output_type": "stream",
          "text": [
            "WARNING:tensorflow:Early stopping conditioned on metric `val_loss` which is not available. Available metrics are: sparse_categorical_accuracy,student_loss,distillation_loss,val_sparse_categorical_accuracy,val_student_loss,lr\n"
          ]
        },
        {
          "name": "stdout",
          "output_type": "stream",
          "text": [
            "6/6 [==============================] - 0s 7ms/step - sparse_categorical_accuracy: 0.8864 - student_loss: 0.4230 - distillation_loss: 1.0851e-04 - val_sparse_categorical_accuracy: 0.8182 - val_student_loss: 0.4062 - lr: 1.1587e-14\n",
            "Epoch 250/300\n",
            "1/6 [====>.........................] - ETA: 0s - sparse_categorical_accuracy: 0.8600 - student_loss: 0.4067 - distillation_loss: 1.2139e-04WARNING:tensorflow:Early stopping conditioned on metric `val_loss` which is not available. Available metrics are: sparse_categorical_accuracy,student_loss,distillation_loss,val_sparse_categorical_accuracy,val_student_loss,lr\n"
          ]
        },
        {
          "name": "stderr",
          "output_type": "stream",
          "text": [
            "WARNING:tensorflow:Early stopping conditioned on metric `val_loss` which is not available. Available metrics are: sparse_categorical_accuracy,student_loss,distillation_loss,val_sparse_categorical_accuracy,val_student_loss,lr\n"
          ]
        },
        {
          "name": "stdout",
          "output_type": "stream",
          "text": [
            "6/6 [==============================] - 0s 6ms/step - sparse_categorical_accuracy: 0.8864 - student_loss: 0.4001 - distillation_loss: 1.2185e-04 - val_sparse_categorical_accuracy: 0.8182 - val_student_loss: 0.4062 - lr: 1.0428e-14\n",
            "Epoch 251/300\n",
            "1/6 [====>.........................] - ETA: 0s - sparse_categorical_accuracy: 0.9600 - student_loss: 0.2380 - distillation_loss: 7.9572e-05WARNING:tensorflow:Early stopping conditioned on metric `val_loss` which is not available. Available metrics are: sparse_categorical_accuracy,student_loss,distillation_loss,val_sparse_categorical_accuracy,val_student_loss,lr\n"
          ]
        },
        {
          "name": "stderr",
          "output_type": "stream",
          "text": [
            "WARNING:tensorflow:Early stopping conditioned on metric `val_loss` which is not available. Available metrics are: sparse_categorical_accuracy,student_loss,distillation_loss,val_sparse_categorical_accuracy,val_student_loss,lr\n"
          ]
        },
        {
          "name": "stdout",
          "output_type": "stream",
          "text": [
            "6/6 [==============================] - 0s 6ms/step - sparse_categorical_accuracy: 0.8864 - student_loss: 0.3413 - distillation_loss: 1.0523e-04 - val_sparse_categorical_accuracy: 0.8182 - val_student_loss: 0.4062 - lr: 9.3852e-15\n",
            "Epoch 252/300\n",
            "1/6 [====>.........................] - ETA: 0s - sparse_categorical_accuracy: 0.8800 - student_loss: 0.3494 - distillation_loss: 1.4649e-04WARNING:tensorflow:Early stopping conditioned on metric `val_loss` which is not available. Available metrics are: sparse_categorical_accuracy,student_loss,distillation_loss,val_sparse_categorical_accuracy,val_student_loss,lr\n"
          ]
        },
        {
          "name": "stderr",
          "output_type": "stream",
          "text": [
            "WARNING:tensorflow:Early stopping conditioned on metric `val_loss` which is not available. Available metrics are: sparse_categorical_accuracy,student_loss,distillation_loss,val_sparse_categorical_accuracy,val_student_loss,lr\n"
          ]
        },
        {
          "name": "stdout",
          "output_type": "stream",
          "text": [
            "6/6 [==============================] - 0s 3ms/step - sparse_categorical_accuracy: 0.8864 - student_loss: 0.3825 - distillation_loss: 1.3831e-04 - val_sparse_categorical_accuracy: 0.8182 - val_student_loss: 0.4062 - lr: 8.4467e-15\n",
            "Epoch 253/300\n",
            "1/6 [====>.........................] - ETA: 0s - sparse_categorical_accuracy: 0.8400 - student_loss: 0.4218 - distillation_loss: 1.3553e-04WARNING:tensorflow:Early stopping conditioned on metric `val_loss` which is not available. Available metrics are: sparse_categorical_accuracy,student_loss,distillation_loss,val_sparse_categorical_accuracy,val_student_loss,lr\n"
          ]
        },
        {
          "name": "stderr",
          "output_type": "stream",
          "text": [
            "WARNING:tensorflow:Early stopping conditioned on metric `val_loss` which is not available. Available metrics are: sparse_categorical_accuracy,student_loss,distillation_loss,val_sparse_categorical_accuracy,val_student_loss,lr\n"
          ]
        },
        {
          "name": "stdout",
          "output_type": "stream",
          "text": [
            "6/6 [==============================] - 0s 3ms/step - sparse_categorical_accuracy: 0.8864 - student_loss: 0.3482 - distillation_loss: 1.0322e-04 - val_sparse_categorical_accuracy: 0.8182 - val_student_loss: 0.4062 - lr: 7.6020e-15\n",
            "Epoch 254/300\n",
            "1/6 [====>.........................] - ETA: 0s - sparse_categorical_accuracy: 0.8600 - student_loss: 0.3523 - distillation_loss: 1.2252e-04WARNING:tensorflow:Early stopping conditioned on metric `val_loss` which is not available. Available metrics are: sparse_categorical_accuracy,student_loss,distillation_loss,val_sparse_categorical_accuracy,val_student_loss,lr\n"
          ]
        },
        {
          "name": "stderr",
          "output_type": "stream",
          "text": [
            "WARNING:tensorflow:Early stopping conditioned on metric `val_loss` which is not available. Available metrics are: sparse_categorical_accuracy,student_loss,distillation_loss,val_sparse_categorical_accuracy,val_student_loss,lr\n"
          ]
        },
        {
          "name": "stdout",
          "output_type": "stream",
          "text": [
            "6/6 [==============================] - 0s 5ms/step - sparse_categorical_accuracy: 0.8864 - student_loss: 0.3749 - distillation_loss: 1.0315e-04 - val_sparse_categorical_accuracy: 0.8182 - val_student_loss: 0.4062 - lr: 6.8418e-15\n",
            "Epoch 255/300\n",
            "1/6 [====>.........................] - ETA: 0s - sparse_categorical_accuracy: 0.9000 - student_loss: 0.2967 - distillation_loss: 8.6051e-05WARNING:tensorflow:Early stopping conditioned on metric `val_loss` which is not available. Available metrics are: sparse_categorical_accuracy,student_loss,distillation_loss,val_sparse_categorical_accuracy,val_student_loss,lr\n"
          ]
        },
        {
          "name": "stderr",
          "output_type": "stream",
          "text": [
            "WARNING:tensorflow:Early stopping conditioned on metric `val_loss` which is not available. Available metrics are: sparse_categorical_accuracy,student_loss,distillation_loss,val_sparse_categorical_accuracy,val_student_loss,lr\n"
          ]
        },
        {
          "name": "stdout",
          "output_type": "stream",
          "text": [
            "6/6 [==============================] - 0s 5ms/step - sparse_categorical_accuracy: 0.8864 - student_loss: 0.3544 - distillation_loss: 1.1040e-04 - val_sparse_categorical_accuracy: 0.8182 - val_student_loss: 0.4062 - lr: 6.1576e-15\n",
            "Epoch 256/300\n",
            "1/6 [====>.........................] - ETA: 0s - sparse_categorical_accuracy: 0.8600 - student_loss: 0.3788 - distillation_loss: 1.1668e-04WARNING:tensorflow:Early stopping conditioned on metric `val_loss` which is not available. Available metrics are: sparse_categorical_accuracy,student_loss,distillation_loss,val_sparse_categorical_accuracy,val_student_loss,lr\n"
          ]
        },
        {
          "name": "stderr",
          "output_type": "stream",
          "text": [
            "WARNING:tensorflow:Early stopping conditioned on metric `val_loss` which is not available. Available metrics are: sparse_categorical_accuracy,student_loss,distillation_loss,val_sparse_categorical_accuracy,val_student_loss,lr\n"
          ]
        },
        {
          "name": "stdout",
          "output_type": "stream",
          "text": [
            "6/6 [==============================] - 0s 7ms/step - sparse_categorical_accuracy: 0.8864 - student_loss: 0.3635 - distillation_loss: 1.1984e-04 - val_sparse_categorical_accuracy: 0.8182 - val_student_loss: 0.4062 - lr: 5.5419e-15\n",
            "Epoch 257/300\n",
            "1/6 [====>.........................] - ETA: 0s - sparse_categorical_accuracy: 0.9200 - student_loss: 0.3302 - distillation_loss: 1.2168e-04WARNING:tensorflow:Early stopping conditioned on metric `val_loss` which is not available. Available metrics are: sparse_categorical_accuracy,student_loss,distillation_loss,val_sparse_categorical_accuracy,val_student_loss,lr\n"
          ]
        },
        {
          "name": "stderr",
          "output_type": "stream",
          "text": [
            "WARNING:tensorflow:Early stopping conditioned on metric `val_loss` which is not available. Available metrics are: sparse_categorical_accuracy,student_loss,distillation_loss,val_sparse_categorical_accuracy,val_student_loss,lr\n"
          ]
        },
        {
          "name": "stdout",
          "output_type": "stream",
          "text": [
            "6/6 [==============================] - 0s 7ms/step - sparse_categorical_accuracy: 0.8864 - student_loss: 0.3595 - distillation_loss: 1.1277e-04 - val_sparse_categorical_accuracy: 0.8182 - val_student_loss: 0.4062 - lr: 4.9877e-15\n",
            "Epoch 258/300\n",
            "1/6 [====>.........................] - ETA: 0s - sparse_categorical_accuracy: 0.8400 - student_loss: 0.4672 - distillation_loss: 1.8415e-04WARNING:tensorflow:Early stopping conditioned on metric `val_loss` which is not available. Available metrics are: sparse_categorical_accuracy,student_loss,distillation_loss,val_sparse_categorical_accuracy,val_student_loss,lr\n"
          ]
        },
        {
          "name": "stderr",
          "output_type": "stream",
          "text": [
            "WARNING:tensorflow:Early stopping conditioned on metric `val_loss` which is not available. Available metrics are: sparse_categorical_accuracy,student_loss,distillation_loss,val_sparse_categorical_accuracy,val_student_loss,lr\n"
          ]
        },
        {
          "name": "stdout",
          "output_type": "stream",
          "text": [
            "6/6 [==============================] - 0s 6ms/step - sparse_categorical_accuracy: 0.8864 - student_loss: 0.3585 - distillation_loss: 1.2551e-04 - val_sparse_categorical_accuracy: 0.8182 - val_student_loss: 0.4062 - lr: 4.4889e-15\n",
            "Epoch 259/300\n",
            "1/6 [====>.........................] - ETA: 0s - sparse_categorical_accuracy: 0.8000 - student_loss: 0.4393 - distillation_loss: 1.2514e-04WARNING:tensorflow:Early stopping conditioned on metric `val_loss` which is not available. Available metrics are: sparse_categorical_accuracy,student_loss,distillation_loss,val_sparse_categorical_accuracy,val_student_loss,lr\n"
          ]
        },
        {
          "name": "stderr",
          "output_type": "stream",
          "text": [
            "WARNING:tensorflow:Early stopping conditioned on metric `val_loss` which is not available. Available metrics are: sparse_categorical_accuracy,student_loss,distillation_loss,val_sparse_categorical_accuracy,val_student_loss,lr\n"
          ]
        },
        {
          "name": "stdout",
          "output_type": "stream",
          "text": [
            "6/6 [==============================] - 0s 7ms/step - sparse_categorical_accuracy: 0.8864 - student_loss: 0.4135 - distillation_loss: 1.3750e-04 - val_sparse_categorical_accuracy: 0.8182 - val_student_loss: 0.4062 - lr: 4.0400e-15\n",
            "Epoch 260/300\n",
            "1/6 [====>.........................] - ETA: 0s - sparse_categorical_accuracy: 0.9000 - student_loss: 0.3631 - distillation_loss: 1.4437e-04WARNING:tensorflow:Early stopping conditioned on metric `val_loss` which is not available. Available metrics are: sparse_categorical_accuracy,student_loss,distillation_loss,val_sparse_categorical_accuracy,val_student_loss,lr\n"
          ]
        },
        {
          "name": "stderr",
          "output_type": "stream",
          "text": [
            "WARNING:tensorflow:Early stopping conditioned on metric `val_loss` which is not available. Available metrics are: sparse_categorical_accuracy,student_loss,distillation_loss,val_sparse_categorical_accuracy,val_student_loss,lr\n"
          ]
        },
        {
          "name": "stdout",
          "output_type": "stream",
          "text": [
            "6/6 [==============================] - 0s 6ms/step - sparse_categorical_accuracy: 0.8864 - student_loss: 0.3858 - distillation_loss: 1.1219e-04 - val_sparse_categorical_accuracy: 0.8182 - val_student_loss: 0.4062 - lr: 3.6360e-15\n",
            "Epoch 261/300\n",
            "1/6 [====>.........................] - ETA: 0s - sparse_categorical_accuracy: 0.9000 - student_loss: 0.3650 - distillation_loss: 1.5347e-04WARNING:tensorflow:Early stopping conditioned on metric `val_loss` which is not available. Available metrics are: sparse_categorical_accuracy,student_loss,distillation_loss,val_sparse_categorical_accuracy,val_student_loss,lr\n"
          ]
        },
        {
          "name": "stderr",
          "output_type": "stream",
          "text": [
            "WARNING:tensorflow:Early stopping conditioned on metric `val_loss` which is not available. Available metrics are: sparse_categorical_accuracy,student_loss,distillation_loss,val_sparse_categorical_accuracy,val_student_loss,lr\n"
          ]
        },
        {
          "name": "stdout",
          "output_type": "stream",
          "text": [
            "6/6 [==============================] - 0s 6ms/step - sparse_categorical_accuracy: 0.8864 - student_loss: 0.3963 - distillation_loss: 1.1522e-04 - val_sparse_categorical_accuracy: 0.8182 - val_student_loss: 0.4062 - lr: 3.2724e-15\n",
            "Epoch 262/300\n",
            "1/6 [====>.........................] - ETA: 0s - sparse_categorical_accuracy: 0.9000 - student_loss: 0.4028 - distillation_loss: 1.1684e-04WARNING:tensorflow:Early stopping conditioned on metric `val_loss` which is not available. Available metrics are: sparse_categorical_accuracy,student_loss,distillation_loss,val_sparse_categorical_accuracy,val_student_loss,lr\n"
          ]
        },
        {
          "name": "stderr",
          "output_type": "stream",
          "text": [
            "WARNING:tensorflow:Early stopping conditioned on metric `val_loss` which is not available. Available metrics are: sparse_categorical_accuracy,student_loss,distillation_loss,val_sparse_categorical_accuracy,val_student_loss,lr\n"
          ]
        },
        {
          "name": "stdout",
          "output_type": "stream",
          "text": [
            "6/6 [==============================] - 0s 7ms/step - sparse_categorical_accuracy: 0.8864 - student_loss: 0.3493 - distillation_loss: 1.1270e-04 - val_sparse_categorical_accuracy: 0.8182 - val_student_loss: 0.4062 - lr: 2.9452e-15\n",
            "Epoch 263/300\n",
            "1/6 [====>.........................] - ETA: 0s - sparse_categorical_accuracy: 0.9000 - student_loss: 0.3330 - distillation_loss: 6.5741e-05WARNING:tensorflow:Early stopping conditioned on metric `val_loss` which is not available. Available metrics are: sparse_categorical_accuracy,student_loss,distillation_loss,val_sparse_categorical_accuracy,val_student_loss,lr\n"
          ]
        },
        {
          "name": "stderr",
          "output_type": "stream",
          "text": [
            "WARNING:tensorflow:Early stopping conditioned on metric `val_loss` which is not available. Available metrics are: sparse_categorical_accuracy,student_loss,distillation_loss,val_sparse_categorical_accuracy,val_student_loss,lr\n"
          ]
        },
        {
          "name": "stdout",
          "output_type": "stream",
          "text": [
            "6/6 [==============================] - 0s 13ms/step - sparse_categorical_accuracy: 0.8864 - student_loss: 0.3680 - distillation_loss: 1.2464e-04 - val_sparse_categorical_accuracy: 0.8182 - val_student_loss: 0.4062 - lr: 2.6507e-15\n",
            "Epoch 264/300\n",
            "1/6 [====>.........................] - ETA: 0s - sparse_categorical_accuracy: 0.8800 - student_loss: 0.3769 - distillation_loss: 1.2894e-04WARNING:tensorflow:Early stopping conditioned on metric `val_loss` which is not available. Available metrics are: sparse_categorical_accuracy,student_loss,distillation_loss,val_sparse_categorical_accuracy,val_student_loss,lr\n"
          ]
        },
        {
          "name": "stderr",
          "output_type": "stream",
          "text": [
            "WARNING:tensorflow:Early stopping conditioned on metric `val_loss` which is not available. Available metrics are: sparse_categorical_accuracy,student_loss,distillation_loss,val_sparse_categorical_accuracy,val_student_loss,lr\n"
          ]
        },
        {
          "name": "stdout",
          "output_type": "stream",
          "text": [
            "6/6 [==============================] - 0s 5ms/step - sparse_categorical_accuracy: 0.8864 - student_loss: 0.3277 - distillation_loss: 1.0918e-04 - val_sparse_categorical_accuracy: 0.8182 - val_student_loss: 0.4062 - lr: 2.3856e-15\n",
            "Epoch 265/300\n",
            "1/6 [====>.........................] - ETA: 0s - sparse_categorical_accuracy: 0.9000 - student_loss: 0.2940 - distillation_loss: 1.1500e-04WARNING:tensorflow:Early stopping conditioned on metric `val_loss` which is not available. Available metrics are: sparse_categorical_accuracy,student_loss,distillation_loss,val_sparse_categorical_accuracy,val_student_loss,lr\n"
          ]
        },
        {
          "name": "stderr",
          "output_type": "stream",
          "text": [
            "WARNING:tensorflow:Early stopping conditioned on metric `val_loss` which is not available. Available metrics are: sparse_categorical_accuracy,student_loss,distillation_loss,val_sparse_categorical_accuracy,val_student_loss,lr\n"
          ]
        },
        {
          "name": "stdout",
          "output_type": "stream",
          "text": [
            "6/6 [==============================] - 0s 3ms/step - sparse_categorical_accuracy: 0.8864 - student_loss: 0.3650 - distillation_loss: 1.2869e-04 - val_sparse_categorical_accuracy: 0.8182 - val_student_loss: 0.4062 - lr: 2.1470e-15\n",
            "Epoch 266/300\n",
            "1/6 [====>.........................] - ETA: 0s - sparse_categorical_accuracy: 0.8600 - student_loss: 0.3892 - distillation_loss: 9.1619e-05WARNING:tensorflow:Early stopping conditioned on metric `val_loss` which is not available. Available metrics are: sparse_categorical_accuracy,student_loss,distillation_loss,val_sparse_categorical_accuracy,val_student_loss,lr\n"
          ]
        },
        {
          "name": "stderr",
          "output_type": "stream",
          "text": [
            "WARNING:tensorflow:Early stopping conditioned on metric `val_loss` which is not available. Available metrics are: sparse_categorical_accuracy,student_loss,distillation_loss,val_sparse_categorical_accuracy,val_student_loss,lr\n"
          ]
        },
        {
          "name": "stdout",
          "output_type": "stream",
          "text": [
            "6/6 [==============================] - 0s 7ms/step - sparse_categorical_accuracy: 0.8864 - student_loss: 0.3465 - distillation_loss: 1.3033e-04 - val_sparse_categorical_accuracy: 0.8182 - val_student_loss: 0.4062 - lr: 1.9323e-15\n",
            "Epoch 267/300\n",
            "1/6 [====>.........................] - ETA: 0s - sparse_categorical_accuracy: 0.9200 - student_loss: 0.3005 - distillation_loss: 7.6322e-05WARNING:tensorflow:Early stopping conditioned on metric `val_loss` which is not available. Available metrics are: sparse_categorical_accuracy,student_loss,distillation_loss,val_sparse_categorical_accuracy,val_student_loss,lr\n"
          ]
        },
        {
          "name": "stderr",
          "output_type": "stream",
          "text": [
            "WARNING:tensorflow:Early stopping conditioned on metric `val_loss` which is not available. Available metrics are: sparse_categorical_accuracy,student_loss,distillation_loss,val_sparse_categorical_accuracy,val_student_loss,lr\n"
          ]
        },
        {
          "name": "stdout",
          "output_type": "stream",
          "text": [
            "6/6 [==============================] - 0s 7ms/step - sparse_categorical_accuracy: 0.8864 - student_loss: 0.4033 - distillation_loss: 1.3848e-04 - val_sparse_categorical_accuracy: 0.8182 - val_student_loss: 0.4062 - lr: 1.7391e-15\n",
            "Epoch 268/300\n",
            "1/6 [====>.........................] - ETA: 0s - sparse_categorical_accuracy: 0.8000 - student_loss: 0.5067 - distillation_loss: 1.1643e-04WARNING:tensorflow:Early stopping conditioned on metric `val_loss` which is not available. Available metrics are: sparse_categorical_accuracy,student_loss,distillation_loss,val_sparse_categorical_accuracy,val_student_loss,lr\n"
          ]
        },
        {
          "name": "stderr",
          "output_type": "stream",
          "text": [
            "WARNING:tensorflow:Early stopping conditioned on metric `val_loss` which is not available. Available metrics are: sparse_categorical_accuracy,student_loss,distillation_loss,val_sparse_categorical_accuracy,val_student_loss,lr\n"
          ]
        },
        {
          "name": "stdout",
          "output_type": "stream",
          "text": [
            "6/6 [==============================] - 0s 7ms/step - sparse_categorical_accuracy: 0.8864 - student_loss: 0.3336 - distillation_loss: 1.2169e-04 - val_sparse_categorical_accuracy: 0.8182 - val_student_loss: 0.4062 - lr: 1.5652e-15\n",
            "Epoch 269/300\n",
            "1/6 [====>.........................] - ETA: 0s - sparse_categorical_accuracy: 0.9000 - student_loss: 0.3357 - distillation_loss: 1.1023e-04WARNING:tensorflow:Early stopping conditioned on metric `val_loss` which is not available. Available metrics are: sparse_categorical_accuracy,student_loss,distillation_loss,val_sparse_categorical_accuracy,val_student_loss,lr\n"
          ]
        },
        {
          "name": "stderr",
          "output_type": "stream",
          "text": [
            "WARNING:tensorflow:Early stopping conditioned on metric `val_loss` which is not available. Available metrics are: sparse_categorical_accuracy,student_loss,distillation_loss,val_sparse_categorical_accuracy,val_student_loss,lr\n"
          ]
        },
        {
          "name": "stdout",
          "output_type": "stream",
          "text": [
            "6/6 [==============================] - 0s 7ms/step - sparse_categorical_accuracy: 0.8864 - student_loss: 0.3720 - distillation_loss: 1.3122e-04 - val_sparse_categorical_accuracy: 0.8182 - val_student_loss: 0.4062 - lr: 1.4087e-15\n",
            "Epoch 270/300\n",
            "1/6 [====>.........................] - ETA: 0s - sparse_categorical_accuracy: 0.8800 - student_loss: 0.3496 - distillation_loss: 1.1378e-04WARNING:tensorflow:Early stopping conditioned on metric `val_loss` which is not available. Available metrics are: sparse_categorical_accuracy,student_loss,distillation_loss,val_sparse_categorical_accuracy,val_student_loss,lr\n"
          ]
        },
        {
          "name": "stderr",
          "output_type": "stream",
          "text": [
            "WARNING:tensorflow:Early stopping conditioned on metric `val_loss` which is not available. Available metrics are: sparse_categorical_accuracy,student_loss,distillation_loss,val_sparse_categorical_accuracy,val_student_loss,lr\n"
          ]
        },
        {
          "name": "stdout",
          "output_type": "stream",
          "text": [
            "6/6 [==============================] - 0s 6ms/step - sparse_categorical_accuracy: 0.8864 - student_loss: 0.3704 - distillation_loss: 1.1784e-04 - val_sparse_categorical_accuracy: 0.8182 - val_student_loss: 0.4062 - lr: 1.2678e-15\n",
            "Epoch 271/300\n",
            "1/6 [====>.........................] - ETA: 0s - sparse_categorical_accuracy: 0.9000 - student_loss: 0.3110 - distillation_loss: 1.1574e-04WARNING:tensorflow:Early stopping conditioned on metric `val_loss` which is not available. Available metrics are: sparse_categorical_accuracy,student_loss,distillation_loss,val_sparse_categorical_accuracy,val_student_loss,lr\n"
          ]
        },
        {
          "name": "stderr",
          "output_type": "stream",
          "text": [
            "WARNING:tensorflow:Early stopping conditioned on metric `val_loss` which is not available. Available metrics are: sparse_categorical_accuracy,student_loss,distillation_loss,val_sparse_categorical_accuracy,val_student_loss,lr\n"
          ]
        },
        {
          "name": "stdout",
          "output_type": "stream",
          "text": [
            "6/6 [==============================] - 0s 10ms/step - sparse_categorical_accuracy: 0.8864 - student_loss: 0.3543 - distillation_loss: 1.2293e-04 - val_sparse_categorical_accuracy: 0.8182 - val_student_loss: 0.4062 - lr: 1.1410e-15\n",
            "Epoch 272/300\n",
            "1/6 [====>.........................] - ETA: 0s - sparse_categorical_accuracy: 0.8200 - student_loss: 0.3707 - distillation_loss: 1.2799e-04WARNING:tensorflow:Early stopping conditioned on metric `val_loss` which is not available. Available metrics are: sparse_categorical_accuracy,student_loss,distillation_loss,val_sparse_categorical_accuracy,val_student_loss,lr\n"
          ]
        },
        {
          "name": "stderr",
          "output_type": "stream",
          "text": [
            "WARNING:tensorflow:Early stopping conditioned on metric `val_loss` which is not available. Available metrics are: sparse_categorical_accuracy,student_loss,distillation_loss,val_sparse_categorical_accuracy,val_student_loss,lr\n"
          ]
        },
        {
          "name": "stdout",
          "output_type": "stream",
          "text": [
            "6/6 [==============================] - 0s 6ms/step - sparse_categorical_accuracy: 0.8864 - student_loss: 0.3671 - distillation_loss: 1.2976e-04 - val_sparse_categorical_accuracy: 0.8182 - val_student_loss: 0.4062 - lr: 1.0269e-15\n",
            "Epoch 273/300\n",
            "1/6 [====>.........................] - ETA: 0s - sparse_categorical_accuracy: 0.9600 - student_loss: 0.3013 - distillation_loss: 1.0868e-04WARNING:tensorflow:Early stopping conditioned on metric `val_loss` which is not available. Available metrics are: sparse_categorical_accuracy,student_loss,distillation_loss,val_sparse_categorical_accuracy,val_student_loss,lr\n"
          ]
        },
        {
          "name": "stderr",
          "output_type": "stream",
          "text": [
            "WARNING:tensorflow:Early stopping conditioned on metric `val_loss` which is not available. Available metrics are: sparse_categorical_accuracy,student_loss,distillation_loss,val_sparse_categorical_accuracy,val_student_loss,lr\n"
          ]
        },
        {
          "name": "stdout",
          "output_type": "stream",
          "text": [
            "6/6 [==============================] - 0s 9ms/step - sparse_categorical_accuracy: 0.8864 - student_loss: 0.3370 - distillation_loss: 1.1778e-04 - val_sparse_categorical_accuracy: 0.8182 - val_student_loss: 0.4062 - lr: 9.2423e-16\n",
            "Epoch 274/300\n",
            "1/6 [====>.........................] - ETA: 0s - sparse_categorical_accuracy: 0.9200 - student_loss: 0.3592 - distillation_loss: 8.7904e-05WARNING:tensorflow:Early stopping conditioned on metric `val_loss` which is not available. Available metrics are: sparse_categorical_accuracy,student_loss,distillation_loss,val_sparse_categorical_accuracy,val_student_loss,lr\n"
          ]
        },
        {
          "name": "stderr",
          "output_type": "stream",
          "text": [
            "WARNING:tensorflow:Early stopping conditioned on metric `val_loss` which is not available. Available metrics are: sparse_categorical_accuracy,student_loss,distillation_loss,val_sparse_categorical_accuracy,val_student_loss,lr\n"
          ]
        },
        {
          "name": "stdout",
          "output_type": "stream",
          "text": [
            "6/6 [==============================] - 0s 7ms/step - sparse_categorical_accuracy: 0.8864 - student_loss: 0.3385 - distillation_loss: 1.1168e-04 - val_sparse_categorical_accuracy: 0.8182 - val_student_loss: 0.4062 - lr: 8.3181e-16\n",
            "Epoch 275/300\n",
            "1/6 [====>.........................] - ETA: 0s - sparse_categorical_accuracy: 0.9200 - student_loss: 0.3069 - distillation_loss: 1.0337e-04WARNING:tensorflow:Early stopping conditioned on metric `val_loss` which is not available. Available metrics are: sparse_categorical_accuracy,student_loss,distillation_loss,val_sparse_categorical_accuracy,val_student_loss,lr\n"
          ]
        },
        {
          "name": "stderr",
          "output_type": "stream",
          "text": [
            "WARNING:tensorflow:Early stopping conditioned on metric `val_loss` which is not available. Available metrics are: sparse_categorical_accuracy,student_loss,distillation_loss,val_sparse_categorical_accuracy,val_student_loss,lr\n"
          ]
        },
        {
          "name": "stdout",
          "output_type": "stream",
          "text": [
            "6/6 [==============================] - 0s 6ms/step - sparse_categorical_accuracy: 0.8864 - student_loss: 0.3388 - distillation_loss: 1.0618e-04 - val_sparse_categorical_accuracy: 0.8182 - val_student_loss: 0.4062 - lr: 7.4863e-16\n",
            "Epoch 276/300\n",
            "1/6 [====>.........................] - ETA: 0s - sparse_categorical_accuracy: 0.8800 - student_loss: 0.3844 - distillation_loss: 9.1903e-05WARNING:tensorflow:Early stopping conditioned on metric `val_loss` which is not available. Available metrics are: sparse_categorical_accuracy,student_loss,distillation_loss,val_sparse_categorical_accuracy,val_student_loss,lr\n"
          ]
        },
        {
          "name": "stderr",
          "output_type": "stream",
          "text": [
            "WARNING:tensorflow:Early stopping conditioned on metric `val_loss` which is not available. Available metrics are: sparse_categorical_accuracy,student_loss,distillation_loss,val_sparse_categorical_accuracy,val_student_loss,lr\n"
          ]
        },
        {
          "name": "stdout",
          "output_type": "stream",
          "text": [
            "6/6 [==============================] - 0s 5ms/step - sparse_categorical_accuracy: 0.8864 - student_loss: 0.3617 - distillation_loss: 1.0803e-04 - val_sparse_categorical_accuracy: 0.8182 - val_student_loss: 0.4062 - lr: 6.7376e-16\n",
            "Epoch 277/300\n",
            "1/6 [====>.........................] - ETA: 0s - sparse_categorical_accuracy: 0.9000 - student_loss: 0.3301 - distillation_loss: 1.1599e-04WARNING:tensorflow:Early stopping conditioned on metric `val_loss` which is not available. Available metrics are: sparse_categorical_accuracy,student_loss,distillation_loss,val_sparse_categorical_accuracy,val_student_loss,lr\n"
          ]
        },
        {
          "name": "stderr",
          "output_type": "stream",
          "text": [
            "WARNING:tensorflow:Early stopping conditioned on metric `val_loss` which is not available. Available metrics are: sparse_categorical_accuracy,student_loss,distillation_loss,val_sparse_categorical_accuracy,val_student_loss,lr\n"
          ]
        },
        {
          "name": "stdout",
          "output_type": "stream",
          "text": [
            "6/6 [==============================] - 0s 5ms/step - sparse_categorical_accuracy: 0.8864 - student_loss: 0.3791 - distillation_loss: 1.1525e-04 - val_sparse_categorical_accuracy: 0.8182 - val_student_loss: 0.4062 - lr: 6.0639e-16\n",
            "Epoch 278/300\n",
            "1/6 [====>.........................] - ETA: 0s - sparse_categorical_accuracy: 0.9000 - student_loss: 0.4035 - distillation_loss: 1.1130e-04WARNING:tensorflow:Early stopping conditioned on metric `val_loss` which is not available. Available metrics are: sparse_categorical_accuracy,student_loss,distillation_loss,val_sparse_categorical_accuracy,val_student_loss,lr\n"
          ]
        },
        {
          "name": "stderr",
          "output_type": "stream",
          "text": [
            "WARNING:tensorflow:Early stopping conditioned on metric `val_loss` which is not available. Available metrics are: sparse_categorical_accuracy,student_loss,distillation_loss,val_sparse_categorical_accuracy,val_student_loss,lr\n"
          ]
        },
        {
          "name": "stdout",
          "output_type": "stream",
          "text": [
            "6/6 [==============================] - 0s 6ms/step - sparse_categorical_accuracy: 0.8864 - student_loss: 0.3875 - distillation_loss: 1.1954e-04 - val_sparse_categorical_accuracy: 0.8182 - val_student_loss: 0.4062 - lr: 5.4575e-16\n",
            "Epoch 279/300\n",
            "1/6 [====>.........................] - ETA: 0s - sparse_categorical_accuracy: 0.8800 - student_loss: 0.3705 - distillation_loss: 1.0460e-04WARNING:tensorflow:Early stopping conditioned on metric `val_loss` which is not available. Available metrics are: sparse_categorical_accuracy,student_loss,distillation_loss,val_sparse_categorical_accuracy,val_student_loss,lr\n"
          ]
        },
        {
          "name": "stderr",
          "output_type": "stream",
          "text": [
            "WARNING:tensorflow:Early stopping conditioned on metric `val_loss` which is not available. Available metrics are: sparse_categorical_accuracy,student_loss,distillation_loss,val_sparse_categorical_accuracy,val_student_loss,lr\n"
          ]
        },
        {
          "name": "stdout",
          "output_type": "stream",
          "text": [
            "6/6 [==============================] - 0s 4ms/step - sparse_categorical_accuracy: 0.8864 - student_loss: 0.3959 - distillation_loss: 1.2950e-04 - val_sparse_categorical_accuracy: 0.8182 - val_student_loss: 0.4062 - lr: 4.9117e-16\n",
            "Epoch 280/300\n",
            "1/6 [====>.........................] - ETA: 0s - sparse_categorical_accuracy: 0.8600 - student_loss: 0.4141 - distillation_loss: 9.7313e-05WARNING:tensorflow:Early stopping conditioned on metric `val_loss` which is not available. Available metrics are: sparse_categorical_accuracy,student_loss,distillation_loss,val_sparse_categorical_accuracy,val_student_loss,lr\n"
          ]
        },
        {
          "name": "stderr",
          "output_type": "stream",
          "text": [
            "WARNING:tensorflow:Early stopping conditioned on metric `val_loss` which is not available. Available metrics are: sparse_categorical_accuracy,student_loss,distillation_loss,val_sparse_categorical_accuracy,val_student_loss,lr\n"
          ]
        },
        {
          "name": "stdout",
          "output_type": "stream",
          "text": [
            "6/6 [==============================] - 0s 8ms/step - sparse_categorical_accuracy: 0.8864 - student_loss: 0.3591 - distillation_loss: 1.2712e-04 - val_sparse_categorical_accuracy: 0.8182 - val_student_loss: 0.4062 - lr: 4.4206e-16\n",
            "Epoch 281/300\n",
            "1/6 [====>.........................] - ETA: 0s - sparse_categorical_accuracy: 0.8600 - student_loss: 0.4129 - distillation_loss: 1.0603e-04WARNING:tensorflow:Early stopping conditioned on metric `val_loss` which is not available. Available metrics are: sparse_categorical_accuracy,student_loss,distillation_loss,val_sparse_categorical_accuracy,val_student_loss,lr\n"
          ]
        },
        {
          "name": "stderr",
          "output_type": "stream",
          "text": [
            "WARNING:tensorflow:Early stopping conditioned on metric `val_loss` which is not available. Available metrics are: sparse_categorical_accuracy,student_loss,distillation_loss,val_sparse_categorical_accuracy,val_student_loss,lr\n"
          ]
        },
        {
          "name": "stdout",
          "output_type": "stream",
          "text": [
            "6/6 [==============================] - 0s 6ms/step - sparse_categorical_accuracy: 0.8864 - student_loss: 0.4055 - distillation_loss: 1.2818e-04 - val_sparse_categorical_accuracy: 0.8182 - val_student_loss: 0.4062 - lr: 3.9785e-16\n",
            "Epoch 282/300\n",
            "1/6 [====>.........................] - ETA: 0s - sparse_categorical_accuracy: 0.8400 - student_loss: 0.4206 - distillation_loss: 1.1205e-04WARNING:tensorflow:Early stopping conditioned on metric `val_loss` which is not available. Available metrics are: sparse_categorical_accuracy,student_loss,distillation_loss,val_sparse_categorical_accuracy,val_student_loss,lr\n"
          ]
        },
        {
          "name": "stderr",
          "output_type": "stream",
          "text": [
            "WARNING:tensorflow:Early stopping conditioned on metric `val_loss` which is not available. Available metrics are: sparse_categorical_accuracy,student_loss,distillation_loss,val_sparse_categorical_accuracy,val_student_loss,lr\n"
          ]
        },
        {
          "name": "stdout",
          "output_type": "stream",
          "text": [
            "6/6 [==============================] - 0s 8ms/step - sparse_categorical_accuracy: 0.8864 - student_loss: 0.3405 - distillation_loss: 1.2156e-04 - val_sparse_categorical_accuracy: 0.8182 - val_student_loss: 0.4062 - lr: 3.5807e-16\n",
            "Epoch 283/300\n",
            "1/6 [====>.........................] - ETA: 0s - sparse_categorical_accuracy: 0.9200 - student_loss: 0.3490 - distillation_loss: 1.0099e-04WARNING:tensorflow:Early stopping conditioned on metric `val_loss` which is not available. Available metrics are: sparse_categorical_accuracy,student_loss,distillation_loss,val_sparse_categorical_accuracy,val_student_loss,lr\n"
          ]
        },
        {
          "name": "stderr",
          "output_type": "stream",
          "text": [
            "WARNING:tensorflow:Early stopping conditioned on metric `val_loss` which is not available. Available metrics are: sparse_categorical_accuracy,student_loss,distillation_loss,val_sparse_categorical_accuracy,val_student_loss,lr\n"
          ]
        },
        {
          "name": "stdout",
          "output_type": "stream",
          "text": [
            "6/6 [==============================] - 0s 6ms/step - sparse_categorical_accuracy: 0.8864 - student_loss: 0.3515 - distillation_loss: 1.2153e-04 - val_sparse_categorical_accuracy: 0.8182 - val_student_loss: 0.4062 - lr: 3.2226e-16\n",
            "Epoch 284/300\n",
            "1/6 [====>.........................] - ETA: 0s - sparse_categorical_accuracy: 0.8400 - student_loss: 0.3720 - distillation_loss: 1.5126e-04WARNING:tensorflow:Early stopping conditioned on metric `val_loss` which is not available. Available metrics are: sparse_categorical_accuracy,student_loss,distillation_loss,val_sparse_categorical_accuracy,val_student_loss,lr\n"
          ]
        },
        {
          "name": "stderr",
          "output_type": "stream",
          "text": [
            "WARNING:tensorflow:Early stopping conditioned on metric `val_loss` which is not available. Available metrics are: sparse_categorical_accuracy,student_loss,distillation_loss,val_sparse_categorical_accuracy,val_student_loss,lr\n"
          ]
        },
        {
          "name": "stdout",
          "output_type": "stream",
          "text": [
            "6/6 [==============================] - 0s 6ms/step - sparse_categorical_accuracy: 0.8864 - student_loss: 0.3909 - distillation_loss: 1.3025e-04 - val_sparse_categorical_accuracy: 0.8182 - val_student_loss: 0.4062 - lr: 2.9003e-16\n",
            "Epoch 285/300\n",
            "1/6 [====>.........................] - ETA: 0s - sparse_categorical_accuracy: 0.8800 - student_loss: 0.3311 - distillation_loss: 1.0001e-04WARNING:tensorflow:Early stopping conditioned on metric `val_loss` which is not available. Available metrics are: sparse_categorical_accuracy,student_loss,distillation_loss,val_sparse_categorical_accuracy,val_student_loss,lr\n"
          ]
        },
        {
          "name": "stderr",
          "output_type": "stream",
          "text": [
            "WARNING:tensorflow:Early stopping conditioned on metric `val_loss` which is not available. Available metrics are: sparse_categorical_accuracy,student_loss,distillation_loss,val_sparse_categorical_accuracy,val_student_loss,lr\n"
          ]
        },
        {
          "name": "stdout",
          "output_type": "stream",
          "text": [
            "6/6 [==============================] - 0s 6ms/step - sparse_categorical_accuracy: 0.8864 - student_loss: 0.3624 - distillation_loss: 1.4420e-04 - val_sparse_categorical_accuracy: 0.8182 - val_student_loss: 0.4062 - lr: 2.6103e-16\n",
            "Epoch 286/300\n",
            "1/6 [====>.........................] - ETA: 0s - sparse_categorical_accuracy: 0.9000 - student_loss: 0.3429 - distillation_loss: 1.1797e-04WARNING:tensorflow:Early stopping conditioned on metric `val_loss` which is not available. Available metrics are: sparse_categorical_accuracy,student_loss,distillation_loss,val_sparse_categorical_accuracy,val_student_loss,lr\n"
          ]
        },
        {
          "name": "stderr",
          "output_type": "stream",
          "text": [
            "WARNING:tensorflow:Early stopping conditioned on metric `val_loss` which is not available. Available metrics are: sparse_categorical_accuracy,student_loss,distillation_loss,val_sparse_categorical_accuracy,val_student_loss,lr\n"
          ]
        },
        {
          "name": "stdout",
          "output_type": "stream",
          "text": [
            "6/6 [==============================] - 0s 6ms/step - sparse_categorical_accuracy: 0.8864 - student_loss: 0.3534 - distillation_loss: 1.2382e-04 - val_sparse_categorical_accuracy: 0.8182 - val_student_loss: 0.4062 - lr: 2.3493e-16\n",
            "Epoch 287/300\n",
            "1/6 [====>.........................] - ETA: 0s - sparse_categorical_accuracy: 0.8800 - student_loss: 0.3425 - distillation_loss: 1.0463e-04WARNING:tensorflow:Early stopping conditioned on metric `val_loss` which is not available. Available metrics are: sparse_categorical_accuracy,student_loss,distillation_loss,val_sparse_categorical_accuracy,val_student_loss,lr\n"
          ]
        },
        {
          "name": "stderr",
          "output_type": "stream",
          "text": [
            "WARNING:tensorflow:Early stopping conditioned on metric `val_loss` which is not available. Available metrics are: sparse_categorical_accuracy,student_loss,distillation_loss,val_sparse_categorical_accuracy,val_student_loss,lr\n"
          ]
        },
        {
          "name": "stdout",
          "output_type": "stream",
          "text": [
            "6/6 [==============================] - 0s 6ms/step - sparse_categorical_accuracy: 0.8864 - student_loss: 0.3550 - distillation_loss: 1.1316e-04 - val_sparse_categorical_accuracy: 0.8182 - val_student_loss: 0.4062 - lr: 2.1143e-16\n",
            "Epoch 288/300\n",
            "1/6 [====>.........................] - ETA: 0s - sparse_categorical_accuracy: 0.8800 - student_loss: 0.3583 - distillation_loss: 1.1663e-04WARNING:tensorflow:Early stopping conditioned on metric `val_loss` which is not available. Available metrics are: sparse_categorical_accuracy,student_loss,distillation_loss,val_sparse_categorical_accuracy,val_student_loss,lr\n"
          ]
        },
        {
          "name": "stderr",
          "output_type": "stream",
          "text": [
            "WARNING:tensorflow:Early stopping conditioned on metric `val_loss` which is not available. Available metrics are: sparse_categorical_accuracy,student_loss,distillation_loss,val_sparse_categorical_accuracy,val_student_loss,lr\n"
          ]
        },
        {
          "name": "stdout",
          "output_type": "stream",
          "text": [
            "6/6 [==============================] - 0s 6ms/step - sparse_categorical_accuracy: 0.8864 - student_loss: 0.3425 - distillation_loss: 1.1350e-04 - val_sparse_categorical_accuracy: 0.8182 - val_student_loss: 0.4062 - lr: 1.9029e-16\n",
            "Epoch 289/300\n",
            "1/6 [====>.........................] - ETA: 0s - sparse_categorical_accuracy: 0.8800 - student_loss: 0.3515 - distillation_loss: 1.1291e-04WARNING:tensorflow:Early stopping conditioned on metric `val_loss` which is not available. Available metrics are: sparse_categorical_accuracy,student_loss,distillation_loss,val_sparse_categorical_accuracy,val_student_loss,lr\n"
          ]
        },
        {
          "name": "stderr",
          "output_type": "stream",
          "text": [
            "WARNING:tensorflow:Early stopping conditioned on metric `val_loss` which is not available. Available metrics are: sparse_categorical_accuracy,student_loss,distillation_loss,val_sparse_categorical_accuracy,val_student_loss,lr\n"
          ]
        },
        {
          "name": "stdout",
          "output_type": "stream",
          "text": [
            "6/6 [==============================] - 0s 6ms/step - sparse_categorical_accuracy: 0.8864 - student_loss: 0.3670 - distillation_loss: 1.3073e-04 - val_sparse_categorical_accuracy: 0.8182 - val_student_loss: 0.4062 - lr: 1.7126e-16\n",
            "Epoch 290/300\n",
            "1/6 [====>.........................] - ETA: 0s - sparse_categorical_accuracy: 0.8600 - student_loss: 0.3692 - distillation_loss: 1.1587e-04WARNING:tensorflow:Early stopping conditioned on metric `val_loss` which is not available. Available metrics are: sparse_categorical_accuracy,student_loss,distillation_loss,val_sparse_categorical_accuracy,val_student_loss,lr\n"
          ]
        },
        {
          "name": "stderr",
          "output_type": "stream",
          "text": [
            "WARNING:tensorflow:Early stopping conditioned on metric `val_loss` which is not available. Available metrics are: sparse_categorical_accuracy,student_loss,distillation_loss,val_sparse_categorical_accuracy,val_student_loss,lr\n"
          ]
        },
        {
          "name": "stdout",
          "output_type": "stream",
          "text": [
            "6/6 [==============================] - 0s 6ms/step - sparse_categorical_accuracy: 0.8864 - student_loss: 0.3498 - distillation_loss: 1.0293e-04 - val_sparse_categorical_accuracy: 0.8182 - val_student_loss: 0.4062 - lr: 1.5414e-16\n",
            "Epoch 291/300\n",
            "1/6 [====>.........................] - ETA: 0s - sparse_categorical_accuracy: 0.8400 - student_loss: 0.4186 - distillation_loss: 1.5898e-04WARNING:tensorflow:Early stopping conditioned on metric `val_loss` which is not available. Available metrics are: sparse_categorical_accuracy,student_loss,distillation_loss,val_sparse_categorical_accuracy,val_student_loss,lr\n"
          ]
        },
        {
          "name": "stderr",
          "output_type": "stream",
          "text": [
            "WARNING:tensorflow:Early stopping conditioned on metric `val_loss` which is not available. Available metrics are: sparse_categorical_accuracy,student_loss,distillation_loss,val_sparse_categorical_accuracy,val_student_loss,lr\n"
          ]
        },
        {
          "name": "stdout",
          "output_type": "stream",
          "text": [
            "6/6 [==============================] - 0s 6ms/step - sparse_categorical_accuracy: 0.8864 - student_loss: 0.3411 - distillation_loss: 1.0478e-04 - val_sparse_categorical_accuracy: 0.8182 - val_student_loss: 0.4062 - lr: 1.3872e-16\n",
            "Epoch 292/300\n",
            "1/6 [====>.........................] - ETA: 0s - sparse_categorical_accuracy: 0.9000 - student_loss: 0.3034 - distillation_loss: 1.1319e-04WARNING:tensorflow:Early stopping conditioned on metric `val_loss` which is not available. Available metrics are: sparse_categorical_accuracy,student_loss,distillation_loss,val_sparse_categorical_accuracy,val_student_loss,lr\n"
          ]
        },
        {
          "name": "stderr",
          "output_type": "stream",
          "text": [
            "WARNING:tensorflow:Early stopping conditioned on metric `val_loss` which is not available. Available metrics are: sparse_categorical_accuracy,student_loss,distillation_loss,val_sparse_categorical_accuracy,val_student_loss,lr\n"
          ]
        },
        {
          "name": "stdout",
          "output_type": "stream",
          "text": [
            "6/6 [==============================] - 0s 5ms/step - sparse_categorical_accuracy: 0.8864 - student_loss: 0.3615 - distillation_loss: 1.2077e-04 - val_sparse_categorical_accuracy: 0.8182 - val_student_loss: 0.4062 - lr: 1.2485e-16\n",
            "Epoch 293/300\n",
            "1/6 [====>.........................] - ETA: 0s - sparse_categorical_accuracy: 0.9000 - student_loss: 0.3095 - distillation_loss: 1.1531e-04WARNING:tensorflow:Early stopping conditioned on metric `val_loss` which is not available. Available metrics are: sparse_categorical_accuracy,student_loss,distillation_loss,val_sparse_categorical_accuracy,val_student_loss,lr\n"
          ]
        },
        {
          "name": "stderr",
          "output_type": "stream",
          "text": [
            "WARNING:tensorflow:Early stopping conditioned on metric `val_loss` which is not available. Available metrics are: sparse_categorical_accuracy,student_loss,distillation_loss,val_sparse_categorical_accuracy,val_student_loss,lr\n"
          ]
        },
        {
          "name": "stdout",
          "output_type": "stream",
          "text": [
            "6/6 [==============================] - 0s 6ms/step - sparse_categorical_accuracy: 0.8864 - student_loss: 0.3293 - distillation_loss: 1.1143e-04 - val_sparse_categorical_accuracy: 0.8182 - val_student_loss: 0.4062 - lr: 1.1236e-16\n",
            "Epoch 294/300\n",
            "1/6 [====>.........................] - ETA: 0s - sparse_categorical_accuracy: 0.9200 - student_loss: 0.3424 - distillation_loss: 8.8722e-05WARNING:tensorflow:Early stopping conditioned on metric `val_loss` which is not available. Available metrics are: sparse_categorical_accuracy,student_loss,distillation_loss,val_sparse_categorical_accuracy,val_student_loss,lr\n"
          ]
        },
        {
          "name": "stderr",
          "output_type": "stream",
          "text": [
            "WARNING:tensorflow:Early stopping conditioned on metric `val_loss` which is not available. Available metrics are: sparse_categorical_accuracy,student_loss,distillation_loss,val_sparse_categorical_accuracy,val_student_loss,lr\n"
          ]
        },
        {
          "name": "stdout",
          "output_type": "stream",
          "text": [
            "6/6 [==============================] - 0s 6ms/step - sparse_categorical_accuracy: 0.8864 - student_loss: 0.3359 - distillation_loss: 1.1139e-04 - val_sparse_categorical_accuracy: 0.8182 - val_student_loss: 0.4062 - lr: 1.0113e-16\n",
            "Epoch 295/300\n",
            "1/6 [====>.........................] - ETA: 0s - sparse_categorical_accuracy: 0.8600 - student_loss: 0.3390 - distillation_loss: 1.1856e-04WARNING:tensorflow:Early stopping conditioned on metric `val_loss` which is not available. Available metrics are: sparse_categorical_accuracy,student_loss,distillation_loss,val_sparse_categorical_accuracy,val_student_loss,lr\n"
          ]
        },
        {
          "name": "stderr",
          "output_type": "stream",
          "text": [
            "WARNING:tensorflow:Early stopping conditioned on metric `val_loss` which is not available. Available metrics are: sparse_categorical_accuracy,student_loss,distillation_loss,val_sparse_categorical_accuracy,val_student_loss,lr\n"
          ]
        },
        {
          "name": "stdout",
          "output_type": "stream",
          "text": [
            "6/6 [==============================] - 0s 6ms/step - sparse_categorical_accuracy: 0.8864 - student_loss: 0.4102 - distillation_loss: 1.2943e-04 - val_sparse_categorical_accuracy: 0.8182 - val_student_loss: 0.4062 - lr: 9.1015e-17\n",
            "Epoch 296/300\n",
            "1/6 [====>.........................] - ETA: 0s - sparse_categorical_accuracy: 0.8400 - student_loss: 0.4101 - distillation_loss: 1.5169e-04WARNING:tensorflow:Early stopping conditioned on metric `val_loss` which is not available. Available metrics are: sparse_categorical_accuracy,student_loss,distillation_loss,val_sparse_categorical_accuracy,val_student_loss,lr\n"
          ]
        },
        {
          "name": "stderr",
          "output_type": "stream",
          "text": [
            "WARNING:tensorflow:Early stopping conditioned on metric `val_loss` which is not available. Available metrics are: sparse_categorical_accuracy,student_loss,distillation_loss,val_sparse_categorical_accuracy,val_student_loss,lr\n"
          ]
        },
        {
          "name": "stdout",
          "output_type": "stream",
          "text": [
            "6/6 [==============================] - 0s 5ms/step - sparse_categorical_accuracy: 0.8864 - student_loss: 0.3464 - distillation_loss: 1.1093e-04 - val_sparse_categorical_accuracy: 0.8182 - val_student_loss: 0.4062 - lr: 8.1914e-17\n",
            "Epoch 297/300\n",
            "1/6 [====>.........................] - ETA: 0s - sparse_categorical_accuracy: 0.8600 - student_loss: 0.4287 - distillation_loss: 1.0082e-04WARNING:tensorflow:Early stopping conditioned on metric `val_loss` which is not available. Available metrics are: sparse_categorical_accuracy,student_loss,distillation_loss,val_sparse_categorical_accuracy,val_student_loss,lr\n"
          ]
        },
        {
          "name": "stderr",
          "output_type": "stream",
          "text": [
            "WARNING:tensorflow:Early stopping conditioned on metric `val_loss` which is not available. Available metrics are: sparse_categorical_accuracy,student_loss,distillation_loss,val_sparse_categorical_accuracy,val_student_loss,lr\n"
          ]
        },
        {
          "name": "stdout",
          "output_type": "stream",
          "text": [
            "6/6 [==============================] - 0s 7ms/step - sparse_categorical_accuracy: 0.8864 - student_loss: 0.4167 - distillation_loss: 1.1384e-04 - val_sparse_categorical_accuracy: 0.8182 - val_student_loss: 0.4062 - lr: 7.3723e-17\n",
            "Epoch 298/300\n",
            "1/6 [====>.........................] - ETA: 0s - sparse_categorical_accuracy: 0.8600 - student_loss: 0.4137 - distillation_loss: 9.0344e-05WARNING:tensorflow:Early stopping conditioned on metric `val_loss` which is not available. Available metrics are: sparse_categorical_accuracy,student_loss,distillation_loss,val_sparse_categorical_accuracy,val_student_loss,lr\n"
          ]
        },
        {
          "name": "stderr",
          "output_type": "stream",
          "text": [
            "WARNING:tensorflow:Early stopping conditioned on metric `val_loss` which is not available. Available metrics are: sparse_categorical_accuracy,student_loss,distillation_loss,val_sparse_categorical_accuracy,val_student_loss,lr\n"
          ]
        },
        {
          "name": "stdout",
          "output_type": "stream",
          "text": [
            "6/6 [==============================] - 0s 5ms/step - sparse_categorical_accuracy: 0.8864 - student_loss: 0.3939 - distillation_loss: 1.3249e-04 - val_sparse_categorical_accuracy: 0.8182 - val_student_loss: 0.4062 - lr: 6.6350e-17\n",
            "Epoch 299/300\n",
            "1/6 [====>.........................] - ETA: 0s - sparse_categorical_accuracy: 0.9000 - student_loss: 0.2744 - distillation_loss: 7.7682e-05WARNING:tensorflow:Early stopping conditioned on metric `val_loss` which is not available. Available metrics are: sparse_categorical_accuracy,student_loss,distillation_loss,val_sparse_categorical_accuracy,val_student_loss,lr\n"
          ]
        },
        {
          "name": "stderr",
          "output_type": "stream",
          "text": [
            "WARNING:tensorflow:Early stopping conditioned on metric `val_loss` which is not available. Available metrics are: sparse_categorical_accuracy,student_loss,distillation_loss,val_sparse_categorical_accuracy,val_student_loss,lr\n"
          ]
        },
        {
          "name": "stdout",
          "output_type": "stream",
          "text": [
            "6/6 [==============================] - 0s 6ms/step - sparse_categorical_accuracy: 0.8864 - student_loss: 0.3728 - distillation_loss: 1.2708e-04 - val_sparse_categorical_accuracy: 0.8182 - val_student_loss: 0.4062 - lr: 5.9715e-17\n",
            "Epoch 300/300\n",
            "1/6 [====>.........................] - ETA: 0s - sparse_categorical_accuracy: 0.8800 - student_loss: 0.3481 - distillation_loss: 1.1892e-04WARNING:tensorflow:Early stopping conditioned on metric `val_loss` which is not available. Available metrics are: sparse_categorical_accuracy,student_loss,distillation_loss,val_sparse_categorical_accuracy,val_student_loss,lr\n"
          ]
        },
        {
          "name": "stderr",
          "output_type": "stream",
          "text": [
            "WARNING:tensorflow:Early stopping conditioned on metric `val_loss` which is not available. Available metrics are: sparse_categorical_accuracy,student_loss,distillation_loss,val_sparse_categorical_accuracy,val_student_loss,lr\n"
          ]
        },
        {
          "name": "stdout",
          "output_type": "stream",
          "text": [
            "6/6 [==============================] - 0s 10ms/step - sparse_categorical_accuracy: 0.8864 - student_loss: 0.3420 - distillation_loss: 1.1633e-04 - val_sparse_categorical_accuracy: 0.8182 - val_student_loss: 0.4062 - lr: 5.3744e-17\n"
          ]
        }
      ],
      "source": [
        "# Proceso de destilación del conocimiento\n",
        "# Entrenamiento del modelo\n",
        "distilledMLP.compile(\n",
        "        optimizer='adam',\n",
        "        metrics=[keras.metrics.SparseCategoricalAccuracy()],\n",
        "        student_loss_fn=keras.losses.SparseCategoricalCrossentropy(from_logits=True),\n",
        "        distillation_loss_fn=keras.losses.KLDivergence(),\n",
        "        alpha=0.65, \n",
        "        temperature=10,\n",
        "    )\n",
        "\n",
        "early_stop = EarlyStopping(monitor='val_loss', patience=25, restore_best_weights=True)\n",
        "\n",
        "### ENTRENAR EL MODELO destilado\n",
        "history_distilledMLP = distilledMLP.fit(X_train, y_train,\n",
        "                     validation_data=(X_test, y_test),\n",
        "                     epochs=300,\n",
        "                     batch_size=50,\n",
        "                     callbacks=[lr_scheduler, early_stop])\n",
        "\n"
      ]
    },
    {
      "cell_type": "markdown",
      "id": "117a68b1",
      "metadata": {},
      "source": [
        "#### RESULTADOS DEL ENTRENAMIENTO \n",
        "SE PRESENTAN LOS RESULTADOS DEL ENTRENAMIENTO DEL MODLEO ALUNO MEDIANTE LA TÉCNICAS DE DESTILACIÓN DEL CONOCOMIENTO"
      ]
    },
    {
      "cell_type": "code",
      "execution_count": 49,
      "id": "73075997",
      "metadata": {},
      "outputs": [
        {
          "data": {
            "image/png": "[encoded data removed]",
            "text/plain": [
              "<Figure size 500x200 with 1 Axes>"
            ]
          },
          "metadata": {},
          "output_type": "display_data"
        }
      ],
      "source": [
        "# Plot accuracy over epochs\n",
        "plt.figure(figsize=(5,2))\n",
        "plt.plot(history_distilledMLP.history['sparse_categorical_accuracy'], label='Datos de entrenamiento')\n",
        "plt.plot(history_distilledMLP.history['val_sparse_categorical_accuracy'], label='Datos de Validación')\n",
        "plt.xlabel('Epocas')\n",
        "plt.ylabel('Precisión')\n",
        "plt.legend()\n",
        "#plt.title('Accuracy over epochs')\n",
        "plt.show()"
      ]
    },
    {
      "cell_type": "markdown",
      "id": "29cd3cb4",
      "metadata": {},
      "source": [
        "### RESULTADOS - MÉTRICAS CON DATOS DE TEST"
      ]
    },
    {
      "cell_type": "code",
      "execution_count": 50,
      "id": "28fa1b71",
      "metadata": {},
      "outputs": [
        {
          "name": "stdout",
          "output_type": "stream",
          "text": [
            "3/3 [==============================] - 0s 8ms/step\n"
          ]
        },
        {
          "data": {
            "image/png": "[encoded data removed]",
            "text/plain": [
              "<Figure size 400x300 with 2 Axes>"
            ]
          },
          "metadata": {},
          "output_type": "display_data"
        },
        {
          "name": "stdout",
          "output_type": "stream",
          "text": [
            "Precisión sobre el conjunto de test: 81.82%\n",
            "Tasa de error: 18.18%\n"
          ]
        }
      ],
      "source": [
        "from sklearn.metrics import confusion_matrix, ConfusionMatrixDisplay, accuracy_score\n",
        "import matplotlib.pyplot as plt  # Acordate de importar matplotlib si no estaba\n",
        "\n",
        "# Obtener las predicciones\n",
        "y_pred_probs = distilledMLP.student.predict(X_test)\n",
        "y_pred = np.argmax(y_pred_probs, axis=1)\n",
        "\n",
        "# Convertir y_test si está en one-hot\n",
        "y_true = y_test  # Si estuviera en one-hot: y_true = np.argmax(y_test, axis=1)\n",
        "\n",
        "# Calcular matriz de confusión\n",
        "cm = confusion_matrix(y_true, y_pred)\n",
        "\n",
        "# Crear figura\n",
        "fig, ax = plt.subplots(figsize=(4,3))\n",
        "disp = ConfusionMatrixDisplay(confusion_matrix=cm)\n",
        "disp.plot(ax=ax, cmap='Purples', values_format='d')  # Mostrar como enteros\n",
        "\n",
        "# Etiquetas en castellano\n",
        "ax.set_xlabel('Etiqueta predicha')\n",
        "ax.set_ylabel('Etiqueta verdadera')\n",
        "#ax.set_title('Matriz de confusión')\n",
        "plt.show()\n",
        "\n",
        "# Calcular y mostrar accuracy\n",
        "accuracy = accuracy_score(y_true, y_pred)\n",
        "print(f\"Precisión sobre el conjunto de test: {accuracy*100:.2f}%\")\n",
        "\n",
        "# Calcular y mostrar error\n",
        "error = 1 - accuracy\n",
        "print(f\"Tasa de error: {error*100:.2f}%\")\n"
      ]
    },
    {
      "cell_type": "code",
      "execution_count": 51,
      "id": "8f6fc49f",
      "metadata": {},
      "outputs": [
        {
          "data": {
            "image/png": "[encoded data removed]",
            "text/plain": [
              "<Figure size 400x300 with 2 Axes>"
            ]
          },
          "metadata": {},
          "output_type": "display_data"
        }
      ],
      "source": [
        "import matplotlib.pyplot as plt\n",
        "import numpy as np\n",
        "\n",
        "# Supongamos que ya tenés:\n",
        "# cm = matriz de confusión\n",
        "class_names = ['ruido', 'neo', 'cry']\n",
        "\n",
        "fig, ax = plt.subplots(figsize=(4,3))\n",
        "\n",
        "# Dibujar la matriz\n",
        "cax = ax.imshow(cm, cmap='Purples')\n",
        "\n",
        "\n",
        "# Etiquetas de ejes\n",
        "\n",
        "# Ticks en los ejes\n",
        "# Ticks y nombres de clases\n",
        "ax.set_xticks(np.arange(len(class_names)))\n",
        "ax.set_yticks(np.arange(len(class_names)))\n",
        "ax.set_xticklabels(class_names)\n",
        "ax.set_yticklabels(class_names)\n",
        "\n",
        "\n",
        "# Etiquetas en cada casilla\n",
        "for i in range(cm.shape[0]):\n",
        "    for j in range(cm.shape[1]):\n",
        "        ax.text(j, i, format(cm[i, j], 'd'),\n",
        "                ha='center', va='center',\n",
        "                color='black', fontsize=12)\n",
        "\n",
        "# Barra de color ajustada\n",
        "cbar = fig.colorbar(cax, ax=ax, fraction=0.046, pad=0.04)\n",
        "\n",
        "plt.tight_layout()\n",
        "plt.show()\n"
      ]
    },
    {
      "cell_type": "markdown",
      "id": "6c5d6a2c",
      "metadata": {},
      "source": [
        "### Guardar el modelo"
      ]
    },
    {
      "cell_type": "code",
      "execution_count": 20,
      "id": "35123d09",
      "metadata": {},
      "outputs": [
        {
          "name": "stdout",
          "output_type": "stream",
          "text": [
            "WARNING:tensorflow:Compiled the loaded model, but the compiled metrics have yet to be built. `model.compile_metrics` will be empty until you train or evaluate the model.\n"
          ]
        },
        {
          "name": "stderr",
          "output_type": "stream",
          "text": [
            "WARNING:tensorflow:Compiled the loaded model, but the compiled metrics have yet to be built. `model.compile_metrics` will be empty until you train or evaluate the model.\n"
          ]
        }
      ],
      "source": [
        "distilledMLP.student.save('student_cangrejos.h5')\n",
        "# Guardar solo los pesos\n",
        "distilledMLP.student.save_weights('pesos_qkeras.h5')"
      ]
    },
    {
      "cell_type": "markdown",
      "id": "497eadaa",
      "metadata": {},
      "source": [
        "## PROCESO DE IMPLEMENTACIÓN "
      ]
    },
    {
      "cell_type": "markdown",
      "id": "be6607a9",
      "metadata": {},
      "source": [
        "Durante el entrenamiento con QKeras, el modelo simula el comportamiento de una red cuantizada (por ejemplo, con pesos y activaciones tipo int8), aunque internamente los valores se representan en punto flotante (float32). Esto se hace porque el entrenamiento en punto flotante es más estable y permite una mejor optimización. Como resultado, se obtiene un modelo cuyos pesos son float32, pero que aprendió bajo las restricciones de precisión que impondría una implementación real con valores cuantizados.\n",
        "\n",
        "Sin embargo, esta simulación no implica una cuantización real. Para llevar el modelo a una representación verdaderamente cuantizada, compatible con dispositivos embebidos, es necesario convertirlo utilizando TensorFlow Lite (TFLite). Como TFLite no es compatible con modelos QKeras, se construyó un modelo equivalente en Keras convencional, al que se le transfirieron los pesos obtenidos con QKeras. De este modo, fue posible aprovechar el entrenamiento consciente de la cuantización, y luego aplicar una cuantización entera (int8) real mediante TFLite para su implementación final en hardware."
      ]
    },
    {
      "cell_type": "markdown",
      "id": "23ca2b76",
      "metadata": {},
      "source": [
        "### TRANFORMACIÓN A MODELO .TFLITE"
      ]
    },
    {
      "cell_type": "code",
      "execution_count": 53,
      "id": "b98fe422",
      "metadata": {},
      "outputs": [
        {
          "name": "stdout",
          "output_type": "stream",
          "text": [
            "Model: \"sequential_6\"\n",
            "_________________________________________________________________\n",
            " Layer (type)                Output Shape              Param #   \n",
            "=================================================================\n",
            " fc1 (Dense)                 (None, 32)                736       \n",
            "                                                                 \n",
            " relu1 (Activation)          (None, 32)                0         \n",
            "                                                                 \n",
            " fc2 (Dense)                 (None, 16)                528       \n",
            "                                                                 \n",
            " relu2 (Activation)          (None, 16)                0         \n",
            "                                                                 \n",
            " fc3 (Dense)                 (None, 8)                 136       \n",
            "                                                                 \n",
            " relu3 (Activation)          (None, 8)                 0         \n",
            "                                                                 \n",
            " output (Dense)              (None, 3)                 27        \n",
            "                                                                 \n",
            " softmax (Activation)        (None, 3)                 0         \n",
            "                                                                 \n",
            "=================================================================\n",
            "Total params: 1,427\n",
            "Trainable params: 1,427\n",
            "Non-trainable params: 0\n",
            "_________________________________________________________________\n",
            "WARNING:tensorflow:Compiled the loaded model, but the compiled metrics have yet to be built. `model.compile_metrics` will be empty until you train or evaluate the model.\n"
          ]
        },
        {
          "name": "stderr",
          "output_type": "stream",
          "text": [
            "WARNING:tensorflow:Compiled the loaded model, but the compiled metrics have yet to be built. `model.compile_metrics` will be empty until you train or evaluate the model.\n"
          ]
        }
      ],
      "source": [
        "import tensorflow as tf\n",
        "from tensorflow.keras.models import Sequential\n",
        "from tensorflow.keras.layers import Dense, Activation\n",
        "from tensorflow.keras.models import load_model\n",
        "from keras.utils import get_custom_objects\n",
        "\n",
        "# Registrar las capas personalizadas de QKeras\n",
        "get_custom_objects().update({\n",
        "    'QDense': QDense,\n",
        "    'QActivation': QActivation,\n",
        "    'quantized_bits': quantizers.quantized_bits,  # Registrar el cuantizador 'quantized_bits'\n",
        "})\n",
        "\n",
        "# Paso 1: Crear la misma arquitectura en Keras tradicional\n",
        "def build_keras_model():\n",
        "    model = Sequential([\n",
        "        Input(shape=(22,)),\n",
        "        Dense(32, kernel_initializer='lecun_uniform', name='fc1'),\n",
        "        Activation('relu', name='relu1'),\n",
        "        \n",
        "        Dense(16, kernel_initializer='lecun_uniform', name='fc2'),\n",
        "        Activation('relu', name='relu2'),\n",
        "        \n",
        "        Dense(8, kernel_initializer='lecun_uniform', name='fc3'),\n",
        "        Activation('relu', name='relu3'),\n",
        "        \n",
        "        Dense(3, kernel_initializer='lecun_uniform', name='output'),\n",
        "        Activation('softmax', name='softmax')\n",
        "    ])\n",
        "    return model\n",
        "\n",
        "# Paso 3: Construir el modelo Keras (sin cuantización)\n",
        "model_keras = build_keras_model()\n",
        "\n",
        "# Paso 4: Transferir los pesos de QKeras a Keras\n",
        "# Aquí simplemente tomamos los pesos del modelo cuantizado y los cargamos en el nuevo modelo Keras\n",
        "# Cargar los pesos en el nuevo modelo\n",
        "model_keras.load_weights('pesos_qkeras.h5')\n",
        "\n",
        "# Verificación\n",
        "model_keras.summary()\n",
        "\n",
        "# Guardar el modelo de Keras con los pesos ya transferidos\n",
        "model_keras.save('modelo_keras_con_pesos.h5')\n"
      ]
    },
    {
      "cell_type": "code",
      "execution_count": 54,
      "id": "ce08cfa7",
      "metadata": {},
      "outputs": [
        {
          "name": "stdout",
          "output_type": "stream",
          "text": [
            "WARNING:tensorflow:No training configuration found in the save file, so the model was *not* compiled. Compile it manually.\n"
          ]
        },
        {
          "name": "stderr",
          "output_type": "stream",
          "text": [
            "WARNING:tensorflow:No training configuration found in the save file, so the model was *not* compiled. Compile it manually.\n"
          ]
        },
        {
          "name": "stdout",
          "output_type": "stream",
          "text": [
            "INFO:tensorflow:Assets written to: C:\\Users\\CELESTE\\AppData\\Local\\Temp\\tmp2vjyoscj\\assets\n"
          ]
        },
        {
          "name": "stderr",
          "output_type": "stream",
          "text": [
            "INFO:tensorflow:Assets written to: C:\\Users\\CELESTE\\AppData\\Local\\Temp\\tmp2vjyoscj\\assets\n",
            "c:\\Users\\CELESTE\\anaconda3\\envs\\tinyml\\lib\\site-packages\\tensorflow\\lite\\python\\convert.py:789: UserWarning: Statistics for quantized inputs were expected, but not specified; continuing anyway.\n",
            "  warnings.warn(\"Statistics for quantized inputs were expected, but not \"\n"
          ]
        }
      ],
      "source": [
        "import tensorflow as tf\n",
        "import numpy as np\n",
        "\n",
        "# Cargar el modelo\n",
        "model = tf.keras.models.load_model('modelo_keras_con_pesos.h5')\n",
        "\n",
        "# Asegurarse que los datos de entrada son float32\n",
        "X_train = X_train.astype(np.float32)\n",
        "\n",
        "# Dataset representativo. Y usa el representative_dataset para hacer bien el mapeo,\n",
        "#es decir, para elegir los valores de scale y zero_point en cada capa.\n",
        "def representative_data_gen():\n",
        "    for i in range(100):\n",
        "        yield [X_train[i:i+1]]\n",
        "\n",
        "# Conversión a TFLite\n",
        "converter = tf.lite.TFLiteConverter.from_keras_model(model)\n",
        "converter.optimizations = [tf.lite.Optimize.DEFAULT]\n",
        "converter.representative_dataset = representative_data_gen\n",
        "\n",
        "# Forzar cuantización entera\n",
        "converter.target_spec.supported_ops = [tf.lite.OpsSet.TFLITE_BUILTINS_INT8]\n",
        "converter.inference_input_type = tf.int8\n",
        "converter.inference_output_type = tf.int8\n",
        "\n",
        "# Convertir y guardar\n",
        "tflite_model = converter.convert()\n",
        "\n",
        "with open('modelo_converted_quantized.tflite', 'wb') as f:\n",
        "    f.write(tflite_model)\n"
      ]
    },
    {
      "cell_type": "markdown",
      "id": "f73debdb",
      "metadata": {},
      "source": [
        "### INFERENCIA DEL MODELO\n",
        "La inferencia con el modelo cuantizado fue validada en un entorno de escritorio utilizando la API de TensorFlow Lite para Python. Esta simulación permite verificar el comportamiento del modelo int8 antes de su implementación final en el ESP32."
      ]
    },
    {
      "cell_type": "code",
      "execution_count": 638,
      "id": "4b982f98",
      "metadata": {},
      "outputs": [
        {
          "name": "stdout",
          "output_type": "stream",
          "text": [
            "Input details: [{'name': 'serving_default_input_46:0', 'index': 0, 'shape': array([ 1, 22]), 'shape_signature': array([-1, 22]), 'dtype': <class 'numpy.int8'>, 'quantization': (0.003921568859368563, -128), 'quantization_parameters': {'scales': array([0.00392157], dtype=float32), 'zero_points': array([-128]), 'quantized_dimension': 0}, 'sparsity_parameters': {}}]\n",
            "Output details: [{'name': 'StatefulPartitionedCall:0', 'index': 11, 'shape': array([1, 3]), 'shape_signature': array([-1,  3]), 'dtype': <class 'numpy.int8'>, 'quantization': (0.00390625, -128), 'quantization_parameters': {'scales': array([0.00390625], dtype=float32), 'zero_points': array([-128]), 'quantized_dimension': 0}, 'sparsity_parameters': {}}]\n"
          ]
        }
      ],
      "source": [
        "interpreter = tf.lite.Interpreter(model_path=\"modelo_converted_quantized.tflite\")\n",
        "interpreter.allocate_tensors()\n",
        "\n",
        "input_details = interpreter.get_input_details()\n",
        "output_details = interpreter.get_output_details()\n",
        "\n",
        "print(\"Input details:\", input_details)\n",
        "print(\"Output details:\", output_details)\n"
      ]
    },
    {
      "cell_type": "markdown",
      "id": "5bb94fa2",
      "metadata": {},
      "source": [
        "### USO DE RECURSOS"
      ]
    },
    {
      "cell_type": "code",
      "execution_count": null,
      "id": "5ff3d5ff",
      "metadata": {},
      "outputs": [
        {
          "name": "stdout",
          "output_type": "stream",
          "text": [
            "Memoria total de tensores en RAM: 1.41 KB\n"
          ]
        }
      ],
      "source": [
        "import os\n",
        "\n",
        "details = interpreter.get_tensor_details()\n",
        "\n",
        "total_tensor_memory = 0\n",
        "for tensor in details:\n",
        "    shape = tensor['shape_signature'] if 'shape_signature' in tensor else tensor['shape']\n",
        "    dtype_size = np.dtype(tensor['dtype']).itemsize\n",
        "    num_elements = np.prod(shape)\n",
        "    total_tensor_memory += dtype_size * num_elements\n",
        "print(f\"Memoria total de tensores en RAM: {total_tensor_memory / 1024:.2f} KB\")\n",
        "\n",
        "tamaño_modelo = os.path.getsize('modelo_converted_quantized.tflite')  # en bytes\n",
        "print(f\"Tamaño del modelo: {tamaño_modelo/1024:.2f} KB\")\n"
      ]
    },
    {
      "cell_type": "markdown",
      "id": "2e90a6ac",
      "metadata": {},
      "source": [
        "### ENTRADA REAL DESDE EL ADC\n",
        "Se simula una entrada de 8 bit proveniente del ADC"
      ]
    },
    {
      "cell_type": "code",
      "execution_count": 641,
      "id": "e9f98cec",
      "metadata": {},
      "outputs": [
        {
          "name": "stdout",
          "output_type": "stream",
          "text": [
            "[[0.98431373 0.90196078 0.0745098  0.21176471 0.65490196 0.06666667\n",
            "  0.74509804 0.1254902  0.01960784 0.14901961 0.21176471 0.21568627\n",
            "  0.92156863 0.55686275 0.51372549 0.94509804 0.39215686 0.25882353\n",
            "  0.35294118 0.24313725 0.16470588 0.31372549]]\n"
          ]
        }
      ],
      "source": [
        "# Seleccionar una entrada real del conjunto de entrenamiento X_test\n",
        "# Asegúrate de que la entrada tenga la forma correcta (1, 22)\n",
        "real_input = np.expand_dims(X_test[8], axis=0)  # Convierte (22,) a (1, 22)\n",
        "# Selecciona la primera muestra de X_train\n",
        "print(real_input)"
      ]
    },
    {
      "cell_type": "code",
      "execution_count": 642,
      "id": "24e649c2",
      "metadata": {},
      "outputs": [
        {
          "name": "stdout",
          "output_type": "stream",
          "text": [
            "[[ 123  102 -109  -74   39 -111   62  -96 -123  -90  -74  -73  107   14\n",
            "     3  113  -28  -62  -38  -66  -86  -48]] 0.003921568859368563 -128\n"
          ]
        }
      ],
      "source": [
        "# Obtener los parámetros de cuantización de la entrada\n",
        "input_scale, input_zero_point = input_details[0]['quantization']\n",
        "\n",
        "# Cuantizar la entrada real (si el modelo es cuantizado)\n",
        "quantized_input_data = np.round(real_input / input_scale + input_zero_point).astype(np.int8)\n",
        "\n",
        "print(quantized_input_data, input_scale, input_zero_point )\n"
      ]
    },
    {
      "cell_type": "code",
      "execution_count": 643,
      "id": "25c31974",
      "metadata": {},
      "outputs": [
        {
          "name": "stdout",
          "output_type": "stream",
          "text": [
            "Output data (cuantizada): [[-15 -70 -43]]\n",
            "Output data (descuantizada): [[0.44140625 0.2265625  0.33203125]]\n"
          ]
        }
      ],
      "source": [
        "# Asignar la entrada al tensor del modelo\n",
        "interpreter.set_tensor(input_details[0]['index'], quantized_input_data)\n",
        "# Realizar la inferencia\n",
        "interpreter.invoke()\n",
        "# Obtener la salida del modelo\n",
        "output_data = interpreter.get_tensor(output_details[0]['index'])\n",
        "\n",
        "# Si la salida está cuantizada, hacer la descuantización\n",
        "output_scale, output_zero_point = output_details[0]['quantization']\n",
        "\n",
        "# ⚡ Correcto: casteo primero\n",
        "output_float = (output_data.astype(np.float32) - output_zero_point) * output_scale\n",
        "\n",
        "# Imprimir la salida\n",
        "print(\"Output data (cuantizada):\", output_data)\n",
        "print(\"Output data (descuantizada):\", output_float)\n"
      ]
    },
    {
      "cell_type": "markdown",
      "id": "31e0c08f",
      "metadata": {},
      "source": [
        "### RESULTADOS DE LA INFERENCIA DE LA IMPLEMENTACIÓN"
      ]
    },
    {
      "cell_type": "code",
      "execution_count": 644,
      "id": "a57d3ed2",
      "metadata": {},
      "outputs": [
        {
          "name": "stdout",
          "output_type": "stream",
          "text": [
            "Etiqueta real: 2\n",
            "Etiqueta predicha: 0\n",
            "❌ Clasificación incorrecta.\n"
          ]
        }
      ],
      "source": [
        "# Mostrar etiqueta verdadera y predicha\n",
        "etiqueta_real = y_test[8]  # El índice de la muestra que estés usando\n",
        "etiqueta_predicha = np.argmax(output_float)\n",
        "\n",
        "print(f\"Etiqueta real: {etiqueta_real}\")\n",
        "print(f\"Etiqueta predicha: {etiqueta_predicha}\")\n",
        "\n",
        "if etiqueta_real == etiqueta_predicha:\n",
        "    print(\"✅ ¡Clasificación correcta!\")\n",
        "else:\n",
        "    print(\"❌ Clasificación incorrecta.\")\n"
      ]
    },
    {
      "cell_type": "code",
      "execution_count": 645,
      "id": "9e5950cc",
      "metadata": {},
      "outputs": [
        {
          "name": "stdout",
          "output_type": "stream",
          "text": [
            "2\n"
          ]
        }
      ],
      "source": [
        "print(y_test[8])"
      ]
    },
    {
      "cell_type": "code",
      "execution_count": 648,
      "id": "12c154c5",
      "metadata": {},
      "outputs": [
        {
          "data": {
            "image/png": "[encoded data removed]",
            "text/plain": [
              "<Figure size 400x300 with 2 Axes>"
            ]
          },
          "metadata": {},
          "output_type": "display_data"
        },
        {
          "name": "stdout",
          "output_type": "stream",
          "text": [
            "\n",
            "Accuracy: 0.8636\n"
          ]
        }
      ],
      "source": [
        "from sklearn.metrics import confusion_matrix, ConfusionMatrixDisplay, accuracy_score\n",
        "import matplotlib.pyplot as plt\n",
        "\n",
        "# Nombres de las clases\n",
        "class_names = ['Ruido', 'Cry', 'Neo']\n",
        "\n",
        "# Calcular matriz de confusión\n",
        "conf_mat = confusion_matrix(y_true, y_pred)\n",
        "\n",
        "# Mostrar matriz de confusión usando los nombres\n",
        "disp = ConfusionMatrixDisplay(confusion_matrix=conf_mat, display_labels=class_names)\n",
        "\n",
        "import matplotlib.pyplot as plt\n",
        "import numpy as np\n",
        "\n",
        "# Supongamos que ya tenés tu matriz conf_mat\n",
        "# conf_mat = np.array(...) \n",
        "\n",
        "# Crear figura\n",
        "fig, ax = plt.subplots(figsize=(4,3))\n",
        "im = ax.imshow(conf_mat, cmap='Blues')\n",
        "\n",
        "# Etiquetas\n",
        "ax.set_xlabel('Etiqueta predicha')\n",
        "ax.set_ylabel('Etiqueta verdadera')\n",
        "\n",
        "# Mostrar los números dentro de las celdas\n",
        "num_classes = conf_mat.shape[0]\n",
        "for i in range(num_classes):\n",
        "    for j in range(num_classes):\n",
        "        ax.text(j, i, conf_mat[i, j],\n",
        "                ha='center', va='center',\n",
        "                color='black', fontsize=12)\n",
        "\n",
        "# Agregar barra de colores\n",
        "fig.colorbar(im, ax=ax)\n",
        "\n",
        "# Mostrar\n",
        "plt.tight_layout()\n",
        "plt.show()\n",
        "\n",
        "\n",
        "# Mostrar el accuracy\n",
        "accuracy = accuracy_score(y_true, y_pred)\n",
        "print(f\"\\nAccuracy: {accuracy:.4f}\")\n"
      ]
    },
    {
      "cell_type": "code",
      "execution_count": 650,
      "id": "1613a1cc",
      "metadata": {},
      "outputs": [
        {
          "data": {
            "image/png": "[encoded data removed]",
            "text/plain": [
              "<Figure size 400x400 with 2 Axes>"
            ]
          },
          "metadata": {},
          "output_type": "display_data"
        },
        {
          "name": "stdout",
          "output_type": "stream",
          "text": [
            "\n",
            "Accuracy: 0.8636\n"
          ]
        }
      ],
      "source": [
        "import numpy as np\n",
        "import matplotlib.pyplot as plt\n",
        "from sklearn.metrics import accuracy_score\n",
        "\n",
        "# Supongamos que ya tenés:\n",
        "# conf_mat = matriz de confusión\n",
        "# y_true = etiquetas verdaderas\n",
        "# y_pred = etiquetas predichas\n",
        "\n",
        "class_names = ['ruido', 'neo', 'cry']\n",
        "\n",
        "fig, ax = plt.subplots(figsize=(4,4))\n",
        "\n",
        "# Dibujar la matriz\n",
        "im = ax.imshow(conf_mat, cmap='Blues')\n",
        "\n",
        "# Ticks y nombres de clases\n",
        "ax.set_xticks(np.arange(len(class_names)))\n",
        "ax.set_yticks(np.arange(len(class_names)))\n",
        "ax.set_xticklabels(class_names)\n",
        "ax.set_yticklabels(class_names)\n",
        "\n",
        "# Rotar etiquetas del eje x para que no se superpongan\n",
        "plt.setp(ax.get_xticklabels(), rotation=0, ha=\"right\", rotation_mode=\"anchor\")\n",
        "\n",
        "# Mostrar los números dentro de las celdas\n",
        "for i in range(conf_mat.shape[0]):\n",
        "    for j in range(conf_mat.shape[1]):\n",
        "        ax.text(j, i, format(conf_mat[i, j], 'd'),\n",
        "                ha='center', va='center',\n",
        "                color='black', fontsize=12)\n",
        "\n",
        "# Agregar barra de colores\n",
        "fig.colorbar(im, ax=ax, fraction=0.046, pad=0.04)\n",
        "\n",
        "# Ajuste layout\n",
        "plt.tight_layout()\n",
        "plt.show()\n",
        "\n",
        "# Mostrar el accuracy\n",
        "accuracy = accuracy_score(y_true, y_pred)\n",
        "print(f\"\\nAccuracy: {accuracy:.4f}\")\n"
      ]
    }
  ],
  "metadata": {
    "colab": {
      "collapsed_sections": [
        "eySuVARei7Y3",
        "pzT9Yc3ktO0r",
        "YpulNq8swzyl",
        "_9KzsR6bKbr6"
      ],
      "provenance": []
    },
    "kernelspec": {
      "display_name": "tinyml",
      "language": "python",
      "name": "python3"
    },
    "language_info": {
      "codemirror_mode": {
        "name": "ipython",
        "version": 3
      },
      "file_extension": ".py",
      "mimetype": "text/x-python",
      "name": "python",
      "nbconvert_exporter": "python",
      "pygments_lexer": "ipython3",
      "version": "3.9.22"
    }
  },
  "nbformat": 4,
  "nbformat_minor": 5
}
